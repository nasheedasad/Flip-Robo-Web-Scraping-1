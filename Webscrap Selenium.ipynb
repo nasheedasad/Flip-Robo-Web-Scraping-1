{
 "cells": [
  {
   "cell_type": "code",
   "execution_count": 1,
   "metadata": {},
   "outputs": [
    {
     "name": "stdout",
     "output_type": "stream",
     "text": [
      "Collecting selenium\n",
      "  Downloading selenium-3.141.0-py2.py3-none-any.whl (904 kB)\n",
      "Requirement already satisfied: urllib3 in c:\\users\\delkl\\anaconda3\\lib\\site-packages (from selenium) (1.25.11)\n",
      "Installing collected packages: selenium\n",
      "Successfully installed selenium-3.141.0\n"
     ]
    }
   ],
   "source": [
    "!pip install selenium"
   ]
  },
  {
   "cell_type": "code",
   "execution_count": 1,
   "metadata": {},
   "outputs": [],
   "source": [
    "import selenium\n",
    "import pandas as pd\n",
    "from selenium import webdriver"
   ]
  },
  {
   "cell_type": "markdown",
   "metadata": {},
   "source": [
    "# Q1. Write a python program to scrape data for “Data Analyst” Job position in “Bangalore” location. You have to scrape the job-title, job-location, company_name, experience_required."
   ]
  },
  {
   "cell_type": "code",
   "execution_count": 3,
   "metadata": {},
   "outputs": [],
   "source": [
    "driver=webdriver.Chrome(r'C:\\Users\\delkl\\Downloads\\chromedriver.exe')"
   ]
  },
  {
   "cell_type": "code",
   "execution_count": 4,
   "metadata": {},
   "outputs": [],
   "source": [
    "url='https://www.naukri.com/'\n",
    "driver.get(url)"
   ]
  },
  {
   "cell_type": "code",
   "execution_count": 5,
   "metadata": {},
   "outputs": [
    {
     "data": {
      "text/plain": [
       "<selenium.webdriver.remote.webelement.WebElement (session=\"9e3453d8b6c429b716b7c9276ca38f9d\", element=\"475be62d-fefa-4b96-9e75-246d4fbc95e9\")>"
      ]
     },
     "execution_count": 5,
     "metadata": {},
     "output_type": "execute_result"
    }
   ],
   "source": [
    "search_job=driver.find_element_by_id('qsb-keyword-sugg')\n",
    "search_job"
   ]
  },
  {
   "cell_type": "code",
   "execution_count": 6,
   "metadata": {},
   "outputs": [],
   "source": [
    "search_job.send_keys('Data Analyst')"
   ]
  },
  {
   "cell_type": "code",
   "execution_count": 7,
   "metadata": {},
   "outputs": [],
   "source": [
    "search_loc=driver.find_element_by_id('qsb-location-sugg')\n",
    "search_loc.send_keys('Bangalore')"
   ]
  },
  {
   "cell_type": "code",
   "execution_count": 8,
   "metadata": {},
   "outputs": [],
   "source": [
    "search_btn=driver.find_element_by_xpath(\"//button[@class='btn']\")\n",
    "search_btn.click()"
   ]
  },
  {
   "cell_type": "code",
   "execution_count": 9,
   "metadata": {},
   "outputs": [
    {
     "data": {
      "text/plain": [
       "[<selenium.webdriver.remote.webelement.WebElement (session=\"9e3453d8b6c429b716b7c9276ca38f9d\", element=\"e4adb105-0022-4f45-86d2-1363fd9364fd\")>,\n",
       " <selenium.webdriver.remote.webelement.WebElement (session=\"9e3453d8b6c429b716b7c9276ca38f9d\", element=\"70c78a4b-2c4b-4071-8681-6b467e2732db\")>,\n",
       " <selenium.webdriver.remote.webelement.WebElement (session=\"9e3453d8b6c429b716b7c9276ca38f9d\", element=\"1b61c38f-87f1-4e19-b253-6f908f7da462\")>,\n",
       " <selenium.webdriver.remote.webelement.WebElement (session=\"9e3453d8b6c429b716b7c9276ca38f9d\", element=\"ce1c3b8f-f483-4755-aa33-24561e94cbc4\")>,\n",
       " <selenium.webdriver.remote.webelement.WebElement (session=\"9e3453d8b6c429b716b7c9276ca38f9d\", element=\"a975655a-367b-4550-b523-2696adcb4969\")>,\n",
       " <selenium.webdriver.remote.webelement.WebElement (session=\"9e3453d8b6c429b716b7c9276ca38f9d\", element=\"159cc0ef-fec6-45a3-928c-eba22811658f\")>,\n",
       " <selenium.webdriver.remote.webelement.WebElement (session=\"9e3453d8b6c429b716b7c9276ca38f9d\", element=\"fcff974f-ff2d-471e-a76d-ba5a33fabd4b\")>,\n",
       " <selenium.webdriver.remote.webelement.WebElement (session=\"9e3453d8b6c429b716b7c9276ca38f9d\", element=\"e1c00844-0201-4cd1-96cd-70e46dee2678\")>,\n",
       " <selenium.webdriver.remote.webelement.WebElement (session=\"9e3453d8b6c429b716b7c9276ca38f9d\", element=\"fc8e7a6d-c729-40aa-84a4-00c129574d5e\")>,\n",
       " <selenium.webdriver.remote.webelement.WebElement (session=\"9e3453d8b6c429b716b7c9276ca38f9d\", element=\"451a8090-38e2-4403-b10b-75b21a327e64\")>,\n",
       " <selenium.webdriver.remote.webelement.WebElement (session=\"9e3453d8b6c429b716b7c9276ca38f9d\", element=\"471e2191-3683-40a3-90d7-25a46a408332\")>,\n",
       " <selenium.webdriver.remote.webelement.WebElement (session=\"9e3453d8b6c429b716b7c9276ca38f9d\", element=\"1fe2e3cb-2b46-458f-bc19-f2c08b110658\")>,\n",
       " <selenium.webdriver.remote.webelement.WebElement (session=\"9e3453d8b6c429b716b7c9276ca38f9d\", element=\"d80796aa-162c-4e66-b598-9e11dd8671fb\")>,\n",
       " <selenium.webdriver.remote.webelement.WebElement (session=\"9e3453d8b6c429b716b7c9276ca38f9d\", element=\"b38900f4-8249-46b2-a5cd-013b07a6a29c\")>,\n",
       " <selenium.webdriver.remote.webelement.WebElement (session=\"9e3453d8b6c429b716b7c9276ca38f9d\", element=\"24d70cb5-0e31-458b-836b-cb431d813b49\")>,\n",
       " <selenium.webdriver.remote.webelement.WebElement (session=\"9e3453d8b6c429b716b7c9276ca38f9d\", element=\"27de007f-7f57-425b-8165-7240a95a5f06\")>,\n",
       " <selenium.webdriver.remote.webelement.WebElement (session=\"9e3453d8b6c429b716b7c9276ca38f9d\", element=\"d57d45dc-1b7f-4222-815c-a5155eee1ae7\")>,\n",
       " <selenium.webdriver.remote.webelement.WebElement (session=\"9e3453d8b6c429b716b7c9276ca38f9d\", element=\"9d521c0d-78ed-4e3b-9b29-ce83200cff19\")>,\n",
       " <selenium.webdriver.remote.webelement.WebElement (session=\"9e3453d8b6c429b716b7c9276ca38f9d\", element=\"bbc58a88-4741-4696-bd04-2bda98b6f5a9\")>,\n",
       " <selenium.webdriver.remote.webelement.WebElement (session=\"9e3453d8b6c429b716b7c9276ca38f9d\", element=\"a34ffa1f-c4a9-42d1-a8b1-a0ea05f8e058\")>]"
      ]
     },
     "execution_count": 9,
     "metadata": {},
     "output_type": "execute_result"
    }
   ],
   "source": [
    "titles_tags=driver.find_elements_by_xpath(\"//a[@class='title fw500 ellipsis']\")\n",
    "titles_tags"
   ]
  },
  {
   "cell_type": "code",
   "execution_count": 10,
   "metadata": {},
   "outputs": [
    {
     "data": {
      "text/plain": [
       "['Business/Data Analyst - Colleague Experience & Technology',\n",
       " 'Data Analyst - 0-2 years (6 month contract)',\n",
       " 'Business Data Analyst',\n",
       " 'Business Data Analyst',\n",
       " 'Immediate Hiring || Azure - Data Engineer/ Data Analyst',\n",
       " 'Data Analyst/Business Analyst-Gurgaon/Bangalore/Mumbai (only Females)',\n",
       " 'Senior Data Analyst',\n",
       " 'Senior Specialist - Data Analyst',\n",
       " 'Data Analyst',\n",
       " 'Business/Data Analyst - SSE/LA']"
      ]
     },
     "execution_count": 10,
     "metadata": {},
     "output_type": "execute_result"
    }
   ],
   "source": [
    "job_titles=[]\n",
    "for i in titles_tags[0:10]:\n",
    "    job_titles.append(i.text)\n",
    "job_titles"
   ]
  },
  {
   "cell_type": "code",
   "execution_count": 11,
   "metadata": {},
   "outputs": [
    {
     "data": {
      "text/plain": [
       "['Vmware',\n",
       " 'NIUM INDIA PRIVATE LIMITED',\n",
       " 'Trigent Software',\n",
       " 'Trigent Software',\n",
       " 'Incture Technologies Pvt. Ltd.',\n",
       " 'India Medtronic Pvt. Ltd,.',\n",
       " 'Kwalee',\n",
       " 'Philips India Limited',\n",
       " 'Magenta Power Pvt Ltd',\n",
       " 'CGI Information Systems and Management Consultants']"
      ]
     },
     "execution_count": 11,
     "metadata": {},
     "output_type": "execute_result"
    }
   ],
   "source": [
    "companies_tags=driver.find_elements_by_xpath(\"//a[@class='subTitle ellipsis fleft']\")\n",
    "company_titles=[]\n",
    "for i in companies_tags[0:10]:\n",
    "    company_titles.append(i.text)\n",
    "company_titles"
   ]
  },
  {
   "cell_type": "code",
   "execution_count": 12,
   "metadata": {},
   "outputs": [
    {
     "data": {
      "text/plain": [
       "['3-8 Yrs',\n",
       " '0-2 Yrs',\n",
       " '3-5 Yrs',\n",
       " '3-5 Yrs',\n",
       " '4-9 Yrs',\n",
       " '1-4 Yrs',\n",
       " '3-6 Yrs',\n",
       " '4-8 Yrs',\n",
       " '3-5 Yrs',\n",
       " '2-5 Yrs']"
      ]
     },
     "execution_count": 12,
     "metadata": {},
     "output_type": "execute_result"
    }
   ],
   "source": [
    "experience_tags=driver.find_elements_by_xpath(\"//li[@class='fleft grey-text br2 placeHolderLi experience']//span\")\n",
    "experience=[]\n",
    "for i in experience_tags[0:10]:\n",
    "    experience.append(i.text)\n",
    "experience"
   ]
  },
  {
   "cell_type": "code",
   "execution_count": 13,
   "metadata": {},
   "outputs": [
    {
     "data": {
      "text/plain": [
       "['Bangalore/Bengaluru',\n",
       " 'New Delhi, Gurgaon/Gurugram, Chennai, Bangalore/Bengaluru, Mumbai (All Areas)',\n",
       " 'Bangalore/Bengaluru',\n",
       " 'Bangalore/Bengaluru',\n",
       " 'Bhubaneswar, Bangalore/Bengaluru',\n",
       " 'Gurgaon/Gurugram, Bangalore/Bengaluru, Mumbai (All Areas)',\n",
       " 'Bangalore/Bengaluru',\n",
       " 'Bangalore/Bengaluru',\n",
       " 'Bangalore/Bengaluru',\n",
       " 'Bangalore/Bengaluru']"
      ]
     },
     "execution_count": 13,
     "metadata": {},
     "output_type": "execute_result"
    }
   ],
   "source": [
    "location_tags=driver.find_elements_by_xpath(\"//li[@class='fleft grey-text br2 placeHolderLi location']//span[1]\")\n",
    "location=[]\n",
    "for i in location_tags[0:10]:\n",
    "    location.append(i.text)\n",
    "location"
   ]
  },
  {
   "cell_type": "code",
   "execution_count": 14,
   "metadata": {},
   "outputs": [
    {
     "name": "stdout",
     "output_type": "stream",
     "text": [
      "10 10 10 10\n"
     ]
    }
   ],
   "source": [
    "print(len(job_titles),len(company_titles),len(experience),len(location))"
   ]
  },
  {
   "cell_type": "code",
   "execution_count": 15,
   "metadata": {},
   "outputs": [],
   "source": [
    "jobs=pd.DataFrame({})\n",
    "jobs['Title']=job_titles\n",
    "jobs['Company']=company_titles\n",
    "jobs['experienceRequired']=experience\n",
    "jobs['Location']=location"
   ]
  },
  {
   "cell_type": "code",
   "execution_count": 16,
   "metadata": {},
   "outputs": [
    {
     "data": {
      "text/html": [
       "<div>\n",
       "<style scoped>\n",
       "    .dataframe tbody tr th:only-of-type {\n",
       "        vertical-align: middle;\n",
       "    }\n",
       "\n",
       "    .dataframe tbody tr th {\n",
       "        vertical-align: top;\n",
       "    }\n",
       "\n",
       "    .dataframe thead th {\n",
       "        text-align: right;\n",
       "    }\n",
       "</style>\n",
       "<table border=\"1\" class=\"dataframe\">\n",
       "  <thead>\n",
       "    <tr style=\"text-align: right;\">\n",
       "      <th></th>\n",
       "      <th>Title</th>\n",
       "      <th>Company</th>\n",
       "      <th>experienceRequired</th>\n",
       "      <th>Location</th>\n",
       "    </tr>\n",
       "  </thead>\n",
       "  <tbody>\n",
       "    <tr>\n",
       "      <th>0</th>\n",
       "      <td>Business/Data Analyst - Colleague Experience &amp;...</td>\n",
       "      <td>Vmware</td>\n",
       "      <td>3-8 Yrs</td>\n",
       "      <td>Bangalore/Bengaluru</td>\n",
       "    </tr>\n",
       "    <tr>\n",
       "      <th>1</th>\n",
       "      <td>Data Analyst - 0-2 years (6 month contract)</td>\n",
       "      <td>NIUM INDIA PRIVATE LIMITED</td>\n",
       "      <td>0-2 Yrs</td>\n",
       "      <td>New Delhi, Gurgaon/Gurugram, Chennai, Bangalor...</td>\n",
       "    </tr>\n",
       "    <tr>\n",
       "      <th>2</th>\n",
       "      <td>Business Data Analyst</td>\n",
       "      <td>Trigent Software</td>\n",
       "      <td>3-5 Yrs</td>\n",
       "      <td>Bangalore/Bengaluru</td>\n",
       "    </tr>\n",
       "    <tr>\n",
       "      <th>3</th>\n",
       "      <td>Business Data Analyst</td>\n",
       "      <td>Trigent Software</td>\n",
       "      <td>3-5 Yrs</td>\n",
       "      <td>Bangalore/Bengaluru</td>\n",
       "    </tr>\n",
       "    <tr>\n",
       "      <th>4</th>\n",
       "      <td>Immediate Hiring || Azure - Data Engineer/ Dat...</td>\n",
       "      <td>Incture Technologies Pvt. Ltd.</td>\n",
       "      <td>4-9 Yrs</td>\n",
       "      <td>Bhubaneswar, Bangalore/Bengaluru</td>\n",
       "    </tr>\n",
       "    <tr>\n",
       "      <th>5</th>\n",
       "      <td>Data Analyst/Business Analyst-Gurgaon/Bangalor...</td>\n",
       "      <td>India Medtronic Pvt. Ltd,.</td>\n",
       "      <td>1-4 Yrs</td>\n",
       "      <td>Gurgaon/Gurugram, Bangalore/Bengaluru, Mumbai ...</td>\n",
       "    </tr>\n",
       "    <tr>\n",
       "      <th>6</th>\n",
       "      <td>Senior Data Analyst</td>\n",
       "      <td>Kwalee</td>\n",
       "      <td>3-6 Yrs</td>\n",
       "      <td>Bangalore/Bengaluru</td>\n",
       "    </tr>\n",
       "    <tr>\n",
       "      <th>7</th>\n",
       "      <td>Senior Specialist - Data Analyst</td>\n",
       "      <td>Philips India Limited</td>\n",
       "      <td>4-8 Yrs</td>\n",
       "      <td>Bangalore/Bengaluru</td>\n",
       "    </tr>\n",
       "    <tr>\n",
       "      <th>8</th>\n",
       "      <td>Data Analyst</td>\n",
       "      <td>Magenta Power Pvt Ltd</td>\n",
       "      <td>3-5 Yrs</td>\n",
       "      <td>Bangalore/Bengaluru</td>\n",
       "    </tr>\n",
       "    <tr>\n",
       "      <th>9</th>\n",
       "      <td>Business/Data Analyst - SSE/LA</td>\n",
       "      <td>CGI Information Systems and Management Consult...</td>\n",
       "      <td>2-5 Yrs</td>\n",
       "      <td>Bangalore/Bengaluru</td>\n",
       "    </tr>\n",
       "  </tbody>\n",
       "</table>\n",
       "</div>"
      ],
      "text/plain": [
       "                                               Title  \\\n",
       "0  Business/Data Analyst - Colleague Experience &...   \n",
       "1        Data Analyst - 0-2 years (6 month contract)   \n",
       "2                              Business Data Analyst   \n",
       "3                              Business Data Analyst   \n",
       "4  Immediate Hiring || Azure - Data Engineer/ Dat...   \n",
       "5  Data Analyst/Business Analyst-Gurgaon/Bangalor...   \n",
       "6                                Senior Data Analyst   \n",
       "7                   Senior Specialist - Data Analyst   \n",
       "8                                       Data Analyst   \n",
       "9                     Business/Data Analyst - SSE/LA   \n",
       "\n",
       "                                             Company experienceRequired  \\\n",
       "0                                             Vmware            3-8 Yrs   \n",
       "1                         NIUM INDIA PRIVATE LIMITED            0-2 Yrs   \n",
       "2                                   Trigent Software            3-5 Yrs   \n",
       "3                                   Trigent Software            3-5 Yrs   \n",
       "4                     Incture Technologies Pvt. Ltd.            4-9 Yrs   \n",
       "5                         India Medtronic Pvt. Ltd,.            1-4 Yrs   \n",
       "6                                             Kwalee            3-6 Yrs   \n",
       "7                              Philips India Limited            4-8 Yrs   \n",
       "8                              Magenta Power Pvt Ltd            3-5 Yrs   \n",
       "9  CGI Information Systems and Management Consult...            2-5 Yrs   \n",
       "\n",
       "                                            Location  \n",
       "0                                Bangalore/Bengaluru  \n",
       "1  New Delhi, Gurgaon/Gurugram, Chennai, Bangalor...  \n",
       "2                                Bangalore/Bengaluru  \n",
       "3                                Bangalore/Bengaluru  \n",
       "4                   Bhubaneswar, Bangalore/Bengaluru  \n",
       "5  Gurgaon/Gurugram, Bangalore/Bengaluru, Mumbai ...  \n",
       "6                                Bangalore/Bengaluru  \n",
       "7                                Bangalore/Bengaluru  \n",
       "8                                Bangalore/Bengaluru  \n",
       "9                                Bangalore/Bengaluru  "
      ]
     },
     "execution_count": 16,
     "metadata": {},
     "output_type": "execute_result"
    }
   ],
   "source": [
    "jobs"
   ]
  },
  {
   "cell_type": "markdown",
   "metadata": {},
   "source": [
    "# Q2. Write a python program to scrape data for “Data Scientist” Job position in “Bangalore” location. You have to scrape the job-title, job-location, company_name, full job-description."
   ]
  },
  {
   "cell_type": "code",
   "execution_count": 17,
   "metadata": {},
   "outputs": [],
   "source": [
    "driver1=webdriver.Chrome(r'C:\\Users\\delkl\\Downloads\\chromedriver.exe')"
   ]
  },
  {
   "cell_type": "code",
   "execution_count": 27,
   "metadata": {},
   "outputs": [],
   "source": [
    "url1='https://www.naukri.com/'\n",
    "driver1.get(url1)"
   ]
  },
  {
   "cell_type": "code",
   "execution_count": 28,
   "metadata": {},
   "outputs": [
    {
     "data": {
      "text/plain": [
       "<selenium.webdriver.remote.webelement.WebElement (session=\"ad1995e1cf14f2503b9e88c0a573a935\", element=\"3fcec880-956a-4178-8997-59019ef5e129\")>"
      ]
     },
     "execution_count": 28,
     "metadata": {},
     "output_type": "execute_result"
    }
   ],
   "source": [
    "search_job1=driver1.find_element_by_id('qsb-keyword-sugg')\n",
    "search_job1"
   ]
  },
  {
   "cell_type": "code",
   "execution_count": 29,
   "metadata": {},
   "outputs": [],
   "source": [
    "search_job1.send_keys('Data Scientist')"
   ]
  },
  {
   "cell_type": "code",
   "execution_count": 30,
   "metadata": {},
   "outputs": [],
   "source": [
    "search_loc1=driver1.find_element_by_id('qsb-location-sugg')\n",
    "search_loc1.send_keys('Bangalore')"
   ]
  },
  {
   "cell_type": "code",
   "execution_count": 31,
   "metadata": {},
   "outputs": [],
   "source": [
    "search_btn1=driver1.find_element_by_xpath(\"//button[@class='btn']\")\n",
    "search_btn1.click()"
   ]
  },
  {
   "cell_type": "code",
   "execution_count": 32,
   "metadata": {},
   "outputs": [
    {
     "data": {
      "text/plain": [
       "[<selenium.webdriver.remote.webelement.WebElement (session=\"ad1995e1cf14f2503b9e88c0a573a935\", element=\"683d7e02-3b83-4674-9e58-ea7037031574\")>,\n",
       " <selenium.webdriver.remote.webelement.WebElement (session=\"ad1995e1cf14f2503b9e88c0a573a935\", element=\"8931f8d5-2f7e-4c2e-8854-3cdc50bb7f93\")>,\n",
       " <selenium.webdriver.remote.webelement.WebElement (session=\"ad1995e1cf14f2503b9e88c0a573a935\", element=\"b88dd08a-3d15-4568-8006-b05eef739165\")>,\n",
       " <selenium.webdriver.remote.webelement.WebElement (session=\"ad1995e1cf14f2503b9e88c0a573a935\", element=\"e12c0691-b464-4bf7-af7f-a560fc4ffef0\")>,\n",
       " <selenium.webdriver.remote.webelement.WebElement (session=\"ad1995e1cf14f2503b9e88c0a573a935\", element=\"96ddd0e0-deb3-4711-bfa5-b12ec8034294\")>,\n",
       " <selenium.webdriver.remote.webelement.WebElement (session=\"ad1995e1cf14f2503b9e88c0a573a935\", element=\"40ef1519-7952-42cb-95d0-6ff9ffafddec\")>,\n",
       " <selenium.webdriver.remote.webelement.WebElement (session=\"ad1995e1cf14f2503b9e88c0a573a935\", element=\"fca4e611-010f-4f62-8c39-99320ccae8b4\")>,\n",
       " <selenium.webdriver.remote.webelement.WebElement (session=\"ad1995e1cf14f2503b9e88c0a573a935\", element=\"0aac3310-6f6f-4880-bfa6-fc8799706496\")>,\n",
       " <selenium.webdriver.remote.webelement.WebElement (session=\"ad1995e1cf14f2503b9e88c0a573a935\", element=\"98d7e486-4e48-43bf-8263-5e02f0212beb\")>,\n",
       " <selenium.webdriver.remote.webelement.WebElement (session=\"ad1995e1cf14f2503b9e88c0a573a935\", element=\"9f2b60d9-48bd-4b50-8691-9c510b239839\")>,\n",
       " <selenium.webdriver.remote.webelement.WebElement (session=\"ad1995e1cf14f2503b9e88c0a573a935\", element=\"450dbbaf-b2f0-4ff9-94f1-33554307d7ff\")>,\n",
       " <selenium.webdriver.remote.webelement.WebElement (session=\"ad1995e1cf14f2503b9e88c0a573a935\", element=\"92c92259-9a06-4c1b-91ed-dc16f0891ff9\")>,\n",
       " <selenium.webdriver.remote.webelement.WebElement (session=\"ad1995e1cf14f2503b9e88c0a573a935\", element=\"01a88cb9-a8e6-48f8-82a2-00680d00d009\")>,\n",
       " <selenium.webdriver.remote.webelement.WebElement (session=\"ad1995e1cf14f2503b9e88c0a573a935\", element=\"e6a29cca-3564-4e88-b25e-3e027c80ea25\")>,\n",
       " <selenium.webdriver.remote.webelement.WebElement (session=\"ad1995e1cf14f2503b9e88c0a573a935\", element=\"66180b02-542c-4e11-b8ed-a07eb6413774\")>,\n",
       " <selenium.webdriver.remote.webelement.WebElement (session=\"ad1995e1cf14f2503b9e88c0a573a935\", element=\"1610b9c0-3de7-4244-a139-f90361c5b501\")>,\n",
       " <selenium.webdriver.remote.webelement.WebElement (session=\"ad1995e1cf14f2503b9e88c0a573a935\", element=\"8c28f0c1-28fb-461c-9b05-979c22041191\")>,\n",
       " <selenium.webdriver.remote.webelement.WebElement (session=\"ad1995e1cf14f2503b9e88c0a573a935\", element=\"86fbd502-5235-4b46-965a-e8a05912173c\")>,\n",
       " <selenium.webdriver.remote.webelement.WebElement (session=\"ad1995e1cf14f2503b9e88c0a573a935\", element=\"790f6a3f-6883-4661-9ddb-4637e24f1020\")>,\n",
       " <selenium.webdriver.remote.webelement.WebElement (session=\"ad1995e1cf14f2503b9e88c0a573a935\", element=\"6dfbef34-377f-4bb3-8a32-aaab45ad1b91\")>]"
      ]
     },
     "execution_count": 32,
     "metadata": {},
     "output_type": "execute_result"
    }
   ],
   "source": [
    "url11=driver1.find_elements_by_xpath(\"//a[@class='title fw500 ellipsis']\")\n",
    "url11"
   ]
  },
  {
   "cell_type": "code",
   "execution_count": 33,
   "metadata": {},
   "outputs": [
    {
     "data": {
      "text/plain": [
       "['https://www.naukri.com/job-listings-data-scientist-cognizant-technology-solutions-india-pvt-ltd-chennai-bangalore-bengaluru-10-to-12-years-090821904407?src=jobsearchDesk&sid=16285876075405158&xp=1&px=1',\n",
       " 'https://www.naukri.com/job-listings-data-scientist-oracle-india-pvt-ltd-bangalore-bengaluru-6-to-10-years-190521008276?src=jobsearchDesk&sid=16285876075405158&xp=2&px=1',\n",
       " 'https://www.naukri.com/job-listings-senior-data-scientist-cognizer-india-private-limited-bangalore-bengaluru-5-to-10-years-100821001616?src=jobsearchDesk&sid=16285876075405158&xp=3&px=1',\n",
       " 'https://www.naukri.com/job-listings-senior-data-scientist-philips-india-limited-bangalore-bengaluru-8-to-10-years-060821501599?src=jobsearchDesk&sid=16285876075405158&xp=4&px=1',\n",
       " 'https://www.naukri.com/job-listings-senior-data-scientist-datamatics-global-services-ltd-bangalore-bengaluru-8-to-13-years-040821003517?src=jobsearchDesk&sid=16285876075405158&xp=5&px=1',\n",
       " 'https://www.naukri.com/job-listings-data-scientist-farmwiseai-private-limited-hyderabad-secunderabad-chennai-bangalore-bengaluru-5-to-10-years-090821002358?src=jobsearchDesk&sid=16285876075405158&xp=6&px=1',\n",
       " 'https://www.naukri.com/job-listings-data-scientist-ctd-techs-chennai-bangalore-bengaluru-2-to-6-years-090821500316?src=jobsearchDesk&sid=16285876075405158&xp=7&px=1',\n",
       " 'https://www.naukri.com/job-listings-senior-data-scientist-bangalore-reputed-mnc-evolve-technologies-and-services-private-limited-bangalore-bengaluru-5-to-10-years-090821002421?src=jobsearchDesk&sid=16285876075405158&xp=8&px=1',\n",
       " 'https://www.naukri.com/job-listings-data-scientist-advanced-analytics-ibm-india-pvt-limited-bangalore-bengaluru-5-to-10-years-060821907733?src=jobsearchDesk&sid=16285876075405158&xp=9&px=1',\n",
       " 'https://www.naukri.com/job-listings-senior-data-scientist-symbiosis-international-w-l-l-bangalore-bengaluru-10-to-15-years-050821004331?src=jobsearchDesk&sid=16285876075405158&xp=10&px=1',\n",
       " 'https://www.naukri.com/job-listings-senior-data-scientist-ibm-india-pvt-limited-bangalore-bengaluru-5-to-10-years-260721907182?src=jobsearchDesk&sid=16285876075405158&xp=11&px=1',\n",
       " 'https://www.naukri.com/job-listings-senior-data-scientist-publicis-groupe-bangalore-bengaluru-2-to-5-years-030821501259?src=jobsearchDesk&sid=16285876075405158&xp=12&px=1',\n",
       " 'https://www.naukri.com/job-listings-senior-data-scientist-bidgely-technologies-private-limited-bangalore-bengaluru-4-to-6-years-030821500043?src=jobsearchDesk&sid=16285876075405158&xp=13&px=1',\n",
       " 'https://www.naukri.com/job-listings-senior-data-scientist-goals-101-data-solutions-pvt-ltd-new-delhi-bangalore-bengaluru-delhi-ncr-4-to-8-years-030821000870?src=jobsearchDesk&sid=16285876075405158&xp=14&px=1',\n",
       " 'https://www.naukri.com/job-listings-data-scientist-mcafee-software-india-pvt-ltd-bangalore-bengaluru-4-to-8-years-050821501145?src=jobsearchDesk&sid=16285876075405158&xp=15&px=1',\n",
       " 'https://www.naukri.com/job-listings-data-scientist-permanent-role-onward-technologies-limited-hyderabad-secunderabad-chennai-bangalore-bengaluru-6-to-11-years-030821002780?src=jobsearchDesk&sid=16285876075405158&xp=16&px=1',\n",
       " 'https://www.naukri.com/job-listings-data-scientist-fractal-analytics-gurgaon-gurugram-bangalore-bengaluru-mumbai-all-areas-3-to-5-years-090821009867?src=jobsearchDesk&sid=16285876075405158&xp=17&px=1',\n",
       " 'https://www.naukri.com/job-listings-senior-data-scientist-randstad-india-pvt-ltd-bangalore-bengaluru-4-to-9-years-280721000424?src=jobsearchDesk&sid=16285876075405158&xp=18&px=1',\n",
       " 'https://www.naukri.com/job-listings-sr-data-engineer-data-scientist-huron-bangalore-bengaluru-6-to-7-years-260721501013?src=jobsearchDesk&sid=16285876075405158&xp=19&px=1',\n",
       " 'https://www.naukri.com/job-listings-data-engineers-data-scientist-and-sap-teamware-solutions-bangalore-bengaluru-7-to-10-years-300721500677?src=jobsearchDesk&sid=16285876075405158&xp=20&px=1']"
      ]
     },
     "execution_count": 33,
     "metadata": {},
     "output_type": "execute_result"
    }
   ],
   "source": [
    "job_opening_urls=[]\n",
    "for i in url11:\n",
    "    job_opening_urls.append(i.get_attribute('href'))\n",
    "job_opening_urls"
   ]
  },
  {
   "cell_type": "code",
   "execution_count": 34,
   "metadata": {},
   "outputs": [
    {
     "data": {
      "text/plain": [
       "['Data Scientist',\n",
       " '-',\n",
       " 'Senior Data Scientist',\n",
       " 'Senior Data Scientist',\n",
       " 'Senior Data Scientist',\n",
       " 'Data Scientist',\n",
       " 'Data Scientist',\n",
       " 'Senior Data Scientist - Bangalore - Reputed MNC',\n",
       " '-',\n",
       " 'Senior Data Scientist']"
      ]
     },
     "execution_count": 34,
     "metadata": {},
     "output_type": "execute_result"
    }
   ],
   "source": [
    "job_titles1=[]\n",
    "for i in job_opening_urls[0:10]:\n",
    "    driver1.get(i)\n",
    "    try:\n",
    "        job_title=driver1.find_element_by_xpath(\"//h1[@class='jd-header-title']\")\n",
    "        job_titles1.append(job_title.text)\n",
    "    except:\n",
    "        job_titles1.append('-')\n",
    "job_titles1"
   ]
  },
  {
   "cell_type": "code",
   "execution_count": 35,
   "metadata": {},
   "outputs": [
    {
     "data": {
      "text/plain": [
       "['Cognizant Technology Solutions India Pvt Ltd',\n",
       " '-',\n",
       " 'Cognizer India Private Limited',\n",
       " 'Philips India Limited',\n",
       " 'Datamatics Global Services Ltd',\n",
       " 'FARMWISEAI PRIVATE LIMITED',\n",
       " 'CTD Techs',\n",
       " 'EVOLVE TECHNOLOGIES AND SERVICES PRIVATE LIMITED',\n",
       " '-',\n",
       " 'SYMBIOSIS International W.L.L']"
      ]
     },
     "execution_count": 35,
     "metadata": {},
     "output_type": "execute_result"
    }
   ],
   "source": [
    "company_titles1=[]\n",
    "for i in job_opening_urls[0:10]:\n",
    "    driver1.get(i)\n",
    "    try:\n",
    "        companies_tags1=driver1.find_element_by_xpath(\"//a[@class='pad-rt-8']\")\n",
    "        company_titles1.append(companies_tags1.text)\n",
    "    except:\n",
    "        company_titles1.append('-')\n",
    "company_titles1"
   ]
  },
  {
   "cell_type": "code",
   "execution_count": 36,
   "metadata": {},
   "outputs": [
    {
     "data": {
      "text/plain": [
       "['Chennai, Bangalore/Bengaluru',\n",
       " '-',\n",
       " 'Bangalore/Bengaluru',\n",
       " 'Bangalore/Bengaluru',\n",
       " 'Bangalore/Bengaluru',\n",
       " 'Hyderabad/Secunderabad, Chennai, Bangalore/Bengaluru',\n",
       " 'Chennai, Bangalore/Bengaluru',\n",
       " 'Bangalore/Bengaluru',\n",
       " '-',\n",
       " 'Bangalore/Bengaluru']"
      ]
     },
     "execution_count": 36,
     "metadata": {},
     "output_type": "execute_result"
    }
   ],
   "source": [
    "location1=[]\n",
    "for i in job_opening_urls[0:10]:\n",
    "    driver1.get(i)\n",
    "    try:\n",
    "        location_tags1=driver1.find_element_by_xpath(\"//span[@class='location ']\")\n",
    "        location1.append(location_tags1.text)\n",
    "    except:\n",
    "        location1.append('-')\n",
    "location1"
   ]
  },
  {
   "cell_type": "code",
   "execution_count": 37,
   "metadata": {
    "scrolled": true
   },
   "outputs": [
    {
     "data": {
      "text/plain": [
       "['Exp : 5 `to 9 yrs\\nSkill : Data Scientist\\nJD:\\nDelivery Excellence has identified Predictive Analytics as one of the top focus areas. By looking through the vast amount of structured and unstructured data to identify patterns, draw inferences and predict outcomes, we intend to enhance the delivery quality, operations & risk management capability in client engagements leading to enhanced profitability, revenue & client satisfaction.\\nWe are looking for a Data Scientist to join our team to provide the subject matter expertise and technical leadership in this endeavor. He / She will collaborate with the business teams, technical & functional teams, and vendor partners to understand the needs and devise solutions. He / She will evaluate alternate approaches, models & toolkits to define suitable solutions based on the problem statements.\\n\\nRole\\nData Scientist\\nKey Responsibilities\\nDiscover the information hidden in structured & unstructured data by applying data mining techniques, doing statistical analysis, and building high quality prediction systems\\nEvaluating business problems for suitability & feasibility of a predictive solution\\nEvaluating & Identifying the right Machine Learning and data science techniques & toolsets to address a variety of predictive analytics problems\\nAn individual contributor as well as a guide to the fellow team members in discovery, design, and development of analytical models\\nWorking with functional & technical teams in the development, pilot & optimization of tools and models using Machine Learning & Natural Language Processing\\nQualifications & Skills\\nAdvanced degree in statistics, computer science, machine-learning or related fields such as econometrics\\n10+ years of professional experience in software engineering, with a good understanding of the Information Technology industry\\n5+ years of data mining (structured / unstructured data) & Machine Learning experience, with a proven ability to design and develop solutions across ML landscape (supervised, un-supervised, semi-supervised etc.)Excellent applied statistics skills\\nSupervised algorithms, such as k-NN, Naive Bayes, Decision Trees, Logistic Regression, SVM, Random Forests, Neural Nets etc.\\nUnsupervised algorithms including clustering, anomaly detection, document similarity, dimensionality reduction etc.\\nProven experience with below toolkits & technologies is a must: Statistical programming languages such as Python, R\\nAzure Machine Learning\\nML and NLP toolkits such as scikit-learn, TensorFlow, PyTorch, Keras, Stanford suite, Python NLTK, spaCy\\nStrong attention to detail and excellent quantitative and qualitative analytical ability\\nTeam player and a self-starter; Excellent collaboration skills\\nExcellent oral & written communication skills, with ability to explain machine learning concepts and findings or techniques to varied stakeholders\\nShift : Day Job\\nTravel : No',\n",
       " '-',\n",
       " 'Roles and Responsibilities\\nStrong in problem solving, algorithms and data structures\\nProficient in Python\\nHands on experience in technologies and tools related NLP, Deep learning, Machine learning\\nExperience on Conversational AI is a plus\\nAble to train and deploy models. Hands on experience on multi gpu/ tpu training\\nBroad knowledge of machine learning algorithms and principles\\nPerformance profiling and Tuning\\nCommunicate and propose solutions to business challenges\\nFamiliarity with at least one of the cloud computing infrastructure - GCP/AWS\\nKeep abreast with the latest technological advances\\nTeam mentoring and leadership skills\\n\\nDesired Candidate Profile\\n\\nNo. of opening: 01\\nExperience Required : 05 years and above\\nEducational Qualification: B.E/ B.Tech from Top Tier institutes ( IIT, BITS and NITs)\\n\\nPerks and Benefits\\nMedical coverage for Self and Family\\nProvident Fund\\nStock Options\\nLearning Program',\n",
       " '  Be a part of the Enterprise IT , Information and Data Science team and drive a strategic and actionable Data Science architecture to activate the needed business capabilities. Deliver business use cases like Care Provider (Customer, Product , IB ) 360 initiative, Product bundling , Value Based pricing , Conversational AI, Indirect Trade partner classification , Data pipeline predictions etc - an ambition to better understand the needs of Healthcare Providers, the way Philips serves its customers and how and where Philips can add value to the customer decision journey.\\nYour responsibilities\\nEnsure strategic direction for data science capabilities for Philips is created and kept up to date on a regular basis\\nContinuously evaluate the latest techniques in Artificial intelligence, machine learning, robotics, statistical analysis\\nImplement advanced algorithms for business problems based on statistical analysis, coding, deep learning, advanced data mining techniques etc.\\nDevelop new algorithms if necessary, to bring predictive, advanced statistics / learning based solutions\\nDevelop algorithms to further automate processes and feed insights back into PIL for better business outcome\\nCo-create with business / market / functions or IT platforms on requirements\\nEnsure quality of data and solution developed\\nLead and drive data mining, creating algorithms, collection of data, collection of procedures during the design, build phases of a project\\nLead and drive in deploy and testing of the solutions and insights\\nSpot and evaluate emerging/cutting edge, open source, data science/machine learning libraries\\nYou are part of:\\nYou will be part of Group IT , Information and Data Management team that drives business impact through Data Science and Advanced analytics. A team that instigates collaboration across diverse teams globally to manage Data as an asset at Philips.\\nCore competencies needed to be successful:\\nA Master s Degree or PhD in Computer Science, Econometrics, Artificial Intelligence, Applied Mathematics, Statistics or equivalent;\\n8-10 years of overall experience in data science, data analytics roles\\n8+ years of experience in multiple of machine learning, data mining, deep learning, artificial intelligence, pattern recognition areas\\nExperience in driving implementation of solutions, data and algorithms on data warehouse and lakes like Azure , AWS, SQL etc\\nDemonstrable advanced programming experience in Python or another programming language such as Azure ML/R/Python etc ;\\nStrong analytical and social skills and the capability to translate data intelligence into valuable insights for the senior stakeholders in the company\\nAbility to formulate multiple complex business problems into hypothesis and proof of concepts for testing\\nManage Projects and lead a sub-portfolio of data science project teams to deliver results\\nCoach, Guide and direct teams of internal and vendor resources\\nCollaborate across IT platform teams to deploy solutions and drive continuous improvements\\nManage senior stakeholder in the company in a matrix organization i.e. Market / BG / Function leaders',\n",
       " 'Roles and Responsibilities\\n\\nDetails in lined for Hiring Team to focus:\\nThe hiring is for a single Data Scientist (7-8+yrs) as he/she shall be an individual contributor.\\nWe shall seek for a strong java/python/scala with expertise into frameworks ML (spark/keras/tensorflow).\\nML concepts has to be thorough with proven expertise in ( Decision Trees, Random Forest, NLP) Deep Learning is excluded.\\nDesired Candidate Profile\\n\\n\\nPerks and Benefits',\n",
       " 'As the business world continues to become more data-driven we have a huge demand for our Data Scientists.\\n\\nThe role requires a Data Scientist for one of our leading retail clients based in Netherlands.\\n\\nUndertaking data collection, preprocessing and analysis\\nBuilding models to address business problems\\nPresenting information using data visualization techniques\\n\\nEssential Skills :\\n\\nA minimum of 5 years experience as data scientist, machine learning engineer, or similar position\\nMaster in Computer Science, Artificial Intelligence, Econometrics or equivalent\\nExcellent programming skills in Python and popular ML libraries like scikit-learn or equivalent\\nPrior experience designing, running and analyzing A/B Tests\\nExperience in applying data science and machine learning from an explorative proof of concept phase to real time production within scrum development teams\\nSupport in a market approach with your knowledge about the possibilities of data science, machine learning and AI, by participating in customer calls and contributing to proposals\\nExperience in working with cloud environment (primarily GCP)\\nExperience in building automated predictive modelling workflow pipelines\\nEnjoy sharing knowledge and being eager to keep developing yourself\\nTeam player with strong communication skills\\nPlease note : The role requires someone to work remotely (work from home) permanently.\\n\\nInterested profiles can reach out to Manisha - manisha.nagpal@farmwiseai.com\\n\\nNeed Immediate -1 week joiners only',\n",
       " 'Skill Required:\\nData Science\\nGood to Have Knowledge in :\\nMust have been Experience in Data Science\\nKey Responsibilities:\\nIndustry experience or Strong Knowledge in any of Robotics Processing Automation tools (UiPath, AA, BP)\\nExpert in any of OCR tools Abby Fine reader, Abby Flexi Capture, AWS Textract, IBM Datacap, etc.,\\nStrong Knowledge / Hands-on in Python programming\\nStrong Understanding and Logical skills\\nStrong Knowledge and experience in Banking Domain\\nAdded Advantage :\\nStrong Knowledge / Hands-on In Data Science\\nDocument Classification Techniques\\nLogistic Linear regression Techniques\\nBasics in NLP Machine Learning algorithms',\n",
       " 'Roles and Responsibilities\\n\\nPOSITION PURPOSE:\\nThe individual works collaboratively with interdisciplinary scientists, IT and engineering professionals across the organization to solve critical problems and answer important questions that drive key decisions for our business.\\nFosters new game changing ideas to produce sophisticated, intelligent optimization solutions and predictive models.\\nWorks on a team as an individual contributor with other Data Scientists.\\nMay lead multi-discipline project teams of large scope which may require assigning and coordinating the work of others.\\nYOUR TASKS AND RESPONSIBILITIES:\\nProviding technical contributions in a fast-paced team environment to accelerate our efforts on building an analytics-driven product pipeline.\\nAssesses needs and recommends experiments and projects, suggests new algorithmic development, drive tactical decisions about approaches and needed data.\\nUsing advanced mathematical models, machine learning algorithms, operations research techniques, and strong business acumen to deliver insight, recommendations, and solutions.\\nDemonstrate full autonomy in developing relationships for effective cross-functional collaboration throughout multiple organizations and partner on work stream initiatives for Data Science Community.\\nDeveloping sustainable, consumable, accurate, and impactful reporting on model inputs, model outputs, observed outputs, business impact, and key performance indicators.\\nPresent compelling, validated stories to all levels of organization, including peers, senior management, and internal customers to drive both strategic and operational changes in business.\\nWHO YOU ARE:\\nBachelors degree with 8+ yrs of experience or Masters degree with 6+ yrs of experience or PhD with 3+ yrs of experience.\\nEducational preparation or applied experience in at least one of the following areas: Machine Learning, Electrical/Industrial Engineering, Operation Research, Statistical Genetics, Statistics, Biostatistics, Bioinformatics, Genomics, Computational Biology, Applied Mathematics, Computer Science or other related quantitative discipline.\\nStrong proficiency in computational skills; skilled at the intermediate level building data models using R, Python or other statistical and/or mathematical programming packages.\\nAbility to demonstrate advanced professional competencies in linear modeling, scientific modeling, and development and application of increased domain knowledge; proficiency in standard suite and/or modeling theories.\\nIntermediate proficiency in machine learning algorithms and concepts.\\nExtensive experience in successful delivery of valuable analysis through application of domain knowledge; evidence of strong business acumen.\\nAbility to manage a larger more diverse and complex project/program.\\nStrong communication competencies to include presentations and delivery of complex quantitative analyses in a clear, concise and actionable manner to broad audiences and key stakeholders across multiple functions.\\nExperience :\\n8 to 12 years\\nDesired Candidate Profile\\n\\n\\nPerks and Benefits',\n",
       " '-',\n",
       " \"Required Candidate profile\\nWe are looking for a Senior Data Scientist with a min of 10 years experience in Banking Financial Domain (especially Compliance related) and a solid background in Cloudera.\\nAs a Cloudera Specialist, you must be adept in Cloudera tools like CDH, CEPH, CM, CMA, Data node EDH, HVE, JAS, NameNode, Nodemanager, QJM, QJN, RM and ZK.\\nThis will be a two years assignment to one of the Leading Class A banks in Abu Dhabi.\\nCandidate should have finished two or three full implementations of Data Analytics in Compliance in large Enterprise Banks.\\nShould be having thorough knowledge in R, Python, Scala on demand and Jupyter Notebooks.\\nShould be having hands experience in CCA Spark and Hadoop developer.\\nShould be having a Financial Compliance Background with a good knowledge and hands on expertise on Compliance related domains.\\nShould be a Machine Learning expert and create new models and use various library in that area. You should have proven skills in this area.\\nShould be having a thorough theoretical and practical idea on the following systems (From a Data Scientist Perspective)\\nHDFS\\nYarn\\nMapReduce\\nHive\\nPig\\nApache Ambari\\nHBase / Apache Impala\\nStorm\\nOozie\\nRanger\\nZookeeper\\nVarious data ingestion tools like Sqoop, flume, Kafka\\nVarious reporting tools like Drill, Phoenix, Zeppelin\\nWill be an added advantage if you have exposure to GPU processing, Tensor Flow and Data Lakes.\\nShould be able to produce high Quality Business documentation, Project Management, Agile Framework practices as needed.\\nShould inspect the current Cloudera Architecture and suggest enhancements or improve it.\\nShould be able to communicate with Senior Business Management ideas, concepts and deliverables.\\nIf you have certifications on Cloudera (Cloudera Data Engineer, Spark and Hadoop Developer), it will be an added advantage.\\nData Scientist - Compliance\\nResponsibilities:\\nUse advanced analytics methods to extract value from business data\\nPerform large-scale experimentation and build data-driven models to answer business questions\\nConduct research on cutting-edge techniques and tools in machine learning/deep learning/artificial intelligence\\nDetermine requirements that will be used to train and evolve deep learning models and algorithms\\nArticulate a vision and roadmap for the exploitation of data as a valued corporate asset\\nInfluence product teams through presentation of data-based recommendations\\nEvangelize best practices to analytics and products teams\\nAssemble large, complex data sets that meet functional / non-functional business requirements.\\nIdentify, design, and implement internal process improvements: automating manual processes, optimizing analytics delivery, re-designing infrastructure for greater scalability, etc.\\nBuild analytics tools that utilize the data to provide actionable insights into customer acquisition, operational efficiency and other key business performance metrics.\\nWork with stakeholders including the Executive, Product, Data and Design teams to assist with analytics related technical issues and support their data infrastructure needs.\\nWork with data and analytics experts to strive for greater functionality data systems\\nTypical skills and background:\\nSKILLS:\\nCan work with data to identify patterns.\\nUse judgement to form conclusions that may challenge conventional wisdom and focus on the crux of issues to identify high-leverage intervention points and strategies.\\nRapidly acquire new knowledge and learn new skills\\nSeek to understand business needs and get results that have a clear, positive, and direct impact on business performance\\nApply different strategies to convince others to change their opinions or plans and ensure that proposals or arguments are supported by strong logic and a compelling business case, addressing all relevant factors.\\nConsider the relative costs and benefits of potential actions to choose the most appropriate one\\nCommunication and storytelling\\nTeamwork and collaboration\\nBanking domain business knowledge\\nAdvanced analytics modelling and orchestration\\nSolid development skills in Java, Scala and SQL\\nSound knowledge of using data science tools and languages like Cloudera Data Science Workbench (CDSW), Jupyter Notebook, Python etc.\\nClear hands-on mastery in big datab systems - Hadoop ecosystem, Cloud technologies (AWS, Azure, Google), in-memory database systems (HANA, Hazel cast, etc) and other database systems - traditional RDBMS (Terradata, SQL Server, Oracle), and NoSQL databases (Cassandra, MongoDB, DynamoDB)\\nComfortable in dashboard development (Tableau, Powerbi, Qlik, etc) and in developing data analytics models (R, Python, Spark)\\nEXPERIENCE AND QUALIFICATION:\\nMasters degree from top-tier college/university in Computer Science, Statistics, Economics, or other closely-related field\\nMinimum of 6 years' hands-on experience with a strong data background\\nExtensive experience working with Big Data tools and building data solutions for advanced analytics\\nExperience with statistical software, scripting languages, and packages (e.g. R, MATLAB, SAS, and Python)\\nConsiderable experience in solving business problems with advanced analytical solutions\\nProven experience in conducting statistical analysis and building models with advanced scripting language such as R, SPSS, or other analytic tools.\\nExperience building and deploying predictive models, web scraping, and scalable data pipelines.\\nStrong understanding of statistical methods and skills such as Bayesian Networks Inference, linear and non-linear regression, hierarchical, mixed models/multi-level modeling\\nPractical knowledge across data extraction and transformation tools - traditional ETL tools (Informatica, Altryx) as well as more recent big data tools\\nFinancial Renumeration will be based on your skills and expertise.\\nNotice Period of 30 to 45 days preferred\\nPrevious working experience in Middle East and Gulf regions preferred Roles and Responsibilities\\n\\n\\nDesired Candidate Profile\\n\\n\\nPerks and Benefits\"]"
      ]
     },
     "execution_count": 37,
     "metadata": {},
     "output_type": "execute_result"
    }
   ],
   "source": [
    "job_desc=[]\n",
    "for i in job_opening_urls[0:10]:\n",
    "    driver1.get(i)\n",
    "    try:\n",
    "        description=driver1.find_element_by_xpath(\"//div[@class='dang-inner-html']\")\n",
    "        job_desc.append(description.text)\n",
    "    except:\n",
    "        job_desc.append('-')\n",
    "job_desc"
   ]
  },
  {
   "cell_type": "code",
   "execution_count": 38,
   "metadata": {},
   "outputs": [
    {
     "name": "stdout",
     "output_type": "stream",
     "text": [
      "10 10 10 10\n"
     ]
    }
   ],
   "source": [
    "print(len(job_titles1),len(company_titles1),len(location1),len(job_desc))"
   ]
  },
  {
   "cell_type": "code",
   "execution_count": 39,
   "metadata": {},
   "outputs": [],
   "source": [
    "jobs1=pd.DataFrame({})\n",
    "jobs1['Title']=job_titles1\n",
    "jobs1['Company']=company_titles1\n",
    "jobs1['Location']=location1\n",
    "jobs1['Job_Description']=job_desc"
   ]
  },
  {
   "cell_type": "code",
   "execution_count": 40,
   "metadata": {},
   "outputs": [
    {
     "data": {
      "text/html": [
       "<div>\n",
       "<style scoped>\n",
       "    .dataframe tbody tr th:only-of-type {\n",
       "        vertical-align: middle;\n",
       "    }\n",
       "\n",
       "    .dataframe tbody tr th {\n",
       "        vertical-align: top;\n",
       "    }\n",
       "\n",
       "    .dataframe thead th {\n",
       "        text-align: right;\n",
       "    }\n",
       "</style>\n",
       "<table border=\"1\" class=\"dataframe\">\n",
       "  <thead>\n",
       "    <tr style=\"text-align: right;\">\n",
       "      <th></th>\n",
       "      <th>Title</th>\n",
       "      <th>Company</th>\n",
       "      <th>Location</th>\n",
       "      <th>Job_Description</th>\n",
       "    </tr>\n",
       "  </thead>\n",
       "  <tbody>\n",
       "    <tr>\n",
       "      <th>0</th>\n",
       "      <td>Data Scientist</td>\n",
       "      <td>Cognizant Technology Solutions India Pvt Ltd</td>\n",
       "      <td>Chennai, Bangalore/Bengaluru</td>\n",
       "      <td>Exp : 5 `to 9 yrs\\nSkill : Data Scientist\\nJD:...</td>\n",
       "    </tr>\n",
       "    <tr>\n",
       "      <th>1</th>\n",
       "      <td>-</td>\n",
       "      <td>-</td>\n",
       "      <td>-</td>\n",
       "      <td>-</td>\n",
       "    </tr>\n",
       "    <tr>\n",
       "      <th>2</th>\n",
       "      <td>Senior Data Scientist</td>\n",
       "      <td>Cognizer India Private Limited</td>\n",
       "      <td>Bangalore/Bengaluru</td>\n",
       "      <td>Roles and Responsibilities\\nStrong in problem ...</td>\n",
       "    </tr>\n",
       "    <tr>\n",
       "      <th>3</th>\n",
       "      <td>Senior Data Scientist</td>\n",
       "      <td>Philips India Limited</td>\n",
       "      <td>Bangalore/Bengaluru</td>\n",
       "      <td>Be a part of the Enterprise IT , Information...</td>\n",
       "    </tr>\n",
       "    <tr>\n",
       "      <th>4</th>\n",
       "      <td>Senior Data Scientist</td>\n",
       "      <td>Datamatics Global Services Ltd</td>\n",
       "      <td>Bangalore/Bengaluru</td>\n",
       "      <td>Roles and Responsibilities\\n\\nDetails in lined...</td>\n",
       "    </tr>\n",
       "    <tr>\n",
       "      <th>5</th>\n",
       "      <td>Data Scientist</td>\n",
       "      <td>FARMWISEAI PRIVATE LIMITED</td>\n",
       "      <td>Hyderabad/Secunderabad, Chennai, Bangalore/Ben...</td>\n",
       "      <td>As the business world continues to become more...</td>\n",
       "    </tr>\n",
       "    <tr>\n",
       "      <th>6</th>\n",
       "      <td>Data Scientist</td>\n",
       "      <td>CTD Techs</td>\n",
       "      <td>Chennai, Bangalore/Bengaluru</td>\n",
       "      <td>Skill Required:\\nData Science\\nGood to Have Kn...</td>\n",
       "    </tr>\n",
       "    <tr>\n",
       "      <th>7</th>\n",
       "      <td>Senior Data Scientist - Bangalore - Reputed MNC</td>\n",
       "      <td>EVOLVE TECHNOLOGIES AND SERVICES PRIVATE LIMITED</td>\n",
       "      <td>Bangalore/Bengaluru</td>\n",
       "      <td>Roles and Responsibilities\\n\\nPOSITION PURPOSE...</td>\n",
       "    </tr>\n",
       "    <tr>\n",
       "      <th>8</th>\n",
       "      <td>-</td>\n",
       "      <td>-</td>\n",
       "      <td>-</td>\n",
       "      <td>-</td>\n",
       "    </tr>\n",
       "    <tr>\n",
       "      <th>9</th>\n",
       "      <td>Senior Data Scientist</td>\n",
       "      <td>SYMBIOSIS International W.L.L</td>\n",
       "      <td>Bangalore/Bengaluru</td>\n",
       "      <td>Required Candidate profile\\nWe are looking for...</td>\n",
       "    </tr>\n",
       "  </tbody>\n",
       "</table>\n",
       "</div>"
      ],
      "text/plain": [
       "                                             Title  \\\n",
       "0                                   Data Scientist   \n",
       "1                                                -   \n",
       "2                            Senior Data Scientist   \n",
       "3                            Senior Data Scientist   \n",
       "4                            Senior Data Scientist   \n",
       "5                                   Data Scientist   \n",
       "6                                   Data Scientist   \n",
       "7  Senior Data Scientist - Bangalore - Reputed MNC   \n",
       "8                                                -   \n",
       "9                            Senior Data Scientist   \n",
       "\n",
       "                                            Company  \\\n",
       "0      Cognizant Technology Solutions India Pvt Ltd   \n",
       "1                                                 -   \n",
       "2                    Cognizer India Private Limited   \n",
       "3                             Philips India Limited   \n",
       "4                    Datamatics Global Services Ltd   \n",
       "5                        FARMWISEAI PRIVATE LIMITED   \n",
       "6                                         CTD Techs   \n",
       "7  EVOLVE TECHNOLOGIES AND SERVICES PRIVATE LIMITED   \n",
       "8                                                 -   \n",
       "9                     SYMBIOSIS International W.L.L   \n",
       "\n",
       "                                            Location  \\\n",
       "0                       Chennai, Bangalore/Bengaluru   \n",
       "1                                                  -   \n",
       "2                                Bangalore/Bengaluru   \n",
       "3                                Bangalore/Bengaluru   \n",
       "4                                Bangalore/Bengaluru   \n",
       "5  Hyderabad/Secunderabad, Chennai, Bangalore/Ben...   \n",
       "6                       Chennai, Bangalore/Bengaluru   \n",
       "7                                Bangalore/Bengaluru   \n",
       "8                                                  -   \n",
       "9                                Bangalore/Bengaluru   \n",
       "\n",
       "                                     Job_Description  \n",
       "0  Exp : 5 `to 9 yrs\\nSkill : Data Scientist\\nJD:...  \n",
       "1                                                  -  \n",
       "2  Roles and Responsibilities\\nStrong in problem ...  \n",
       "3    Be a part of the Enterprise IT , Information...  \n",
       "4  Roles and Responsibilities\\n\\nDetails in lined...  \n",
       "5  As the business world continues to become more...  \n",
       "6  Skill Required:\\nData Science\\nGood to Have Kn...  \n",
       "7  Roles and Responsibilities\\n\\nPOSITION PURPOSE...  \n",
       "8                                                  -  \n",
       "9  Required Candidate profile\\nWe are looking for...  "
      ]
     },
     "execution_count": 40,
     "metadata": {},
     "output_type": "execute_result"
    }
   ],
   "source": [
    "jobs1"
   ]
  },
  {
   "cell_type": "markdown",
   "metadata": {},
   "source": [
    "# Q3"
   ]
  },
  {
   "cell_type": "code",
   "execution_count": 41,
   "metadata": {},
   "outputs": [],
   "source": [
    "driver2=webdriver.Chrome(r'C:\\Users\\delkl\\Downloads\\chromedriver.exe')"
   ]
  },
  {
   "cell_type": "code",
   "execution_count": 42,
   "metadata": {},
   "outputs": [],
   "source": [
    "url2='https://www.naukri.com/'\n",
    "driver2.get(url2)"
   ]
  },
  {
   "cell_type": "code",
   "execution_count": 43,
   "metadata": {},
   "outputs": [
    {
     "data": {
      "text/plain": [
       "<selenium.webdriver.remote.webelement.WebElement (session=\"d22deb55b70109a96bb873701308dae4\", element=\"31259153-ea98-4aa5-889b-cdbbbbfa0535\")>"
      ]
     },
     "execution_count": 43,
     "metadata": {},
     "output_type": "execute_result"
    }
   ],
   "source": [
    "search_job2=driver2.find_element_by_id('qsb-keyword-sugg')\n",
    "search_job2"
   ]
  },
  {
   "cell_type": "code",
   "execution_count": 44,
   "metadata": {},
   "outputs": [],
   "source": [
    "search_job2.send_keys('Data Scientist')"
   ]
  },
  {
   "cell_type": "code",
   "execution_count": 45,
   "metadata": {},
   "outputs": [],
   "source": [
    "search_btn2=driver2.find_element_by_xpath(\"//button[@class='btn']\")\n",
    "search_btn2.click()"
   ]
  },
  {
   "cell_type": "code",
   "execution_count": 46,
   "metadata": {},
   "outputs": [],
   "source": [
    "location_filter=driver2.find_element_by_xpath(\"/html/body/div[1]/div[3]/div[2]/section[1]/div[2]/div[3]/div[2]/div[3]/label/i\")\n",
    "location_filter.click()"
   ]
  },
  {
   "cell_type": "code",
   "execution_count": 47,
   "metadata": {},
   "outputs": [],
   "source": [
    "salary_filter=driver2.find_element_by_xpath(\"/html/body/div[1]/div[3]/div[2]/section[1]/div[2]/div[4]/div[2]/div[2]/label/i\")\n",
    "salary_filter.click()"
   ]
  },
  {
   "cell_type": "code",
   "execution_count": 50,
   "metadata": {},
   "outputs": [
    {
     "data": {
      "text/plain": [
       "[<selenium.webdriver.remote.webelement.WebElement (session=\"d22deb55b70109a96bb873701308dae4\", element=\"bd13e68f-8ba6-4252-8bb8-dd0edbe88c40\")>,\n",
       " <selenium.webdriver.remote.webelement.WebElement (session=\"d22deb55b70109a96bb873701308dae4\", element=\"6499d354-33c4-458e-8bc0-c7607a2ac42c\")>,\n",
       " <selenium.webdriver.remote.webelement.WebElement (session=\"d22deb55b70109a96bb873701308dae4\", element=\"caa6e4fc-d4c4-4387-b892-bba13da0e81d\")>,\n",
       " <selenium.webdriver.remote.webelement.WebElement (session=\"d22deb55b70109a96bb873701308dae4\", element=\"a67fe956-0c59-49fc-bb1e-73ceb2902125\")>,\n",
       " <selenium.webdriver.remote.webelement.WebElement (session=\"d22deb55b70109a96bb873701308dae4\", element=\"f4967acd-2314-4df4-a8a2-0998084f6216\")>,\n",
       " <selenium.webdriver.remote.webelement.WebElement (session=\"d22deb55b70109a96bb873701308dae4\", element=\"6645b290-a75c-4ebe-ac24-5d954781c7f3\")>,\n",
       " <selenium.webdriver.remote.webelement.WebElement (session=\"d22deb55b70109a96bb873701308dae4\", element=\"57a24239-f033-44d3-a6e1-eb7b103c5617\")>,\n",
       " <selenium.webdriver.remote.webelement.WebElement (session=\"d22deb55b70109a96bb873701308dae4\", element=\"43ced311-d399-4d00-bfe1-9bc9c8605572\")>,\n",
       " <selenium.webdriver.remote.webelement.WebElement (session=\"d22deb55b70109a96bb873701308dae4\", element=\"5c1cea40-6f2d-4c78-b702-58e90f1d6cd9\")>,\n",
       " <selenium.webdriver.remote.webelement.WebElement (session=\"d22deb55b70109a96bb873701308dae4\", element=\"2575b332-5eee-4f59-a8a6-7b42a0fd9bda\")>,\n",
       " <selenium.webdriver.remote.webelement.WebElement (session=\"d22deb55b70109a96bb873701308dae4\", element=\"7b548b80-d9ec-4b33-b366-31b75be0979a\")>,\n",
       " <selenium.webdriver.remote.webelement.WebElement (session=\"d22deb55b70109a96bb873701308dae4\", element=\"eee27afc-b353-43b0-b3fa-6de222a4177c\")>,\n",
       " <selenium.webdriver.remote.webelement.WebElement (session=\"d22deb55b70109a96bb873701308dae4\", element=\"938f4f40-9232-4e0b-a913-2d7b5a2b5c44\")>,\n",
       " <selenium.webdriver.remote.webelement.WebElement (session=\"d22deb55b70109a96bb873701308dae4\", element=\"e62041ec-8ed0-4e69-84ac-94d747a03ac0\")>,\n",
       " <selenium.webdriver.remote.webelement.WebElement (session=\"d22deb55b70109a96bb873701308dae4\", element=\"b566da06-23ed-4fa2-a3a4-ec713779b5e2\")>,\n",
       " <selenium.webdriver.remote.webelement.WebElement (session=\"d22deb55b70109a96bb873701308dae4\", element=\"a513cf8e-2ac4-4f80-9ce3-d40d3c30aec1\")>,\n",
       " <selenium.webdriver.remote.webelement.WebElement (session=\"d22deb55b70109a96bb873701308dae4\", element=\"394492ef-0229-4eef-a0a3-98a8d58f171e\")>,\n",
       " <selenium.webdriver.remote.webelement.WebElement (session=\"d22deb55b70109a96bb873701308dae4\", element=\"a4c7a5b7-fc9d-4bb5-a1ad-f3ae649bddc2\")>,\n",
       " <selenium.webdriver.remote.webelement.WebElement (session=\"d22deb55b70109a96bb873701308dae4\", element=\"9198c32c-4a1b-473a-ae54-8a3bc008a7e2\")>,\n",
       " <selenium.webdriver.remote.webelement.WebElement (session=\"d22deb55b70109a96bb873701308dae4\", element=\"a5b3d639-9fe0-4e6b-ad7a-4a846d4ab5ea\")>]"
      ]
     },
     "execution_count": 50,
     "metadata": {},
     "output_type": "execute_result"
    }
   ],
   "source": [
    "url22=driver2.find_elements_by_xpath(\"//a[@class='title fw500 ellipsis']\")\n",
    "url22"
   ]
  },
  {
   "cell_type": "code",
   "execution_count": 53,
   "metadata": {},
   "outputs": [
    {
     "data": {
      "text/plain": [
       "['https://www.naukri.com/job-listings-data-scientist-urbanclap-gurgaon-gurugram-bangalore-bengaluru-1-to-3-years-200721500890?src=jobsearchDesk&sid=16285884855355883_2&xp=1&px=1',\n",
       " 'https://www.naukri.com/job-listings-data-scientist-shadowfax-technologies-pvt-ltd-gurgaon-1-to-3-years-070316500386?src=jobsearchDesk&sid=16285884855355883_2&xp=2&px=1',\n",
       " 'https://www.naukri.com/job-listings-team-leader-operations-optimint-solutions-pvt-ltd-new-delhi-gurgaon-gurugram-2-to-5-years-100721001224?src=jobsearchDesk&sid=16285884855355883_2&xp=3&px=1',\n",
       " 'https://www.naukri.com/job-listings-consultant-decision-scientist-fractal-analytics-ltd-mumbai-gurgaon-gurugram-bangalore-bengaluru-2-to-4-years-120721501690?src=jobsearchDesk&sid=16285884855355883_2&xp=4&px=1',\n",
       " 'https://www.naukri.com/job-listings-data-analyst-ib-monotaro-private-limited-delhi-ncr-1-to-3-years-150721005715?src=jobsearchDesk&sid=16285884855355883_2&xp=5&px=1',\n",
       " 'https://www.naukri.com/job-listings-data-analyst-targray-gurgaon-gurugram-1-to-4-years-270721500628?src=jobsearchDesk&sid=16285884855355883_2&xp=6&px=1',\n",
       " 'https://www.naukri.com/job-listings-associate-data-analyst-weatherbug-gurgaon-gurugram-1-to-3-years-030821500306?src=jobsearchDesk&sid=16285884855355883_2&xp=7&px=1',\n",
       " 'https://www.naukri.com/job-listings-data-analyst-health-arx-technologies-private-limited-delhi-ncr-2-to-5-years-290521001334?src=jobsearchDesk&sid=16285884855355883_2&xp=8&px=1',\n",
       " 'https://www.naukri.com/job-listings-python-developer-cyfuture-india-private-limited-noida-1-to-4-years-050421000669?src=jobsearchDesk&sid=16285884855355883_2&xp=9&px=1',\n",
       " 'https://www.naukri.com/job-listings-associate-big-data-engineer-nits-solutions-gurgaon-gurugram-2-to-5-years-040821910485?src=jobsearchDesk&sid=16285884855355883_2&xp=10&px=1',\n",
       " 'https://www.naukri.com/job-listings-associate-analytics-for-a-leading-marketing-agency-myfutureapp-noida-ghaziabad-faridabad-gurgaon-gurugram-greater-noida-delhi-ncr-0-to-1-years-310721002200?src=jobsearchDesk&sid=16285884855355883_2&xp=11&px=1',\n",
       " 'https://www.naukri.com/job-listings-data-analyst-exp-min-1-yr-gurgaon-mnc-stemford-india-pvt-ltd-gurgaon-gurugram-1-to-3-years-070721007183?src=jobsearchDesk&sid=16285884855355883_2&xp=12&px=1',\n",
       " 'https://www.naukri.com/job-listings-data-analyst-business-intelligence-fa-gifts-gurgaon-gurugram-2-to-7-years-120721002173?src=jobsearchDesk&sid=16285884855355883_2&xp=13&px=1',\n",
       " 'https://www.naukri.com/job-listings-python-developer-wfh-part-time-full-time-freelancer-rupal-shrimal-bangalore-bengaluru-delhi-ncr-work-from-home-2-to-5-years-290721002364?src=jobsearchDesk&sid=16285884855355883_2&xp=14&px=1',\n",
       " 'https://www.naukri.com/job-listings-looking-for-python-developer-under-teamlease-payroll-teamlease-services-ltd-gurgaon-gurugram-manesar-2-to-6-years-120721007357?src=jobsearchDesk&sid=16285884855355883_2&xp=15&px=1',\n",
       " 'https://www.naukri.com/job-listings-python-developer-jobmygoal-technology-gurgaon-gurugram-2-to-3-years-090721500186?src=jobsearchDesk&sid=16285884855355883_2&xp=16&px=1',\n",
       " 'https://www.naukri.com/job-listings-looking-for-data-analyst-sql-for-gurgaon-location-liquidhub-analytics-private-limited-new-delhi-delhi-ncr-1-to-3-years-030821002843?src=jobsearchDesk&sid=16285884855355883_2&xp=17&px=1',\n",
       " 'https://www.naukri.com/job-listings-looking-for-data-analyst-sql-for-gurgaon-location-liquidhub-analytics-private-limited-new-delhi-delhi-ncr-1-to-3-years-030821002844?src=jobsearchDesk&sid=16285884855355883_2&xp=18&px=1',\n",
       " 'https://www.naukri.com/job-listings-senior-data-analyst-vba-macros-advanced-excel-unitedlex-bpo-private-limited-gurgaon-gurugram-1-to-4-years-120521006896?src=jobsearchDesk&sid=16285884855355883_2&xp=19&px=1',\n",
       " 'https://www.naukri.com/job-listings-machine-learning-engineer-hackveda-noida-2-to-5-years-200320501511?src=jobsearchDesk&sid=16285884855355883_2&xp=20&px=1']"
      ]
     },
     "execution_count": 53,
     "metadata": {},
     "output_type": "execute_result"
    }
   ],
   "source": [
    "job_opening_urls3=[]\n",
    "for i in url22:\n",
    "    job_opening_urls3.append(i.get_attribute('href'))\n",
    "job_opening_urls3"
   ]
  },
  {
   "cell_type": "code",
   "execution_count": 54,
   "metadata": {},
   "outputs": [
    {
     "data": {
      "text/plain": [
       "['Data Scientist',\n",
       " 'Data Scientist',\n",
       " 'Team Leader Operations',\n",
       " 'Consultant/Decision Scientist',\n",
       " 'Data Analyst',\n",
       " 'Data Analyst',\n",
       " 'Associate Data Analyst',\n",
       " 'Data Analyst',\n",
       " 'Python Developer',\n",
       " 'Associate Big Data Engineer']"
      ]
     },
     "execution_count": 54,
     "metadata": {},
     "output_type": "execute_result"
    }
   ],
   "source": [
    "job_titles2=[]\n",
    "for i in job_opening_urls3[0:10]:\n",
    "    driver2.get(i)\n",
    "    try:\n",
    "        titles_tags2=driver2.find_element_by_xpath(\"//h1[@class='jd-header-title']\")\n",
    "        job_titles2.append(titles_tags2.text)\n",
    "    except:\n",
    "        job_titles2.append('-')\n",
    "job_titles2"
   ]
  },
  {
   "cell_type": "code",
   "execution_count": 55,
   "metadata": {},
   "outputs": [
    {
     "data": {
      "text/plain": [
       "['UrbanClap',\n",
       " 'Shadowfax Technologies Pvt. Ltd.',\n",
       " 'Optimint Solutions Pvt. Ltd.',\n",
       " 'Fractal Analytics',\n",
       " 'IB Monotaro Private Limited',\n",
       " 'Targray',\n",
       " 'Weatherbug',\n",
       " 'HEALTH ARX TECHNOLOGIES PRIVATE LIMITED',\n",
       " 'CYFUTURE INDIA PRIVATE LIMITED',\n",
       " 'NITS Solutions']"
      ]
     },
     "execution_count": 55,
     "metadata": {},
     "output_type": "execute_result"
    }
   ],
   "source": [
    "company_titles2=[]\n",
    "for i in job_opening_urls3[0:10]:\n",
    "    driver2.get(i)\n",
    "    try:\n",
    "        companies_tags2=driver2.find_element_by_xpath(\"//a[@class='pad-rt-8']\")\n",
    "        company_titles2.append(companies_tags2.text)\n",
    "    except:\n",
    "        company_titles2.append('-')\n",
    "company_titles2"
   ]
  },
  {
   "cell_type": "code",
   "execution_count": 56,
   "metadata": {},
   "outputs": [
    {
     "data": {
      "text/plain": [
       "['1 - 3 years',\n",
       " '1 - 3 years',\n",
       " '2 - 5 years',\n",
       " '2 - 4 years',\n",
       " '1 - 3 years',\n",
       " '1 - 4 years',\n",
       " '1 - 3 years',\n",
       " '2 - 5 years',\n",
       " '1 - 4 years',\n",
       " '2 - 5 years']"
      ]
     },
     "execution_count": 56,
     "metadata": {},
     "output_type": "execute_result"
    }
   ],
   "source": [
    "experience2=[]\n",
    "for i in job_opening_urls3[0:10]:\n",
    "    driver2.get(i)\n",
    "    try:\n",
    "        experience_tags2=driver2.find_element_by_xpath(\"//div[@class='exp']\")\n",
    "        experience2.append(experience_tags2.text)\n",
    "    except:\n",
    "        experience2.append('-')\n",
    "experience2"
   ]
  },
  {
   "cell_type": "code",
   "execution_count": 57,
   "metadata": {},
   "outputs": [
    {
     "data": {
      "text/plain": [
       "['Gurgaon/Gurugram, Bangalore/Bengaluru',\n",
       " 'Gurgaon/Gurugram',\n",
       " 'New Delhi, Gurgaon/Gurugram',\n",
       " 'Mumbai, Gurgaon/Gurugram, Bangalore/Bengaluru',\n",
       " 'Delhi / NCR( Ghitorni )',\n",
       " 'Gurgaon/Gurugram',\n",
       " 'Gurgaon/Gurugram',\n",
       " 'Delhi / NCR',\n",
       " 'Noida( NSEZ )',\n",
       " 'Gurgaon/Gurugram']"
      ]
     },
     "execution_count": 57,
     "metadata": {},
     "output_type": "execute_result"
    }
   ],
   "source": [
    "location2=[]\n",
    "for i in job_opening_urls3[0:10]:\n",
    "    driver2.get(i)\n",
    "    try:\n",
    "        location_tags2=driver2.find_element_by_xpath(\"//span[@class='location ']\")\n",
    "        location2.append(location_tags2.text)\n",
    "    except:\n",
    "        location2.append('-')\n",
    "location2"
   ]
  },
  {
   "cell_type": "code",
   "execution_count": 58,
   "metadata": {},
   "outputs": [],
   "source": [
    "jobs2=pd.DataFrame({})\n",
    "jobs2['Title']=job_titles2\n",
    "jobs2['Company']=company_titles2\n",
    "jobs2['experienceRequired']=experience2\n",
    "jobs2['Location']=location2"
   ]
  },
  {
   "cell_type": "code",
   "execution_count": 59,
   "metadata": {},
   "outputs": [
    {
     "data": {
      "text/html": [
       "<div>\n",
       "<style scoped>\n",
       "    .dataframe tbody tr th:only-of-type {\n",
       "        vertical-align: middle;\n",
       "    }\n",
       "\n",
       "    .dataframe tbody tr th {\n",
       "        vertical-align: top;\n",
       "    }\n",
       "\n",
       "    .dataframe thead th {\n",
       "        text-align: right;\n",
       "    }\n",
       "</style>\n",
       "<table border=\"1\" class=\"dataframe\">\n",
       "  <thead>\n",
       "    <tr style=\"text-align: right;\">\n",
       "      <th></th>\n",
       "      <th>Title</th>\n",
       "      <th>Company</th>\n",
       "      <th>experienceRequired</th>\n",
       "      <th>Location</th>\n",
       "    </tr>\n",
       "  </thead>\n",
       "  <tbody>\n",
       "    <tr>\n",
       "      <th>0</th>\n",
       "      <td>Data Scientist</td>\n",
       "      <td>UrbanClap</td>\n",
       "      <td>1 - 3 years</td>\n",
       "      <td>Gurgaon/Gurugram, Bangalore/Bengaluru</td>\n",
       "    </tr>\n",
       "    <tr>\n",
       "      <th>1</th>\n",
       "      <td>Data Scientist</td>\n",
       "      <td>Shadowfax Technologies Pvt. Ltd.</td>\n",
       "      <td>1 - 3 years</td>\n",
       "      <td>Gurgaon/Gurugram</td>\n",
       "    </tr>\n",
       "    <tr>\n",
       "      <th>2</th>\n",
       "      <td>Team Leader Operations</td>\n",
       "      <td>Optimint Solutions Pvt. Ltd.</td>\n",
       "      <td>2 - 5 years</td>\n",
       "      <td>New Delhi, Gurgaon/Gurugram</td>\n",
       "    </tr>\n",
       "    <tr>\n",
       "      <th>3</th>\n",
       "      <td>Consultant/Decision Scientist</td>\n",
       "      <td>Fractal Analytics</td>\n",
       "      <td>2 - 4 years</td>\n",
       "      <td>Mumbai, Gurgaon/Gurugram, Bangalore/Bengaluru</td>\n",
       "    </tr>\n",
       "    <tr>\n",
       "      <th>4</th>\n",
       "      <td>Data Analyst</td>\n",
       "      <td>IB Monotaro Private Limited</td>\n",
       "      <td>1 - 3 years</td>\n",
       "      <td>Delhi / NCR( Ghitorni )</td>\n",
       "    </tr>\n",
       "    <tr>\n",
       "      <th>5</th>\n",
       "      <td>Data Analyst</td>\n",
       "      <td>Targray</td>\n",
       "      <td>1 - 4 years</td>\n",
       "      <td>Gurgaon/Gurugram</td>\n",
       "    </tr>\n",
       "    <tr>\n",
       "      <th>6</th>\n",
       "      <td>Associate Data Analyst</td>\n",
       "      <td>Weatherbug</td>\n",
       "      <td>1 - 3 years</td>\n",
       "      <td>Gurgaon/Gurugram</td>\n",
       "    </tr>\n",
       "    <tr>\n",
       "      <th>7</th>\n",
       "      <td>Data Analyst</td>\n",
       "      <td>HEALTH ARX TECHNOLOGIES PRIVATE LIMITED</td>\n",
       "      <td>2 - 5 years</td>\n",
       "      <td>Delhi / NCR</td>\n",
       "    </tr>\n",
       "    <tr>\n",
       "      <th>8</th>\n",
       "      <td>Python Developer</td>\n",
       "      <td>CYFUTURE INDIA PRIVATE LIMITED</td>\n",
       "      <td>1 - 4 years</td>\n",
       "      <td>Noida( NSEZ )</td>\n",
       "    </tr>\n",
       "    <tr>\n",
       "      <th>9</th>\n",
       "      <td>Associate Big Data Engineer</td>\n",
       "      <td>NITS Solutions</td>\n",
       "      <td>2 - 5 years</td>\n",
       "      <td>Gurgaon/Gurugram</td>\n",
       "    </tr>\n",
       "  </tbody>\n",
       "</table>\n",
       "</div>"
      ],
      "text/plain": [
       "                           Title                                  Company  \\\n",
       "0                 Data Scientist                                UrbanClap   \n",
       "1                 Data Scientist         Shadowfax Technologies Pvt. Ltd.   \n",
       "2         Team Leader Operations             Optimint Solutions Pvt. Ltd.   \n",
       "3  Consultant/Decision Scientist                        Fractal Analytics   \n",
       "4                   Data Analyst              IB Monotaro Private Limited   \n",
       "5                   Data Analyst                                  Targray   \n",
       "6         Associate Data Analyst                               Weatherbug   \n",
       "7                   Data Analyst  HEALTH ARX TECHNOLOGIES PRIVATE LIMITED   \n",
       "8               Python Developer           CYFUTURE INDIA PRIVATE LIMITED   \n",
       "9    Associate Big Data Engineer                           NITS Solutions   \n",
       "\n",
       "  experienceRequired                                       Location  \n",
       "0        1 - 3 years          Gurgaon/Gurugram, Bangalore/Bengaluru  \n",
       "1        1 - 3 years                               Gurgaon/Gurugram  \n",
       "2        2 - 5 years                    New Delhi, Gurgaon/Gurugram  \n",
       "3        2 - 4 years  Mumbai, Gurgaon/Gurugram, Bangalore/Bengaluru  \n",
       "4        1 - 3 years                        Delhi / NCR( Ghitorni )  \n",
       "5        1 - 4 years                               Gurgaon/Gurugram  \n",
       "6        1 - 3 years                               Gurgaon/Gurugram  \n",
       "7        2 - 5 years                                    Delhi / NCR  \n",
       "8        1 - 4 years                                  Noida( NSEZ )  \n",
       "9        2 - 5 years                               Gurgaon/Gurugram  "
      ]
     },
     "execution_count": 59,
     "metadata": {},
     "output_type": "execute_result"
    }
   ],
   "source": [
    "jobs2"
   ]
  },
  {
   "cell_type": "markdown",
   "metadata": {},
   "source": [
    "# Q4. Write a python program to scrape data for first 10 job results for Data scientist Designation in Noida location. You have to scrape company_name, No. of days ago when job was posted, Rating of the company."
   ]
  },
  {
   "cell_type": "code",
   "execution_count": 53,
   "metadata": {},
   "outputs": [],
   "source": [
    "driver3=webdriver.Chrome(r'C:\\Users\\delkl\\Downloads\\chromedriver.exe')"
   ]
  },
  {
   "cell_type": "code",
   "execution_count": 67,
   "metadata": {},
   "outputs": [],
   "source": [
    "url3='https://www.glassdoor.co.in/index.htm'\n",
    "driver3.get(url3)"
   ]
  },
  {
   "cell_type": "code",
   "execution_count": 68,
   "metadata": {},
   "outputs": [
    {
     "data": {
      "text/plain": [
       "<selenium.webdriver.remote.webelement.WebElement (session=\"e880445197d5c7472ca96d0c91192dc4\", element=\"2dff8b30-9e64-474b-a649-67da077632d2\")>"
      ]
     },
     "execution_count": 68,
     "metadata": {},
     "output_type": "execute_result"
    }
   ],
   "source": [
    "search_job3=driver3.find_element_by_id('sc.keyword')\n",
    "search_job3"
   ]
  },
  {
   "cell_type": "code",
   "execution_count": 69,
   "metadata": {},
   "outputs": [],
   "source": [
    "search_job3.send_keys('Data Scientist')"
   ]
  },
  {
   "cell_type": "code",
   "execution_count": 70,
   "metadata": {},
   "outputs": [
    {
     "data": {
      "text/plain": [
       "<selenium.webdriver.remote.webelement.WebElement (session=\"e880445197d5c7472ca96d0c91192dc4\", element=\"766f525a-faf6-49f0-b434-b276fd59bdba\")>"
      ]
     },
     "execution_count": 70,
     "metadata": {},
     "output_type": "execute_result"
    }
   ],
   "source": [
    "location3=driver3.find_element_by_id('sc.location')\n",
    "location3"
   ]
  },
  {
   "cell_type": "code",
   "execution_count": 71,
   "metadata": {},
   "outputs": [],
   "source": [
    "location3.send_keys('Noida')"
   ]
  },
  {
   "cell_type": "code",
   "execution_count": 72,
   "metadata": {},
   "outputs": [],
   "source": [
    "search_btn3=driver3.find_element_by_xpath(\"//button[@class='gd-ui-button ml-std col-auto search__SearchStyles__newSearchButton css-1dqvyh7']\")\n",
    "search_btn3.click()"
   ]
  },
  {
   "cell_type": "code",
   "execution_count": 73,
   "metadata": {
    "scrolled": false
   },
   "outputs": [
    {
     "data": {
      "text/plain": [
       "[<selenium.webdriver.remote.webelement.WebElement (session=\"e880445197d5c7472ca96d0c91192dc4\", element=\"bc28ecf0-69ac-4764-9076-a4e87da656ad\")>,\n",
       " <selenium.webdriver.remote.webelement.WebElement (session=\"e880445197d5c7472ca96d0c91192dc4\", element=\"83df1080-3276-4b73-83d1-76ce2f9fc3be\")>,\n",
       " <selenium.webdriver.remote.webelement.WebElement (session=\"e880445197d5c7472ca96d0c91192dc4\", element=\"d94f5e51-3038-4a0d-b9e3-4d3a4ebb3096\")>,\n",
       " <selenium.webdriver.remote.webelement.WebElement (session=\"e880445197d5c7472ca96d0c91192dc4\", element=\"6fd35a0b-ab4b-41a4-8e85-eb8245bd87c3\")>,\n",
       " <selenium.webdriver.remote.webelement.WebElement (session=\"e880445197d5c7472ca96d0c91192dc4\", element=\"ea6631a8-1dbb-4b0c-a6b0-a75288e02e99\")>,\n",
       " <selenium.webdriver.remote.webelement.WebElement (session=\"e880445197d5c7472ca96d0c91192dc4\", element=\"4f007e9f-7691-4c50-9ddb-0730b11ece36\")>,\n",
       " <selenium.webdriver.remote.webelement.WebElement (session=\"e880445197d5c7472ca96d0c91192dc4\", element=\"d2451d6d-8888-462d-b11c-c242900f1f1c\")>,\n",
       " <selenium.webdriver.remote.webelement.WebElement (session=\"e880445197d5c7472ca96d0c91192dc4\", element=\"67ec4d90-a70f-4b5a-b642-235fb973b17b\")>,\n",
       " <selenium.webdriver.remote.webelement.WebElement (session=\"e880445197d5c7472ca96d0c91192dc4\", element=\"b54ea23d-71cc-493f-89dc-9aa18fc35360\")>,\n",
       " <selenium.webdriver.remote.webelement.WebElement (session=\"e880445197d5c7472ca96d0c91192dc4\", element=\"3a9d707c-e314-4beb-9634-bc83f9c3092e\")>,\n",
       " <selenium.webdriver.remote.webelement.WebElement (session=\"e880445197d5c7472ca96d0c91192dc4\", element=\"e7f8991f-fd8a-40a4-8d3b-d773e53437f2\")>,\n",
       " <selenium.webdriver.remote.webelement.WebElement (session=\"e880445197d5c7472ca96d0c91192dc4\", element=\"11480c0e-96a5-4d9f-b6ee-a1b71e42f8d4\")>,\n",
       " <selenium.webdriver.remote.webelement.WebElement (session=\"e880445197d5c7472ca96d0c91192dc4\", element=\"c6ece730-6eda-4242-b72c-8de1ce4041b4\")>,\n",
       " <selenium.webdriver.remote.webelement.WebElement (session=\"e880445197d5c7472ca96d0c91192dc4\", element=\"6c0f5483-b94f-4b27-bd39-ad5990306353\")>,\n",
       " <selenium.webdriver.remote.webelement.WebElement (session=\"e880445197d5c7472ca96d0c91192dc4\", element=\"dc75db47-c653-4997-9a9c-f0aae67df3db\")>,\n",
       " <selenium.webdriver.remote.webelement.WebElement (session=\"e880445197d5c7472ca96d0c91192dc4\", element=\"570af69d-7c79-492e-bd33-6b6a56e0e1eb\")>,\n",
       " <selenium.webdriver.remote.webelement.WebElement (session=\"e880445197d5c7472ca96d0c91192dc4\", element=\"170680d9-f132-43a4-afa0-47fb199dd623\")>,\n",
       " <selenium.webdriver.remote.webelement.WebElement (session=\"e880445197d5c7472ca96d0c91192dc4\", element=\"fbb94b24-eccb-42f9-bc45-593371522123\")>,\n",
       " <selenium.webdriver.remote.webelement.WebElement (session=\"e880445197d5c7472ca96d0c91192dc4\", element=\"209596c5-656e-48d3-8686-3bad2f22bdcd\")>,\n",
       " <selenium.webdriver.remote.webelement.WebElement (session=\"e880445197d5c7472ca96d0c91192dc4\", element=\"3e7e5d9c-a2a3-4a41-92e4-a9910cc43146\")>,\n",
       " <selenium.webdriver.remote.webelement.WebElement (session=\"e880445197d5c7472ca96d0c91192dc4\", element=\"ee5992aa-2b42-43c9-97a0-2ea2d7dd0b9b\")>,\n",
       " <selenium.webdriver.remote.webelement.WebElement (session=\"e880445197d5c7472ca96d0c91192dc4\", element=\"f237def7-fc8f-440b-a3a7-058d97176861\")>,\n",
       " <selenium.webdriver.remote.webelement.WebElement (session=\"e880445197d5c7472ca96d0c91192dc4\", element=\"b9a67654-0592-4a59-a8c4-0fa7673856eb\")>,\n",
       " <selenium.webdriver.remote.webelement.WebElement (session=\"e880445197d5c7472ca96d0c91192dc4\", element=\"152fce07-67aa-41a0-a886-069e5eddc027\")>,\n",
       " <selenium.webdriver.remote.webelement.WebElement (session=\"e880445197d5c7472ca96d0c91192dc4\", element=\"45ef96d1-8f87-48b0-918d-3d8f86201afe\")>,\n",
       " <selenium.webdriver.remote.webelement.WebElement (session=\"e880445197d5c7472ca96d0c91192dc4\", element=\"ecda7c77-14e3-4d00-bb94-84cc85670e44\")>,\n",
       " <selenium.webdriver.remote.webelement.WebElement (session=\"e880445197d5c7472ca96d0c91192dc4\", element=\"0548e725-7278-4b8a-8c9d-7b2ca22091fa\")>,\n",
       " <selenium.webdriver.remote.webelement.WebElement (session=\"e880445197d5c7472ca96d0c91192dc4\", element=\"70cb80b2-25d5-4bbe-94d7-177dac431681\")>,\n",
       " <selenium.webdriver.remote.webelement.WebElement (session=\"e880445197d5c7472ca96d0c91192dc4\", element=\"fe36631f-6915-4b59-beef-a7bc8c63f61c\")>,\n",
       " <selenium.webdriver.remote.webelement.WebElement (session=\"e880445197d5c7472ca96d0c91192dc4\", element=\"c3e26361-5b76-4e16-a616-393c70b10835\")>]"
      ]
     },
     "execution_count": 73,
     "metadata": {},
     "output_type": "execute_result"
    }
   ],
   "source": [
    "url33=driver3.find_elements_by_xpath(\"//a[@class=' css-l2wjgv e1n63ojh0 jobLink']\")\n",
    "url33"
   ]
  },
  {
   "cell_type": "code",
   "execution_count": 74,
   "metadata": {},
   "outputs": [
    {
     "data": {
      "text/plain": [
       "['https://www.glassdoor.co.in/partner/jobListing.htm?pos=101&ao=1136043&s=58&guid=0000017b3a1e006bb75bc38bba0cc7ed&src=GD_JOB_AD&t=SR&vt=w&uido=571318FCEDFE3784789E35838B273C98&ea=1&cs=1_81301bb8&cb=1628767650199&jobListingId=1007219231719&jrtk=2-0-1fct1s04lhiho801-1fct1s053u2d7800-97e5e173cec15330',\n",
       " 'https://www.glassdoor.co.in/partner/jobListing.htm?pos=102&ao=1136043&s=58&guid=0000017b3a1e006bb75bc38bba0cc7ed&src=GD_JOB_AD&t=SR&vt=w&uido=571318FCEDFE3784789E35838B273C98&ea=1&cs=1_4056fb26&cb=1628767650200&jobListingId=1007200389479&jrtk=2-0-1fct1s04lhiho801-1fct1s053u2d7800-97d4c65035600d81',\n",
       " 'https://www.glassdoor.co.in/partner/jobListing.htm?pos=103&ao=1136043&s=58&guid=0000017b3a1e006bb75bc38bba0cc7ed&src=GD_JOB_AD&t=SR&vt=w&uido=571318FCEDFE3784789E35838B273C98&ea=1&cs=1_be9942be&cb=1628767650201&jobListingId=1007223625926&jrtk=2-0-1fct1s04lhiho801-1fct1s053u2d7800-8f431e7a43bcc483',\n",
       " 'https://www.glassdoor.co.in/partner/jobListing.htm?pos=104&ao=1136043&s=58&guid=0000017b3a1e006bb75bc38bba0cc7ed&src=GD_JOB_AD&t=SR&vt=w&uido=571318FCEDFE3784789E35838B273C98&ea=1&cs=1_bfc91de5&cb=1628767650202&jobListingId=1007181085665&jrtk=2-0-1fct1s04lhiho801-1fct1s053u2d7800-c5ebf3c133ebe75f',\n",
       " 'https://www.glassdoor.co.in/partner/jobListing.htm?pos=105&ao=1136043&s=58&guid=0000017b3a1e006bb75bc38bba0cc7ed&src=GD_JOB_AD&t=SR&vt=w&uido=571318FCEDFE3784789E35838B273C98&cs=1_9524a834&cb=1628767650201&jobListingId=1007230855102&jrtk=2-0-1fct1s04lhiho801-1fct1s053u2d7800-409b6a371f63d0fe',\n",
       " 'https://www.glassdoor.co.in/partner/jobListing.htm?pos=106&ao=1136043&s=58&guid=0000017b3a1e006bb75bc38bba0cc7ed&src=GD_JOB_AD&t=SR&vt=w&uido=571318FCEDFE3784789E35838B273C98&ea=1&cs=1_6f241adc&cb=1628767650203&jobListingId=1007219665646&jrtk=2-0-1fct1s04lhiho801-1fct1s053u2d7800-f48b990bb3cba778',\n",
       " 'https://www.glassdoor.co.in/partner/jobListing.htm?pos=107&ao=1136043&s=58&guid=0000017b3a1e006bb75bc38bba0cc7ed&src=GD_JOB_AD&t=SR&vt=w&uido=571318FCEDFE3784789E35838B273C98&cs=1_d48392d5&cb=1628767650204&jobListingId=1007095133299&jrtk=2-0-1fct1s04lhiho801-1fct1s053u2d7800-84db922a59ad7885',\n",
       " 'https://www.glassdoor.co.in/partner/jobListing.htm?pos=108&ao=1136043&s=58&guid=0000017b3a1e006bb75bc38bba0cc7ed&src=GD_JOB_AD&t=SR&vt=w&uido=571318FCEDFE3784789E35838B273C98&cs=1_4c4111a5&cb=1628767650205&jobListingId=1006624053994&jrtk=2-0-1fct1s04lhiho801-1fct1s053u2d7800-a8cb856cd397a474',\n",
       " 'https://www.glassdoor.co.in/partner/jobListing.htm?pos=109&ao=1136043&s=58&guid=0000017b3a1e006bb75bc38bba0cc7ed&src=GD_JOB_AD&t=SR&vt=w&uido=571318FCEDFE3784789E35838B273C98&cs=1_fd8cb4e2&cb=1628767650205&jobListingId=1007222536547&jrtk=2-0-1fct1s04lhiho801-1fct1s053u2d7800-03c8dcb07222bc19',\n",
       " 'https://www.glassdoor.co.in/partner/jobListing.htm?pos=110&ao=1136043&s=58&guid=0000017b3a1e006bb75bc38bba0cc7ed&src=GD_JOB_AD&t=SR&vt=w&uido=571318FCEDFE3784789E35838B273C98&cs=1_1bebdc3f&cb=1628767650205&jobListingId=1007224309095&jrtk=2-0-1fct1s04lhiho801-1fct1s053u2d7800-c521dfbc82ae5090']"
      ]
     },
     "execution_count": 74,
     "metadata": {},
     "output_type": "execute_result"
    }
   ],
   "source": [
    "job_opening_urls4=[]\n",
    "for i in url33[0:10]:\n",
    "    job_opening_urls4.append(i.get_attribute('href'))\n",
    "job_opening_urls4"
   ]
  },
  {
   "cell_type": "code",
   "execution_count": 66,
   "metadata": {},
   "outputs": [
    {
     "data": {
      "text/plain": [
       "['Liberin Technologies Private Limited',\n",
       " 'Data Trained Education',\n",
       " 'Pixel Vision',\n",
       " 'Emerging India Analytics',\n",
       " 'CRMNEXT\\n3.8\\n★',\n",
       " 'Crowe\\n3.8\\n★',\n",
       " 'Biz2Credit Inc\\n4.1\\n★',\n",
       " 'Ericsson\\n4.1\\n★',\n",
       " 'Newgen Software\\n3.4\\n★',\n",
       " 'Salasar New Age Technologies']"
      ]
     },
     "execution_count": 66,
     "metadata": {},
     "output_type": "execute_result"
    }
   ],
   "source": [
    "company_titles3=[]\n",
    "for i in job_opening_urls4[0:10]:\n",
    "    driver3.get(i)\n",
    "    try:\n",
    "        companies_tags3=driver3.find_element_by_xpath(\"//div[@class='css-16nw49e e11nt52q1']\")\n",
    "        company_titles3.append(companies_tags3.text)\n",
    "    except:\n",
    "        company_titles3.append('-')\n",
    "company_titles3"
   ]
  },
  {
   "cell_type": "code",
   "execution_count": 76,
   "metadata": {},
   "outputs": [
    {
     "data": {
      "text/plain": [
       "['7d', '16d', '6d', '26d', '1d', '7d', '30d+', '30d+', '6d', '5d']"
      ]
     },
     "execution_count": 76,
     "metadata": {},
     "output_type": "execute_result"
    }
   ],
   "source": [
    "job_date=driver3.find_elements_by_xpath(\"//div[@class='d-flex align-items-end pl-std css-mi55ob']\")\n",
    "job_posted=[]\n",
    "for i in job_date[0:10]:\n",
    "    try:\n",
    "        job_posted.append(i.text)\n",
    "    except:\n",
    "        job_posted.append('-')\n",
    "job_posted"
   ]
  },
  {
   "cell_type": "code",
   "execution_count": 79,
   "metadata": {},
   "outputs": [
    {
     "data": {
      "text/plain": [
       "['-', '-', '-', '-', '3.8★', '-', '3.8★', '-', '4.7★', '3.8★']"
      ]
     },
     "execution_count": 79,
     "metadata": {},
     "output_type": "execute_result"
    }
   ],
   "source": [
    "job_rating=[]\n",
    "for i in job_opening_urls4[0:10]:\n",
    "    driver3.get(i)\n",
    "    try:\n",
    "        rating=driver3.find_element_by_xpath(\"//span[@class='css-1pmc6te e11nt52q4']\")\n",
    "        job_rating.append(rating.text.replace('\\n',''))\n",
    "    except:\n",
    "        job_rating.append('-')\n",
    "job_rating"
   ]
  },
  {
   "cell_type": "code",
   "execution_count": 81,
   "metadata": {
    "scrolled": false
   },
   "outputs": [],
   "source": [
    "jobs3=pd.DataFrame({})\n",
    "jobs3['Company']=company_titles3\n",
    "jobs3['Job Posted']=job_posted\n",
    "jobs3['Rating']=job_rating"
   ]
  },
  {
   "cell_type": "code",
   "execution_count": 82,
   "metadata": {},
   "outputs": [
    {
     "data": {
      "text/html": [
       "<div>\n",
       "<style scoped>\n",
       "    .dataframe tbody tr th:only-of-type {\n",
       "        vertical-align: middle;\n",
       "    }\n",
       "\n",
       "    .dataframe tbody tr th {\n",
       "        vertical-align: top;\n",
       "    }\n",
       "\n",
       "    .dataframe thead th {\n",
       "        text-align: right;\n",
       "    }\n",
       "</style>\n",
       "<table border=\"1\" class=\"dataframe\">\n",
       "  <thead>\n",
       "    <tr style=\"text-align: right;\">\n",
       "      <th></th>\n",
       "      <th>Company</th>\n",
       "      <th>Job Posted</th>\n",
       "      <th>Rating</th>\n",
       "    </tr>\n",
       "  </thead>\n",
       "  <tbody>\n",
       "    <tr>\n",
       "      <th>0</th>\n",
       "      <td>Liberin Technologies Private Limited</td>\n",
       "      <td>7d</td>\n",
       "      <td>-</td>\n",
       "    </tr>\n",
       "    <tr>\n",
       "      <th>1</th>\n",
       "      <td>Data Trained Education</td>\n",
       "      <td>16d</td>\n",
       "      <td>-</td>\n",
       "    </tr>\n",
       "    <tr>\n",
       "      <th>2</th>\n",
       "      <td>Pixel Vision</td>\n",
       "      <td>6d</td>\n",
       "      <td>-</td>\n",
       "    </tr>\n",
       "    <tr>\n",
       "      <th>3</th>\n",
       "      <td>Emerging India Analytics</td>\n",
       "      <td>26d</td>\n",
       "      <td>-</td>\n",
       "    </tr>\n",
       "    <tr>\n",
       "      <th>4</th>\n",
       "      <td>CRMNEXT\\n3.8\\n★</td>\n",
       "      <td>1d</td>\n",
       "      <td>3.8★</td>\n",
       "    </tr>\n",
       "    <tr>\n",
       "      <th>5</th>\n",
       "      <td>Crowe\\n3.8\\n★</td>\n",
       "      <td>7d</td>\n",
       "      <td>-</td>\n",
       "    </tr>\n",
       "    <tr>\n",
       "      <th>6</th>\n",
       "      <td>Biz2Credit Inc\\n4.1\\n★</td>\n",
       "      <td>30d+</td>\n",
       "      <td>3.8★</td>\n",
       "    </tr>\n",
       "    <tr>\n",
       "      <th>7</th>\n",
       "      <td>Ericsson\\n4.1\\n★</td>\n",
       "      <td>30d+</td>\n",
       "      <td>-</td>\n",
       "    </tr>\n",
       "    <tr>\n",
       "      <th>8</th>\n",
       "      <td>Newgen Software\\n3.4\\n★</td>\n",
       "      <td>6d</td>\n",
       "      <td>4.7★</td>\n",
       "    </tr>\n",
       "    <tr>\n",
       "      <th>9</th>\n",
       "      <td>Salasar New Age Technologies</td>\n",
       "      <td>5d</td>\n",
       "      <td>3.8★</td>\n",
       "    </tr>\n",
       "  </tbody>\n",
       "</table>\n",
       "</div>"
      ],
      "text/plain": [
       "                                Company Job Posted Rating\n",
       "0  Liberin Technologies Private Limited         7d      -\n",
       "1                Data Trained Education        16d      -\n",
       "2                          Pixel Vision         6d      -\n",
       "3              Emerging India Analytics        26d      -\n",
       "4                       CRMNEXT\\n3.8\\n★         1d   3.8★\n",
       "5                         Crowe\\n3.8\\n★         7d      -\n",
       "6                Biz2Credit Inc\\n4.1\\n★       30d+   3.8★\n",
       "7                      Ericsson\\n4.1\\n★       30d+      -\n",
       "8               Newgen Software\\n3.4\\n★         6d   4.7★\n",
       "9          Salasar New Age Technologies         5d   3.8★"
      ]
     },
     "execution_count": 82,
     "metadata": {},
     "output_type": "execute_result"
    }
   ],
   "source": [
    "jobs3"
   ]
  },
  {
   "cell_type": "markdown",
   "metadata": {},
   "source": [
    "# Q5"
   ]
  },
  {
   "cell_type": "code",
   "execution_count": 83,
   "metadata": {},
   "outputs": [],
   "source": [
    "driver5=webdriver.Chrome(r'C:\\Users\\delkl\\Downloads\\chromedriver.exe')"
   ]
  },
  {
   "cell_type": "code",
   "execution_count": 84,
   "metadata": {},
   "outputs": [],
   "source": [
    "url5='https://www.glassdoor.co.in/Salaries/index.htm'\n",
    "driver5.get(url5)"
   ]
  },
  {
   "cell_type": "code",
   "execution_count": 85,
   "metadata": {},
   "outputs": [
    {
     "data": {
      "text/plain": [
       "<selenium.webdriver.remote.webelement.WebElement (session=\"5e7f1ee8eb24cfa55ab476bf20f586ad\", element=\"801e7c75-287f-4e09-9e1a-17c16af57c13\")>"
      ]
     },
     "execution_count": 85,
     "metadata": {},
     "output_type": "execute_result"
    }
   ],
   "source": [
    "search_item5=driver5.find_element_by_id('KeywordSearch')\n",
    "search_item5"
   ]
  },
  {
   "cell_type": "code",
   "execution_count": 86,
   "metadata": {},
   "outputs": [],
   "source": [
    "search_item5.send_keys('Data Scientist')"
   ]
  },
  {
   "cell_type": "code",
   "execution_count": 87,
   "metadata": {},
   "outputs": [],
   "source": [
    "location_item5=driver5.find_element_by_id('LocationSearch')\n",
    "location_item5.send_keys('Noida')"
   ]
  },
  {
   "cell_type": "code",
   "execution_count": 88,
   "metadata": {},
   "outputs": [],
   "source": [
    "search_btn5=driver5.find_element_by_xpath(\"//button[@class='gd-btn-mkt']\")\n",
    "search_btn5.click()"
   ]
  },
  {
   "cell_type": "code",
   "execution_count": 89,
   "metadata": {},
   "outputs": [
    {
     "data": {
      "text/plain": [
       "['Tata Consultancy Services',\n",
       " 'IBM',\n",
       " 'Accenture',\n",
       " 'Delhivery',\n",
       " 'Ericsson-Worldwide',\n",
       " 'UnitedHealth Group',\n",
       " 'Optum',\n",
       " 'Valiance Solutions',\n",
       " 'EXL Service',\n",
       " 'Optum Global Solutions']"
      ]
     },
     "execution_count": 89,
     "metadata": {},
     "output_type": "execute_result"
    }
   ],
   "source": [
    "company_tags=driver5.find_elements_by_xpath(\"//a[@class='css-f3vw95 e1aj7ssy3']\")\n",
    "company_titles=[]\n",
    "for i in company_tags[0:10]:\n",
    "    company_titles.append(i.text)\n",
    "company_titles"
   ]
  },
  {
   "cell_type": "code",
   "execution_count": 90,
   "metadata": {},
   "outputs": [
    {
     "data": {
      "text/plain": [
       "['18 salaries',\n",
       " '18 salaries',\n",
       " '15 salaries',\n",
       " '15 salaries',\n",
       " '14 salaries',\n",
       " '14 salaries',\n",
       " '10 salaries',\n",
       " '10 salaries',\n",
       " '9 salaries',\n",
       " '9 salaries']"
      ]
     },
     "execution_count": 90,
     "metadata": {},
     "output_type": "execute_result"
    }
   ],
   "source": [
    "salarynumber_tags=driver5.find_elements_by_xpath(\"//div[@class='col-12 col-lg-auto']\")\n",
    "salarynumber_titles=[]\n",
    "for i in salarynumber_tags[0:10]:\n",
    "    salarynumber_titles.append(i.text)\n",
    "salarynumber_titles"
   ]
  },
  {
   "cell_type": "code",
   "execution_count": 91,
   "metadata": {},
   "outputs": [
    {
     "data": {
      "text/plain": [
       "['₹6,12,205 /yr',\n",
       " '₹9,00,000 /yr',\n",
       " '₹11,63,336 /yr',\n",
       " '₹12,18,244 /yr',\n",
       " '₹7,39,238 /yr',\n",
       " '₹12,80,000 /yr',\n",
       " '₹13,20,960 /yr',\n",
       " '₹8,63,750 /yr',\n",
       " '₹11,10,000 /yr',\n",
       " '₹13,28,697 /yr']"
      ]
     },
     "execution_count": 91,
     "metadata": {},
     "output_type": "execute_result"
    }
   ],
   "source": [
    "average_tags=driver5.find_elements_by_xpath(\"//div[@class='col-12 col-lg-4 px-lg-0 d-flex align-items-baseline']\")\n",
    "average_salary=[]\n",
    "for i in average_tags[0:10]:\n",
    "    average_salary.append(i.text.replace('\\n',''))\n",
    "average_salary"
   ]
  },
  {
   "cell_type": "code",
   "execution_count": 92,
   "metadata": {},
   "outputs": [
    {
     "data": {
      "text/plain": [
       "['₹3L', '₹6L', '₹6L', '₹5L', '₹4L', '₹8L', '₹8L', '₹5L', '₹6L', '₹4L']"
      ]
     },
     "execution_count": 92,
     "metadata": {},
     "output_type": "execute_result"
    }
   ],
   "source": [
    "min_tags=driver5.find_elements_by_xpath(\"//div[@class='d-flex mt-xxsm css-79elbk epuxyqn0']\")\n",
    "min_salary=[]\n",
    "for i in min_tags[0:10]:\n",
    "    min_salary.append(i.text.split()[0])\n",
    "min_salary"
   ]
  },
  {
   "cell_type": "code",
   "execution_count": 93,
   "metadata": {},
   "outputs": [
    {
     "data": {
      "text/plain": [
       "['₹13L',\n",
       " '₹27L',\n",
       " '₹22L',\n",
       " '₹1Cr',\n",
       " '₹16L',\n",
       " '₹15L',\n",
       " '₹20L',\n",
       " '₹15L',\n",
       " '₹15L',\n",
       " '₹22L']"
      ]
     },
     "execution_count": 93,
     "metadata": {},
     "output_type": "execute_result"
    }
   ],
   "source": [
    "max_tags=driver5.find_elements_by_xpath(\"//div[@class='d-flex mt-xxsm css-79elbk epuxyqn0']\")\n",
    "max_salary=[]\n",
    "for i in max_tags[0:10]:\n",
    "    max_salary.append(i.text.split()[1])\n",
    "max_salary"
   ]
  },
  {
   "cell_type": "code",
   "execution_count": 94,
   "metadata": {},
   "outputs": [
    {
     "data": {
      "text/plain": [
       "['3.9', '3.9', '4.1', '3.9', '4', '3.7', '3.7', '4.2', '3.6', '3.9']"
      ]
     },
     "execution_count": 94,
     "metadata": {},
     "output_type": "execute_result"
    }
   ],
   "source": [
    "rating_tags=driver5.find_elements_by_xpath(\"//span[@class='m-0 css-kyx745']\")\n",
    "ratings=[]\n",
    "for i in rating_tags[0:10]:\n",
    "    ratings.append(i.text)\n",
    "ratings"
   ]
  },
  {
   "cell_type": "code",
   "execution_count": 95,
   "metadata": {},
   "outputs": [],
   "source": [
    "glassdoor=pd.DataFrame({})\n",
    "glassdoor['Company']=company_titles\n",
    "glassdoor['No._of_Salaries']=salarynumber_titles\n",
    "glassdoor['Average_Salary']=average_salary\n",
    "glassdoor['Min_Salary']=min_salary\n",
    "glassdoor['Max_Salary']=max_salary\n",
    "glassdoor['Rating']=ratings"
   ]
  },
  {
   "cell_type": "code",
   "execution_count": 96,
   "metadata": {},
   "outputs": [
    {
     "data": {
      "text/html": [
       "<div>\n",
       "<style scoped>\n",
       "    .dataframe tbody tr th:only-of-type {\n",
       "        vertical-align: middle;\n",
       "    }\n",
       "\n",
       "    .dataframe tbody tr th {\n",
       "        vertical-align: top;\n",
       "    }\n",
       "\n",
       "    .dataframe thead th {\n",
       "        text-align: right;\n",
       "    }\n",
       "</style>\n",
       "<table border=\"1\" class=\"dataframe\">\n",
       "  <thead>\n",
       "    <tr style=\"text-align: right;\">\n",
       "      <th></th>\n",
       "      <th>Company</th>\n",
       "      <th>No._of_Salaries</th>\n",
       "      <th>Average_Salary</th>\n",
       "      <th>Min_Salary</th>\n",
       "      <th>Max_Salary</th>\n",
       "      <th>Rating</th>\n",
       "    </tr>\n",
       "  </thead>\n",
       "  <tbody>\n",
       "    <tr>\n",
       "      <th>0</th>\n",
       "      <td>Tata Consultancy Services</td>\n",
       "      <td>18 salaries</td>\n",
       "      <td>₹6,12,205 /yr</td>\n",
       "      <td>₹3L</td>\n",
       "      <td>₹13L</td>\n",
       "      <td>3.9</td>\n",
       "    </tr>\n",
       "    <tr>\n",
       "      <th>1</th>\n",
       "      <td>IBM</td>\n",
       "      <td>18 salaries</td>\n",
       "      <td>₹9,00,000 /yr</td>\n",
       "      <td>₹6L</td>\n",
       "      <td>₹27L</td>\n",
       "      <td>3.9</td>\n",
       "    </tr>\n",
       "    <tr>\n",
       "      <th>2</th>\n",
       "      <td>Accenture</td>\n",
       "      <td>15 salaries</td>\n",
       "      <td>₹11,63,336 /yr</td>\n",
       "      <td>₹6L</td>\n",
       "      <td>₹22L</td>\n",
       "      <td>4.1</td>\n",
       "    </tr>\n",
       "    <tr>\n",
       "      <th>3</th>\n",
       "      <td>Delhivery</td>\n",
       "      <td>15 salaries</td>\n",
       "      <td>₹12,18,244 /yr</td>\n",
       "      <td>₹5L</td>\n",
       "      <td>₹1Cr</td>\n",
       "      <td>3.9</td>\n",
       "    </tr>\n",
       "    <tr>\n",
       "      <th>4</th>\n",
       "      <td>Ericsson-Worldwide</td>\n",
       "      <td>14 salaries</td>\n",
       "      <td>₹7,39,238 /yr</td>\n",
       "      <td>₹4L</td>\n",
       "      <td>₹16L</td>\n",
       "      <td>4</td>\n",
       "    </tr>\n",
       "    <tr>\n",
       "      <th>5</th>\n",
       "      <td>UnitedHealth Group</td>\n",
       "      <td>14 salaries</td>\n",
       "      <td>₹12,80,000 /yr</td>\n",
       "      <td>₹8L</td>\n",
       "      <td>₹15L</td>\n",
       "      <td>3.7</td>\n",
       "    </tr>\n",
       "    <tr>\n",
       "      <th>6</th>\n",
       "      <td>Optum</td>\n",
       "      <td>10 salaries</td>\n",
       "      <td>₹13,20,960 /yr</td>\n",
       "      <td>₹8L</td>\n",
       "      <td>₹20L</td>\n",
       "      <td>3.7</td>\n",
       "    </tr>\n",
       "    <tr>\n",
       "      <th>7</th>\n",
       "      <td>Valiance Solutions</td>\n",
       "      <td>10 salaries</td>\n",
       "      <td>₹8,63,750 /yr</td>\n",
       "      <td>₹5L</td>\n",
       "      <td>₹15L</td>\n",
       "      <td>4.2</td>\n",
       "    </tr>\n",
       "    <tr>\n",
       "      <th>8</th>\n",
       "      <td>EXL Service</td>\n",
       "      <td>9 salaries</td>\n",
       "      <td>₹11,10,000 /yr</td>\n",
       "      <td>₹6L</td>\n",
       "      <td>₹15L</td>\n",
       "      <td>3.6</td>\n",
       "    </tr>\n",
       "    <tr>\n",
       "      <th>9</th>\n",
       "      <td>Optum Global Solutions</td>\n",
       "      <td>9 salaries</td>\n",
       "      <td>₹13,28,697 /yr</td>\n",
       "      <td>₹4L</td>\n",
       "      <td>₹22L</td>\n",
       "      <td>3.9</td>\n",
       "    </tr>\n",
       "  </tbody>\n",
       "</table>\n",
       "</div>"
      ],
      "text/plain": [
       "                     Company No._of_Salaries  Average_Salary Min_Salary  \\\n",
       "0  Tata Consultancy Services     18 salaries   ₹6,12,205 /yr        ₹3L   \n",
       "1                        IBM     18 salaries   ₹9,00,000 /yr        ₹6L   \n",
       "2                  Accenture     15 salaries  ₹11,63,336 /yr        ₹6L   \n",
       "3                  Delhivery     15 salaries  ₹12,18,244 /yr        ₹5L   \n",
       "4         Ericsson-Worldwide     14 salaries   ₹7,39,238 /yr        ₹4L   \n",
       "5         UnitedHealth Group     14 salaries  ₹12,80,000 /yr        ₹8L   \n",
       "6                      Optum     10 salaries  ₹13,20,960 /yr        ₹8L   \n",
       "7         Valiance Solutions     10 salaries   ₹8,63,750 /yr        ₹5L   \n",
       "8                EXL Service      9 salaries  ₹11,10,000 /yr        ₹6L   \n",
       "9     Optum Global Solutions      9 salaries  ₹13,28,697 /yr        ₹4L   \n",
       "\n",
       "  Max_Salary Rating  \n",
       "0       ₹13L    3.9  \n",
       "1       ₹27L    3.9  \n",
       "2       ₹22L    4.1  \n",
       "3       ₹1Cr    3.9  \n",
       "4       ₹16L      4  \n",
       "5       ₹15L    3.7  \n",
       "6       ₹20L    3.7  \n",
       "7       ₹15L    4.2  \n",
       "8       ₹15L    3.6  \n",
       "9       ₹22L    3.9  "
      ]
     },
     "execution_count": 96,
     "metadata": {},
     "output_type": "execute_result"
    }
   ],
   "source": [
    "glassdoor"
   ]
  },
  {
   "cell_type": "markdown",
   "metadata": {},
   "source": [
    "# Q6"
   ]
  },
  {
   "cell_type": "code",
   "execution_count": 34,
   "metadata": {},
   "outputs": [],
   "source": [
    "driver6=webdriver.Chrome(r'C:\\Users\\delkl\\Downloads\\chromedriver.exe')"
   ]
  },
  {
   "cell_type": "code",
   "execution_count": 42,
   "metadata": {},
   "outputs": [],
   "source": [
    "url6='https://www.flipkart.com/'\n",
    "driver6.get(url6)"
   ]
  },
  {
   "cell_type": "code",
   "execution_count": 43,
   "metadata": {},
   "outputs": [
    {
     "data": {
      "text/plain": [
       "<selenium.webdriver.remote.webelement.WebElement (session=\"2d7ef4cb3722d8d25ca7237e168c333a\", element=\"aa5d7f6c-33f5-4718-9749-4e05b22bcf02\")>"
      ]
     },
     "execution_count": 43,
     "metadata": {},
     "output_type": "execute_result"
    }
   ],
   "source": [
    "search_item=driver6.find_element_by_xpath(\"//input[@class='_3704LK']\")\n",
    "search_item"
   ]
  },
  {
   "cell_type": "code",
   "execution_count": 44,
   "metadata": {},
   "outputs": [],
   "source": [
    "search_item.send_keys('sunglasses')"
   ]
  },
  {
   "cell_type": "code",
   "execution_count": 45,
   "metadata": {},
   "outputs": [],
   "source": [
    "search_btn6=driver6.find_element_by_xpath(\"//button[@class='L0Z3Pu']\")\n",
    "search_btn6.click()"
   ]
  },
  {
   "cell_type": "code",
   "execution_count": 46,
   "metadata": {},
   "outputs": [
    {
     "data": {
      "text/plain": [
       "[<selenium.webdriver.remote.webelement.WebElement (session=\"2d7ef4cb3722d8d25ca7237e168c333a\", element=\"b7fde765-e093-45ae-858a-c5d8ca63480e\")>,\n",
       " <selenium.webdriver.remote.webelement.WebElement (session=\"2d7ef4cb3722d8d25ca7237e168c333a\", element=\"daf0d6f3-732b-4b01-a4d8-1e922d916b13\")>,\n",
       " <selenium.webdriver.remote.webelement.WebElement (session=\"2d7ef4cb3722d8d25ca7237e168c333a\", element=\"dcfb92ba-0059-4c6d-9fd0-3638496fe66f\")>,\n",
       " <selenium.webdriver.remote.webelement.WebElement (session=\"2d7ef4cb3722d8d25ca7237e168c333a\", element=\"06fbad84-d610-45e6-b19c-92782a4c862f\")>,\n",
       " <selenium.webdriver.remote.webelement.WebElement (session=\"2d7ef4cb3722d8d25ca7237e168c333a\", element=\"11fdbff2-b080-4ca0-bea1-edbde5b4b5b8\")>,\n",
       " <selenium.webdriver.remote.webelement.WebElement (session=\"2d7ef4cb3722d8d25ca7237e168c333a\", element=\"c581f737-3e9a-43af-80f4-b8e5cdf11eca\")>,\n",
       " <selenium.webdriver.remote.webelement.WebElement (session=\"2d7ef4cb3722d8d25ca7237e168c333a\", element=\"8496e06b-333e-4b1d-b82b-c395a4e64d5b\")>,\n",
       " <selenium.webdriver.remote.webelement.WebElement (session=\"2d7ef4cb3722d8d25ca7237e168c333a\", element=\"751f50d4-8948-4a4b-bace-20d5fa24af10\")>,\n",
       " <selenium.webdriver.remote.webelement.WebElement (session=\"2d7ef4cb3722d8d25ca7237e168c333a\", element=\"b6044913-19ca-4d7d-8134-01cf2bf0b71d\")>,\n",
       " <selenium.webdriver.remote.webelement.WebElement (session=\"2d7ef4cb3722d8d25ca7237e168c333a\", element=\"bf94ce68-aa42-451f-92a5-f824c708ef45\")>,\n",
       " <selenium.webdriver.remote.webelement.WebElement (session=\"2d7ef4cb3722d8d25ca7237e168c333a\", element=\"581201d3-06d0-49b3-a4fd-9d45899f1a98\")>,\n",
       " <selenium.webdriver.remote.webelement.WebElement (session=\"2d7ef4cb3722d8d25ca7237e168c333a\", element=\"4bbb9891-5371-48fb-8296-e7c6d2161557\")>,\n",
       " <selenium.webdriver.remote.webelement.WebElement (session=\"2d7ef4cb3722d8d25ca7237e168c333a\", element=\"007ecd18-15ec-44f3-9c6d-302e4d93af08\")>,\n",
       " <selenium.webdriver.remote.webelement.WebElement (session=\"2d7ef4cb3722d8d25ca7237e168c333a\", element=\"cd6be2f9-28f0-40eb-914b-2d3c317b7e81\")>,\n",
       " <selenium.webdriver.remote.webelement.WebElement (session=\"2d7ef4cb3722d8d25ca7237e168c333a\", element=\"22dba9bc-06e8-4359-aaee-6e8a44e0f764\")>,\n",
       " <selenium.webdriver.remote.webelement.WebElement (session=\"2d7ef4cb3722d8d25ca7237e168c333a\", element=\"8dd6e83e-4653-4237-8288-29456177c2d2\")>,\n",
       " <selenium.webdriver.remote.webelement.WebElement (session=\"2d7ef4cb3722d8d25ca7237e168c333a\", element=\"b5b539c9-2c6d-4bf4-a118-cba2980a6d73\")>,\n",
       " <selenium.webdriver.remote.webelement.WebElement (session=\"2d7ef4cb3722d8d25ca7237e168c333a\", element=\"d6d42710-ed66-48b3-8565-9488e42aec73\")>,\n",
       " <selenium.webdriver.remote.webelement.WebElement (session=\"2d7ef4cb3722d8d25ca7237e168c333a\", element=\"5a194c54-abc3-4c5e-a292-41b5b61e9940\")>,\n",
       " <selenium.webdriver.remote.webelement.WebElement (session=\"2d7ef4cb3722d8d25ca7237e168c333a\", element=\"8883eb49-cd0e-4473-a80a-78c382642373\")>,\n",
       " <selenium.webdriver.remote.webelement.WebElement (session=\"2d7ef4cb3722d8d25ca7237e168c333a\", element=\"d7299520-5f79-4afb-9ad2-f1dc6282fb6a\")>,\n",
       " <selenium.webdriver.remote.webelement.WebElement (session=\"2d7ef4cb3722d8d25ca7237e168c333a\", element=\"2edc9bdc-2da5-43a4-8603-792431a8404a\")>,\n",
       " <selenium.webdriver.remote.webelement.WebElement (session=\"2d7ef4cb3722d8d25ca7237e168c333a\", element=\"9e68c503-eda3-42b6-a0da-471b70fd5edb\")>,\n",
       " <selenium.webdriver.remote.webelement.WebElement (session=\"2d7ef4cb3722d8d25ca7237e168c333a\", element=\"88cd4cb1-bfb0-47ca-aae2-5348a919b622\")>,\n",
       " <selenium.webdriver.remote.webelement.WebElement (session=\"2d7ef4cb3722d8d25ca7237e168c333a\", element=\"62f6bc1f-69fc-4a90-88a3-0ea295bb8dd2\")>,\n",
       " <selenium.webdriver.remote.webelement.WebElement (session=\"2d7ef4cb3722d8d25ca7237e168c333a\", element=\"286cc1f0-2b53-4b0e-acf4-e6d3a2da0ec2\")>,\n",
       " <selenium.webdriver.remote.webelement.WebElement (session=\"2d7ef4cb3722d8d25ca7237e168c333a\", element=\"bb16e727-c325-40c3-bec5-43a722e6f57d\")>,\n",
       " <selenium.webdriver.remote.webelement.WebElement (session=\"2d7ef4cb3722d8d25ca7237e168c333a\", element=\"24c5ced0-af72-436a-8bda-2b6817faf846\")>,\n",
       " <selenium.webdriver.remote.webelement.WebElement (session=\"2d7ef4cb3722d8d25ca7237e168c333a\", element=\"4578f985-0a42-4042-bb32-042c85d3c3e8\")>,\n",
       " <selenium.webdriver.remote.webelement.WebElement (session=\"2d7ef4cb3722d8d25ca7237e168c333a\", element=\"12358b8d-e5bd-46e8-bd84-fbdb2bcab071\")>,\n",
       " <selenium.webdriver.remote.webelement.WebElement (session=\"2d7ef4cb3722d8d25ca7237e168c333a\", element=\"8dd422bd-7f13-411a-83c1-2bc2b7ace490\")>,\n",
       " <selenium.webdriver.remote.webelement.WebElement (session=\"2d7ef4cb3722d8d25ca7237e168c333a\", element=\"2ec6aecb-55f4-427f-b411-c1bad29942a2\")>,\n",
       " <selenium.webdriver.remote.webelement.WebElement (session=\"2d7ef4cb3722d8d25ca7237e168c333a\", element=\"0505a02d-8663-4c4d-9b4b-05aabc839216\")>,\n",
       " <selenium.webdriver.remote.webelement.WebElement (session=\"2d7ef4cb3722d8d25ca7237e168c333a\", element=\"8e6c714a-2dbd-41eb-b326-1900ad4e2917\")>,\n",
       " <selenium.webdriver.remote.webelement.WebElement (session=\"2d7ef4cb3722d8d25ca7237e168c333a\", element=\"de4eda5b-7c06-4b85-b608-0bac09baf654\")>,\n",
       " <selenium.webdriver.remote.webelement.WebElement (session=\"2d7ef4cb3722d8d25ca7237e168c333a\", element=\"79660a91-14fa-4f97-b60f-116f4cad556a\")>,\n",
       " <selenium.webdriver.remote.webelement.WebElement (session=\"2d7ef4cb3722d8d25ca7237e168c333a\", element=\"cad07611-2b6f-45db-b056-89b49d34fb72\")>,\n",
       " <selenium.webdriver.remote.webelement.WebElement (session=\"2d7ef4cb3722d8d25ca7237e168c333a\", element=\"f45121b6-250d-4413-b1b3-03ab63890b24\")>,\n",
       " <selenium.webdriver.remote.webelement.WebElement (session=\"2d7ef4cb3722d8d25ca7237e168c333a\", element=\"28637f65-b042-4f56-b038-612538a0793c\")>,\n",
       " <selenium.webdriver.remote.webelement.WebElement (session=\"2d7ef4cb3722d8d25ca7237e168c333a\", element=\"e05a141b-5a71-4975-90ef-46c73f6841ae\")>]"
      ]
     },
     "execution_count": 46,
     "metadata": {},
     "output_type": "execute_result"
    }
   ],
   "source": [
    "brand=driver6.find_elements_by_xpath(\"//div[@class='_2WkVRV']\")\n",
    "brand"
   ]
  },
  {
   "cell_type": "code",
   "execution_count": 47,
   "metadata": {},
   "outputs": [
    {
     "data": {
      "text/plain": [
       "['Elligator',\n",
       " 'Fastrack',\n",
       " 'Fastrack',\n",
       " 'Fastrack',\n",
       " 'kingsunglasses',\n",
       " 'PIRASO',\n",
       " 'PIRASO',\n",
       " 'Fastrack',\n",
       " 'Fastrack',\n",
       " 'ROZZETTA CRAFT',\n",
       " 'kingsunglasses',\n",
       " 'Fastrack',\n",
       " 'PHENOMENAL',\n",
       " 'kingsunglasses',\n",
       " 'kingsunglasses',\n",
       " 'Fastrack',\n",
       " 'kingsunglasses',\n",
       " 'Silver Kartz',\n",
       " 'Fastrack',\n",
       " 'Singco India',\n",
       " 'hipe',\n",
       " 'Singco India',\n",
       " 'Elligator',\n",
       " 'Elligator',\n",
       " 'NuVew',\n",
       " 'Elligator',\n",
       " 'Fastrack',\n",
       " 'Fravy',\n",
       " 'Fastrack',\n",
       " 'Singco',\n",
       " 'ROZZETTA CRAFT',\n",
       " 'Fastrack',\n",
       " 'HIPPON',\n",
       " 'ROYAL SON',\n",
       " 'GANSTA',\n",
       " 'Fastrack',\n",
       " 'PHENOMENAL',\n",
       " 'kingsunglasses',\n",
       " 'ROZZETTA CRAFT',\n",
       " 'SRPM']"
      ]
     },
     "execution_count": 47,
     "metadata": {},
     "output_type": "execute_result"
    }
   ],
   "source": [
    "brand_titles=[]\n",
    "for i in brand:\n",
    "    brand_titles.append(i.text)\n",
    "brand_titles"
   ]
  },
  {
   "cell_type": "code",
   "execution_count": 49,
   "metadata": {},
   "outputs": [
    {
     "data": {
      "text/plain": [
       "['UV Protection Round Sunglasses (54)',\n",
       " 'UV Protection Rectangular Sunglasses (Free Size)',\n",
       " 'UV Protection Wayfarer Sunglasses (Free Size)',\n",
       " 'Gradient, UV Protection Wayfarer Sunglasses (Free Size)',\n",
       " 'Mirrored, UV Protection Wayfarer Sunglasses (Free Size)',\n",
       " 'UV Protection Aviator Sunglasses (54)',\n",
       " 'UV Protection Aviator Sunglasses (54)',\n",
       " 'UV Protection Wayfarer Sunglasses (56)',\n",
       " 'UV Protection Wayfarer Sunglasses (Free Size)',\n",
       " 'UV Protection Retro Square Sunglasses (Free Size)',\n",
       " 'UV Protection Rectangular Sunglasses (Free Size)',\n",
       " 'UV Protection Aviator Sunglasses (58)',\n",
       " 'UV Protection Retro Square Sunglasses (Free Size)',\n",
       " 'Mirrored, UV Protection Wayfarer Sunglasses (Free Size)',\n",
       " 'UV Protection Round Sunglasses (54)',\n",
       " 'UV Protection Aviator Sunglasses (58)',\n",
       " 'UV Protection Rectangular Sunglasses (55)',\n",
       " 'UV Protection Wayfarer Sunglasses (Free Size)',\n",
       " 'UV Protection Wayfarer Sunglasses (Free Size)',\n",
       " 'UV Protection Aviator Sunglasses (Free Size)',\n",
       " 'Mirrored, UV Protection, Gradient Round Sunglasses (55)',\n",
       " 'UV Protection, Riding Glasses, Others Aviator, Wayfarer...',\n",
       " 'UV Protection Round Sunglasses (54)',\n",
       " 'UV Protection Aviator Sunglasses (55)',\n",
       " 'UV Protection Aviator Sunglasses (58)',\n",
       " 'Mirrored Round Sunglasses (53)',\n",
       " 'Mirrored, UV Protection Wayfarer Sunglasses (Free Size)',\n",
       " 'UV Protection Wayfarer Sunglasses (56)',\n",
       " 'UV Protection Aviator Sunglasses (Free Size)',\n",
       " 'Mirrored Aviator Sunglasses (53)',\n",
       " 'UV Protection, Gradient Rectangular Sunglasses (Free Si...',\n",
       " 'UV Protection Aviator Sunglasses (Free Size)',\n",
       " 'UV Protection Wayfarer Sunglasses (55)',\n",
       " 'Mirrored Aviator Sunglasses (55)',\n",
       " 'UV Protection Aviator Sunglasses (57)',\n",
       " 'UV Protection Shield Sunglasses (Free Size)',\n",
       " 'UV Protection, Mirrored Retro Square Sunglasses (53)',\n",
       " 'UV Protection, Others Round, Aviator Sunglasses (54)',\n",
       " 'UV Protection, Riding Glasses Rectangular Sunglasses (F...',\n",
       " 'UV Protection Wayfarer Sunglasses (53)']"
      ]
     },
     "execution_count": 49,
     "metadata": {},
     "output_type": "execute_result"
    }
   ],
   "source": [
    "description=driver6.find_elements_by_xpath(\"//a[@class='IRpwTa']\")\n",
    "product_desc=[]\n",
    "for i in description:\n",
    "    product_desc.append(i.text)\n",
    "product_desc"
   ]
  },
  {
   "cell_type": "code",
   "execution_count": 50,
   "metadata": {},
   "outputs": [
    {
     "data": {
      "text/plain": [
       "['₹295',\n",
       " '₹599',\n",
       " '₹699',\n",
       " '₹499',\n",
       " '₹299',\n",
       " '₹225',\n",
       " '₹225',\n",
       " '₹599',\n",
       " '₹599',\n",
       " '₹499',\n",
       " '₹210',\n",
       " '₹969',\n",
       " '₹379',\n",
       " '₹299',\n",
       " '₹225',\n",
       " '₹949',\n",
       " '₹331',\n",
       " '₹246',\n",
       " '₹629',\n",
       " '₹334',\n",
       " '₹210',\n",
       " '₹214',\n",
       " '₹331',\n",
       " '₹328',\n",
       " '₹204',\n",
       " '₹312',\n",
       " '₹709',\n",
       " '₹169',\n",
       " '₹1,479',\n",
       " '₹239',\n",
       " '₹404',\n",
       " '₹539',\n",
       " '₹257',\n",
       " '₹379',\n",
       " '₹284',\n",
       " '₹609',\n",
       " '₹379',\n",
       " '₹225',\n",
       " '₹426',\n",
       " '₹246']"
      ]
     },
     "execution_count": 50,
     "metadata": {},
     "output_type": "execute_result"
    }
   ],
   "source": [
    "price=driver6.find_elements_by_xpath(\"//div[@class='_30jeq3']\")\n",
    "product_price=[]\n",
    "for i in price:\n",
    "    product_price.append(i.text)\n",
    "product_price"
   ]
  },
  {
   "cell_type": "code",
   "execution_count": 54,
   "metadata": {},
   "outputs": [
    {
     "data": {
      "text/plain": [
       "['88% off',\n",
       " '25% off',\n",
       " '22% off',\n",
       " '37% off',\n",
       " '88% off',\n",
       " '85% off',\n",
       " '85% off',\n",
       " '33% off',\n",
       " '33% off',\n",
       " '77% off',\n",
       " '82% off',\n",
       " '25% off',\n",
       " '81% off',\n",
       " '88% off',\n",
       " '79% off',\n",
       " '26% off',\n",
       " '77% off',\n",
       " '83% off',\n",
       " '30% off',\n",
       " '72% off',\n",
       " '85% off',\n",
       " '69% off',\n",
       " '74% off',\n",
       " '86% off',\n",
       " '74% off',\n",
       " '87% off',\n",
       " '29% off',\n",
       " '81% off',\n",
       " '26% off',\n",
       " '76% off',\n",
       " '79% off',\n",
       " '32% off',\n",
       " '78% off',\n",
       " '74% off',\n",
       " '85% off',\n",
       " '32% off',\n",
       " '81% off',\n",
       " '77% off',\n",
       " '80% off',\n",
       " '75% off']"
      ]
     },
     "execution_count": 54,
     "metadata": {},
     "output_type": "execute_result"
    }
   ],
   "source": [
    "discount=driver6.find_elements_by_xpath(\"//div[@class='_3Ay6Sb']\")\n",
    "product_discount=[]\n",
    "for i in discount:\n",
    "    product_discount.append(i.text)\n",
    "product_discount"
   ]
  },
  {
   "cell_type": "code",
   "execution_count": 57,
   "metadata": {},
   "outputs": [],
   "source": [
    "next_btn=driver6.find_element_by_xpath(\"//a[@class='_1LKTO3']\")\n",
    "next_btn.click()"
   ]
  },
  {
   "cell_type": "code",
   "execution_count": 58,
   "metadata": {},
   "outputs": [
    {
     "data": {
      "text/plain": [
       "['PHENOMENAL',\n",
       " 'ROYAL SON',\n",
       " 'Fastrack',\n",
       " 'SRPM',\n",
       " 'kingsunglasses',\n",
       " 'Elligator',\n",
       " 'PIRASO',\n",
       " 'kingsunglasses',\n",
       " 'ROYAL SON',\n",
       " 'Fastrack',\n",
       " 'Fastrack',\n",
       " 'NuVew',\n",
       " 'Singco India',\n",
       " 'ROZZETTA CRAFT',\n",
       " 'GANSTA',\n",
       " 'PHENOMENAL',\n",
       " 'Fravy',\n",
       " 'Fastrack',\n",
       " 'Fastrack',\n",
       " 'PIRASO',\n",
       " 'DEIXELS',\n",
       " 'ROZZETTA CRAFT',\n",
       " 'Villain',\n",
       " 'hipe',\n",
       " 'Fastrack',\n",
       " 'Fastrack',\n",
       " 'SUNBEE',\n",
       " 'Fastrack',\n",
       " 'AISLIN',\n",
       " 'GANSTA',\n",
       " 'Fastrack',\n",
       " 'NuVew',\n",
       " 'Singco India',\n",
       " 'kingsunglasses',\n",
       " 'elegante',\n",
       " 'Badfella',\n",
       " 'Fastrack',\n",
       " 'GANSTA',\n",
       " 'Elligator',\n",
       " 'PIRASO']"
      ]
     },
     "execution_count": 58,
     "metadata": {},
     "output_type": "execute_result"
    }
   ],
   "source": [
    "brand1=driver6.find_elements_by_xpath(\"//div[@class='_2WkVRV']\")\n",
    "brand_titles1=[]\n",
    "for i in brand1:\n",
    "    brand_titles1.append(i.text)\n",
    "brand_titles1"
   ]
  },
  {
   "cell_type": "code",
   "execution_count": 59,
   "metadata": {},
   "outputs": [
    {
     "data": {
      "text/plain": [
       "['UV Protection, Mirrored Retro Square Sunglasses (53)',\n",
       " 'UV Protection, Gradient Wayfarer Sunglasses (55)',\n",
       " 'Gradient, UV Protection Wayfarer Sunglasses (Free Size)',\n",
       " 'UV Protection Wayfarer Sunglasses (53)',\n",
       " 'UV Protection, Riding Glasses, Mirrored Wayfarer Sungla...',\n",
       " 'UV Protection, Riding Glasses Rectangular, Retro Square...',\n",
       " 'UV Protection Wayfarer Sunglasses (32)',\n",
       " 'UV Protection, Mirrored Round Sunglasses (54)',\n",
       " 'UV Protection Rectangular Sunglasses (58)',\n",
       " 'UV Protection Wayfarer Sunglasses (Free Size)',\n",
       " 'UV Protection Rectangular Sunglasses (59)',\n",
       " 'UV Protection, Riding Glasses Wayfarer Sunglasses (56)',\n",
       " 'Mirrored, UV Protection, Riding Glasses, Others Wrap-ar...',\n",
       " 'UV Protection, Gradient Rectangular Sunglasses (Free Si...',\n",
       " 'UV Protection, Night Vision, Riding Glasses Aviator Sun...',\n",
       " 'UV Protection, Mirrored Retro Square Sunglasses (Free S...',\n",
       " 'UV Protection Retro Square Sunglasses (Free Size)',\n",
       " 'UV Protection Wrap-around Sunglasses (Free Size)',\n",
       " 'UV Protection Shield Sunglasses (Free Size)',\n",
       " 'UV Protection Aviator Sunglasses (Free Size)',\n",
       " 'UV Protection Aviator, Wayfarer Sunglasses (Free Size)',\n",
       " 'UV Protection, Gradient Round Sunglasses (Free Size)',\n",
       " 'Others Retro Square Sunglasses (Free Size)',\n",
       " 'UV Protection Sports Sunglasses (Free Size)',\n",
       " 'Gradient, UV Protection Wayfarer Sunglasses (Free Size)',\n",
       " 'UV Protection Wayfarer Sunglasses (Free Size)',\n",
       " 'UV Protection, Polarized, Mirrored Round Sunglasses (Fr...',\n",
       " 'UV Protection Wayfarer Sunglasses (56)',\n",
       " 'UV Protection, Gradient Butterfly, Retro Square Sunglas...',\n",
       " 'UV Protection, Mirrored Wayfarer Sunglasses (53)',\n",
       " 'Gradient, UV Protection Wayfarer Sunglasses (Free Size)',\n",
       " 'UV Protection, Mirrored, Night Vision, Riding Glasses S...',\n",
       " 'Mirrored, Riding Glasses, Others Sports Sunglasses (50)',\n",
       " 'UV Protection Round Sunglasses (Free Size)',\n",
       " 'UV Protection Round Sunglasses (Free Size)',\n",
       " 'Polarized, UV Protection Retro Square Sunglasses (53)',\n",
       " 'UV Protection Wayfarer Sunglasses (Free Size)',\n",
       " 'Night Vision, Riding Glasses Wayfarer Sunglasses (53)',\n",
       " 'UV Protection Round Sunglasses (53)',\n",
       " 'UV Protection Aviator Sunglasses (54)']"
      ]
     },
     "execution_count": 59,
     "metadata": {},
     "output_type": "execute_result"
    }
   ],
   "source": [
    "description1=driver6.find_elements_by_xpath(\"//a[@class='IRpwTa']\")\n",
    "product_desc1=[]\n",
    "for i in description1:\n",
    "    product_desc1.append(i.text)\n",
    "product_desc1"
   ]
  },
  {
   "cell_type": "code",
   "execution_count": 60,
   "metadata": {},
   "outputs": [
    {
     "data": {
      "text/plain": [
       "['₹379',\n",
       " '₹203',\n",
       " '₹529',\n",
       " '₹246',\n",
       " '₹229',\n",
       " '₹398',\n",
       " '₹225',\n",
       " '₹249',\n",
       " '₹474',\n",
       " '₹559',\n",
       " '₹969',\n",
       " '₹232',\n",
       " '₹331',\n",
       " '₹474',\n",
       " '₹295',\n",
       " '₹379',\n",
       " '₹269',\n",
       " '₹669',\n",
       " '₹609',\n",
       " '₹314',\n",
       " '₹202',\n",
       " '₹449',\n",
       " '₹599',\n",
       " '₹319',\n",
       " '₹599',\n",
       " '₹669',\n",
       " '₹331',\n",
       " '₹579',\n",
       " '₹516',\n",
       " '₹211',\n",
       " '₹599',\n",
       " '₹309',\n",
       " '₹239',\n",
       " '₹331',\n",
       " '₹189',\n",
       " '₹255',\n",
       " '₹599',\n",
       " '₹209',\n",
       " '₹295',\n",
       " '₹225']"
      ]
     },
     "execution_count": 60,
     "metadata": {},
     "output_type": "execute_result"
    }
   ],
   "source": [
    "price1=driver6.find_elements_by_xpath(\"//div[@class='_30jeq3']\")\n",
    "product_price1=[]\n",
    "for i in price1:\n",
    "    product_price1.append(i.text)\n",
    "product_price1"
   ]
  },
  {
   "cell_type": "code",
   "execution_count": 61,
   "metadata": {},
   "outputs": [
    {
     "data": {
      "text/plain": [
       "['81% off',\n",
       " '79% off',\n",
       " '33% off',\n",
       " '75% off',\n",
       " '80% off',\n",
       " '73% off',\n",
       " '85% off',\n",
       " '79% off',\n",
       " '68% off',\n",
       " '30% off',\n",
       " '25% off',\n",
       " '76% off',\n",
       " '83% off',\n",
       " '78% off',\n",
       " '85% off',\n",
       " '81% off',\n",
       " '82% off',\n",
       " '25% off',\n",
       " '32% off',\n",
       " '80% off',\n",
       " '83% off',\n",
       " '77% off',\n",
       " '20% off',\n",
       " '83% off',\n",
       " '25% off',\n",
       " '25% off',\n",
       " '80% off',\n",
       " '35% off',\n",
       " '66% off',\n",
       " '78% off',\n",
       " '25% off',\n",
       " '66% off',\n",
       " '84% off',\n",
       " '79% off',\n",
       " '81% off',\n",
       " '74% off',\n",
       " '25% off',\n",
       " '88% off',\n",
       " '88% off',\n",
       " '85% off']"
      ]
     },
     "execution_count": 61,
     "metadata": {},
     "output_type": "execute_result"
    }
   ],
   "source": [
    "discount1=driver6.find_elements_by_xpath(\"//div[@class='_3Ay6Sb']\")\n",
    "product_discount1=[]\n",
    "for i in discount1:\n",
    "    product_discount1.append(i.text)\n",
    "product_discount1"
   ]
  },
  {
   "cell_type": "code",
   "execution_count": 62,
   "metadata": {},
   "outputs": [],
   "source": [
    "next_btn1=driver6.find_element_by_xpath(\"//a[@class='_1LKTO3']\")\n",
    "next_btn1.click()"
   ]
  },
  {
   "cell_type": "code",
   "execution_count": 63,
   "metadata": {},
   "outputs": [
    {
     "data": {
      "text/plain": [
       "['Elligator',\n",
       " 'Fastrack',\n",
       " 'Fastrack',\n",
       " 'Fastrack',\n",
       " 'kingsunglasses',\n",
       " 'PIRASO',\n",
       " 'PIRASO',\n",
       " 'Fastrack',\n",
       " 'Fastrack',\n",
       " 'ROZZETTA CRAFT',\n",
       " 'kingsunglasses',\n",
       " 'kingsunglasses',\n",
       " 'Fastrack',\n",
       " 'PHENOMENAL',\n",
       " 'Fastrack',\n",
       " 'kingsunglasses',\n",
       " 'Silver Kartz',\n",
       " 'kingsunglasses',\n",
       " 'Fastrack',\n",
       " 'Singco India']"
      ]
     },
     "execution_count": 63,
     "metadata": {},
     "output_type": "execute_result"
    }
   ],
   "source": [
    "brand2=driver6.find_elements_by_xpath(\"//div[@class='_2WkVRV']\")\n",
    "brand_titles2=[]\n",
    "for i in brand2[0:20]:\n",
    "    brand_titles2.append(i.text)\n",
    "brand_titles2"
   ]
  },
  {
   "cell_type": "code",
   "execution_count": 64,
   "metadata": {},
   "outputs": [
    {
     "data": {
      "text/plain": [
       "['UV Protection Round Sunglasses (54)',\n",
       " 'UV Protection Rectangular Sunglasses (Free Size)',\n",
       " 'UV Protection Wayfarer Sunglasses (Free Size)',\n",
       " 'Gradient, UV Protection Wayfarer Sunglasses (Free Size)',\n",
       " 'Mirrored, UV Protection Wayfarer Sunglasses (Free Size)',\n",
       " 'UV Protection Aviator Sunglasses (54)',\n",
       " 'UV Protection Aviator Sunglasses (54)',\n",
       " 'UV Protection Wayfarer Sunglasses (56)',\n",
       " 'UV Protection Wayfarer Sunglasses (Free Size)',\n",
       " 'UV Protection Retro Square Sunglasses (Free Size)',\n",
       " 'UV Protection Rectangular Sunglasses (Free Size)',\n",
       " 'Mirrored, UV Protection Wayfarer Sunglasses (Free Size)',\n",
       " 'UV Protection Aviator Sunglasses (58)',\n",
       " 'UV Protection Retro Square Sunglasses (Free Size)',\n",
       " 'UV Protection Aviator Sunglasses (58)',\n",
       " 'UV Protection Round Sunglasses (54)',\n",
       " 'UV Protection Wayfarer Sunglasses (Free Size)',\n",
       " 'UV Protection Rectangular Sunglasses (55)',\n",
       " 'UV Protection Wayfarer Sunglasses (Free Size)',\n",
       " 'UV Protection Aviator Sunglasses (Free Size)']"
      ]
     },
     "execution_count": 64,
     "metadata": {},
     "output_type": "execute_result"
    }
   ],
   "source": [
    "description2=driver6.find_elements_by_xpath(\"//a[@class='IRpwTa']\")\n",
    "product_desc2=[]\n",
    "for i in description2[0:20]:\n",
    "    product_desc2.append(i.text)\n",
    "product_desc2"
   ]
  },
  {
   "cell_type": "code",
   "execution_count": 65,
   "metadata": {},
   "outputs": [
    {
     "data": {
      "text/plain": [
       "['₹295',\n",
       " '₹599',\n",
       " '₹699',\n",
       " '₹499',\n",
       " '₹299',\n",
       " '₹225',\n",
       " '₹225',\n",
       " '₹599',\n",
       " '₹599',\n",
       " '₹499',\n",
       " '₹210',\n",
       " '₹299',\n",
       " '₹969',\n",
       " '₹379',\n",
       " '₹949',\n",
       " '₹225',\n",
       " '₹246',\n",
       " '₹331',\n",
       " '₹629',\n",
       " '₹334']"
      ]
     },
     "execution_count": 65,
     "metadata": {},
     "output_type": "execute_result"
    }
   ],
   "source": [
    "price2=driver6.find_elements_by_xpath(\"//div[@class='_30jeq3']\")\n",
    "product_price2=[]\n",
    "for i in price2[0:20]:\n",
    "    product_price2.append(i.text)\n",
    "product_price2"
   ]
  },
  {
   "cell_type": "code",
   "execution_count": 66,
   "metadata": {},
   "outputs": [
    {
     "data": {
      "text/plain": [
       "['88% off',\n",
       " '25% off',\n",
       " '22% off',\n",
       " '37% off',\n",
       " '88% off',\n",
       " '85% off',\n",
       " '85% off',\n",
       " '33% off',\n",
       " '33% off',\n",
       " '77% off',\n",
       " '82% off',\n",
       " '88% off',\n",
       " '25% off',\n",
       " '81% off',\n",
       " '26% off',\n",
       " '79% off',\n",
       " '83% off',\n",
       " '77% off',\n",
       " '30% off',\n",
       " '72% off']"
      ]
     },
     "execution_count": 66,
     "metadata": {},
     "output_type": "execute_result"
    }
   ],
   "source": [
    "discount2=driver6.find_elements_by_xpath(\"//div[@class='_3Ay6Sb']\")\n",
    "product_discount2=[]\n",
    "for i in discount2[0:20]:\n",
    "    product_discount2.append(i.text)\n",
    "product_discount2"
   ]
  },
  {
   "cell_type": "code",
   "execution_count": 68,
   "metadata": {},
   "outputs": [],
   "source": [
    "sunglasses=pd.DataFrame({})\n",
    "sunglasses['Brand']=brand_titles+brand_titles1+brand_titles2\n",
    "sunglasses['Product_Description']=product_desc+product_desc1+product_desc2\n",
    "sunglasses['Price']=product_price+product_price1+product_price2\n",
    "sunglasses['Discount']=product_discount+product_discount1+product_discount2"
   ]
  },
  {
   "cell_type": "code",
   "execution_count": 69,
   "metadata": {},
   "outputs": [
    {
     "data": {
      "text/html": [
       "<div>\n",
       "<style scoped>\n",
       "    .dataframe tbody tr th:only-of-type {\n",
       "        vertical-align: middle;\n",
       "    }\n",
       "\n",
       "    .dataframe tbody tr th {\n",
       "        vertical-align: top;\n",
       "    }\n",
       "\n",
       "    .dataframe thead th {\n",
       "        text-align: right;\n",
       "    }\n",
       "</style>\n",
       "<table border=\"1\" class=\"dataframe\">\n",
       "  <thead>\n",
       "    <tr style=\"text-align: right;\">\n",
       "      <th></th>\n",
       "      <th>Brand</th>\n",
       "      <th>Product_Description</th>\n",
       "      <th>Price</th>\n",
       "      <th>Discount</th>\n",
       "    </tr>\n",
       "  </thead>\n",
       "  <tbody>\n",
       "    <tr>\n",
       "      <th>0</th>\n",
       "      <td>Elligator</td>\n",
       "      <td>UV Protection Round Sunglasses (54)</td>\n",
       "      <td>₹295</td>\n",
       "      <td>88% off</td>\n",
       "    </tr>\n",
       "    <tr>\n",
       "      <th>1</th>\n",
       "      <td>Fastrack</td>\n",
       "      <td>UV Protection Rectangular Sunglasses (Free Size)</td>\n",
       "      <td>₹599</td>\n",
       "      <td>25% off</td>\n",
       "    </tr>\n",
       "    <tr>\n",
       "      <th>2</th>\n",
       "      <td>Fastrack</td>\n",
       "      <td>UV Protection Wayfarer Sunglasses (Free Size)</td>\n",
       "      <td>₹699</td>\n",
       "      <td>22% off</td>\n",
       "    </tr>\n",
       "    <tr>\n",
       "      <th>3</th>\n",
       "      <td>Fastrack</td>\n",
       "      <td>Gradient, UV Protection Wayfarer Sunglasses (F...</td>\n",
       "      <td>₹499</td>\n",
       "      <td>37% off</td>\n",
       "    </tr>\n",
       "    <tr>\n",
       "      <th>4</th>\n",
       "      <td>kingsunglasses</td>\n",
       "      <td>Mirrored, UV Protection Wayfarer Sunglasses (F...</td>\n",
       "      <td>₹299</td>\n",
       "      <td>88% off</td>\n",
       "    </tr>\n",
       "    <tr>\n",
       "      <th>...</th>\n",
       "      <td>...</td>\n",
       "      <td>...</td>\n",
       "      <td>...</td>\n",
       "      <td>...</td>\n",
       "    </tr>\n",
       "    <tr>\n",
       "      <th>95</th>\n",
       "      <td>kingsunglasses</td>\n",
       "      <td>UV Protection Round Sunglasses (54)</td>\n",
       "      <td>₹225</td>\n",
       "      <td>79% off</td>\n",
       "    </tr>\n",
       "    <tr>\n",
       "      <th>96</th>\n",
       "      <td>Silver Kartz</td>\n",
       "      <td>UV Protection Wayfarer Sunglasses (Free Size)</td>\n",
       "      <td>₹246</td>\n",
       "      <td>83% off</td>\n",
       "    </tr>\n",
       "    <tr>\n",
       "      <th>97</th>\n",
       "      <td>kingsunglasses</td>\n",
       "      <td>UV Protection Rectangular Sunglasses (55)</td>\n",
       "      <td>₹331</td>\n",
       "      <td>77% off</td>\n",
       "    </tr>\n",
       "    <tr>\n",
       "      <th>98</th>\n",
       "      <td>Fastrack</td>\n",
       "      <td>UV Protection Wayfarer Sunglasses (Free Size)</td>\n",
       "      <td>₹629</td>\n",
       "      <td>30% off</td>\n",
       "    </tr>\n",
       "    <tr>\n",
       "      <th>99</th>\n",
       "      <td>Singco India</td>\n",
       "      <td>UV Protection Aviator Sunglasses (Free Size)</td>\n",
       "      <td>₹334</td>\n",
       "      <td>72% off</td>\n",
       "    </tr>\n",
       "  </tbody>\n",
       "</table>\n",
       "<p>100 rows × 4 columns</p>\n",
       "</div>"
      ],
      "text/plain": [
       "             Brand                                Product_Description Price  \\\n",
       "0        Elligator                UV Protection Round Sunglasses (54)  ₹295   \n",
       "1         Fastrack   UV Protection Rectangular Sunglasses (Free Size)  ₹599   \n",
       "2         Fastrack      UV Protection Wayfarer Sunglasses (Free Size)  ₹699   \n",
       "3         Fastrack  Gradient, UV Protection Wayfarer Sunglasses (F...  ₹499   \n",
       "4   kingsunglasses  Mirrored, UV Protection Wayfarer Sunglasses (F...  ₹299   \n",
       "..             ...                                                ...   ...   \n",
       "95  kingsunglasses                UV Protection Round Sunglasses (54)  ₹225   \n",
       "96    Silver Kartz      UV Protection Wayfarer Sunglasses (Free Size)  ₹246   \n",
       "97  kingsunglasses          UV Protection Rectangular Sunglasses (55)  ₹331   \n",
       "98        Fastrack      UV Protection Wayfarer Sunglasses (Free Size)  ₹629   \n",
       "99    Singco India       UV Protection Aviator Sunglasses (Free Size)  ₹334   \n",
       "\n",
       "   Discount  \n",
       "0   88% off  \n",
       "1   25% off  \n",
       "2   22% off  \n",
       "3   37% off  \n",
       "4   88% off  \n",
       "..      ...  \n",
       "95  79% off  \n",
       "96  83% off  \n",
       "97  77% off  \n",
       "98  30% off  \n",
       "99  72% off  \n",
       "\n",
       "[100 rows x 4 columns]"
      ]
     },
     "execution_count": 69,
     "metadata": {},
     "output_type": "execute_result"
    }
   ],
   "source": [
    "sunglasses"
   ]
  },
  {
   "cell_type": "markdown",
   "metadata": {},
   "source": [
    "# Q7"
   ]
  },
  {
   "cell_type": "code",
   "execution_count": 2,
   "metadata": {},
   "outputs": [],
   "source": [
    "driver7=webdriver.Chrome(r'C:\\Users\\delkl\\Downloads\\chromedriver.exe')"
   ]
  },
  {
   "cell_type": "code",
   "execution_count": 3,
   "metadata": {},
   "outputs": [],
   "source": [
    "url7='https://www.flipkart.com/apple-iphone-11-black-64-gb-includes-earpods-power-adapter/product-reviews/itm0f37c2240b217?pid=MOBFKCTSVZAXUHGR&lid=LSTMOBFKCTSVZAXUHGREPBFGI&marketplace=FLIPKART'\n",
    "driver7.get(url7)"
   ]
  },
  {
   "cell_type": "code",
   "execution_count": 4,
   "metadata": {},
   "outputs": [
    {
     "data": {
      "text/plain": [
       "[<selenium.webdriver.remote.webelement.WebElement (session=\"c7405af3da56a72b6eba58d6e171caf9\", element=\"f159bb3f-3630-45a3-87a6-b7fc1b56aa1e\")>,\n",
       " <selenium.webdriver.remote.webelement.WebElement (session=\"c7405af3da56a72b6eba58d6e171caf9\", element=\"079aefd8-1335-4981-8b94-282f7c3f9913\")>,\n",
       " <selenium.webdriver.remote.webelement.WebElement (session=\"c7405af3da56a72b6eba58d6e171caf9\", element=\"8988ae37-e96d-4f0f-a2e7-e237ed5df5d1\")>,\n",
       " <selenium.webdriver.remote.webelement.WebElement (session=\"c7405af3da56a72b6eba58d6e171caf9\", element=\"5e6de065-b85a-4540-9ff0-f51441521a96\")>,\n",
       " <selenium.webdriver.remote.webelement.WebElement (session=\"c7405af3da56a72b6eba58d6e171caf9\", element=\"3122d994-1456-4182-9d35-d2b96ca7337d\")>,\n",
       " <selenium.webdriver.remote.webelement.WebElement (session=\"c7405af3da56a72b6eba58d6e171caf9\", element=\"2ebc6b82-f318-4354-8c0f-849f00ce9439\")>,\n",
       " <selenium.webdriver.remote.webelement.WebElement (session=\"c7405af3da56a72b6eba58d6e171caf9\", element=\"0c2b25f0-8f87-45b2-9f45-0725fe34af27\")>,\n",
       " <selenium.webdriver.remote.webelement.WebElement (session=\"c7405af3da56a72b6eba58d6e171caf9\", element=\"d69143bf-632b-4ad4-9c5e-914d897840cc\")>,\n",
       " <selenium.webdriver.remote.webelement.WebElement (session=\"c7405af3da56a72b6eba58d6e171caf9\", element=\"85d55511-0ec0-4883-a78d-dbfe5ab7728e\")>,\n",
       " <selenium.webdriver.remote.webelement.WebElement (session=\"c7405af3da56a72b6eba58d6e171caf9\", element=\"44999d4e-576d-46bb-ae97-f5d7e891dfb2\")>,\n",
       " <selenium.webdriver.remote.webelement.WebElement (session=\"c7405af3da56a72b6eba58d6e171caf9\", element=\"27d5897c-6228-4736-b1b0-2fbbae44dbdd\")>]"
      ]
     },
     "execution_count": 4,
     "metadata": {},
     "output_type": "execute_result"
    }
   ],
   "source": [
    "url77=driver7.find_elements_by_xpath(\"//nav[@class='yFHi8N']//a\")\n",
    "url77"
   ]
  },
  {
   "cell_type": "code",
   "execution_count": 5,
   "metadata": {},
   "outputs": [
    {
     "data": {
      "text/plain": [
       "['https://www.flipkart.com/apple-iphone-11-black-64-gb-includes-earpods-power-adapter/product-reviews/itm0f37c2240b217?pid=MOBFKCTSVZAXUHGR&lid=LSTMOBFKCTSVZAXUHGREPBFGI&marketplace=FLIPKART&page=1',\n",
       " 'https://www.flipkart.com/apple-iphone-11-black-64-gb-includes-earpods-power-adapter/product-reviews/itm0f37c2240b217?pid=MOBFKCTSVZAXUHGR&lid=LSTMOBFKCTSVZAXUHGREPBFGI&marketplace=FLIPKART&page=2',\n",
       " 'https://www.flipkart.com/apple-iphone-11-black-64-gb-includes-earpods-power-adapter/product-reviews/itm0f37c2240b217?pid=MOBFKCTSVZAXUHGR&lid=LSTMOBFKCTSVZAXUHGREPBFGI&marketplace=FLIPKART&page=3',\n",
       " 'https://www.flipkart.com/apple-iphone-11-black-64-gb-includes-earpods-power-adapter/product-reviews/itm0f37c2240b217?pid=MOBFKCTSVZAXUHGR&lid=LSTMOBFKCTSVZAXUHGREPBFGI&marketplace=FLIPKART&page=4',\n",
       " 'https://www.flipkart.com/apple-iphone-11-black-64-gb-includes-earpods-power-adapter/product-reviews/itm0f37c2240b217?pid=MOBFKCTSVZAXUHGR&lid=LSTMOBFKCTSVZAXUHGREPBFGI&marketplace=FLIPKART&page=5',\n",
       " 'https://www.flipkart.com/apple-iphone-11-black-64-gb-includes-earpods-power-adapter/product-reviews/itm0f37c2240b217?pid=MOBFKCTSVZAXUHGR&lid=LSTMOBFKCTSVZAXUHGREPBFGI&marketplace=FLIPKART&page=6',\n",
       " 'https://www.flipkart.com/apple-iphone-11-black-64-gb-includes-earpods-power-adapter/product-reviews/itm0f37c2240b217?pid=MOBFKCTSVZAXUHGR&lid=LSTMOBFKCTSVZAXUHGREPBFGI&marketplace=FLIPKART&page=7',\n",
       " 'https://www.flipkart.com/apple-iphone-11-black-64-gb-includes-earpods-power-adapter/product-reviews/itm0f37c2240b217?pid=MOBFKCTSVZAXUHGR&lid=LSTMOBFKCTSVZAXUHGREPBFGI&marketplace=FLIPKART&page=8',\n",
       " 'https://www.flipkart.com/apple-iphone-11-black-64-gb-includes-earpods-power-adapter/product-reviews/itm0f37c2240b217?pid=MOBFKCTSVZAXUHGR&lid=LSTMOBFKCTSVZAXUHGREPBFGI&marketplace=FLIPKART&page=9',\n",
       " 'https://www.flipkart.com/apple-iphone-11-black-64-gb-includes-earpods-power-adapter/product-reviews/itm0f37c2240b217?pid=MOBFKCTSVZAXUHGR&lid=LSTMOBFKCTSVZAXUHGREPBFGI&marketplace=FLIPKART&page=10',\n",
       " 'https://www.flipkart.com/apple-iphone-11-black-64-gb-includes-earpods-power-adapter/product-reviews/itm0f37c2240b217?pid=MOBFKCTSVZAXUHGR&lid=LSTMOBFKCTSVZAXUHGREPBFGI&marketplace=FLIPKART&page=2']"
      ]
     },
     "execution_count": 5,
     "metadata": {},
     "output_type": "execute_result"
    }
   ],
   "source": [
    "page_url=[]\n",
    "for i in url77:\n",
    "    page_url.append(i.get_attribute('href'))\n",
    "page_url"
   ]
  },
  {
   "cell_type": "code",
   "execution_count": 30,
   "metadata": {},
   "outputs": [
    {
     "data": {
      "text/plain": [
       "['5',\n",
       " '5',\n",
       " '5',\n",
       " '5',\n",
       " '5',\n",
       " '5',\n",
       " '4',\n",
       " '5',\n",
       " '5',\n",
       " '5',\n",
       " '5',\n",
       " '5',\n",
       " '5',\n",
       " '5',\n",
       " '5',\n",
       " '5',\n",
       " '5',\n",
       " '5',\n",
       " '5',\n",
       " '5',\n",
       " '4',\n",
       " '5',\n",
       " '5',\n",
       " '5',\n",
       " '5',\n",
       " '4',\n",
       " '5',\n",
       " '5',\n",
       " '5',\n",
       " '5',\n",
       " '5',\n",
       " '5',\n",
       " '5',\n",
       " '5',\n",
       " '5',\n",
       " '4',\n",
       " '5',\n",
       " '5',\n",
       " '5',\n",
       " '5',\n",
       " '5',\n",
       " '5',\n",
       " '5',\n",
       " '5',\n",
       " '4',\n",
       " '5',\n",
       " '5',\n",
       " '5',\n",
       " '5',\n",
       " '5',\n",
       " '5',\n",
       " '5',\n",
       " '5',\n",
       " '5',\n",
       " '5',\n",
       " '5',\n",
       " '5',\n",
       " '5',\n",
       " '5',\n",
       " '5',\n",
       " '5',\n",
       " '5',\n",
       " '4',\n",
       " '5',\n",
       " '5',\n",
       " '4',\n",
       " '5',\n",
       " '5',\n",
       " '4',\n",
       " '5',\n",
       " '5',\n",
       " '5',\n",
       " '5',\n",
       " '5',\n",
       " '5',\n",
       " '5',\n",
       " '5',\n",
       " '5',\n",
       " '5',\n",
       " '4',\n",
       " '4',\n",
       " '5',\n",
       " '3',\n",
       " '5',\n",
       " '5',\n",
       " '5',\n",
       " '5',\n",
       " '5',\n",
       " '5',\n",
       " '5',\n",
       " '5',\n",
       " '5',\n",
       " '3',\n",
       " '5',\n",
       " '5',\n",
       " '5',\n",
       " '5',\n",
       " '5']"
      ]
     },
     "execution_count": 30,
     "metadata": {},
     "output_type": "execute_result"
    }
   ],
   "source": [
    "iphone_rating=[]\n",
    "for i in page_url[0:10]:\n",
    "    driver7.get(i)\n",
    "    rating=driver7.find_elements_by_xpath(\"//div[@class='_3LWZlK _1BLPMq']\")\n",
    "    for i in rating:\n",
    "        if i==1:\n",
    "            try:\n",
    "                ratings=driver7.find_elements_by_xpath(\"//div[@class='_3LWZlK _1rdVr6 _1BLPMq']\")\n",
    "                iphone_rating.append(i.text)\n",
    "            except:\n",
    "                iphone_rating.append('-')\n",
    "        else:\n",
    "            try:\n",
    "                iphone_rating.append(i.text)\n",
    "            except:\n",
    "                iphone_rating.append('-')\n",
    "iphone_rating"
   ]
  },
  {
   "cell_type": "code",
   "execution_count": 12,
   "metadata": {},
   "outputs": [
    {
     "data": {
      "text/plain": [
       "['Brilliant',\n",
       " 'Simply awesome',\n",
       " 'Perfect product!',\n",
       " 'Fabulous!',\n",
       " 'Worth every penny',\n",
       " 'Great product',\n",
       " 'Good choice',\n",
       " 'Worth every penny',\n",
       " 'Highly recommended',\n",
       " 'Best in the market!',\n",
       " 'Perfect product!',\n",
       " 'Highly recommended',\n",
       " 'Perfect product!',\n",
       " 'Classy product',\n",
       " 'Worth every penny',\n",
       " 'Perfect product!',\n",
       " 'Simply awesome',\n",
       " 'Highly recommended',\n",
       " 'Worth every penny',\n",
       " 'Terrific',\n",
       " 'Nice product',\n",
       " 'Wonderful',\n",
       " 'Classy product',\n",
       " 'Brilliant',\n",
       " 'Must buy!',\n",
       " 'Good choice',\n",
       " 'Perfect product!',\n",
       " 'Wonderful',\n",
       " 'Terrific purchase',\n",
       " 'Great product',\n",
       " 'Simply awesome',\n",
       " 'Mind-blowing purchase',\n",
       " 'Terrific purchase',\n",
       " 'Excellent',\n",
       " 'Simply awesome',\n",
       " 'Good quality product',\n",
       " 'Very poor',\n",
       " 'Perfect product!',\n",
       " 'Must buy!',\n",
       " 'Fabulous!',\n",
       " 'Mind-blowing purchase',\n",
       " 'Mind-blowing purchase',\n",
       " 'Wonderful',\n",
       " 'Worth every penny',\n",
       " 'Great product',\n",
       " 'Very Good',\n",
       " 'Perfect product!',\n",
       " 'Classy product',\n",
       " 'Perfect product!',\n",
       " 'Just wow!',\n",
       " 'Awesome',\n",
       " 'Terrific',\n",
       " 'Terrific purchase',\n",
       " 'Awesome',\n",
       " 'Classy product',\n",
       " 'Brilliant',\n",
       " 'Terrific',\n",
       " 'Perfect product!',\n",
       " 'Awesome',\n",
       " 'Perfect product!',\n",
       " 'Very poor',\n",
       " 'Fabulous!',\n",
       " 'Excellent',\n",
       " 'Must buy!',\n",
       " 'Value-for-money',\n",
       " 'Brilliant',\n",
       " 'Terrific purchase',\n",
       " 'Good quality product',\n",
       " 'Perfect product!',\n",
       " 'Awesome',\n",
       " 'Value-for-money',\n",
       " 'Just wow!',\n",
       " 'Super!',\n",
       " 'Best in the market!',\n",
       " 'Classy product',\n",
       " 'Highly recommended',\n",
       " 'Mind-blowing purchase',\n",
       " 'Must buy!',\n",
       " 'Excellent',\n",
       " 'Excellent',\n",
       " 'Terrific',\n",
       " 'Pretty good',\n",
       " 'Nice product',\n",
       " 'Mind-blowing purchase',\n",
       " 'Does the job',\n",
       " 'Wonderful',\n",
       " 'Worth every penny',\n",
       " 'Worth every penny',\n",
       " 'Fabulous!',\n",
       " 'Classy product',\n",
       " 'Awesome',\n",
       " 'Wonderful',\n",
       " 'Terrific purchase',\n",
       " 'Awesome',\n",
       " 'Decent product',\n",
       " 'Super!',\n",
       " 'Fabulous!',\n",
       " 'Just wow!',\n",
       " 'Mind-blowing purchase',\n",
       " 'Excellent']"
      ]
     },
     "execution_count": 12,
     "metadata": {},
     "output_type": "execute_result"
    }
   ],
   "source": [
    "iphone_summary=[]\n",
    "for i in page_url[0:10]:\n",
    "    driver7.get(i)\n",
    "    summary=driver7.find_elements_by_xpath(\"//p[@class='_2-N8zT']\")\n",
    "    for i in summary:\n",
    "        try:\n",
    "            iphone_summary.append(i.text)\n",
    "        except:\n",
    "            iphone_summary.append('-')\n",
    "iphone_summary"
   ]
  },
  {
   "cell_type": "code",
   "execution_count": 14,
   "metadata": {
    "scrolled": true
   },
   "outputs": [
    {
     "data": {
      "text/plain": [
       "['The Best Phone for the Money\\n\\nThe iPhone 11 offers superb cameras, a more durable design and excellent battery life for an affordable price.\\n\\nCompelling ultra-wide camera\\nNew Night mode is excellent\\nLong battery life',\n",
       " 'Really satisfied with the Product I received... It’s totally genuine and the packaging was also really good so if ur planning to buy just go for it.',\n",
       " 'Amazing phone with great cameras and better battery which gives you the best performance. I just love the camera .',\n",
       " 'This is my first iOS phone. I am very happy with this product. Very much satisfied with this. I love this phone.',\n",
       " 'Previously I was using one plus 3t it was a great phone\\nAnd then I decided to upgrade I am stuck between Samsung s10 plus or iPhone 11\\nI have seen the specs and everything were good except the display it’s somewhere between 720-1080 and it’s not even an amoled it’s an LCD display\\nBut I decided to go with iPhone because I have never used an IOS device I have Been an android user from the past 9 years I ordered IPhone 11 (128gb) product red\\nMy experience after using 3 weeks\\n1. The delivery ...\\nREAD MORE',\n",
       " 'Amazing Powerful and Durable Gadget.\\n\\nI’m am very happy with the camera picture quality, Amazing face id unlocked in dark room, Strong battery with perfect screen size as you can carry easily in pocket. This is my third iPhone.\\n\\nI shifted from android Samsung Note series to iPhone because of the strong build quality and peace of mind for next 3-4 years.\\n\\nDon’t think to much just go for it and I suggest you to go for minimum 128gb variant or more 256gb.\\n\\nI’ve attached my puppy pics and no fi...\\nREAD MORE',\n",
       " 'So far it’s been an AMAZING experience coming back to iOS after nearly a decade but it’s not as versatile as android though phone is sturdy dropped it accidentally a couple of times and nothing happened fortunately camera is awesome',\n",
       " 'i11 is worthy to buy, too much happy with the product. Thank u flipkart I received the item on time..loved it..',\n",
       " 'iphone 11 is a very good phone to buy only if you can compromise for the display. The display on this is device is pretty good but you can get other options with better displays in this price segment.\\nIf you can survive with an HD+ LCD panel with thicker bezels and a notch up top then this is a very good phone for you.\\nCameras are awesome, battery backup excellent, great performance and a decent premium look. Good job Apple !',\n",
       " 'Great iPhone very snappy experience as apple kind. Upgraded from iPhone 7.\\nPros\\n-Camera top class\\n- Battery top performed\\n-Chipset no need to say as apple kind\\n-Security as you expect from apple\\n- Display super bright industry leading colour\\naccuracy and super responsive\\n-Build quality as expect from apple sturdy\\npremium durable beautiful stylish.\\n-Os most stable os in smartphone industry\\n\\nCons\\n-No 5G\\n-Display is not based on OLED technology\\n-Charger headphones and 1 apple stic...\\nREAD MORE',\n",
       " 'It’s a must buy who is looking for an upgrade from previous generation of iPhones. If you are using XR then still you can hold on for sometime and upgrade to 2020 model else this phone is a must buy . Camera quality is amazing and wide angle is something to count upon. Performance wise it’s amazing and feels premium while holding in hand. So a big YES for this device. Go for 128 GB variant as the 4K videos will occupy lots of space and the storage can get over very quickly. Try to buy it with...\\nREAD MORE',\n",
       " 'What a camera .....just awesome ..you can feel this iPhone just awesome . Good for gaming also ...try pubg in hd it’s just wow',\n",
       " 'Value for money❤️❤️\\nIts awesome mobile phone in the world ...\\nDisplay was very good and bright ..\\nTrust me freinds you r never regret after Buying..\\nJust go for it....\\nI love this phone and i switch to iphone x to 11',\n",
       " 'Totally in love with this ❤ the camera quality is amazing just love it 😘😘😘 itsss dammnnnnnn amazing... Must buy iPhone 11 this is my best experience ever ☀👌👌🧡🧡🧡🧡🧡 thanku apple ❤',\n",
       " 'Best budget Iphone till date ❤️ go for it guys without second thought. Let me explain you guys about Camera, Display, battery, and performance.\\n\\nCamera: at this price range there is no comparison of camera, you’ll love the picture quality as well as video quality. I am a Vlogger I wanted an iPhone with 4k video by front camera and I got this phone and I am more than happy 😃\\n\\nBattery: I use this phone roughly as I am active social media person and I have a youtube channel. so the battery ba...\\nREAD MORE',\n",
       " \"Iphone is just awesome.. battery backup is very very nice.. continuously for 10 hours we can use it.camera is just awesome.. display is just fab.i love it alot..i had to wait 15 days for it as i pre ordered it..overalll it's worth the price..these all images are clicked by my iPhone..and i love it.\",\n",
       " 'Excellent camera, good performance, no lag. The lcd display is also good.. but difference come when we watch movie in prime and Netflix, the colours are not vibrant.. as we see in amoled display.. and the charger in box is of 5 watts.. takes more than 3 hours to charge from 0 to 100.. so guys be prepare to buy 18 watts charger . Finally I am an android user, it was my first Iapple phone, I promise u guys the iOS is so smooth.. overall the phone is damn good.... close eyes to buy it.. thanks t...\\nREAD MORE',\n",
       " \"It's my first time to use iOS phone and I am loving my upgradation 😍😍 I love the color, I love the assebility of the phone....I need to learn more about its functionality, but as far as I have seen, it's quite easy and it has a lot of functions to work on, specially if you are a content writer or a blogger you get a lot of content creation platforms and they are really amazing.\\n\\nThis phone not only for good quality photography but a lot of other task too.😍💯\",\n",
       " 'It’s been almost a month since I have been using this phone. I upgraded from an iPhone 8. The main issue with my 8 was battery and this phone is just awesome when it comes to battery. It lasts a day and a half for me with my regular use , internet connected always with 4g\\nCan’t move forward without saying this. Battery of this phone is a life saver when I am traveling or at work when I don’t get the option to charge\\nCamera is superb. Front cam selfies and back cam photos are just awesome.\\n...\\nREAD MORE',\n",
       " 'Really worth of money. i just love it. It is the best phone ever.',\n",
       " 'Awesome Phone. Slightly high price but worth. Better than iPhone XR.\\nCamera is superb and wide angle camera is very clear.\\n12MP selfie camera is also very good.\\nA13 Chip gives a very good and smooth performance.',\n",
       " 'This is my first ever I phone. Before this I was using my google nexus 5. But moving from android to iOS is a great experience. It’s worth at this price. I will highly recommend it if you want to move to iOS. The best part of this phone is it’s camera and it’s battery life. This two things have won my heart. I loved it. Happy to have it in my hand. Still exploring its features. And can’t forget to mention Flipkart service. Very prompt service and fast delivery.',\n",
       " 'Superb Product !!!\\nA big and worthy upgrade from mi 3S to iphone 11 .\\nTotally loved it !',\n",
       " 'I have migrated from OP 7pro... and trust me, iPhone 11 is totally worth it.. following are the reasons:-\\n1)there is ABSOLUTELY NO ISSUE WITH THE DISPLAY... its crisp, sharp and I found it to be much much better than OP7 pro. Netflix, Prime video all run crisply... you won’t miss a thing. True Tone works flawlessly...the display brightness is perfect. OP have not calibrated their screens properly.\\n2) iPhone 11 series have really good cameras... others have spoken in depth about them.\\n3) bat...\\nREAD MORE',\n",
       " 'It’s an amazing product from apple and the camera is simply superb. Phone is faster.Night shot is simply superb and detailing and colour differentiation from camera is an added advantage\\n\\nThis review I have written from iPhone 11 only and I am glad to say outside.\\n\\nCons wise if we see HD+ display only, no battery percentage indicator as in older iPhone 8.\\nNo assistive touch control button in it\\nNo oleophobic coating on back panel glass and finger prints are visible but since I bought mint gr...\\nREAD MORE',\n",
       " 'Looking so good 👍 😍 super 👌 stylish 😎 phone\\nClean box 📦 good 👍 delivery 👌 fast delivery\\nOriginal box Original iphone 📱 👌 😍😍😍',\n",
       " 'After 1 month use I found camera quality best compared to my previous Samsung note 10+.Display not good as note 10 also charging too slow.Apple should add fast charger like 11 plus and pro.Best phone for daily use',\n",
       " 'I just directly switch from iphone 6s to iphone 11 .The best premium smartphone I recommend to everyone. Excellent quality and colors the iphone have in 11 series.\\nCamera quality is just awesome and the major feel when we hold in our hands. The sound quality and volume is also higher then the previous models.\\nI will recommend to buy iphone 11 instead of pro models , there is nothing much difference as this model contains everything which fulfill our needs.\\n\\nOnly one thing that I dislike abo...\\nREAD MORE',\n",
       " 'Upgraded from iphone 6 to 11 best phone for iphone users battery is much better than other iphones camera is awesome love to use it.camera is so clear in night.',\n",
       " 'Well you all know the specifications . One of a kind. Best iPhone till date. Many enhancements to the camera app with many options. Love the glass body with matte finish in the lens area on the back. Lovely colours to choose from. Best battery in an iPhone till date, enough to last more than a day in normal usage. I tested my iPhone 11 battery and lasted for than 24 hours after full charge still with 30% battery charge left. Watched movies for some time. Normal usage on calls, browsing, musi...\\nREAD MORE',\n",
       " \"It's very high performances devise i am like the service of flipkart delevary very fast and packing very nice perfect phone\",\n",
       " 'This will help you more. See if you are planning to buy iPhone 11. I will say. Yes. But there are some plans I just want to disclose before you buy. 1) If you are an existing iPhone X/XS/XS Max/ XR user, better you guys do not think it to buy. You guys have more or less better gadget. 2) If you are an android user and planning to buy premium phone. I will suggest them to please buy iPhone instead of buying an Android. I bet you will never go back to android after using IOS. Now I want to shar...\\nREAD MORE',\n",
       " 'The built quality is not very premium.\\nThe battery back is great .\\nThe LCD panel is not so sharp but the brightness level is very High .\\nCamera is super duper awesome.\\nThe red colour which people think is bright is actually very soothing and excellent colour to choose from .\\nThe A13 Bionic chip is really a flagship processor and can beat any phone which even has 12 gb ram .\\nCamera module is very great and looks very stylish.',\n",
       " 'Amazing camera and feel super machine I am not describe my feeling but this is amazing Phone I am so lucky I have this',\n",
       " 'Really good actually this is my first apple product am using its really awesome performance wise excellent. Am really happy with this iphone11',\n",
       " 'it is very good at performance. Camera is best like before and very smooth response even in water. Don’t buy 12 mini buy iPhone 11 , it is far better than 12 mini believe me ! Have a nice day \\uf8ff ☺️',\n",
       " 'Reviewing again after 5 months. At the beginning the battery and performance was good but it degraded soon. Also I was facing heating issues. The mobile will heat up like a stove sometimes. You cannot even play Pubg even in low settings properly, performance is not a problem but heating is. Also if you play that game for 10 mins the brightness will be automatically down due to over heating even when the auto brightness is set to off. This will not be solved even if u manually increase the bri...\\nREAD MORE',\n",
       " 'It is just awesome mobile for this price from Apple,\\n\\nAfter 10 days review\\n\\nBattery enough for 1 day even 24*7 Internet will be on and mostly internet usage\\n\\nCamera is just awesome cool , android 64 MP is equal to this just 12 MP\\n\\nA13 Bionic chip will give more high performance without hanging\\n\\nAudio stereo speakers will give Dolby atoms sound with crystal clear\\n\\nVideo recording is like cinematic shots of every sec can be a 4K 60fps. Just awesome this phone\\niPhone 11 loved one',\n",
       " 'Best Apple iPhone that i have bought at a very reasonable price, camera quality is next level just awesome n of superior quality android phones not even close(RIP) to that and also battery is really good but packaging by Flipkart of iPhone was very poor of such a expensive product, firstly im bit worried about the quality of product if i purchased it through online how was the product but i think now this was mine best decision to bought it through Flipkart online because i got genuine Apple...\\nREAD MORE',\n",
       " \"I can say I'm damn impressed with iPhone 11. As they says iPhone 11 have the toughest glass ever in the smartphone which you'll find on the front and back and it's totally smooth. The fit and finish is full apple quality - there's no sense that any cheaping out has happened in the construction. Without saying it's camera features this review won't complete. The iPhone 11 has a dual camera system, consisting of a wide angle len's that's pretty much same as found on the iPhone XR last year, but...\\nREAD MORE\",\n",
       " 'Best Quality Product OF iPhone Series , Sound Quality & Camera quality is very awesome, Battery Life is very Sufficient for 24 hr Backup With Full Internet Access , I love this this Product too much , It is very fast & making me Very fast in all my daily Routine\\nHighlights;\\n1.Camera: 5 STAR\\n2.Video Recording: 5 star\\n3.Night mODE sHOOTING & Camera:4 star\\n4. Audio Quality: Awesome\\n5. Battery : 5 Star\\n6. Touch:5 Star\\n7. Processor: Very Fast\\nThe M...\\nREAD MORE',\n",
       " 'First thanks to Flipkart for this amazing deal and phone is outstanding. I upgraded from iPhone 7 and this is like very big upgrade. But the packaging was very basic I expected a good packaging as they only wrapped one layer of bubble wrap which I don’t think is enough to protect this expensive phone. And I recommend this phone and seller as well.\\n\\nAnd I’m posting this review after using it for 4 days.',\n",
       " 'Superfast delivery by Flipkart. Thanks.\\n\\n1. iPhone 11 is a pretty solid phone for the money you are paying.\\n2. All the bad reviews about the display is confusing. It’s not that bad.\\n3. I switched from a Oneplus 7t. I have no complaints about the display quality of iPhone. Yes, it’s not OLED, so, we are missing on the deep blacks. But that’s it. It is a very colour accurate display. Gets adequately bright and I could not find any pixelation.\\n4. Performance is one of the best, if not best, in ...\\nREAD MORE',\n",
       " 'Smooth like butter, camera like fantabulous, sound is crystal clear & its red color is damn attractive, i am just loving it. Must buy if you love photography.\\n\\nLucky to get it in sale, thank you Flipkart.',\n",
       " \"Again back to apple iphone after a gap of 2-3 years. It's pleasure to use iOS and the quality product by Apple. Iphone 11 still works like a beast in 2021 also. It really capable of doing day to day usage as well as hard core gaming. Battery is awesome. I'm really too much satisfied with it. Apart fto the very gorgious IPS LCD (AMOLED will be better) everything is mind boggling. Iphone💕.\",\n",
       " 'impressive super phone and best in class camera ,sound and face unlock is super fast just see and phone is unlock and fast in daily apps use',\n",
       " 'Battery backup is extraordinary, camera is decent & performance offered by A13 bionic is awsome. The display is good in practical usage like the visibility of display is very good in direct sun light compare to pro models. Iam extremely satisfied for the money I spent.',\n",
       " 'Well while switching from android to iOS the first thing you need to be careful about is that you will loose all your whatsapp chat backups as both are different operating systems. Camera clarity is awesome and though being an lcd screen clarity and resolution is good. Battery backup is also good unlike previous gen iPhone. So far the experience is good will Padre after a few months of usage.\\n\\nP.S the black is more of a dark grey shade and not jet black',\n",
       " 'In love with this iphone great performance,camera ,battery everything. Go for it have a uncompareble battery backup, no doubts in iPhone camera here You can see the picture which is shot on my iPhone In love with this iphone great performance,camera ,battery everything. Go for it have a uncompareble battery backup, no doubts in iPhone camera here You can see the picture which is shot on my iPhone In love with this iphone great performance,camera ,battery everything. Go for it have a uncompare...\\nREAD MORE',\n",
       " 'Best in class. Battery backup is good especially when you play games like Pubg COD. But it is sort of heavy when you hold in hands. Portrait mode is best to click pictures. Stage light effect is awesome. Try to click photos outside in nature because photos inside home or room will not give you the quality in any phone even in DSLR.',\n",
       " 'Very excited to have this phone. This phone has the real power unlike the android phones having SD 855 . The battery life is very good and the camera quality is excellent as comapred to redmi and other phones except google pixel. I M enjoying every single bit of it. Would recommed only if you have the budget.',\n",
       " \"I upgraded (downgraded?) from my iPhone X since the phone fell down and I didn't want to repair the screen. The box that the phone came in was super slim and I was worried that there'd be no 5W charger with it and my fears were confirmed. However, thankfully I had the 18W USB-C PD charger from Apple which I bought for my iPhone X and it worked perfectly. The charging time is as lethargic as ever though and it takes about 1:30 mins or even 2 hours depending on charge remaining. I'll list some ...\\nREAD MORE\",\n",
       " 'Its Very awesome product working and good camera quality and all about best product and also flipkart is very great deal and offer nice price',\n",
       " 'I am using this phone for 5 days and its one of the best camera out there ❤️ the screen is not oled and i am coming from iphone xs so its little bit not up to the mark i would say\\nBut overall value for money💕😍the battery back up is far better than my iphone xs and its worth in my apple ecosystem💫❤️if u are an apple User and have the eco system then go for it❤️though i will be getting the new iphone but its pretty good💫',\n",
       " 'Best and amazing product.....phone looks so premium.... battary is also good as expected .... Wide angle camera is so addictive ...if you are a IOS lover....then this phone will be the best choice for you all!!💯🔥',\n",
       " 'Excellent camera and display touching very nice and smooth very improvement against iPhone XR and new processor is very fast',\n",
       " \"I got this beast today. And I must say the picture quality of its camera is awesome. Both the cameras works fine.\\n\\nAs for as the processing is concerned, it runs without any lag. You can play and do whatever you want without a glitch.\\n\\nThe battery runs for a day with medium and high workload.\\n\\nThe display is good and the speakers are working fine.\\n\\nThe earphones doesn't have any base and you can use it for calling mostly.\\n\\nThe charging time is approximately for 90 minutes for full charging...\\nREAD MORE\",\n",
       " 'Awesome purchase. Amazing phone with good battery backup. It’s a top notch device. White colour looks amazing. Phone has a few extra feature than iPhone XR. Overall, this is value for money',\n",
       " 'Always love the apple products, upgraded from old iPhone 6S plus to this after having my first baby. I just love to click baby’s photos with it. Overall I just love this phone. Battery back up is okay, sound quality is good. Haven’t tested yet waterproof yet. Only one thing I hate is apple could have given charger & headphones in box.',\n",
       " 'Value for money\\n5 star rating\\nExcellent camera\\nBattery backup full day in single charge.\\n\\nTougher and water resistant design, glossy back.\\nThe screen has excellent brightness and contrast.\\nApple A13 Bionic is the fastest smartphone chip on the planet.\\nExcellent battery life, fast charging support.\\nStereo speakers with great quality.',\n",
       " 'Please DONT buy from here,\\n\\nI purchased Apple iPhone 11. with an exchange of IPhone 7, the exchange did not go well, iPhone 7 had a small scratch out side screen which i could never identify till date, but the FLIPKART person could, so he reduced 50% from exchange rate. I decided not to trade in, but paid money.\\n\\niPhone 11 Detail Below\\n---------------------------------------------\\nIt came with no charging, then i have put for charging, it took lot of time for charging, the phone also showe...\\nREAD MORE',\n",
       " 'awesome phone to have. it has got many smart features apart from mind blowing looks, camera, display, battery and sound. have fallen in love with this phone. must buy phone if you have got enough money. thanks to flipkart and apple of course..',\n",
       " 'Its a fabulous mobile look awesome performance unbeaten camera like dslr battery good i think this is a beast of mobile',\n",
       " 'Dear friends... I want to share my experience with you about this amazing I phone 11....this is my first iPhone and special things about this mobile is it has great camera, battery backup and awesome display.... I mean everything is perfect.loved it 👍👍👍',\n",
       " \"Just got this iphone 11\\nAnd it is most powerful mobile phone I have used ever\\n\\nSo,go for it if you want a phone with best specification like camera,battery backup,display, A13 bionic chip\\n\\nThat's my review about this phone but yours can be differ from me....\",\n",
       " 'Amazing phone and on great deal I received with super fast delivery by Flipkart...',\n",
       " 'finally an iPhone with very nice battery backup. update from iPhone 7 and happy to have it. camera is not up to the mark in low light but overall a recommended phone if your budget allows 😀',\n",
       " \"I'm switching this phone to oppo reno 10x zoom\\nIt's really impressive\\nRarely I'm missing smooth display touch response like oppo reno but\\nI really loved it.\\nCamera really impressive\",\n",
       " 'Worth the money’ starting first from its performance it beats out all phones , second the smoothness of camera is awesome, contrast ratio is much than expected. Price will not matter if u r a quality person, if not other phones are available with better discount',\n",
       " 'I dreamt about this day from a long time.... Getting an iPhone with my own money.... Super happy and worth spending every penny',\n",
       " \"I'm Really happy with the product\\nDelivery was fast as well\\n..it was a gift for my sister and she loved it so much.\",\n",
       " 'Great iphone.\\nI am writing this review after 2 months of usage.\\nCamera is excellent, especially the nightmode\\nDisplay perfect\\nBattery backup awesome\\nSound quality very good\\nOverall Apple gives you a perfect iphone in this range.\\nReally in love with iPhone 11',\n",
       " 'Did an upgrade from 6s plus to iphone 11.\\nAo far the experience is well and good. Felt smoother than 6s plus. The camera quality is superb. Battery backup is descent. Not a heavy user, and gets power more than a day. Go for it if you need an alrounder iphone in a competitve price.',\n",
       " 'Damn this phone is a blast . Upgraded from android to ios and is a duperb experience. Battery backup is top notch and display also pretty good',\n",
       " 'Gifted my man on his 30th birthday 🎂 He loves it.. Him happy so i am more than happy 😍😘❤️🥰',\n",
       " 'Thanks Flipkart For this amazing deal! I had a dream of owning a iphone since i had known about.\\nIm very happy with my purchase & it is totally worth it.\\nAmazing experience all over !!\\n\\nAnyone who’s thinking of buying it in 2021, i would simply say go for it without any second thoughts ❤️',\n",
       " 'awesome Phone Smooth Touch Too good Sexyy looks one word Awesome',\n",
       " 'I rate this product 5* as it has got amazing user experience with the best performing A13 bionic processor. The screen responds and graphics rendering is top notch. With casual gaming and internet browsing, the battery lasts for approx. 1 day. Camera is very good. You will fall in love with the portrait mode. You can call me a loyal Apple customer or whatever but I won’t stop praising the products and overall experience. That user experience matters and is worth every penny you pay.\\n\\nBelow ar...\\nREAD MORE',\n",
       " \"It was amazing experience for me. Honestly i am using iPhone first time so I don't have that much past experience about that. But after using 7 days this mobile i want to give some honest feedback.\\n1- Display 9 out of 10\\n2- Camera 9.5 out of 10\\n3- Battery 7 out of 10\\n4- Performance 9.5 out of 10\\n5- Features & Functions 10 out of 10\\n6- Outer looks and colour 10 out of 10\\nRest i think i will understand after using this for few months.\\nI will highly recommend you guys if you have budget then you...\\nREAD MORE\",\n",
       " \"Just go for it.\\nThis phone is really amazing. I ordered it for my wife and we click photos on this thing which are better than dslr. I own OnePlus 6t but it's camera sucks. iPhone is really amazing when it comes to camera. It's worth spending 50k on this. Cons- only display is lcd. While using u don't feel it but if u compare with other phone then u can see difference quite easily.\\nChanging from Android to iphone is bit difficult coz most of things u don't know but I liked it. Some of the a...\\nREAD MORE\",\n",
       " 'I bought iPhone 11 On March 2021, And I am Writing this review after using the phone for 4 Months. I would Say Everything is fine, Top Performance, Nice Camera as Anyone would Expect from any series of iPhone but when the Question comes to Battery it is complicated. The Battery is fully optimised and it comes 3110 mAh capacity but the problem is with the charger. Honestly Apple Removed charger from in Box items in the name of Environment and they are also forcing us to buy any 20W PD 3rd part...\\nREAD MORE',\n",
       " \"I've used this phone for over a month now and here are my takeaways.\\nI would like to first talk about the best things about this phone and then the cons of it.\\n\\nPros:\\nThis phone is a performance beast. It handles large games and applications effortlessly and you won't find any stutters or lags while playing graphic intensive games like pubg, cod , mortal kombat and asphalt.\\n\\nThis phone has only 4gb ram and yet the ram management is amazing, it can keep 3 heavy games in memory without reload...\\nREAD MORE\",\n",
       " \"If you are looking for a premium phone under 55k, this is the one for you.Got the iPhone 11 during the Republic day sale. Performance is top notch in this price range. Camera's do a perfect job in taking good quality photos and videos. Battery backup too is satisfactory. Writing this review after using for a week. Any further observations would be updated.\",\n",
       " 'Absolutely powerful gadget. Loved it’s look! Soo glassy and classy. I would definitely recommend this model of Apple. Only disappointed with the 5W charger, one should purchase an 18W adapter for fast charging. Though battery backup is great. Bought it in September 2020, reviewing after so long so I’m gonna put the genuine review here.✅',\n",
       " \"phone is good but in display is 720p lcd in this price range we can get full hd OLED displays with higher refresh rate processor is very good camera is nice but looks kind of oldish in front of todays phone also there's no charging in box had to buy it seperately\",\n",
       " 'Nice value for money good and best price I phone mind blowing camera processor very fast other android mobile I am happy India top selling phone 2020',\n",
       " 'Here is the thing\\n\\nThe only reason why you should buy this phone is for the camera, iOS, and if you have headaches looking at AMOLED display.\\n\\nI’m not an avid gamer but watch a lot of movies on smartphone. However, my migraine attacks increased considerably after using AMOLED Smartphone. That’s why I made a calculated decision to buy iPhone 11. It has the best LCD display and the blacks, though not as natural as an AMOLED, is better than some of the other smartphones.\\n\\nAdding to this the ste...\\nREAD MORE',\n",
       " 'Undoubtedly Iphone 11 is the most successful model till now and its performance is extraordinary and the security features are very impressive, display is more vibrant sound quality Camera Quality 5*****, but Iphone should add accessories too and act like scrooge.',\n",
       " 'I purchased the iPhone 11 a month back. I must say Apple has impressed me yet again . I have been an Apple user for past 5 years . The phone is power packed with amazing features . What impressed me the most was the battery backup the phone offers . Battery can easily run upto 1.5 days in single charge with moderate to\\nHeavy usage . If you’re looking for a value for money device , I don’t see any other phone in the price range which can match the iPhone 11 .\\nOne thing I didn’t like was that ...\\nREAD MORE',\n",
       " 'We are on apple ecosystem for almost eight years now with couple of iPads and iPhones, including Xr.\\n\\nBought iPhone 11 as a gift to my daughter who loves it. We chose for a purple coloured one. Believe me it is gorgeous and towards the lighter shade. Dazzling and brilliant!\\n\\nThe phone is great and does excellent RAM management like any other Apple device.\\n\\nThe screen, though a LCD and lesser ppi as compared to other flagship phones of competitor brands, is a delight to watch with perfect re...\\nREAD MORE',\n",
       " 'Can’t beat the software and hardware integration of apple.\\nPerforms like a beast. Great quality camera\\n6-7 hours screen on time which is good. Nothing much to complaint about the screen. Good connectivity speeds.\\nGreat buy and Flipkart’s delivery top notch as usual',\n",
       " 'Super and marvellous phone look very cute and nice sound. I love this phone i think white is good colur.Excellent camer 5*😍😘♥️♥️',\n",
       " 'I use a Note10+ and have been using both iOS and Android devices.\\n\\nCamera has really good features and portraits are super good, better than Samsung flagship. Overall camera setup can still be enhanced and hopeful for better upgrades on software in next release\\n\\nOperating system is quite a breeze and user experience of daily usage is very high as compared to Android. I moved to iOS very swiftly in 2 days for all my office work from Note10+\\n\\nBattery holds up quite well with 4 hrs of call and ...\\nREAD MORE',\n",
       " 'The phone is completely good\\nAs far as camera Apple is king of it\\nAnd its a beast in performance\\nAnd the battery is pretty good too',\n",
       " 'Everything u ll like it when u use this iPhone. Simple changes only not many to lower models but it’s nice to use. Little heavy compared to previous models like 7,8',\n",
       " 'This is my first ever iPhone.\\nAnd I truly don’t regret switching to IOS from my Android.\\n\\nIt is easily an alternative to a DSLR camera.\\nIf you’re obsessed with photos and videos, just don’t think twice or don’t compare to other androids(Samsung S10 lite or OnePlus 8/8T), as it’s far better from them in every field.\\nComparing will only make you confused.\\n\\nI am getting an average Screen on Time of around 10 hours with 30 percent left. I haven’t let my device discharged below 30 % as it aff...\\nREAD MORE',\n",
       " 'Everything is perfect pictures come out so clearly and at first I wasn’t sure when I got it then when I started to use it and get the hang of it it was amazing!! I can’t wait to see what the next future phones will be like. The screen display on this bad boy are unbelievable they are so clear and never fail me. The performance is super cool there is a lot of cool features as well I like this phone because I feel that it is easy to use and one of my favorite things about this phone is the Face...\\nREAD MORE',\n",
       " 'The ultimate performance\\nCamera is superb\\nThe battery backup also very good i never saw iphone gives this much of battery backup\\nIf any one wana buy iphone 11 definitely i will recommend this mobile\\nIt has the better battery and powerfull processer peak performance glorious camera and the display also 100% high quality lcd display if u had money for for 12 if u dont wana invest much money on that then go for iphone 11 it has maximum same specs only main difference between the 12 and 11 is...\\nREAD MORE',\n",
       " 'Excellent camera 📸 And Display touching very Nice And Smooth and very improvement against\\nI phone 11 and new processor is very fast',\n",
       " 'A perfect phone and a good battery super camera and the sound is dynamic overall the phone is perfect for upgrading from lower iPhone model to iPhone 11']"
      ]
     },
     "execution_count": 14,
     "metadata": {},
     "output_type": "execute_result"
    }
   ],
   "source": [
    "iphone_review=[]\n",
    "for i in page_url[0:10]:\n",
    "    driver7.get(i)\n",
    "    review=driver7.find_elements_by_xpath(\"//div[@class='t-ZTKy']\")\n",
    "    for i in review:\n",
    "        try:\n",
    "            iphone_review.append(i.text)\n",
    "        except:\n",
    "            iphone_review.append('-')\n",
    "iphone_review"
   ]
  },
  {
   "cell_type": "code",
   "execution_count": 32,
   "metadata": {},
   "outputs": [
    {
     "name": "stdout",
     "output_type": "stream",
     "text": [
      "100 100 98\n"
     ]
    }
   ],
   "source": [
    "print(len(iphone_review),len(iphone_summary),len(iphone_rating))"
   ]
  },
  {
   "cell_type": "code",
   "execution_count": 33,
   "metadata": {},
   "outputs": [],
   "source": [
    "iphone=pd.DataFrame({})\n",
    "iphone['Summary']=iphone_summary\n",
    "iphone['Review']=iphone_review"
   ]
  },
  {
   "cell_type": "code",
   "execution_count": 34,
   "metadata": {},
   "outputs": [
    {
     "data": {
      "text/html": [
       "<div>\n",
       "<style scoped>\n",
       "    .dataframe tbody tr th:only-of-type {\n",
       "        vertical-align: middle;\n",
       "    }\n",
       "\n",
       "    .dataframe tbody tr th {\n",
       "        vertical-align: top;\n",
       "    }\n",
       "\n",
       "    .dataframe thead th {\n",
       "        text-align: right;\n",
       "    }\n",
       "</style>\n",
       "<table border=\"1\" class=\"dataframe\">\n",
       "  <thead>\n",
       "    <tr style=\"text-align: right;\">\n",
       "      <th></th>\n",
       "      <th>Summary</th>\n",
       "      <th>Review</th>\n",
       "    </tr>\n",
       "  </thead>\n",
       "  <tbody>\n",
       "    <tr>\n",
       "      <th>0</th>\n",
       "      <td>Brilliant</td>\n",
       "      <td>The Best Phone for the Money\\n\\nThe iPhone 11 ...</td>\n",
       "    </tr>\n",
       "    <tr>\n",
       "      <th>1</th>\n",
       "      <td>Simply awesome</td>\n",
       "      <td>Really satisfied with the Product I received.....</td>\n",
       "    </tr>\n",
       "    <tr>\n",
       "      <th>2</th>\n",
       "      <td>Perfect product!</td>\n",
       "      <td>Amazing phone with great cameras and better ba...</td>\n",
       "    </tr>\n",
       "    <tr>\n",
       "      <th>3</th>\n",
       "      <td>Fabulous!</td>\n",
       "      <td>This is my first iOS phone. I am very happy wi...</td>\n",
       "    </tr>\n",
       "    <tr>\n",
       "      <th>4</th>\n",
       "      <td>Worth every penny</td>\n",
       "      <td>Previously I was using one plus 3t it was a gr...</td>\n",
       "    </tr>\n",
       "    <tr>\n",
       "      <th>...</th>\n",
       "      <td>...</td>\n",
       "      <td>...</td>\n",
       "    </tr>\n",
       "    <tr>\n",
       "      <th>95</th>\n",
       "      <td>Super!</td>\n",
       "      <td>This is my first ever iPhone.\\nAnd I truly don...</td>\n",
       "    </tr>\n",
       "    <tr>\n",
       "      <th>96</th>\n",
       "      <td>Fabulous!</td>\n",
       "      <td>Everything is perfect pictures come out so cle...</td>\n",
       "    </tr>\n",
       "    <tr>\n",
       "      <th>97</th>\n",
       "      <td>Just wow!</td>\n",
       "      <td>The ultimate performance\\nCamera is superb\\nTh...</td>\n",
       "    </tr>\n",
       "    <tr>\n",
       "      <th>98</th>\n",
       "      <td>Mind-blowing purchase</td>\n",
       "      <td>Excellent camera 📸 And Display touching very N...</td>\n",
       "    </tr>\n",
       "    <tr>\n",
       "      <th>99</th>\n",
       "      <td>Excellent</td>\n",
       "      <td>A perfect phone and a good battery super camer...</td>\n",
       "    </tr>\n",
       "  </tbody>\n",
       "</table>\n",
       "<p>100 rows × 2 columns</p>\n",
       "</div>"
      ],
      "text/plain": [
       "                  Summary                                             Review\n",
       "0               Brilliant  The Best Phone for the Money\\n\\nThe iPhone 11 ...\n",
       "1          Simply awesome  Really satisfied with the Product I received.....\n",
       "2        Perfect product!  Amazing phone with great cameras and better ba...\n",
       "3               Fabulous!  This is my first iOS phone. I am very happy wi...\n",
       "4       Worth every penny  Previously I was using one plus 3t it was a gr...\n",
       "..                    ...                                                ...\n",
       "95                 Super!  This is my first ever iPhone.\\nAnd I truly don...\n",
       "96              Fabulous!  Everything is perfect pictures come out so cle...\n",
       "97              Just wow!  The ultimate performance\\nCamera is superb\\nTh...\n",
       "98  Mind-blowing purchase  Excellent camera 📸 And Display touching very N...\n",
       "99              Excellent  A perfect phone and a good battery super camer...\n",
       "\n",
       "[100 rows x 2 columns]"
      ]
     },
     "execution_count": 34,
     "metadata": {},
     "output_type": "execute_result"
    }
   ],
   "source": [
    "iphone"
   ]
  },
  {
   "cell_type": "markdown",
   "metadata": {},
   "source": [
    "# Q8"
   ]
  },
  {
   "cell_type": "code",
   "execution_count": 108,
   "metadata": {},
   "outputs": [],
   "source": [
    "driver8=webdriver.Chrome(r'C:\\Users\\delkl\\Downloads\\chromedriver.exe')"
   ]
  },
  {
   "cell_type": "code",
   "execution_count": 124,
   "metadata": {},
   "outputs": [],
   "source": [
    "url8='https://www.flipkart.com/'\n",
    "driver8.get(url8)"
   ]
  },
  {
   "cell_type": "code",
   "execution_count": 125,
   "metadata": {},
   "outputs": [
    {
     "data": {
      "text/plain": [
       "<selenium.webdriver.remote.webelement.WebElement (session=\"4e8026fcc106500cface265f40574b18\", element=\"77682822-066f-42a5-96d5-b8918e87e00b\")>"
      ]
     },
     "execution_count": 125,
     "metadata": {},
     "output_type": "execute_result"
    }
   ],
   "source": [
    "search_item1=driver8.find_element_by_xpath(\"//input[@class='_3704LK']\")\n",
    "search_item1"
   ]
  },
  {
   "cell_type": "code",
   "execution_count": 126,
   "metadata": {},
   "outputs": [],
   "source": [
    "search_item1.send_keys('sneakers')"
   ]
  },
  {
   "cell_type": "code",
   "execution_count": 127,
   "metadata": {},
   "outputs": [],
   "source": [
    "search_btn8=driver8.find_element_by_xpath(\"//button[@class='L0Z3Pu']\")\n",
    "search_btn8.click()"
   ]
  },
  {
   "cell_type": "code",
   "execution_count": 128,
   "metadata": {},
   "outputs": [
    {
     "data": {
      "text/plain": [
       "[<selenium.webdriver.remote.webelement.WebElement (session=\"4e8026fcc106500cface265f40574b18\", element=\"dd1364ab-c24e-4879-846f-6e693b40a40f\")>,\n",
       " <selenium.webdriver.remote.webelement.WebElement (session=\"4e8026fcc106500cface265f40574b18\", element=\"e7106d5c-9610-432b-94f4-c3bfaf1703ae\")>,\n",
       " <selenium.webdriver.remote.webelement.WebElement (session=\"4e8026fcc106500cface265f40574b18\", element=\"55648675-4a5b-40d9-968f-5f8771692908\")>,\n",
       " <selenium.webdriver.remote.webelement.WebElement (session=\"4e8026fcc106500cface265f40574b18\", element=\"921c2432-456b-41d2-abb1-a181ec39e4f3\")>,\n",
       " <selenium.webdriver.remote.webelement.WebElement (session=\"4e8026fcc106500cface265f40574b18\", element=\"15f0b30f-2692-4138-a4d7-efde1f7ce241\")>,\n",
       " <selenium.webdriver.remote.webelement.WebElement (session=\"4e8026fcc106500cface265f40574b18\", element=\"f73926c9-ea6e-4f05-a19d-d677053ec596\")>,\n",
       " <selenium.webdriver.remote.webelement.WebElement (session=\"4e8026fcc106500cface265f40574b18\", element=\"d8df8eb1-4624-4ea4-bd8b-7727c679d301\")>,\n",
       " <selenium.webdriver.remote.webelement.WebElement (session=\"4e8026fcc106500cface265f40574b18\", element=\"aa660ce4-dded-4d56-9fa4-7949765b7142\")>,\n",
       " <selenium.webdriver.remote.webelement.WebElement (session=\"4e8026fcc106500cface265f40574b18\", element=\"dd973680-eb61-422f-9364-903ac8c37717\")>,\n",
       " <selenium.webdriver.remote.webelement.WebElement (session=\"4e8026fcc106500cface265f40574b18\", element=\"7753e93b-5a2b-41d0-ac32-8560786ceb16\")>,\n",
       " <selenium.webdriver.remote.webelement.WebElement (session=\"4e8026fcc106500cface265f40574b18\", element=\"6a60aa19-d9b4-43e9-ab10-bc05490a9934\")>,\n",
       " <selenium.webdriver.remote.webelement.WebElement (session=\"4e8026fcc106500cface265f40574b18\", element=\"975dae6c-ddbb-4f52-a202-816e61be4792\")>,\n",
       " <selenium.webdriver.remote.webelement.WebElement (session=\"4e8026fcc106500cface265f40574b18\", element=\"50d1f77f-ab84-427c-bc5d-b4176d9ccbd2\")>,\n",
       " <selenium.webdriver.remote.webelement.WebElement (session=\"4e8026fcc106500cface265f40574b18\", element=\"298bed8f-4192-4e2f-811b-51c3dfb699b0\")>,\n",
       " <selenium.webdriver.remote.webelement.WebElement (session=\"4e8026fcc106500cface265f40574b18\", element=\"d5dd560b-95ab-4db1-a06b-b012a7cd95fb\")>,\n",
       " <selenium.webdriver.remote.webelement.WebElement (session=\"4e8026fcc106500cface265f40574b18\", element=\"282b8036-a018-4c6e-9cc3-c080b78bb481\")>,\n",
       " <selenium.webdriver.remote.webelement.WebElement (session=\"4e8026fcc106500cface265f40574b18\", element=\"d16bfdb8-6e54-4f7f-9612-951c11396978\")>,\n",
       " <selenium.webdriver.remote.webelement.WebElement (session=\"4e8026fcc106500cface265f40574b18\", element=\"9fcd253f-dfac-4341-b25d-cd4463e6275c\")>,\n",
       " <selenium.webdriver.remote.webelement.WebElement (session=\"4e8026fcc106500cface265f40574b18\", element=\"241965f7-a217-4f98-aafe-368b2112ab88\")>,\n",
       " <selenium.webdriver.remote.webelement.WebElement (session=\"4e8026fcc106500cface265f40574b18\", element=\"14550bd4-4a1d-4e00-9e07-53d979c11ceb\")>,\n",
       " <selenium.webdriver.remote.webelement.WebElement (session=\"4e8026fcc106500cface265f40574b18\", element=\"38ac60eb-5d00-4a49-b68c-74f746db8dde\")>,\n",
       " <selenium.webdriver.remote.webelement.WebElement (session=\"4e8026fcc106500cface265f40574b18\", element=\"fb7c9454-30e7-4870-82da-18c687add1a1\")>,\n",
       " <selenium.webdriver.remote.webelement.WebElement (session=\"4e8026fcc106500cface265f40574b18\", element=\"9a5c420d-51c9-4bd6-a0c5-3a06c20533db\")>,\n",
       " <selenium.webdriver.remote.webelement.WebElement (session=\"4e8026fcc106500cface265f40574b18\", element=\"3f254450-e1d2-4006-abad-bf6feac61cd6\")>,\n",
       " <selenium.webdriver.remote.webelement.WebElement (session=\"4e8026fcc106500cface265f40574b18\", element=\"345c0397-a48b-4f1a-93b9-abf5b613ac29\")>,\n",
       " <selenium.webdriver.remote.webelement.WebElement (session=\"4e8026fcc106500cface265f40574b18\", element=\"23623071-adb8-46c4-ae1d-65a77ce31025\")>,\n",
       " <selenium.webdriver.remote.webelement.WebElement (session=\"4e8026fcc106500cface265f40574b18\", element=\"b45e31ac-c80e-487c-a26b-43857be66698\")>,\n",
       " <selenium.webdriver.remote.webelement.WebElement (session=\"4e8026fcc106500cface265f40574b18\", element=\"1f38aa0f-7979-4b1f-9627-206a5cf97317\")>,\n",
       " <selenium.webdriver.remote.webelement.WebElement (session=\"4e8026fcc106500cface265f40574b18\", element=\"52e7a68d-5892-4442-ba6a-b6cfdbd57aeb\")>,\n",
       " <selenium.webdriver.remote.webelement.WebElement (session=\"4e8026fcc106500cface265f40574b18\", element=\"173a3d03-e281-41e0-9b24-95140a51cd7d\")>,\n",
       " <selenium.webdriver.remote.webelement.WebElement (session=\"4e8026fcc106500cface265f40574b18\", element=\"77844834-1508-448b-828d-6a33276eb4cd\")>,\n",
       " <selenium.webdriver.remote.webelement.WebElement (session=\"4e8026fcc106500cface265f40574b18\", element=\"f8001e2e-6a2d-4cae-be6f-0b65bce556cc\")>,\n",
       " <selenium.webdriver.remote.webelement.WebElement (session=\"4e8026fcc106500cface265f40574b18\", element=\"782bb43f-baed-410a-890f-e3ed59645ac0\")>,\n",
       " <selenium.webdriver.remote.webelement.WebElement (session=\"4e8026fcc106500cface265f40574b18\", element=\"1c9e3d95-9401-4b73-b5a7-759152b01050\")>,\n",
       " <selenium.webdriver.remote.webelement.WebElement (session=\"4e8026fcc106500cface265f40574b18\", element=\"260126ad-5d14-4259-98d6-7dddcfd658c7\")>,\n",
       " <selenium.webdriver.remote.webelement.WebElement (session=\"4e8026fcc106500cface265f40574b18\", element=\"e9e49fca-f84b-407e-911d-f2e33d78fefd\")>,\n",
       " <selenium.webdriver.remote.webelement.WebElement (session=\"4e8026fcc106500cface265f40574b18\", element=\"ffee9f6a-249c-4ff7-9156-823e073efa6d\")>,\n",
       " <selenium.webdriver.remote.webelement.WebElement (session=\"4e8026fcc106500cface265f40574b18\", element=\"8626ccff-8f93-4d69-8bf5-ca00fa5fb69d\")>,\n",
       " <selenium.webdriver.remote.webelement.WebElement (session=\"4e8026fcc106500cface265f40574b18\", element=\"9195838b-6c2c-4d75-9f4a-e6f9567097b4\")>,\n",
       " <selenium.webdriver.remote.webelement.WebElement (session=\"4e8026fcc106500cface265f40574b18\", element=\"48273fc7-4440-4873-80c4-9114487057c2\")>]"
      ]
     },
     "execution_count": 128,
     "metadata": {},
     "output_type": "execute_result"
    }
   ],
   "source": [
    "url88=driver8.find_elements_by_xpath(\"//a[@class='_2UzuFa']\")\n",
    "url88"
   ]
  },
  {
   "cell_type": "code",
   "execution_count": 129,
   "metadata": {},
   "outputs": [
    {
     "data": {
      "text/plain": [
       "['https://www.flipkart.com/bluemaker-casual-men-sneakers/p/itmb4c20f4d7a4e3?pid=SHOFP43RCTHGYNQH&lid=LSTSHOFP43RCTHGYNQHIFPKKU&marketplace=FLIPKART&q=sneakers&store=osp%2Fcil%2Fe1f&srno=s_1_1&otracker=search&otracker1=search&fm=SEARCH&iid=en_jYjU%2F8fRwdEyPtSySRfIPQJ3KZP6inMJpr7guPr87u67GvYv8NCiYzoKEZRaXdV2v742ZDHddm9Zsuc7m5m7EQ%3D%3D&ppt=hp&ppn=homepage&ssid=yqs02ztneo0000001628782735576&qH=a1743c0d39461290',\n",
       " 'https://www.flipkart.com/bluemaker-casual-shoe-men-sneakers/p/itm02405f7701115?pid=SHOFP4YXHPZMZM7A&lid=LSTSHOFP4YXHPZMZM7AZZVCRL&marketplace=FLIPKART&q=sneakers&store=osp%2Fcil%2Fe1f&srno=s_1_2&otracker=search&otracker1=search&fm=SEARCH&iid=en_jYjU%2F8fRwdEyPtSySRfIPQJ3KZP6inMJpr7guPr87u6xOyK9ujuFKY8WZV8ZQ6LhHVQCFVvF5DrkZ44CB6kH%2FQ%3D%3D&ppt=hp&ppn=homepage&ssid=yqs02ztneo0000001628782735576&qH=a1743c0d39461290',\n",
       " 'https://www.flipkart.com/chevit-unique-perfect-collection-combo-pack-02-shoes-men-casual-sneakers-outdoor-walking-sport-running-gym-cycling-trekking-rock-climbing/p/itmff4e5480ba998?pid=SHOGYX9SX8ZHGMYH&lid=LSTSHOGYX9SX8ZHGMYHMNOSZZ&marketplace=FLIPKART&q=sneakers&store=osp%2Fcil%2Fe1f&srno=s_1_3&otracker=search&otracker1=search&fm=SEARCH&iid=190fd381-a929-4c42-b468-717e58960cd3.SHOGYX9SX8ZHGMYH.SEARCH&ppt=hp&ppn=homepage&ssid=yqs02ztneo0000001628782735576&qH=a1743c0d39461290',\n",
       " 'https://www.flipkart.com/pehanosa-sneakers-men/p/itm7d7d5221f975c?pid=SHOGFXFQMBSXNZP8&lid=LSTSHOGFXFQMBSXNZP8U1VEGO&marketplace=FLIPKART&q=sneakers&store=osp%2Fcil%2Fe1f&srno=s_1_4&otracker=search&otracker1=search&fm=SEARCH&iid=190fd381-a929-4c42-b468-717e58960cd3.SHOGFXFQMBSXNZP8.SEARCH&ppt=hp&ppn=homepage&ssid=yqs02ztneo0000001628782735576&qH=a1743c0d39461290',\n",
       " 'https://www.flipkart.com/numenzo-sneakers-men/p/itm072bfb0c5e869?pid=SHOFZ4RGEGXFYHY9&lid=LSTSHOFZ4RGEGXFYHY9UPNWTY&marketplace=FLIPKART&q=sneakers&store=osp%2Fcil%2Fe1f&srno=s_1_5&otracker=search&otracker1=search&fm=SEARCH&iid=190fd381-a929-4c42-b468-717e58960cd3.SHOFZ4RGEGXFYHY9.SEARCH&ppt=hp&ppn=homepage&ssid=yqs02ztneo0000001628782735576&qH=a1743c0d39461290',\n",
       " 'https://www.flipkart.com/asteroid-original-luxury-branded-fashionable-men-s-casual-walking-partywear-sneakers-running-white-shoes-men/p/itmadb9562baf1cd?pid=SHOG3F72EB7HAFQF&lid=LSTSHOG3F72EB7HAFQFENVW0L&marketplace=FLIPKART&q=sneakers&store=osp%2Fcil%2Fe1f&srno=s_1_6&otracker=search&otracker1=search&fm=SEARCH&iid=190fd381-a929-4c42-b468-717e58960cd3.SHOG3F72EB7HAFQF.SEARCH&ppt=hp&ppn=homepage&ssid=yqs02ztneo0000001628782735576&qH=a1743c0d39461290',\n",
       " 'https://www.flipkart.com/chevit-super-stylish-trendy-combo-pack-02-pairs-sneakers-outdoor-loafer-sports-running-rock-climbing-gym-shoes-men/p/itmfce3a6f2183d4?pid=SHOGFVTAG39Y7ZHY&lid=LSTSHOGFVTAG39Y7ZHYNCYVAF&marketplace=FLIPKART&q=sneakers&store=osp%2Fcil%2Fe1f&srno=s_1_7&otracker=search&otracker1=search&fm=SEARCH&iid=190fd381-a929-4c42-b468-717e58960cd3.SHOGFVTAG39Y7ZHY.SEARCH&ppt=hp&ppn=homepage&ssid=yqs02ztneo0000001628782735576&qH=a1743c0d39461290',\n",
       " 'https://www.flipkart.com/chevit-combo-pack-4-casual-sneakers-men/p/itmfg2ybzgeygd6t?pid=SHOFGY97JGZTBRHY&lid=LSTSHOFGY97JGZTBRHYNHQPWS&marketplace=FLIPKART&q=sneakers&store=osp%2Fcil%2Fe1f&srno=s_1_8&otracker=search&otracker1=search&fm=SEARCH&iid=en_jYjU%2F8fRwdEyPtSySRfIPQJ3KZP6inMJpr7guPr87u5209LT3YPlH%2BkGWeDtUYobRPurfW4b%2FbF%2FFVK%2FLvEpdg%3D%3D&ppt=hp&ppn=homepage&ssid=yqs02ztneo0000001628782735576&qH=a1743c0d39461290',\n",
       " 'https://www.flipkart.com/luxury-fashion-fashionable-casual-sneaker-shoes-sneakers-men/p/itm2c220c7d857aa?pid=SHOG56XZNZHF56UZ&lid=LSTSHOG56XZNZHF56UZQVIQPL&marketplace=FLIPKART&q=sneakers&store=osp%2Fcil%2Fe1f&srno=s_1_9&otracker=search&otracker1=search&fm=SEARCH&iid=190fd381-a929-4c42-b468-717e58960cd3.SHOG56XZNZHF56UZ.SEARCH&ppt=hp&ppn=homepage&ssid=yqs02ztneo0000001628782735576&qH=a1743c0d39461290',\n",
       " 'https://www.flipkart.com/world-wear-footwear-5011-latest-collection-stylish-casual-loafer-sneakers-shoes-men/p/itm01930e5430e12?pid=SHOFMY6NYMGEHRHX&lid=LSTSHOFMY6NYMGEHRHXR2SLIQ&marketplace=FLIPKART&q=sneakers&store=osp%2Fcil%2Fe1f&srno=s_1_10&otracker=search&otracker1=search&fm=SEARCH&iid=190fd381-a929-4c42-b468-717e58960cd3.SHOFMY6NYMGEHRHX.SEARCH&ppt=hp&ppn=homepage&ssid=yqs02ztneo0000001628782735576&qH=a1743c0d39461290',\n",
       " 'https://www.flipkart.com/numenzo-sneakers-men/p/itm12368ade2be34?pid=SHOG3MZFKCMDKSBG&lid=LSTSHOG3MZFKCMDKSBGNCOMVX&marketplace=FLIPKART&q=sneakers&store=osp%2Fcil%2Fe1f&spotlightTagId=TrendingId_osp%2Fcil%2Fe1f&srno=s_1_11&otracker=search&otracker1=search&fm=SEARCH&iid=190fd381-a929-4c42-b468-717e58960cd3.SHOG3MZFKCMDKSBG.SEARCH&ppt=hp&ppn=homepage&ssid=yqs02ztneo0000001628782735576&qH=a1743c0d39461290',\n",
       " 'https://www.flipkart.com/u-s-polo-assn-lebron-2-0-sneakers-men/p/itme12a3ae9f62da?pid=SHOG3N6S5DRGKZYU&lid=LSTSHOG3N6S5DRGKZYUSCPA9N&marketplace=FLIPKART&q=sneakers&store=osp%2Fcil%2Fe1f&srno=s_1_12&otracker=search&otracker1=search&fm=SEARCH&iid=en_jYjU%2F8fRwdEyPtSySRfIPQJ3KZP6inMJpr7guPr87u5zxVRqzOcie8bCtA21U6fg9j%2FXUAJmnM1M3JBinY0Wbg%3D%3D&ppt=hp&ppn=homepage&ssid=yqs02ztneo0000001628782735576&qH=a1743c0d39461290',\n",
       " 'https://www.flipkart.com/chevit-perfect-affordable-combo-pack-03-pairs-casual-sneakers-outdoor-loafers-sports-shoe-running-gym-cycling-trekking-shoes-men/p/itm9aa6fe5320401?pid=SHOGYRPZWHWZSFZB&lid=LSTSHOGYRPZWHWZSFZBQZUCKD&marketplace=FLIPKART&q=sneakers&store=osp%2Fcil%2Fe1f&srno=s_1_13&otracker=search&otracker1=search&fm=SEARCH&iid=190fd381-a929-4c42-b468-717e58960cd3.SHOGYRPZWHWZSFZB.SEARCH&ppt=hp&ppn=homepage&ssid=yqs02ztneo0000001628782735576&qH=a1743c0d39461290',\n",
       " 'https://www.flipkart.com/shoes-bank-white-sneaker-men-s-boy-s-sneakers-men/p/itmf9p2zdypz2jyt?pid=SHOF9Z76DWFGAFWY&lid=LSTSHOF9Z76DWFGAFWYSDVYDU&marketplace=FLIPKART&q=sneakers&store=osp%2Fcil%2Fe1f&srno=s_1_14&otracker=search&otracker1=search&fm=SEARCH&iid=190fd381-a929-4c42-b468-717e58960cd3.SHOF9Z76DWFGAFWY.SEARCH&ppt=hp&ppn=homepage&ssid=yqs02ztneo0000001628782735576&qH=a1743c0d39461290',\n",
       " 'https://www.flipkart.com/bruton-combo-pack-4-casual-shoes-loafer-sneakers-men/p/itmc6896607b3f0f?pid=SHOFUXXZZEU8Z3E6&lid=LSTSHOFUXXZZEU8Z3E68COZPZ&marketplace=FLIPKART&q=sneakers&store=osp%2Fcil%2Fe1f&srno=s_1_15&otracker=search&otracker1=search&fm=SEARCH&iid=190fd381-a929-4c42-b468-717e58960cd3.SHOFUXXZZEU8Z3E6.SEARCH&ppt=hp&ppn=homepage&ssid=yqs02ztneo0000001628782735576&qH=a1743c0d39461290',\n",
       " 'https://www.flipkart.com/stranger-brothers-sneakers-men/p/itma25b0e41be4ec?pid=SHOG44DPAEAGWV8Z&lid=LSTSHOG44DPAEAGWV8ZLUXAJ2&marketplace=FLIPKART&q=sneakers&store=osp%2Fcil%2Fe1f&srno=s_1_16&otracker=search&otracker1=search&fm=SEARCH&iid=en_jYjU%2F8fRwdEyPtSySRfIPQJ3KZP6inMJpr7guPr87u73FQMhsNsaE1YWQ82gnUIad8DkHHEA4SVmhin9ZrI7fA%3D%3D&ppt=hp&ppn=homepage&ssid=yqs02ztneo0000001628782735576&qH=a1743c0d39461290',\n",
       " 'https://www.flipkart.com/creer-sneakers-men/p/itm87f3cd61e3f52?pid=SHOG5DPCVBA8XUHM&lid=LSTSHOG5DPCVBA8XUHMAM3OVF&marketplace=FLIPKART&q=sneakers&store=osp%2Fcil%2Fe1f&srno=s_1_17&otracker=search&otracker1=search&fm=SEARCH&iid=190fd381-a929-4c42-b468-717e58960cd3.SHOG5DPCVBA8XUHM.SEARCH&ppt=hp&ppn=homepage&ssid=yqs02ztneo0000001628782735576&qH=a1743c0d39461290',\n",
       " 'https://www.flipkart.com/bluemaker-casual-men-blue-10-sneakers/p/itm3f838f669177a?pid=SHOFUSH7PGGHGJUE&lid=LSTSHOFUSH7PGGHGJUEBDK02O&marketplace=FLIPKART&q=sneakers&store=osp%2Fcil%2Fe1f&srno=s_1_18&otracker=search&otracker1=search&fm=SEARCH&iid=190fd381-a929-4c42-b468-717e58960cd3.SHOFUSH7PGGHGJUE.SEARCH&ppt=hp&ppn=homepage&ssid=yqs02ztneo0000001628782735576&qH=a1743c0d39461290',\n",
       " 'https://www.flipkart.com/longwalk-men-boxer-sneakers/p/itm9138163f0a16b?pid=SHOF2CY2GVT2RFFV&lid=LSTSHOF2CY2GVT2RFFVBQ6KDY&marketplace=FLIPKART&q=sneakers&store=osp%2Fcil%2Fe1f&srno=s_1_19&otracker=search&otracker1=search&fm=SEARCH&iid=190fd381-a929-4c42-b468-717e58960cd3.SHOF2CY2GVT2RFFV.SEARCH&ppt=hp&ppn=homepage&ssid=yqs02ztneo0000001628782735576&qH=a1743c0d39461290',\n",
       " 'https://www.flipkart.com/puma-ferrari-drift-cat-8-sneakers-men/p/itm3b7153cea0c13?pid=SHOFZG425FUYAGYZ&lid=LSTSHOFZG425FUYAGYZ22F8DE&marketplace=FLIPKART&q=sneakers&store=osp%2Fcil%2Fe1f&srno=s_1_20&otracker=search&otracker1=search&fm=SEARCH&iid=en_jYjU%2F8fRwdEyPtSySRfIPQJ3KZP6inMJpr7guPr87u6k7EyQLvA0nvjGLmFd4Xa9ZCjCdhzoeK4F0ksWTlAQTg%3D%3D&ppt=hp&ppn=homepage&ssid=yqs02ztneo0000001628782735576&qH=a1743c0d39461290',\n",
       " 'https://www.flipkart.com/hotstyle-sneakers-men/p/itm071be697faf47?pid=SHOG4KJFJZTNGJ67&lid=LSTSHOG4KJFJZTNGJ67AUMQBB&marketplace=FLIPKART&q=sneakers&store=osp%2Fcil%2Fe1f&srno=s_1_21&otracker=search&otracker1=search&fm=SEARCH&iid=190fd381-a929-4c42-b468-717e58960cd3.SHOG4KJFJZTNGJ67.SEARCH&ppt=hp&ppn=homepage&ssid=yqs02ztneo0000001628782735576&qH=a1743c0d39461290',\n",
       " 'https://www.flipkart.com/zsyto-sneakers-men/p/itm19ca926d06bf8?pid=SHOFXACVWPMDB8FT&lid=LSTSHOFXACVWPMDB8FT1RYHDC&marketplace=FLIPKART&q=sneakers&store=osp%2Fcil%2Fe1f&srno=s_1_22&otracker=search&otracker1=search&fm=SEARCH&iid=190fd381-a929-4c42-b468-717e58960cd3.SHOFXACVWPMDB8FT.SEARCH&ppt=hp&ppn=homepage&ssid=yqs02ztneo0000001628782735576&qH=a1743c0d39461290',\n",
       " 'https://www.flipkart.com/red-rose-sneakers-men/p/itmfhp7pq4earagj?pid=SHOFHP3PF4PGKRMP&lid=LSTSHOFHP3PF4PGKRMPHPBHYF&marketplace=FLIPKART&q=sneakers&store=osp%2Fcil%2Fe1f&srno=s_1_23&otracker=search&otracker1=search&fm=SEARCH&iid=190fd381-a929-4c42-b468-717e58960cd3.SHOFHP3PF4PGKRMP.SEARCH&ppt=hp&ppn=homepage&ssid=yqs02ztneo0000001628782735576&qH=a1743c0d39461290',\n",
       " 'https://www.flipkart.com/bluemaker-casual-shoe-men-sneakers/p/itm3694200bdaf02?pid=SHOFP4YXDXKBFFYR&lid=LSTSHOFP4YXDXKBFFYRHHJJ5G&marketplace=FLIPKART&q=sneakers&store=osp%2Fcil%2Fe1f&srno=s_1_24&otracker=search&otracker1=search&fm=SEARCH&iid=en_jYjU%2F8fRwdEyPtSySRfIPQJ3KZP6inMJpr7guPr87u4qafs2MA09YkbFqXvnOpsOW6EeoES0QWO0a5CXRMyERQ%3D%3D&ppt=hp&ppn=homepage&ssid=yqs02ztneo0000001628782735576&qH=a1743c0d39461290',\n",
       " 'https://www.flipkart.com/puma-hip-hop-mid-perf-idp-sneakers-men/p/itm2456444291120?pid=SHOFNU2WZBENYYFN&lid=LSTSHOFNU2WZBENYYFNVZQSLA&marketplace=FLIPKART&q=sneakers&store=osp%2Fcil%2Fe1f&srno=s_1_25&otracker=search&otracker1=search&fm=SEARCH&iid=190fd381-a929-4c42-b468-717e58960cd3.SHOFNU2WZBENYYFN.SEARCH&ppt=hp&ppn=homepage&ssid=yqs02ztneo0000001628782735576&qH=a1743c0d39461290',\n",
       " 'https://www.flipkart.com/chevit-speed-set-5-pairs-sneakers-outdoors-casuals-men/p/itmccd9dcb86e757?pid=SHOFWJJFGKQEQFFW&lid=LSTSHOFWJJFGKQEQFFW0CKGNI&marketplace=FLIPKART&q=sneakers&store=osp%2Fcil%2Fe1f&srno=s_1_26&otracker=search&otracker1=search&fm=SEARCH&iid=190fd381-a929-4c42-b468-717e58960cd3.SHOFWJJFGKQEQFFW.SEARCH&ppt=hp&ppn=homepage&ssid=yqs02ztneo0000001628782735576&qH=a1743c0d39461290',\n",
       " 'https://www.flipkart.com/birde-combo-pack-4-casual-shoes-sneakers-men/p/itm6e3d45add0c84?pid=SHOGYGTHK7F9W2ZF&lid=LSTSHOGYGTHK7F9W2ZF1JAISX&marketplace=FLIPKART&q=sneakers&store=osp%2Fcil%2Fe1f&srno=s_1_27&otracker=search&otracker1=search&fm=SEARCH&iid=190fd381-a929-4c42-b468-717e58960cd3.SHOGYGTHK7F9W2ZF.SEARCH&ppt=hp&ppn=homepage&ssid=yqs02ztneo0000001628782735576&qH=a1743c0d39461290',\n",
       " 'https://www.flipkart.com/puma-mapf1-x-ray-2-sneakers-men/p/itmbfa12f7cc4a69?pid=SHOFZFG5RVGBBKXY&lid=LSTSHOFZFG5RVGBBKXYCZVEEZ&marketplace=FLIPKART&q=sneakers&store=osp%2Fcil%2Fe1f&srno=s_1_28&otracker=search&otracker1=search&fm=SEARCH&iid=en_jYjU%2F8fRwdEyPtSySRfIPQJ3KZP6inMJpr7guPr87u7PnPmeC0DdyC9D4W9TZIHI%2B1dfxZ1lLM663lsaj9G6AA%3D%3D&ppt=hp&ppn=homepage&ssid=yqs02ztneo0000001628782735576&qH=a1743c0d39461290',\n",
       " 'https://www.flipkart.com/chevit-494-perfect-sports-shoes-running-training-hikking-gym-cycling-trekking-hiking-sneakers-men/p/itm9e6bd103f4e9c?pid=SHOGYPM66QZVFZCH&lid=LSTSHOGYPM66QZVFZCH3DXQ02&marketplace=FLIPKART&q=sneakers&store=osp%2Fcil%2Fe1f&srno=s_1_29&otracker=search&otracker1=search&fm=SEARCH&iid=190fd381-a929-4c42-b468-717e58960cd3.SHOGYPM66QZVFZCH.SEARCH&ppt=hp&ppn=homepage&ssid=yqs02ztneo0000001628782735576&qH=a1743c0d39461290',\n",
       " 'https://www.flipkart.com/ktiz-white-sneaker-men-s-boy-s-sneakers-men/p/itm14b4ecbb16637?pid=SHOFUSHPMTHHUSGD&lid=LSTSHOFUSHPMTHHUSGDG0JMSP&marketplace=FLIPKART&q=sneakers&store=osp%2Fcil%2Fe1f&srno=s_1_30&otracker=search&otracker1=search&fm=SEARCH&iid=190fd381-a929-4c42-b468-717e58960cd3.SHOFUSHPMTHHUSGD.SEARCH&ppt=hp&ppn=homepage&ssid=yqs02ztneo0000001628782735576&qH=a1743c0d39461290',\n",
       " 'https://www.flipkart.com/absolute-comfort-soft-sneakers-men/p/itm01b8b3d676371?pid=SHOFTFP8AD9HUYVM&lid=LSTSHOFTFP8AD9HUYVMHSLVHE&marketplace=FLIPKART&q=sneakers&store=osp%2Fcil%2Fe1f&srno=s_1_31&otracker=search&otracker1=search&fm=SEARCH&iid=190fd381-a929-4c42-b468-717e58960cd3.SHOFTFP8AD9HUYVM.SEARCH&ppt=hp&ppn=homepage&ssid=yqs02ztneo0000001628782735576&qH=a1743c0d39461290',\n",
       " 'https://www.flipkart.com/strollin-sneakers-men/p/itm70c67de21a24c?pid=SHOGFWY3WGNXHKEM&lid=LSTSHOGFWY3WGNXHKEMPVLJKW&marketplace=FLIPKART&q=sneakers&store=osp%2Fcil%2Fe1f&srno=s_1_32&otracker=search&otracker1=search&fm=SEARCH&iid=en_jYjU%2F8fRwdEyPtSySRfIPQJ3KZP6inMJpr7guPr87u4C5gAUf%2BAohTmVj%2Fnoe1M9okA%2BpwmShO8BidaeN4YWaw%3D%3D&ppt=hp&ppn=homepage&ssid=yqs02ztneo0000001628782735576&qH=a1743c0d39461290',\n",
       " 'https://www.flipkart.com/world-wear-footwear-men-5014-latest-collection-stylish-casual-sports-loafers-shoes-sneakers/p/itme2c602df3a559?pid=SHOFNKABXC5Z6B6Z&lid=LSTSHOFNKABXC5Z6B6ZPEG7CD&marketplace=FLIPKART&q=sneakers&store=osp%2Fcil%2Fe1f&srno=s_1_33&otracker=search&otracker1=search&fm=SEARCH&iid=190fd381-a929-4c42-b468-717e58960cd3.SHOFNKABXC5Z6B6Z.SEARCH&ppt=hp&ppn=homepage&ssid=yqs02ztneo0000001628782735576&qH=a1743c0d39461290',\n",
       " 'https://www.flipkart.com/kraasa-series-7-sneakers-men/p/itmda307099c343b?pid=SHOGF3MZT9YP5GKP&lid=LSTSHOGF3MZT9YP5GKPDJCPPS&marketplace=FLIPKART&q=sneakers&store=osp%2Fcil%2Fe1f&srno=s_1_34&otracker=search&otracker1=search&fm=SEARCH&iid=190fd381-a929-4c42-b468-717e58960cd3.SHOGF3MZT9YP5GKP.SEARCH&ppt=hp&ppn=homepage&ssid=yqs02ztneo0000001628782735576&qH=a1743c0d39461290',\n",
       " 'https://www.flipkart.com/chevit-perfect-affordable-combo-pack-02-pairs-sneakers-outdoor-loafer-sports-running-rock-climbing-gym-shoes-men/p/itm66ea1242a9ea5?pid=SHOGYRVMYHSC9GDA&lid=LSTSHOGYRVMYHSC9GDAFLMCIF&marketplace=FLIPKART&q=sneakers&store=osp%2Fcil%2Fe1f&srno=s_1_35&otracker=search&otracker1=search&fm=SEARCH&iid=190fd381-a929-4c42-b468-717e58960cd3.SHOGYRVMYHSC9GDA.SEARCH&ppt=hp&ppn=homepage&ssid=yqs02ztneo0000001628782735576&qH=a1743c0d39461290',\n",
       " 'https://www.flipkart.com/puma-urban-sl-sneakers-men/p/itmfd98teecyfczt?pid=SHOFD98SHKPHRGKU&lid=LSTSHOFD98SHKPHRGKUCZRBZ5&marketplace=FLIPKART&q=sneakers&store=osp%2Fcil%2Fe1f&srno=s_1_36&otracker=search&otracker1=search&fm=SEARCH&iid=en_jYjU%2F8fRwdEyPtSySRfIPQJ3KZP6inMJpr7guPr87u5g8%2BRljI%2BMDoJsgF9nkEAbsRFtO7daBtAktjwSarRPtw%3D%3D&ppt=hp&ppn=homepage&ssid=yqs02ztneo0000001628782735576&qH=a1743c0d39461290',\n",
       " 'https://www.flipkart.com/robbie-jones-sneakers-men/p/itmb630cbefaaf97?pid=SHOGF4HZQF5CYRV5&lid=LSTSHOGF4HZQF5CYRV5WYXTCN&marketplace=FLIPKART&q=sneakers&store=osp%2Fcil%2Fe1f&srno=s_1_37&otracker=search&otracker1=search&fm=SEARCH&iid=190fd381-a929-4c42-b468-717e58960cd3.SHOGF4HZQF5CYRV5.SEARCH&ppt=hp&ppn=homepage&ssid=yqs02ztneo0000001628782735576&qH=a1743c0d39461290',\n",
       " 'https://www.flipkart.com/believe-sneakers-men-black-7-men/p/itmfdyhg8ezwgav9?pid=SHOFDXWHZT87HEFE&lid=LSTSHOFDXWHZT87HEFEH7XHUV&marketplace=FLIPKART&q=sneakers&store=osp%2Fcil%2Fe1f&srno=s_1_38&otracker=search&otracker1=search&fm=SEARCH&iid=190fd381-a929-4c42-b468-717e58960cd3.SHOFDXWHZT87HEFE.SEARCH&ppt=hp&ppn=homepage&ssid=yqs02ztneo0000001628782735576&qH=a1743c0d39461290',\n",
       " 'https://www.flipkart.com/scatchite-sneakers-men/p/itmc13680b1d9604?pid=SHOFUDSUUG8AAMZZ&lid=LSTSHOFUDSUUG8AAMZZXEJRH6&marketplace=FLIPKART&q=sneakers&store=osp%2Fcil%2Fe1f&srno=s_1_39&otracker=search&otracker1=search&fm=SEARCH&iid=190fd381-a929-4c42-b468-717e58960cd3.SHOFUDSUUG8AAMZZ.SEARCH&ppt=hp&ppn=homepage&ssid=yqs02ztneo0000001628782735576&qH=a1743c0d39461290',\n",
       " 'https://www.flipkart.com/birde-men-s-stylish-casual-shoes-sneakers-men/p/itmaddd925a85737?pid=SHOFYTVEHVFRMXHN&lid=LSTSHOFYTVEHVFRMXHNFB7EJK&marketplace=FLIPKART&q=sneakers&store=osp%2Fcil%2Fe1f&srno=s_1_40&otracker=search&otracker1=search&fm=SEARCH&iid=en_jYjU%2F8fRwdEyPtSySRfIPQJ3KZP6inMJpr7guPr87u74%2FSN7TNRpidC7S990v3%2FPEr%2BjEoW8Jvkk2p%2BfYdxZ4g%3D%3D&ppt=hp&ppn=homepage&ssid=yqs02ztneo0000001628782735576&qH=a1743c0d39461290']"
      ]
     },
     "execution_count": 129,
     "metadata": {},
     "output_type": "execute_result"
    }
   ],
   "source": [
    "sneakers=[]\n",
    "for i in url88:\n",
    "    sneakers.append(i.get_attribute('href'))\n",
    "sneakers"
   ]
  },
  {
   "cell_type": "code",
   "execution_count": 115,
   "metadata": {},
   "outputs": [
    {
     "data": {
      "text/plain": [
       "['Clymb ',\n",
       " 'PUMA ',\n",
       " 'Chevit ',\n",
       " 'Numenzo ',\n",
       " 'PEHANOSA ',\n",
       " 'Chevit ',\n",
       " 'ASTEROID ',\n",
       " 'bluemaker ',\n",
       " 'luxury fashion ',\n",
       " 'World Wear Footwear ',\n",
       " 'Numenzo ',\n",
       " 'U.S. POLO ASSN. ',\n",
       " 'Shoes Bank ',\n",
       " 'Creer ',\n",
       " 'BRUTON ',\n",
       " 'Chevit ',\n",
       " 'bluemaker ',\n",
       " 'Chevit ',\n",
       " 'Longwalk ',\n",
       " 'bluemaker ',\n",
       " 'Red Rose ',\n",
       " 'Zsyto ',\n",
       " 'HOTSTYLE ',\n",
       " 'STRANGER BROTHERS ',\n",
       " 'Chevit ',\n",
       " 'PUMA ',\n",
       " 'BIRDE ',\n",
       " 'HOC ',\n",
       " 'Chevit ',\n",
       " 'Ktiz ',\n",
       " 'Absolute comfort ',\n",
       " 'ROCKFIELD ',\n",
       " 'World Wear Footwear ',\n",
       " 'Kraasa ',\n",
       " 'Robbie jones ',\n",
       " 'bluemaker ',\n",
       " 'Chevit ',\n",
       " 'believe ',\n",
       " 'India hub ',\n",
       " 'PUMA ']"
      ]
     },
     "execution_count": 115,
     "metadata": {},
     "output_type": "execute_result"
    }
   ],
   "source": [
    "sneaker_brand=[]\n",
    "for i in sneakers:\n",
    "    driver8.get(i)\n",
    "    try:\n",
    "        brand=driver8.find_element_by_xpath(\"//span[@class='G6XhRU']\")\n",
    "        sneaker_brand.append(brand.text)\n",
    "    except:\n",
    "        sneaker_brand.append('-')\n",
    "sneaker_brand"
   ]
  },
  {
   "cell_type": "code",
   "execution_count": 117,
   "metadata": {},
   "outputs": [
    {
     "data": {
      "text/plain": [
       "['Comfort Air Net Super Quality Shoes Sneakers For Men  (White)',\n",
       " 'Ferrari Drift Cat 8 Sneakers For Men  (White)',\n",
       " 'Unique & Perfect Collection Combo Pack of 02 Shoes for Men Casual Sneakers & Outdoor Walking Shoes for Men Sport Shoes for Men Running Gym Cycling & Trekking Rock Climbing Shoes for Men Sneakers For Men  (Black)',\n",
       " 'Sneakers For Men  (White)',\n",
       " 'Sneakers For Men  (Multicolor)',\n",
       " 'Super Stylish & Trendy Combo Pack of 02 Pairs Sneakers Outdoor Loafer Sports for Running Rock Climbing Gym Shoes Sneakers For Men Sneakers For Men  (Grey, Navy)',\n",
       " \"Original Luxury Branded Fashionable Men's Casual Walking Partywear Sneakers Running White Shoes Sneakers For Men  (White)\",\n",
       " 'casual for men Sneakers For Men  (Brown)',\n",
       " 'Luxury Fashionable casual sneaker shoes Sneakers For Men  (White)',\n",
       " '5011-Latest Collection Stylish Casual Loafer Sneakers Shoes For Men Sneakers For Men  (Red)',\n",
       " 'Sneakers For Men  (Black)',\n",
       " 'LEBRON 2.0 Sneakers For Men  (Off White)',\n",
       " \"White Sneaker For Men's/Boy's Sneakers For Men  (White)\",\n",
       " 'Sneakers For Men  (White, Blue)',\n",
       " 'Combo Pack Of 4 Casual Shoes Loafer Shoes Sneakers For Men  (Multicolor)',\n",
       " 'Combo Pack of 4 Casual Sneakers With Sneakers For Men  (Multicolor)',\n",
       " 'casual for men (blue 10) Sneakers For Men  (Blue)',\n",
       " 'Perfect & Affordable Combo Pack of 03 Pairs Casual Sneakers Outdoor Loafers Sports Shoe for Running Gym Cycling & Trekking Shoes Sneakers For Men  (Orange, Black, Yellow)',\n",
       " 'Men Boxer Sneakers For Men  (Black)',\n",
       " 'Sneakers For Men  (Black)',\n",
       " 'Sneakers For Men  (Blue)',\n",
       " 'Sneakers For Men  (White, Black)',\n",
       " 'Sneakers For Men  (Black, Black)',\n",
       " 'Sneakers For Men  (White, Black)',\n",
       " 'Speed Set of 5 Pairs Sneakers Outdoors Casuals for Men Sneakers For Men  (Multicolor)',\n",
       " 'Hip Hop Mid Perf IDP Sneakers For Men  (Black)',\n",
       " 'Combo Pack of 4 Casual Shoes Sneakers For Men  (Multicolor)',\n",
       " 'Luxury Fashionable Breathable White shoes for men Sneakers For Men  (Black)',\n",
       " '494 Perfect Sports Shoes for Running Training Hikking & Gym Shoes , Cycling & Trekking Hiking Shoes Sneakers For Men  (Blue)',\n",
       " \"White Sneaker For Men's/Boy's Sneakers For Men  (White, Black)\",\n",
       " 'SOFT Sneakers For Men  (White)',\n",
       " 'Sneakers For Men  (Grey)',\n",
       " 'Men 5014 Latest Collection Stylish Casual Sports Loafers Shoes Sneakers Shoes Sneakers For Men  (Brown, Blue)',\n",
       " 'Series 7 Sneakers For Men  (White)',\n",
       " 'Sneakers For Men  (White, Black)',\n",
       " 'casual for men Sneakers For Men  (Black)',\n",
       " 'Perfect & Affordable Combo Pack of 02 Pairs Sneakers Outdoor Loafer Sports for Running Rock Climbing Gym Shoes Sneakers For Men  (Black, Grey)',\n",
       " 'Sneakers for men(black_7) Sneakers For Men  (Black)',\n",
       " 'Fashionable casual sneakers shoes Sneakers For Men  (Black)',\n",
       " 'MAPF1 X-RAY 2 Sneakers For Men  (Black)']"
      ]
     },
     "execution_count": 117,
     "metadata": {},
     "output_type": "execute_result"
    }
   ],
   "source": [
    "product_desc11=[]\n",
    "for i in sneakers:\n",
    "    driver8.get(i)\n",
    "    try:\n",
    "        description11=driver8.find_element_by_xpath(\"//span[@class='B_NuCI']\")\n",
    "        product_desc11.append(description11.text)\n",
    "    except:\n",
    "        product_desc11.append('-')\n",
    "product_desc11"
   ]
  },
  {
   "cell_type": "code",
   "execution_count": 118,
   "metadata": {},
   "outputs": [
    {
     "data": {
      "text/plain": [
       "['₹629',\n",
       " '₹3,599',\n",
       " '₹420',\n",
       " '₹378',\n",
       " '₹419',\n",
       " '₹536',\n",
       " '₹499',\n",
       " '₹399',\n",
       " '₹399',\n",
       " '₹240',\n",
       " '₹426',\n",
       " '₹3,999',\n",
       " '₹349',\n",
       " '₹418',\n",
       " '₹474',\n",
       " '₹424',\n",
       " '₹399',\n",
       " '₹594',\n",
       " '₹260',\n",
       " '₹399',\n",
       " '₹399',\n",
       " '₹311',\n",
       " '₹279',\n",
       " '₹449',\n",
       " '₹679',\n",
       " '₹2,042',\n",
       " '₹698',\n",
       " '₹439',\n",
       " '₹254',\n",
       " '₹384',\n",
       " '₹198',\n",
       " '₹399',\n",
       " '₹240',\n",
       " '₹399',\n",
       " '₹499',\n",
       " '₹399',\n",
       " '₹447',\n",
       " '₹449',\n",
       " '₹404',\n",
       " '₹4,491']"
      ]
     },
     "execution_count": 118,
     "metadata": {},
     "output_type": "execute_result"
    }
   ],
   "source": [
    "product_price11=[]\n",
    "for i in sneakers:\n",
    "    driver8.get(i)\n",
    "    try:\n",
    "        price11=driver8.find_element_by_xpath(\"//div[@class='_30jeq3 _16Jk6d']\")\n",
    "        product_price11.append(price11.text)\n",
    "    except:\n",
    "        product_price11.append('-')\n",
    "product_price11"
   ]
  },
  {
   "cell_type": "code",
   "execution_count": 119,
   "metadata": {},
   "outputs": [
    {
     "data": {
      "text/plain": [
       "['51% off',\n",
       " '55% off',\n",
       " '71% off',\n",
       " '62% off',\n",
       " '58% off',\n",
       " '66% off',\n",
       " '75% off',\n",
       " '60% off',\n",
       " '69% off',\n",
       " '51% off',\n",
       " '78% off',\n",
       " '-',\n",
       " '65% off',\n",
       " '58% off',\n",
       " '86% off',\n",
       " '78% off',\n",
       " '60% off',\n",
       " '77% off',\n",
       " '47% off',\n",
       " '60% off',\n",
       " '60% off',\n",
       " '76% off',\n",
       " '72% off',\n",
       " '55% off',\n",
       " '72% off',\n",
       " '41% off',\n",
       " '65% off',\n",
       " '78% off',\n",
       " '74% off',\n",
       " '61% off',\n",
       " '60% off',\n",
       " '60% off',\n",
       " '51% off',\n",
       " '-',\n",
       " '50% off',\n",
       " '60% off',\n",
       " '75% off',\n",
       " '55% off',\n",
       " '86% off',\n",
       " '43% off']"
      ]
     },
     "execution_count": 119,
     "metadata": {},
     "output_type": "execute_result"
    }
   ],
   "source": [
    "product_discount11=[]\n",
    "for i in sneakers:\n",
    "    driver8.get(i)\n",
    "    try:\n",
    "        discount11=driver8.find_element_by_xpath(\"//div[@class='_3Ay6Sb _31Dcoz pZkvcx']\")\n",
    "        product_discount11.append(discount11.text)\n",
    "    except:\n",
    "        product_discount11.append('-')\n",
    "product_discount11"
   ]
  },
  {
   "cell_type": "code",
   "execution_count": 137,
   "metadata": {},
   "outputs": [],
   "source": [
    "next_btn11=driver8.find_element_by_xpath(\"//a[@class='_1LKTO3']\")\n",
    "next_btn11.click()"
   ]
  },
  {
   "cell_type": "code",
   "execution_count": 131,
   "metadata": {},
   "outputs": [
    {
     "data": {
      "text/plain": [
       "[<selenium.webdriver.remote.webelement.WebElement (session=\"4e8026fcc106500cface265f40574b18\", element=\"2ca257f4-c978-4cda-9ec7-d894a2f0e36f\")>,\n",
       " <selenium.webdriver.remote.webelement.WebElement (session=\"4e8026fcc106500cface265f40574b18\", element=\"74213a10-6ff6-421c-9f4b-f957740a4408\")>,\n",
       " <selenium.webdriver.remote.webelement.WebElement (session=\"4e8026fcc106500cface265f40574b18\", element=\"e6e2a7f2-7119-49c3-a89b-ee4bf8fa94b3\")>,\n",
       " <selenium.webdriver.remote.webelement.WebElement (session=\"4e8026fcc106500cface265f40574b18\", element=\"f0d461b8-81e8-4eb2-830d-8c8a284ef1af\")>,\n",
       " <selenium.webdriver.remote.webelement.WebElement (session=\"4e8026fcc106500cface265f40574b18\", element=\"76ea10d0-61d0-4127-82eb-0637062688ea\")>,\n",
       " <selenium.webdriver.remote.webelement.WebElement (session=\"4e8026fcc106500cface265f40574b18\", element=\"8567dc6a-0642-4822-be40-7ac771c5af70\")>,\n",
       " <selenium.webdriver.remote.webelement.WebElement (session=\"4e8026fcc106500cface265f40574b18\", element=\"331b11ce-c8d2-47c4-b592-abdd4f14bf7d\")>,\n",
       " <selenium.webdriver.remote.webelement.WebElement (session=\"4e8026fcc106500cface265f40574b18\", element=\"7e41df68-93d7-4b73-88ce-f78270431b7f\")>,\n",
       " <selenium.webdriver.remote.webelement.WebElement (session=\"4e8026fcc106500cface265f40574b18\", element=\"9bc4c150-1ce3-42d9-8020-19b7cfb12a10\")>,\n",
       " <selenium.webdriver.remote.webelement.WebElement (session=\"4e8026fcc106500cface265f40574b18\", element=\"5cfad133-7dcb-4d28-a5ca-a45d12fc108b\")>,\n",
       " <selenium.webdriver.remote.webelement.WebElement (session=\"4e8026fcc106500cface265f40574b18\", element=\"c9c82d9c-2f1e-4285-93d0-d0be6dfc3cd0\")>,\n",
       " <selenium.webdriver.remote.webelement.WebElement (session=\"4e8026fcc106500cface265f40574b18\", element=\"78b1a599-3cd6-4647-8f1d-2c09597de603\")>,\n",
       " <selenium.webdriver.remote.webelement.WebElement (session=\"4e8026fcc106500cface265f40574b18\", element=\"8fccc23f-6fa5-40c0-92da-e1ddf2f6add4\")>,\n",
       " <selenium.webdriver.remote.webelement.WebElement (session=\"4e8026fcc106500cface265f40574b18\", element=\"b52b5e21-cf1b-4105-ba52-89adc7c9ca5c\")>,\n",
       " <selenium.webdriver.remote.webelement.WebElement (session=\"4e8026fcc106500cface265f40574b18\", element=\"871483a0-9104-4f88-8b4d-8926ebafc093\")>,\n",
       " <selenium.webdriver.remote.webelement.WebElement (session=\"4e8026fcc106500cface265f40574b18\", element=\"1a039d0c-7490-4271-a3e7-3c1df8b4f91b\")>,\n",
       " <selenium.webdriver.remote.webelement.WebElement (session=\"4e8026fcc106500cface265f40574b18\", element=\"4c6830fb-c86d-4056-8dc2-95c5853066be\")>,\n",
       " <selenium.webdriver.remote.webelement.WebElement (session=\"4e8026fcc106500cface265f40574b18\", element=\"95cf159e-0749-4810-b84f-d310d9543859\")>,\n",
       " <selenium.webdriver.remote.webelement.WebElement (session=\"4e8026fcc106500cface265f40574b18\", element=\"a245fa61-8010-4f42-8882-6fb36846cd34\")>,\n",
       " <selenium.webdriver.remote.webelement.WebElement (session=\"4e8026fcc106500cface265f40574b18\", element=\"beb84eeb-cd24-4f67-a99e-7a1b3c6e414b\")>,\n",
       " <selenium.webdriver.remote.webelement.WebElement (session=\"4e8026fcc106500cface265f40574b18\", element=\"8efddda1-9d5b-4b96-93d0-55f0218a4527\")>,\n",
       " <selenium.webdriver.remote.webelement.WebElement (session=\"4e8026fcc106500cface265f40574b18\", element=\"0b48c6e5-621c-4702-b3cf-b4f39223a201\")>,\n",
       " <selenium.webdriver.remote.webelement.WebElement (session=\"4e8026fcc106500cface265f40574b18\", element=\"9a27d1b4-0ff4-46c7-beab-0e0a5ac89538\")>,\n",
       " <selenium.webdriver.remote.webelement.WebElement (session=\"4e8026fcc106500cface265f40574b18\", element=\"fb9271e2-0426-48bc-b71c-9c94875cb4fc\")>,\n",
       " <selenium.webdriver.remote.webelement.WebElement (session=\"4e8026fcc106500cface265f40574b18\", element=\"3f461d84-14dd-4555-905f-6f14b699f9d5\")>,\n",
       " <selenium.webdriver.remote.webelement.WebElement (session=\"4e8026fcc106500cface265f40574b18\", element=\"b6f9d24e-108a-4b86-bcb3-3e342011646b\")>,\n",
       " <selenium.webdriver.remote.webelement.WebElement (session=\"4e8026fcc106500cface265f40574b18\", element=\"7df058a3-c5a5-477c-9905-31383c448d13\")>,\n",
       " <selenium.webdriver.remote.webelement.WebElement (session=\"4e8026fcc106500cface265f40574b18\", element=\"ca6f9f5f-0fb0-446a-b68c-71ec5b89a24d\")>,\n",
       " <selenium.webdriver.remote.webelement.WebElement (session=\"4e8026fcc106500cface265f40574b18\", element=\"0b0868f2-0d0d-45e9-a18d-686271d6e823\")>,\n",
       " <selenium.webdriver.remote.webelement.WebElement (session=\"4e8026fcc106500cface265f40574b18\", element=\"fea87cbf-6157-4991-8a63-2f79af5010c5\")>,\n",
       " <selenium.webdriver.remote.webelement.WebElement (session=\"4e8026fcc106500cface265f40574b18\", element=\"75bbe214-e978-4df4-9533-ba8c5ff6eaf4\")>,\n",
       " <selenium.webdriver.remote.webelement.WebElement (session=\"4e8026fcc106500cface265f40574b18\", element=\"f68f2c32-be09-4399-bb0d-8dc2d28c4371\")>,\n",
       " <selenium.webdriver.remote.webelement.WebElement (session=\"4e8026fcc106500cface265f40574b18\", element=\"15c82b2b-11ab-4fb4-806d-cfa29794258f\")>,\n",
       " <selenium.webdriver.remote.webelement.WebElement (session=\"4e8026fcc106500cface265f40574b18\", element=\"05bdc682-3be9-4a43-8d8c-c885cdbe1c67\")>,\n",
       " <selenium.webdriver.remote.webelement.WebElement (session=\"4e8026fcc106500cface265f40574b18\", element=\"baf4b656-289e-47da-9eb6-463ae05337f4\")>,\n",
       " <selenium.webdriver.remote.webelement.WebElement (session=\"4e8026fcc106500cface265f40574b18\", element=\"21b26f6a-2e3a-4d50-becd-784a2e6dd67c\")>,\n",
       " <selenium.webdriver.remote.webelement.WebElement (session=\"4e8026fcc106500cface265f40574b18\", element=\"0d4acc6e-24f5-4803-be39-16287fc4142d\")>,\n",
       " <selenium.webdriver.remote.webelement.WebElement (session=\"4e8026fcc106500cface265f40574b18\", element=\"88affae5-50ba-466a-a79a-6ac966753c11\")>,\n",
       " <selenium.webdriver.remote.webelement.WebElement (session=\"4e8026fcc106500cface265f40574b18\", element=\"1c777be9-ca63-48d9-a5f6-57f8dd7b0881\")>,\n",
       " <selenium.webdriver.remote.webelement.WebElement (session=\"4e8026fcc106500cface265f40574b18\", element=\"5ea76b00-95fb-4ec5-b671-6ba092c6eaac\")>]"
      ]
     },
     "execution_count": 131,
     "metadata": {},
     "output_type": "execute_result"
    }
   ],
   "source": [
    "url888=driver8.find_elements_by_xpath(\"//a[@class='_2UzuFa']\")\n",
    "url888"
   ]
  },
  {
   "cell_type": "code",
   "execution_count": 132,
   "metadata": {},
   "outputs": [
    {
     "data": {
      "text/plain": [
       "['https://www.flipkart.com/india-hub-fashionable-casual-sneakers-shoes-men/p/itm5b26824d21d3a?pid=SHOFUZ4HFPJZZZCG&lid=LSTSHOFUZ4HFPJZZZCG5DWPBR&marketplace=FLIPKART&q=sneakers&store=osp%2Fcil%2Fe1f&srno=s_2_41&otracker=search&otracker1=search&fm=SEARCH&iid=8d16e2da-802c-417d-bdd6-93053643eaad.SHOFUZ4HFPJZZZCG.SEARCH&ppt=sp&ppn=sp&ssid=yqs02ztneo0000001628782735576&qH=a1743c0d39461290',\n",
       " 'https://www.flipkart.com/rockfield-sneakers-men/p/itmdf791eab3a1e0?pid=SHOFKPYZQQAXH24P&lid=LSTSHOFKPYZQQAXH24PIVXFFG&marketplace=FLIPKART&q=sneakers&store=osp%2Fcil%2Fe1f&srno=s_2_42&otracker=search&otracker1=search&fm=SEARCH&iid=8d16e2da-802c-417d-bdd6-93053643eaad.SHOFKPYZQQAXH24P.SEARCH&ppt=sp&ppn=sp&ssid=yqs02ztneo0000001628782735576&qH=a1743c0d39461290',\n",
       " 'https://www.flipkart.com/sparx-sm439g-sneakers-men/p/itm798025ba722d1?pid=SHOFP4PUPXTPJTGQ&lid=LSTSHOFP4PUPXTPJTGQOVUDZQ&marketplace=FLIPKART&q=sneakers&store=osp%2Fcil%2Fe1f&srno=s_2_43&otracker=search&otracker1=search&fm=SEARCH&iid=8d16e2da-802c-417d-bdd6-93053643eaad.SHOFP4PUPXTPJTGQ.SEARCH&ppt=sp&ppn=sp&ssid=yqs02ztneo0000001628782735576&qH=a1743c0d39461290',\n",
       " 'https://www.flipkart.com/puma-cape-idp-sneakers-men/p/itm6edd6b4dfe72e?pid=SHOFZG42TWCRZEXQ&lid=LSTSHOFZG42TWCRZEXQUYYEQC&marketplace=FLIPKART&q=sneakers&store=osp%2Fcil%2Fe1f&srno=s_2_44&otracker=search&otracker1=search&fm=SEARCH&iid=en_R5LrTE7Zx47hsCMgz1bfLk8dQ3ojJWwuMOCa3XpEMDWIpB0WSoeKor%2BvWgjM0sru%2FNeq63YGsZFkHx%2FRWR4e5Q%3D%3D&ppt=sp&ppn=sp&ssid=yqs02ztneo0000001628782735576&qH=a1743c0d39461290',\n",
       " 'https://www.flipkart.com/t-rock-synthetic-leather-casual-partywear-wedding-sneakers-shoes-men/p/itmfhkz7qghnktdg?pid=SHOFHKH6B39PV5HE&lid=LSTSHOFHKH6B39PV5HE3W1SEV&marketplace=FLIPKART&q=sneakers&store=osp%2Fcil%2Fe1f&srno=s_2_45&otracker=search&otracker1=search&fm=SEARCH&iid=8d16e2da-802c-417d-bdd6-93053643eaad.SHOFHKH6B39PV5HE.SEARCH&ppt=sp&ppn=sp&ssid=yqs02ztneo0000001628782735576&qH=a1743c0d39461290',\n",
       " 'https://www.flipkart.com/restinfoot-casual-shoes-sneakers-men/p/itmfeuvtqzmpswx7?pid=SHOFEUP9D2FQXC5B&lid=LSTSHOFEUP9D2FQXC5BDXQEUB&marketplace=FLIPKART&q=sneakers&store=osp%2Fcil%2Fe1f&srno=s_2_46&otracker=search&otracker1=search&fm=SEARCH&iid=8d16e2da-802c-417d-bdd6-93053643eaad.SHOFEUP9D2FQXC5B.SEARCH&ppt=sp&ppn=sp&ssid=yqs02ztneo0000001628782735576&qH=a1743c0d39461290',\n",
       " 'https://www.flipkart.com/roddick-shoes-fashion-outdoor-canvas-casual-light-weight-lace-up-evening-walk-running-men-sneakers/p/itmbe9f4e9f9fd38?pid=SHOG48CYSYKVSDMB&lid=LSTSHOG48CYSYKVSDMB3K9OGS&marketplace=FLIPKART&q=sneakers&store=osp%2Fcil%2Fe1f&srno=s_2_47&otracker=search&otracker1=search&fm=SEARCH&iid=8d16e2da-802c-417d-bdd6-93053643eaad.SHOG48CYSYKVSDMB.SEARCH&ppt=sp&ppn=sp&ssid=yqs02ztneo0000001628782735576&qH=a1743c0d39461290',\n",
       " 'https://www.flipkart.com/red-tape-sneakers-men/p/itm112047407992e?pid=SHOGYXJH9ZV8FGCZ&lid=LSTSHOGYXJH9ZV8FGCZZPJJ1S&marketplace=FLIPKART&q=sneakers&store=osp%2Fcil%2Fe1f&srno=s_2_48&otracker=search&otracker1=search&fm=SEARCH&iid=en_R5LrTE7Zx47hsCMgz1bfLk8dQ3ojJWwuMOCa3XpEMDXtIeks3F3nnWpWZn5pLE9AJFX06SE1kWmeR4uaY%2FVNhg%3D%3D&ppt=sp&ppn=sp&ssid=yqs02ztneo0000001628782735576&qH=a1743c0d39461290',\n",
       " 'https://www.flipkart.com/nilatin-black-sneaker-men-sneakers/p/itmd49f1f095b6ce?pid=SHOG42ZHJJJKE339&lid=LSTSHOG42ZHJJJKE339HDHTZM&marketplace=FLIPKART&q=sneakers&store=osp%2Fcil%2Fe1f&srno=s_2_49&otracker=search&otracker1=search&fm=SEARCH&iid=8d16e2da-802c-417d-bdd6-93053643eaad.SHOG42ZHJJJKE339.SEARCH&ppt=sp&ppn=sp&ssid=yqs02ztneo0000001628782735576&qH=a1743c0d39461290',\n",
       " 'https://www.flipkart.com/roddick-shoes-fashion-outdoor-canvas-casual-light-weight-lace-up-evening-walk-running-men-sneakers/p/itm60a27f5e97e8a?pid=SHOG48D2D4N3CJKR&lid=LSTSHOG48D2D4N3CJKRPZBP3W&marketplace=FLIPKART&q=sneakers&store=osp%2Fcil%2Fe1f&srno=s_2_50&otracker=search&otracker1=search&fm=SEARCH&iid=8d16e2da-802c-417d-bdd6-93053643eaad.SHOG48D2D4N3CJKR.SEARCH&ppt=sp&ppn=sp&ssid=yqs02ztneo0000001628782735576&qH=a1743c0d39461290',\n",
       " 'https://www.flipkart.com/arohi-sneakers-men/p/itm6902e4b22d54d?pid=SHOFZUBJPFXYRWGS&lid=LSTSHOFZUBJPFXYRWGSURFQZZ&marketplace=FLIPKART&q=sneakers&store=osp%2Fcil%2Fe1f&srno=s_2_51&otracker=search&otracker1=search&fm=SEARCH&iid=8d16e2da-802c-417d-bdd6-93053643eaad.SHOFZUBJPFXYRWGS.SEARCH&ppt=sp&ppn=sp&ssid=yqs02ztneo0000001628782735576&qH=a1743c0d39461290',\n",
       " 'https://www.flipkart.com/stranger-brothers-sneakers-men/p/itm9cd0abb73082c?pid=SHOFXGFV29N6ZAMM&lid=LSTSHOFXGFV29N6ZAMM2KOJNJ&marketplace=FLIPKART&q=sneakers&store=osp%2Fcil%2Fe1f&srno=s_2_52&otracker=search&otracker1=search&fm=SEARCH&iid=en_R5LrTE7Zx47hsCMgz1bfLk8dQ3ojJWwuMOCa3XpEMDVODyekSDvwZFNp6pOXgs%2B7n%2BuSrBmRpJ7cYc11cNuzpw%3D%3D&ppt=sp&ppn=sp&ssid=yqs02ztneo0000001628782735576&qH=a1743c0d39461290',\n",
       " 'https://www.flipkart.com/chevit-super-445-fashion-sneakers-men/p/itm66119bb8aece9?pid=SHOFYAT7HUFHBTBE&lid=LSTSHOFYAT7HUFHBTBEMRL3UF&marketplace=FLIPKART&q=sneakers&store=osp%2Fcil%2Fe1f&srno=s_2_53&otracker=search&otracker1=search&fm=SEARCH&iid=8d16e2da-802c-417d-bdd6-93053643eaad.SHOFYAT7HUFHBTBE.SEARCH&ppt=sp&ppn=sp&ssid=yqs02ztneo0000001628782735576&qH=a1743c0d39461290',\n",
       " 'https://www.flipkart.com/tr-sneakers-men/p/itm1341fd611c54e?pid=SHOFZQ3NG47TTDKY&lid=LSTSHOFZQ3NG47TTDKY9TARJW&marketplace=FLIPKART&q=sneakers&store=osp%2Fcil%2Fe1f&srno=s_2_54&otracker=search&otracker1=search&fm=SEARCH&iid=8d16e2da-802c-417d-bdd6-93053643eaad.SHOFZQ3NG47TTDKY.SEARCH&ppt=sp&ppn=sp&ssid=yqs02ztneo0000001628782735576&qH=a1743c0d39461290',\n",
       " 'https://www.flipkart.com/world-wear-footwear-latest-collection-1227-stylish-casual-sports-sneakers-men/p/itmf417d91f7b7b2?pid=SHOFJGUEKN5G9YFG&lid=LSTSHOFJGUEKN5G9YFGBFKDOL&marketplace=FLIPKART&q=sneakers&store=osp%2Fcil%2Fe1f&srno=s_2_55&otracker=search&otracker1=search&fm=SEARCH&iid=8d16e2da-802c-417d-bdd6-93053643eaad.SHOFJGUEKN5G9YFG.SEARCH&ppt=sp&ppn=sp&ssid=yqs02ztneo0000001628782735576&qH=a1743c0d39461290',\n",
       " 'https://www.flipkart.com/stranger-brothers-sneakers-men/p/itmf49417b1476d8?pid=SHOG4GNUWQMQKDK8&lid=LSTSHOG4GNUWQMQKDK8TTVK7I&marketplace=FLIPKART&q=sneakers&store=osp%2Fcil%2Fe1f&srno=s_2_56&otracker=search&otracker1=search&fm=SEARCH&iid=en_R5LrTE7Zx47hsCMgz1bfLk8dQ3ojJWwuMOCa3XpEMDW225WC16C2YnFEJAJShcZPvNh%2BIEtDL4nAALZvfA7IaA%3D%3D&ppt=sp&ppn=sp&ssid=yqs02ztneo0000001628782735576&qH=a1743c0d39461290',\n",
       " 'https://www.flipkart.com/sparx-sm-322-sneakers-men/p/itmf27234d02f4d7?pid=SHOFFTAEYYZU6ZDX&lid=LSTSHOFFTAEYYZU6ZDXYM9QRG&marketplace=FLIPKART&q=sneakers&store=osp%2Fcil%2Fe1f&srno=s_2_57&otracker=search&otracker1=search&fm=SEARCH&iid=8d16e2da-802c-417d-bdd6-93053643eaad.SHOFFTAEYYZU6ZDX.SEARCH&ppt=sp&ppn=sp&ssid=yqs02ztneo0000001628782735576&qH=a1743c0d39461290',\n",
       " 'https://www.flipkart.com/zsyto-sneakers-men/p/itmd1559e06f06f0?pid=SHOG4BNPDKYWJXRD&lid=LSTSHOG4BNPDKYWJXRDCFKWY4&marketplace=FLIPKART&q=sneakers&store=osp%2Fcil%2Fe1f&srno=s_2_58&otracker=search&otracker1=search&fm=SEARCH&iid=8d16e2da-802c-417d-bdd6-93053643eaad.SHOG4BNPDKYWJXRD.SEARCH&ppt=sp&ppn=sp&ssid=yqs02ztneo0000001628782735576&qH=a1743c0d39461290',\n",
       " 'https://www.flipkart.com/jack-diamond-sneakers-men/p/itmfg3zsnpc53pes?pid=SHOFG3REUWHYBHBA&lid=LSTSHOFG3REUWHYBHBA77CGXA&marketplace=FLIPKART&q=sneakers&store=osp%2Fcil%2Fe1f&srno=s_2_59&otracker=search&otracker1=search&fm=SEARCH&iid=8d16e2da-802c-417d-bdd6-93053643eaad.SHOFG3REUWHYBHBA.SEARCH&ppt=sp&ppn=sp&ssid=yqs02ztneo0000001628782735576&qH=a1743c0d39461290',\n",
       " 'https://www.flipkart.com/richwon-casual-stylish-shoe-men-sneakers/p/itm9408a927aeb7b?pid=SHOG443QRACBDZHC&lid=LSTSHOG443QRACBDZHCWCL9CY&marketplace=FLIPKART&q=sneakers&store=osp%2Fcil%2Fe1f&srno=s_2_60&otracker=search&otracker1=search&fm=SEARCH&iid=en_R5LrTE7Zx47hsCMgz1bfLk8dQ3ojJWwuMOCa3XpEMDViN9513nF5e9XFm3uBI%2Blbp3WkXGUCh9dh7mxqbMe8ag%3D%3D&ppt=sp&ppn=sp&ssid=yqs02ztneo0000001628782735576&qH=a1743c0d39461290',\n",
       " 'https://www.flipkart.com/wrizt-casual-sneakers-dancing-walking-sneakers-men/p/itm3631db68b0f9b?pid=SHOGYWYKBH5HQNKZ&lid=LSTSHOGYWYKBH5HQNKZU1MIDU&marketplace=FLIPKART&q=sneakers&store=osp%2Fcil%2Fe1f&srno=s_2_61&otracker=search&otracker1=search&fm=SEARCH&iid=8d16e2da-802c-417d-bdd6-93053643eaad.SHOGYWYKBH5HQNKZ.SEARCH&ppt=sp&ppn=sp&ssid=yqs02ztneo0000001628782735576&qH=a1743c0d39461290',\n",
       " 'https://www.flipkart.com/hoc-luxury-fashionable-breathable-white-shoes-men-sneakers/p/itm55e95588d83e1?pid=SHOG4ZZHGXBEDQZA&lid=LSTSHOG4ZZHGXBEDQZAFZ3XMT&marketplace=FLIPKART&q=sneakers&store=osp%2Fcil%2Fe1f&srno=s_2_62&otracker=search&otracker1=search&fm=SEARCH&iid=8d16e2da-802c-417d-bdd6-93053643eaad.SHOG4ZZHGXBEDQZA.SEARCH&ppt=sp&ppn=sp&ssid=yqs02ztneo0000001628782735576&qH=a1743c0d39461290',\n",
       " 'https://www.flipkart.com/zorth-sneakers-men/p/itm83bf7484e4939?pid=SHOGYBG6KZH78TGZ&lid=LSTSHOGYBG6KZH78TGZUZ2VBV&marketplace=FLIPKART&q=sneakers&store=osp%2Fcil%2Fe1f&srno=s_2_63&otracker=search&otracker1=search&fm=SEARCH&iid=8d16e2da-802c-417d-bdd6-93053643eaad.SHOGYBG6KZH78TGZ.SEARCH&ppt=sp&ppn=sp&ssid=yqs02ztneo0000001628782735576&qH=a1743c0d39461290',\n",
       " 'https://www.flipkart.com/echor-trend-sneakers-men/p/itm05a6f78909dc5?pid=SHOG24YFB3QYFJV4&lid=LSTSHOG24YFB3QYFJV46ZFOLS&marketplace=FLIPKART&q=sneakers&store=osp%2Fcil%2Fe1f&srno=s_2_64&otracker=search&otracker1=search&fm=SEARCH&iid=en_R5LrTE7Zx47hsCMgz1bfLk8dQ3ojJWwuMOCa3XpEMDUyQtsOUd3RQMuxX%2BfOifAn8ujIqGIGjDYCmTFZNkSneQ%3D%3D&ppt=sp&ppn=sp&ssid=yqs02ztneo0000001628782735576&qH=a1743c0d39461290',\n",
       " 'https://www.flipkart.com/creer-sneakers-men/p/itm460cee6e9430b?pid=SHOG4TDSH4CHTJ4Z&lid=LSTSHOG4TDSH4CHTJ4ZWVKVQ2&marketplace=FLIPKART&q=sneakers&store=osp%2Fcil%2Fe1f&srno=s_2_65&otracker=search&otracker1=search&fm=SEARCH&iid=8d16e2da-802c-417d-bdd6-93053643eaad.SHOG4TDSH4CHTJ4Z.SEARCH&ppt=sp&ppn=sp&ssid=yqs02ztneo0000001628782735576&qH=a1743c0d39461290',\n",
       " 'https://www.flipkart.com/robbie-jones-sneakers-men/p/itme831dc6090a19?pid=SHOG5FA5UGWT6W7G&lid=LSTSHOG5FA5UGWT6W7G2CGKYZ&marketplace=FLIPKART&q=sneakers&store=osp%2Fcil%2Fe1f&spotlightTagId=TrendingId_osp%2Fcil%2Fe1f&srno=s_2_66&otracker=search&otracker1=search&fm=SEARCH&iid=8d16e2da-802c-417d-bdd6-93053643eaad.SHOG5FA5UGWT6W7G.SEARCH&ppt=sp&ppn=sp&ssid=yqs02ztneo0000001628782735576&qH=a1743c0d39461290',\n",
       " 'https://www.flipkart.com/bluemaker-casual-men-beige-07-sneakers/p/itm04e50500732a9?pid=SHOFUSH7AGZDT9DQ&lid=LSTSHOFUSH7AGZDT9DQAASVNU&marketplace=FLIPKART&q=sneakers&store=osp%2Fcil%2Fe1f&srno=s_2_67&otracker=search&otracker1=search&fm=SEARCH&iid=8d16e2da-802c-417d-bdd6-93053643eaad.SHOFUSH7AGZDT9DQ.SEARCH&ppt=sp&ppn=sp&ssid=yqs02ztneo0000001628782735576&qH=a1743c0d39461290',\n",
       " 'https://www.flipkart.com/red-tape-sneakers-men/p/itm8c8d95261a795?pid=SHOFRBPEQE5YYYCW&lid=LSTSHOFRBPEQE5YYYCWJZWNPC&marketplace=FLIPKART&q=sneakers&store=osp%2Fcil%2Fe1f&srno=s_2_68&otracker=search&otracker1=search&fm=SEARCH&iid=en_R5LrTE7Zx47hsCMgz1bfLk8dQ3ojJWwuMOCa3XpEMDXEM38dqnmu7JlhodhJWIwu6Jodd89bufvP9fw%2BEJAjew%3D%3D&ppt=sp&ppn=sp&ssid=yqs02ztneo0000001628782735576&qH=a1743c0d39461290',\n",
       " 'https://www.flipkart.com/robbie-jones-casual-sneakers-shoes-men-boys/p/itm63089f27865b6?pid=SHOG3FFG5CDVGZWG&lid=LSTSHOG3FFG5CDVGZWGEFMCGK&marketplace=FLIPKART&q=sneakers&store=osp%2Fcil%2Fe1f&srno=s_2_69&otracker=search&otracker1=search&fm=SEARCH&iid=8d16e2da-802c-417d-bdd6-93053643eaad.SHOG3FFG5CDVGZWG.SEARCH&ppt=sp&ppn=sp&ssid=yqs02ztneo0000001628782735576&qH=a1743c0d39461290',\n",
       " 'https://www.flipkart.com/d-sneakerz-casual-partywear-sneakers-shoes-men-s-boys-white-color-men/p/itmf3xujnyvhbeqh?pid=SHOFFT35TZJFPTA4&lid=LSTSHOFFT35TZJFPTA4GQXUMX&marketplace=FLIPKART&q=sneakers&store=osp%2Fcil%2Fe1f&srno=s_2_70&otracker=search&otracker1=search&fm=SEARCH&iid=8d16e2da-802c-417d-bdd6-93053643eaad.SHOFFT35TZJFPTA4.SEARCH&ppt=sp&ppn=sp&ssid=yqs02ztneo0000001628782735576&qH=a1743c0d39461290',\n",
       " 'https://www.flipkart.com/nilatin-white-sneaker-men-sneakers/p/itm4b9321c804aa7?pid=SHOFZG693PGVG6AP&lid=LSTSHOFZG693PGVG6APHCEM7U&marketplace=FLIPKART&q=sneakers&store=osp%2Fcil%2Fe1f&srno=s_2_71&otracker=search&otracker1=search&fm=SEARCH&iid=8d16e2da-802c-417d-bdd6-93053643eaad.SHOFZG693PGVG6AP.SEARCH&ppt=sp&ppn=sp&ssid=yqs02ztneo0000001628782735576&qH=a1743c0d39461290',\n",
       " 'https://www.flipkart.com/asics-classic-ct-slip-on-sneakers-men/p/itm655620d2140b1?pid=SHOFT8Q4ZP9D9ZVH&lid=LSTSHOFT8Q4ZP9D9ZVHGEZYYA&marketplace=FLIPKART&q=sneakers&store=osp%2Fcil%2Fe1f&srno=s_2_72&otracker=search&otracker1=search&fm=SEARCH&iid=en_R5LrTE7Zx47hsCMgz1bfLk8dQ3ojJWwuMOCa3XpEMDWPw%2BPfp6QRTayvKMwnKybACc%2BIbys9F08DhsHv6ie5Tg%3D%3D&ppt=sp&ppn=sp&ssid=yqs02ztneo0000001628782735576&qH=a1743c0d39461290',\n",
       " 'https://www.flipkart.com/bruton-modern-trendy-collection-combo-pack-02-shoes-men-casual-sneakers-outdoor-walking-sport-running-gym-cycling-trekking-rock-climbing/p/itm4c7187fbd54cc?pid=SHOG47BDGFRCJNNE&lid=LSTSHOG47BDGFRCJNNEMBCRB5&marketplace=FLIPKART&q=sneakers&store=osp%2Fcil%2Fe1f&srno=s_2_73&otracker=search&otracker1=search&fm=SEARCH&iid=8d16e2da-802c-417d-bdd6-93053643eaad.SHOG47BDGFRCJNNE.SEARCH&ppt=sp&ppn=sp&ssid=yqs02ztneo0000001628782735576&qH=a1743c0d39461290',\n",
       " 'https://www.flipkart.com/numenzo-sneakers-men/p/itm8344e47bb0f3d?pid=SHOFZ4RGK8XZKRWY&lid=LSTSHOFZ4RGK8XZKRWY1MQXQ8&marketplace=FLIPKART&q=sneakers&store=osp%2Fcil%2Fe1f&srno=s_2_74&otracker=search&otracker1=search&fm=SEARCH&iid=8d16e2da-802c-417d-bdd6-93053643eaad.SHOFZ4RGK8XZKRWY.SEARCH&ppt=sp&ppn=sp&ssid=yqs02ztneo0000001628782735576&qH=a1743c0d39461290',\n",
       " 'https://www.flipkart.com/zorth-new-fashion-outdoor-trendy-lightweight-casual-canvas-stylish-partywear-sneakers-shoes-boys-men/p/itme127ce3431f9d?pid=SHOFTMXCZQWYPSQH&lid=LSTSHOFTMXCZQWYPSQHIRWVWT&marketplace=FLIPKART&q=sneakers&store=osp%2Fcil%2Fe1f&srno=s_2_75&otracker=search&otracker1=search&fm=SEARCH&iid=8d16e2da-802c-417d-bdd6-93053643eaad.SHOFTMXCZQWYPSQH.SEARCH&ppt=sp&ppn=sp&ssid=yqs02ztneo0000001628782735576&qH=a1743c0d39461290',\n",
       " 'https://www.flipkart.com/otoos-sneakers-men/p/itm5799623cccf72?pid=SHOFNPYW28QZVUTG&lid=LSTSHOFNPYW28QZVUTG1ZEQIQ&marketplace=FLIPKART&q=sneakers&store=osp%2Fcil%2Fe1f&srno=s_2_76&otracker=search&otracker1=search&fm=SEARCH&iid=en_R5LrTE7Zx47hsCMgz1bfLk8dQ3ojJWwuMOCa3XpEMDVpoCmebMNzcBfEHOzeTYWOa3d%2BgqOcY5Ln1Jo7IIQe9g%3D%3D&ppt=sp&ppn=sp&ssid=yqs02ztneo0000001628782735576&qH=a1743c0d39461290',\n",
       " 'https://www.flipkart.com/jokatoo-casual-sneaker-shoes-partywear-casuals-men-sneakers/p/itmbc07ae8e0f5fc?pid=SHOFMKKUWZQZHY3B&lid=LSTSHOFMKKUWZQZHY3B8RHJNE&marketplace=FLIPKART&q=sneakers&store=osp%2Fcil%2Fe1f&srno=s_2_77&otracker=search&otracker1=search&fm=SEARCH&iid=8d16e2da-802c-417d-bdd6-93053643eaad.SHOFMKKUWZQZHY3B.SEARCH&ppt=sp&ppn=sp&ssid=yqs02ztneo0000001628782735576&qH=a1743c0d39461290',\n",
       " 'https://www.flipkart.com/echor-trend-sneakers-men/p/itm05a6f78909dc5?pid=SHOG24YFUEBV6HQZ&lid=LSTSHOG24YFUEBV6HQZAD3C1I&marketplace=FLIPKART&q=sneakers&store=osp%2Fcil%2Fe1f&srno=s_2_78&otracker=search&otracker1=search&fm=SEARCH&iid=8d16e2da-802c-417d-bdd6-93053643eaad.SHOG24YFUEBV6HQZ.SEARCH&ppt=sp&ppn=sp&ssid=yqs02ztneo0000001628782735576&qH=a1743c0d39461290',\n",
       " 'https://www.flipkart.com/edoeviv-original-luxury-branded-fashionable-men-s-casual-walking-partywear-sneakers-running-white-shoes-men/p/itm2a544a96f49e8?pid=SHOFY7QP7GP2VYB7&lid=LSTSHOFY7QP7GP2VYB7YJGPHF&marketplace=FLIPKART&q=sneakers&store=osp%2Fcil%2Fe1f&srno=s_2_79&otracker=search&otracker1=search&fm=SEARCH&iid=8d16e2da-802c-417d-bdd6-93053643eaad.SHOFY7QP7GP2VYB7.SEARCH&ppt=sp&ppn=sp&ssid=yqs02ztneo0000001628782735576&qH=a1743c0d39461290',\n",
       " 'https://www.flipkart.com/red-rose-sneakers-men/p/itmfhp7pq4earagj?pid=SHOFHP3PGPYVAPHN&lid=LSTSHOFHP3PGPYVAPHN87MVAP&marketplace=FLIPKART&q=sneakers&store=osp%2Fcil%2Fe1f&srno=s_2_80&otracker=search&otracker1=search&fm=SEARCH&iid=en_R5LrTE7Zx47hsCMgz1bfLk8dQ3ojJWwuMOCa3XpEMDU9xu7PnWKsc%2BBOMjD%2B0xnm5ysE934%2FTvMB6BAC0vdWMw%3D%3D&ppt=sp&ppn=sp&ssid=yqs02ztneo0000001628782735576&qH=a1743c0d39461290']"
      ]
     },
     "execution_count": 132,
     "metadata": {},
     "output_type": "execute_result"
    }
   ],
   "source": [
    "sneakers1=[]\n",
    "for i in url888:\n",
    "    sneakers1.append(i.get_attribute('href'))\n",
    "sneakers1"
   ]
  },
  {
   "cell_type": "code",
   "execution_count": 133,
   "metadata": {},
   "outputs": [
    {
     "data": {
      "text/plain": [
       "['India hub ',\n",
       " 'ROCKFIELD ',\n",
       " 'SPARX ',\n",
       " 'PUMA ',\n",
       " 'T-ROCK ',\n",
       " 'restinfoot ',\n",
       " 'RODDICK SHOES ',\n",
       " 'RED TAPE ',\n",
       " 'Nilatin ',\n",
       " 'RODDICK SHOES ',\n",
       " 'Arohi ',\n",
       " 'STRANGER BROTHERS ',\n",
       " 'Chevit ',\n",
       " 'TR ',\n",
       " 'World Wear Footwear ',\n",
       " 'STRANGER BROTHERS ',\n",
       " 'SPARX ',\n",
       " 'Zsyto ',\n",
       " 'Jack Diamond ',\n",
       " 'Richwon ',\n",
       " 'WRIZT ',\n",
       " 'HOC ',\n",
       " 'Zorth ',\n",
       " 'Echor ',\n",
       " 'Creer ',\n",
       " 'Robbie jones ',\n",
       " 'bluemaker ',\n",
       " 'RED TAPE ',\n",
       " 'Robbie jones ',\n",
       " 'D-SNEAKERZ ',\n",
       " 'Nilatin ',\n",
       " 'asics ',\n",
       " 'BRUTON ',\n",
       " 'Numenzo ',\n",
       " 'Zorth ',\n",
       " 'otoos ',\n",
       " 'Jokatoo ',\n",
       " 'Echor ',\n",
       " 'Edoeviv ',\n",
       " 'Red Rose ']"
      ]
     },
     "execution_count": 133,
     "metadata": {},
     "output_type": "execute_result"
    }
   ],
   "source": [
    "sneaker_brand1=[]\n",
    "for i in sneakers1:\n",
    "    driver8.get(i)\n",
    "    try:\n",
    "        brand1=driver8.find_element_by_xpath(\"//span[@class='G6XhRU']\")\n",
    "        sneaker_brand1.append(brand1.text)\n",
    "    except:\n",
    "        sneaker_brand1.append('-')\n",
    "sneaker_brand1"
   ]
  },
  {
   "cell_type": "code",
   "execution_count": 134,
   "metadata": {},
   "outputs": [
    {
     "data": {
      "text/plain": [
       "['Fashionable casual sneakers shoes Sneakers For Men  (Black)',\n",
       " 'Sneakers For Men  (Black)',\n",
       " 'SM439G Sneakers For Men  (White)',\n",
       " 'Cape IDP Sneakers For Men  (Black)',\n",
       " 'Synthetic Leather Casual Partywear Wedding Sneakers Shoes For Men Sneakers For Men  (Grey)',\n",
       " 'Casual shoes Sneakers For Men  (Grey)',\n",
       " 'Fashion Outdoor Canvas Casual Light Weight Lace-up Evening Walk Running Shoes For Men Sneakers For Men  (Multicolor)',\n",
       " 'Sneakers For Men  (White, Silver)',\n",
       " 'Black Sneaker For Men Sneakers For Men  (Black)',\n",
       " 'Fashion Outdoor Canvas Casual Light Weight Lace-up Evening Walk Running Shoes For Men Sneakers For Men  (White, Green)',\n",
       " 'Sneakers For Men  (White)',\n",
       " 'Sneakers For Men  (White, Brown)',\n",
       " 'Super 445 Fashion Sneakers For Men  (Navy)',\n",
       " 'Sneakers For Men  (Multicolor)',\n",
       " 'Latest Collection-1227 Stylish Casual Sports Sneakers For Men  (Blue, Black)',\n",
       " 'Sneakers For Men  (White, Black)',\n",
       " 'SM-322 Sneakers For Men  (Black, Grey)',\n",
       " 'Sneakers For Men  (Black)',\n",
       " 'Sneakers For Men  (White)',\n",
       " 'Casual stylish shoe for men Sneakers For Men  (Olive)',\n",
       " 'Casual Sneakers,dancing, walking Sneakers For Men  (White, Black)',\n",
       " 'Luxury Fashionable Breathable White shoes for men Sneakers For Men  (Black)',\n",
       " 'Sneakers For Men  (Maroon)',\n",
       " 'Trend Sneakers For Men  (Black)',\n",
       " 'Sneakers For Men  (White)',\n",
       " 'Sneakers For Men  (Black, White)',\n",
       " 'casual for men (beige 07) Sneakers For Men  (Beige)',\n",
       " 'Sneakers For Men  (Tan)',\n",
       " 'Casual Sneakers Shoes For Men And Boys Sneakers For Men  (Black)',\n",
       " \"Casual , Partywear Sneakers Shoes For Men's And Boys White Color Sneakers For Men  (White)\",\n",
       " 'White Sneaker for Men Sneakers For Men  (White)',\n",
       " 'CLASSIC CT SLIP-ON Sneakers For Men  (White)',\n",
       " 'Modern & Trendy Collection Combo Pack of 02 Shoes for Men Casual Sneakers & Outdoor Walking Shoes for Men Sport Shoes for Men Running Gym Cycling & Trekking Rock Climbing Shoes for Men Sneakers For Men  (Multicolor)',\n",
       " 'Sneakers For Men  (Black)',\n",
       " 'New Fashion Outdoor Trendy Lightweight Casual,Canvas Stylish Partywear Sneakers Shoes Boys Sneakers For Men  (Black)',\n",
       " 'Sneakers For Men  (White, Black)',\n",
       " 'casual sneaker shoes and partywear shoes Casuals For Men Sneakers For Men  (Multicolor)',\n",
       " 'Trend Sneakers For Men  (Black)',\n",
       " \"Original Luxury Branded Fashionable Men's Casual Walking Partywear Sneakers Running White Shoes Sneakers For Men  (White)\",\n",
       " 'Sneakers For Men  (Blue)']"
      ]
     },
     "execution_count": 134,
     "metadata": {},
     "output_type": "execute_result"
    }
   ],
   "source": [
    "product1_desc11=[]\n",
    "for i in sneakers1:\n",
    "    driver8.get(i)\n",
    "    try:\n",
    "        description111=driver8.find_element_by_xpath(\"//span[@class='B_NuCI']\")\n",
    "        product1_desc11.append(description111.text)\n",
    "    except:\n",
    "        product1_desc11.append('-')\n",
    "product1_desc11"
   ]
  },
  {
   "cell_type": "code",
   "execution_count": 135,
   "metadata": {},
   "outputs": [
    {
     "data": {
      "text/plain": [
       "['₹404',\n",
       " '₹399',\n",
       " '₹620',\n",
       " '₹1,759',\n",
       " '₹358',\n",
       " '₹341',\n",
       " '₹474',\n",
       " '₹1,409',\n",
       " '₹426',\n",
       " '₹474',\n",
       " '₹464',\n",
       " '₹474',\n",
       " '₹348',\n",
       " '₹449',\n",
       " '₹240',\n",
       " '₹450',\n",
       " '₹769',\n",
       " '₹378',\n",
       " '₹635',\n",
       " '₹449',\n",
       " '₹279',\n",
       " '₹378',\n",
       " '₹439',\n",
       " '₹499',\n",
       " '₹398',\n",
       " '₹499',\n",
       " '₹399',\n",
       " '₹899',\n",
       " '₹499',\n",
       " '₹348',\n",
       " '₹407',\n",
       " '₹2,910',\n",
       " '₹504',\n",
       " '₹407',\n",
       " '₹450',\n",
       " '₹399',\n",
       " '₹418',\n",
       " '₹499',\n",
       " '₹474',\n",
       " '₹399']"
      ]
     },
     "execution_count": 135,
     "metadata": {},
     "output_type": "execute_result"
    }
   ],
   "source": [
    "product1_price11=[]\n",
    "for i in sneakers1:\n",
    "    driver8.get(i)\n",
    "    try:\n",
    "        price111=driver8.find_element_by_xpath(\"//div[@class='_30jeq3 _16Jk6d']\")\n",
    "        product1_price11.append(price111.text)\n",
    "    except:\n",
    "        product1_price11.append('-')\n",
    "product1_price11"
   ]
  },
  {
   "cell_type": "code",
   "execution_count": 136,
   "metadata": {},
   "outputs": [
    {
     "data": {
      "text/plain": [
       "['86% off',\n",
       " '60% off',\n",
       " '11% off',\n",
       " '49% off',\n",
       " '64% off',\n",
       " '65% off',\n",
       " '52% off',\n",
       " '70% off',\n",
       " '67% off',\n",
       " '52% off',\n",
       " '53% off',\n",
       " '52% off',\n",
       " '30% off',\n",
       " '77% off',\n",
       " '51% off',\n",
       " '54% off',\n",
       " '23% off',\n",
       " '70% off',\n",
       " '36% off',\n",
       " '43% off',\n",
       " '72% off',\n",
       " '81% off',\n",
       " '56% off',\n",
       " '50% off',\n",
       " '60% off',\n",
       " '50% off',\n",
       " '60% off',\n",
       " '78% off',\n",
       " '50% off',\n",
       " '47% off',\n",
       " '68% off',\n",
       " '35% off',\n",
       " '79% off',\n",
       " '59% off',\n",
       " '54% off',\n",
       " '60% off',\n",
       " '71% off',\n",
       " '50% off',\n",
       " '40% off',\n",
       " '60% off']"
      ]
     },
     "execution_count": 136,
     "metadata": {},
     "output_type": "execute_result"
    }
   ],
   "source": [
    "product1_discount11=[]\n",
    "for i in sneakers1:\n",
    "    driver8.get(i)\n",
    "    try:\n",
    "        discount111=driver8.find_element_by_xpath(\"//div[@class='_3Ay6Sb _31Dcoz pZkvcx']\")\n",
    "        product1_discount11.append(discount111.text)\n",
    "    except:\n",
    "        product1_discount11.append('-')\n",
    "product1_discount11"
   ]
  },
  {
   "cell_type": "code",
   "execution_count": 138,
   "metadata": {},
   "outputs": [],
   "source": [
    "next_btn22=driver8.find_element_by_xpath(\"//a[@class='_1LKTO3']\")\n",
    "next_btn22.click()"
   ]
  },
  {
   "cell_type": "code",
   "execution_count": 139,
   "metadata": {},
   "outputs": [
    {
     "data": {
      "text/plain": [
       "[<selenium.webdriver.remote.webelement.WebElement (session=\"4e8026fcc106500cface265f40574b18\", element=\"d98a8d0a-1a12-4dbc-a704-1d5d20a4faa8\")>,\n",
       " <selenium.webdriver.remote.webelement.WebElement (session=\"4e8026fcc106500cface265f40574b18\", element=\"12546f06-aaa3-4b7d-b236-6f697a9379bb\")>,\n",
       " <selenium.webdriver.remote.webelement.WebElement (session=\"4e8026fcc106500cface265f40574b18\", element=\"94182255-621c-498d-a3ed-31527a22e372\")>,\n",
       " <selenium.webdriver.remote.webelement.WebElement (session=\"4e8026fcc106500cface265f40574b18\", element=\"93657ecf-e21c-4da3-a6c8-369be245b987\")>,\n",
       " <selenium.webdriver.remote.webelement.WebElement (session=\"4e8026fcc106500cface265f40574b18\", element=\"953fcab1-3154-47ac-b03d-f5338aa10c3c\")>,\n",
       " <selenium.webdriver.remote.webelement.WebElement (session=\"4e8026fcc106500cface265f40574b18\", element=\"508b9f06-0440-4f4a-9257-0ec1a051f459\")>,\n",
       " <selenium.webdriver.remote.webelement.WebElement (session=\"4e8026fcc106500cface265f40574b18\", element=\"87f87b32-76ff-4a96-8f3d-f89e000495aa\")>,\n",
       " <selenium.webdriver.remote.webelement.WebElement (session=\"4e8026fcc106500cface265f40574b18\", element=\"3a33a355-f318-4ca0-b045-efc17f04fe48\")>,\n",
       " <selenium.webdriver.remote.webelement.WebElement (session=\"4e8026fcc106500cface265f40574b18\", element=\"b23313be-3d4d-4197-953d-0cc0374a06c7\")>,\n",
       " <selenium.webdriver.remote.webelement.WebElement (session=\"4e8026fcc106500cface265f40574b18\", element=\"d3ef3cf9-2d3f-4936-add7-6df75d31d574\")>,\n",
       " <selenium.webdriver.remote.webelement.WebElement (session=\"4e8026fcc106500cface265f40574b18\", element=\"c99d044f-282a-4805-bca4-beb57e5b3a26\")>,\n",
       " <selenium.webdriver.remote.webelement.WebElement (session=\"4e8026fcc106500cface265f40574b18\", element=\"5c555463-6722-4d44-8003-f175efce34ec\")>,\n",
       " <selenium.webdriver.remote.webelement.WebElement (session=\"4e8026fcc106500cface265f40574b18\", element=\"70034aea-51fa-40df-bc95-495b591f007b\")>,\n",
       " <selenium.webdriver.remote.webelement.WebElement (session=\"4e8026fcc106500cface265f40574b18\", element=\"ab6eb140-17f7-4182-ae88-61562d9bbee4\")>,\n",
       " <selenium.webdriver.remote.webelement.WebElement (session=\"4e8026fcc106500cface265f40574b18\", element=\"dc6f47fe-c8a3-474a-8d1d-31e796b2be44\")>,\n",
       " <selenium.webdriver.remote.webelement.WebElement (session=\"4e8026fcc106500cface265f40574b18\", element=\"091c780b-268c-437d-acb2-7bb8ac10d17e\")>,\n",
       " <selenium.webdriver.remote.webelement.WebElement (session=\"4e8026fcc106500cface265f40574b18\", element=\"d58cb2f1-0c57-4250-a01f-c16fb97912ee\")>,\n",
       " <selenium.webdriver.remote.webelement.WebElement (session=\"4e8026fcc106500cface265f40574b18\", element=\"20749ac1-9393-47a3-93eb-ce72e3219871\")>,\n",
       " <selenium.webdriver.remote.webelement.WebElement (session=\"4e8026fcc106500cface265f40574b18\", element=\"c4c970bb-ddb2-4882-a8a9-274b91839357\")>,\n",
       " <selenium.webdriver.remote.webelement.WebElement (session=\"4e8026fcc106500cface265f40574b18\", element=\"bcba305f-0c57-475f-8923-2baa4783e66f\")>,\n",
       " <selenium.webdriver.remote.webelement.WebElement (session=\"4e8026fcc106500cface265f40574b18\", element=\"cc91f180-69e3-4ab3-bd4b-2a08fd832245\")>,\n",
       " <selenium.webdriver.remote.webelement.WebElement (session=\"4e8026fcc106500cface265f40574b18\", element=\"c78100b3-05f9-4de4-ac74-50d6e300a0d4\")>,\n",
       " <selenium.webdriver.remote.webelement.WebElement (session=\"4e8026fcc106500cface265f40574b18\", element=\"cd9b9d47-c941-4e5f-b98c-89e0b70c9121\")>,\n",
       " <selenium.webdriver.remote.webelement.WebElement (session=\"4e8026fcc106500cface265f40574b18\", element=\"4c3d4965-446f-4f9e-9761-532a3d3d8a53\")>,\n",
       " <selenium.webdriver.remote.webelement.WebElement (session=\"4e8026fcc106500cface265f40574b18\", element=\"f73a2772-cb45-41b8-b6c1-069b952e5d3f\")>,\n",
       " <selenium.webdriver.remote.webelement.WebElement (session=\"4e8026fcc106500cface265f40574b18\", element=\"3c7098f2-20b0-4bee-8c2c-88f0f5f88242\")>,\n",
       " <selenium.webdriver.remote.webelement.WebElement (session=\"4e8026fcc106500cface265f40574b18\", element=\"026d7c61-d096-4409-8ea2-2a56ddb6d7ab\")>,\n",
       " <selenium.webdriver.remote.webelement.WebElement (session=\"4e8026fcc106500cface265f40574b18\", element=\"f1a76310-28d1-4eb5-a037-578c04679092\")>,\n",
       " <selenium.webdriver.remote.webelement.WebElement (session=\"4e8026fcc106500cface265f40574b18\", element=\"66ffc1d6-6a0d-4c90-992f-d1b81f4aaceb\")>,\n",
       " <selenium.webdriver.remote.webelement.WebElement (session=\"4e8026fcc106500cface265f40574b18\", element=\"25964f90-f3f4-4e4e-8335-9ba62e4937ae\")>,\n",
       " <selenium.webdriver.remote.webelement.WebElement (session=\"4e8026fcc106500cface265f40574b18\", element=\"e7bb6b9d-9d20-4eb2-8a21-e1d60c56fe98\")>,\n",
       " <selenium.webdriver.remote.webelement.WebElement (session=\"4e8026fcc106500cface265f40574b18\", element=\"a8240a0a-0d3d-48ca-9a77-121c213155f0\")>,\n",
       " <selenium.webdriver.remote.webelement.WebElement (session=\"4e8026fcc106500cface265f40574b18\", element=\"946bc532-f281-4b8e-97a9-8c8eea8b5805\")>,\n",
       " <selenium.webdriver.remote.webelement.WebElement (session=\"4e8026fcc106500cface265f40574b18\", element=\"4d869002-605e-4649-b172-ebb402ec46b3\")>,\n",
       " <selenium.webdriver.remote.webelement.WebElement (session=\"4e8026fcc106500cface265f40574b18\", element=\"963774e0-b1fc-4f5f-b328-25ca307d710b\")>,\n",
       " <selenium.webdriver.remote.webelement.WebElement (session=\"4e8026fcc106500cface265f40574b18\", element=\"ef3e9a73-b59d-42fd-8132-0d0b777a7008\")>,\n",
       " <selenium.webdriver.remote.webelement.WebElement (session=\"4e8026fcc106500cface265f40574b18\", element=\"9edfe131-2a14-4dda-9d9f-720a7a815e8e\")>,\n",
       " <selenium.webdriver.remote.webelement.WebElement (session=\"4e8026fcc106500cface265f40574b18\", element=\"fed5eacd-f3ff-48cc-a0a2-d22ded1a46ef\")>,\n",
       " <selenium.webdriver.remote.webelement.WebElement (session=\"4e8026fcc106500cface265f40574b18\", element=\"9eb22bae-d095-4313-9c22-d0fd0c0a8418\")>,\n",
       " <selenium.webdriver.remote.webelement.WebElement (session=\"4e8026fcc106500cface265f40574b18\", element=\"de8f4b7b-30b2-4ee0-a7a7-5ba542654fa4\")>]"
      ]
     },
     "execution_count": 139,
     "metadata": {},
     "output_type": "execute_result"
    }
   ],
   "source": [
    "url8888=driver8.find_elements_by_xpath(\"//a[@class='_2UzuFa']\")\n",
    "url8888"
   ]
  },
  {
   "cell_type": "code",
   "execution_count": 140,
   "metadata": {},
   "outputs": [
    {
     "data": {
      "text/plain": [
       "['https://www.flipkart.com/chevit-super-stylish-trendy-combo-pack-02-pairs-sneakers-outdoor-loafer-sports-running-rock-climbing-gym-shoes-men/p/itmfce3a6f2183d4?pid=SHOGFVTAG39Y7ZHY&lid=LSTSHOGFVTAG39Y7ZHYNCYVAF&marketplace=FLIPKART&q=sneakers&store=osp%2Fcil%2Fe1f&srno=s_1_1&otracker=search&otracker1=search&fm=SEARCH&iid=98e8cd50-58c3-4537-b2cb-e212ab4ec63f.SHOGFVTAG39Y7ZHY.SEARCH&ppt=sp&ppn=sp&ssid=thbsd8lf8w0000001628790185148&qH=a1743c0d39461290',\n",
       " 'https://www.flipkart.com/chevit-unique-perfect-collection-combo-pack-02-shoes-men-casual-sneakers-outdoor-walking-sport-running-gym-cycling-trekking-rock-climbing/p/itmff4e5480ba998?pid=SHOGYX9SX8ZHGMYH&lid=LSTSHOGYX9SX8ZHGMYHMNOSZZ&marketplace=FLIPKART&q=sneakers&store=osp%2Fcil%2Fe1f&srno=s_1_2&otracker=search&otracker1=search&fm=SEARCH&iid=98e8cd50-58c3-4537-b2cb-e212ab4ec63f.SHOGYX9SX8ZHGMYH.SEARCH&ppt=sp&ppn=sp&ssid=thbsd8lf8w0000001628790185148&qH=a1743c0d39461290',\n",
       " 'https://www.flipkart.com/luxury-fashion-fashionable-casual-sneaker-shoes-sneakers-men/p/itm2c220c7d857aa?pid=SHOG56XZNZHF56UZ&lid=LSTSHOG56XZNZHF56UZQVIQPL&marketplace=FLIPKART&q=sneakers&store=osp%2Fcil%2Fe1f&srno=s_1_3&otracker=search&otracker1=search&fm=SEARCH&iid=98e8cd50-58c3-4537-b2cb-e212ab4ec63f.SHOG56XZNZHF56UZ.SEARCH&ppt=sp&ppn=sp&ssid=thbsd8lf8w0000001628790185148&qH=a1743c0d39461290',\n",
       " 'https://www.flipkart.com/pehanosa-sneakers-men/p/itm7d7d5221f975c?pid=SHOGFXFQMBSXNZP8&lid=LSTSHOGFXFQMBSXNZP8U1VEGO&marketplace=FLIPKART&q=sneakers&store=osp%2Fcil%2Fe1f&srno=s_1_4&otracker=search&otracker1=search&fm=SEARCH&iid=98e8cd50-58c3-4537-b2cb-e212ab4ec63f.SHOGFXFQMBSXNZP8.SEARCH&ppt=sp&ppn=sp&ssid=thbsd8lf8w0000001628790185148&qH=a1743c0d39461290',\n",
       " 'https://www.flipkart.com/numenzo-sneakers-men/p/itm072bfb0c5e869?pid=SHOFZ4RGEGXFYHY9&lid=LSTSHOFZ4RGEGXFYHY9UPNWTY&marketplace=FLIPKART&q=sneakers&store=osp%2Fcil%2Fe1f&srno=s_1_5&otracker=search&otracker1=search&fm=SEARCH&iid=98e8cd50-58c3-4537-b2cb-e212ab4ec63f.SHOFZ4RGEGXFYHY9.SEARCH&ppt=sp&ppn=sp&ssid=thbsd8lf8w0000001628790185148&qH=a1743c0d39461290',\n",
       " 'https://www.flipkart.com/asteroid-original-luxury-branded-fashionable-men-s-casual-walking-partywear-sneakers-running-white-shoes-men/p/itmadb9562baf1cd?pid=SHOG3F72EB7HAFQF&lid=LSTSHOG3F72EB7HAFQFENVW0L&marketplace=FLIPKART&q=sneakers&store=osp%2Fcil%2Fe1f&srno=s_1_6&otracker=search&otracker1=search&fm=SEARCH&iid=98e8cd50-58c3-4537-b2cb-e212ab4ec63f.SHOG3F72EB7HAFQF.SEARCH&ppt=sp&ppn=sp&ssid=thbsd8lf8w0000001628790185148&qH=a1743c0d39461290',\n",
       " 'https://www.flipkart.com/world-wear-footwear-5011-latest-collection-stylish-casual-loafer-sneakers-shoes-men/p/itm01930e5430e12?pid=SHOFMY6NYMGEHRHX&lid=LSTSHOFMY6NYMGEHRHXR2SLIQ&marketplace=FLIPKART&q=sneakers&store=osp%2Fcil%2Fe1f&srno=s_1_7&otracker=search&otracker1=search&fm=SEARCH&iid=98e8cd50-58c3-4537-b2cb-e212ab4ec63f.SHOFMY6NYMGEHRHX.SEARCH&ppt=sp&ppn=sp&ssid=thbsd8lf8w0000001628790185148&qH=a1743c0d39461290',\n",
       " 'https://www.flipkart.com/numenzo-sneakers-men/p/itm12368ade2be34?pid=SHOG3MZFKCMDKSBG&lid=LSTSHOG3MZFKCMDKSBGNCOMVX&marketplace=FLIPKART&q=sneakers&store=osp%2Fcil%2Fe1f&spotlightTagId=TrendingId_osp%2Fcil%2Fe1f&srno=s_1_8&otracker=search&otracker1=search&fm=SEARCH&iid=98e8cd50-58c3-4537-b2cb-e212ab4ec63f.SHOG3MZFKCMDKSBG.SEARCH&ppt=sp&ppn=sp&ssid=thbsd8lf8w0000001628790185148&qH=a1743c0d39461290',\n",
       " 'https://www.flipkart.com/chevit-perfect-affordable-combo-pack-03-pairs-casual-sneakers-outdoor-loafers-sports-shoe-running-gym-cycling-trekking-shoes-men/p/itm9aa6fe5320401?pid=SHOGYRPZWHWZSFZB&lid=LSTSHOGYRPZWHWZSFZBQZUCKD&marketplace=FLIPKART&q=sneakers&store=osp%2Fcil%2Fe1f&srno=s_1_9&otracker=search&otracker1=search&fm=SEARCH&iid=98e8cd50-58c3-4537-b2cb-e212ab4ec63f.SHOGYRPZWHWZSFZB.SEARCH&ppt=sp&ppn=sp&ssid=thbsd8lf8w0000001628790185148&qH=a1743c0d39461290',\n",
       " 'https://www.flipkart.com/shoes-bank-white-sneaker-men-s-boy-s-sneakers-men/p/itmf9p2zdypz2jyt?pid=SHOF9Z76DWFGAFWY&lid=LSTSHOF9Z76DWFGAFWYSDVYDU&marketplace=FLIPKART&q=sneakers&store=osp%2Fcil%2Fe1f&srno=s_1_10&otracker=search&otracker1=search&fm=SEARCH&iid=98e8cd50-58c3-4537-b2cb-e212ab4ec63f.SHOF9Z76DWFGAFWY.SEARCH&ppt=sp&ppn=sp&ssid=thbsd8lf8w0000001628790185148&qH=a1743c0d39461290',\n",
       " 'https://www.flipkart.com/creer-sneakers-men/p/itm87f3cd61e3f52?pid=SHOG5DPCVBA8XUHM&lid=LSTSHOG5DPCVBA8XUHMAM3OVF&marketplace=FLIPKART&q=sneakers&store=osp%2Fcil%2Fe1f&srno=s_1_11&otracker=search&otracker1=search&fm=SEARCH&iid=98e8cd50-58c3-4537-b2cb-e212ab4ec63f.SHOG5DPCVBA8XUHM.SEARCH&ppt=sp&ppn=sp&ssid=thbsd8lf8w0000001628790185148&qH=a1743c0d39461290',\n",
       " 'https://www.flipkart.com/bruton-combo-pack-4-casual-shoes-loafer-sneakers-men/p/itmc6896607b3f0f?pid=SHOFUXXZZEU8Z3E6&lid=LSTSHOFUXXZZEU8Z3E68COZPZ&marketplace=FLIPKART&q=sneakers&store=osp%2Fcil%2Fe1f&srno=s_1_12&otracker=search&otracker1=search&fm=SEARCH&iid=98e8cd50-58c3-4537-b2cb-e212ab4ec63f.SHOFUXXZZEU8Z3E6.SEARCH&ppt=sp&ppn=sp&ssid=thbsd8lf8w0000001628790185148&qH=a1743c0d39461290',\n",
       " 'https://www.flipkart.com/bluemaker-casual-men-blue-10-sneakers/p/itm3f838f669177a?pid=SHOFUSH7PGGHGJUE&lid=LSTSHOFUSH7PGGHGJUEBDK02O&marketplace=FLIPKART&q=sneakers&store=osp%2Fcil%2Fe1f&srno=s_1_13&otracker=search&otracker1=search&fm=SEARCH&iid=98e8cd50-58c3-4537-b2cb-e212ab4ec63f.SHOFUSH7PGGHGJUE.SEARCH&ppt=sp&ppn=sp&ssid=thbsd8lf8w0000001628790185148&qH=a1743c0d39461290',\n",
       " 'https://www.flipkart.com/chevit-494-perfect-sports-shoes-running-training-hikking-gym-cycling-trekking-hiking-sneakers-men/p/itm9e6bd103f4e9c?pid=SHOGYPM66QZVFZCH&lid=LSTSHOGYPM66QZVFZCH3DXQ02&marketplace=FLIPKART&q=sneakers&store=osp%2Fcil%2Fe1f&srno=s_1_14&otracker=search&otracker1=search&fm=SEARCH&iid=98e8cd50-58c3-4537-b2cb-e212ab4ec63f.SHOGYPM66QZVFZCH.SEARCH&ppt=sp&ppn=sp&ssid=thbsd8lf8w0000001628790185148&qH=a1743c0d39461290',\n",
       " 'https://www.flipkart.com/longwalk-men-boxer-sneakers/p/itm9138163f0a16b?pid=SHOF2CY2GVT2RFFV&lid=LSTSHOF2CY2GVT2RFFVBQ6KDY&marketplace=FLIPKART&q=sneakers&store=osp%2Fcil%2Fe1f&srno=s_1_15&otracker=search&otracker1=search&fm=SEARCH&iid=98e8cd50-58c3-4537-b2cb-e212ab4ec63f.SHOF2CY2GVT2RFFV.SEARCH&ppt=sp&ppn=sp&ssid=thbsd8lf8w0000001628790185148&qH=a1743c0d39461290',\n",
       " 'https://www.flipkart.com/birde-combo-pack-4-casual-shoes-sneakers-men/p/itm6e3d45add0c84?pid=SHOGYGTHK7F9W2ZF&lid=LSTSHOGYGTHK7F9W2ZF1JAISX&marketplace=FLIPKART&q=sneakers&store=osp%2Fcil%2Fe1f&srno=s_1_16&otracker=search&otracker1=search&fm=SEARCH&iid=98e8cd50-58c3-4537-b2cb-e212ab4ec63f.SHOGYGTHK7F9W2ZF.SEARCH&ppt=sp&ppn=sp&ssid=thbsd8lf8w0000001628790185148&qH=a1743c0d39461290',\n",
       " 'https://www.flipkart.com/zsyto-sneakers-men/p/itm19ca926d06bf8?pid=SHOFXACVWPMDB8FT&lid=LSTSHOFXACVWPMDB8FT1RYHDC&marketplace=FLIPKART&q=sneakers&store=osp%2Fcil%2Fe1f&srno=s_1_17&otracker=search&otracker1=search&fm=SEARCH&iid=98e8cd50-58c3-4537-b2cb-e212ab4ec63f.SHOFXACVWPMDB8FT.SEARCH&ppt=sp&ppn=sp&ssid=thbsd8lf8w0000001628790185148&qH=a1743c0d39461290',\n",
       " 'https://www.flipkart.com/kraasa-series-7-sneakers-men/p/itmda307099c343b?pid=SHOGF3MZT9YP5GKP&lid=LSTSHOGF3MZT9YP5GKPDJCPPS&marketplace=FLIPKART&q=sneakers&store=osp%2Fcil%2Fe1f&srno=s_1_18&otracker=search&otracker1=search&fm=SEARCH&iid=98e8cd50-58c3-4537-b2cb-e212ab4ec63f.SHOGF3MZT9YP5GKP.SEARCH&ppt=sp&ppn=sp&ssid=thbsd8lf8w0000001628790185148&qH=a1743c0d39461290',\n",
       " 'https://www.flipkart.com/robbie-jones-sneakers-men/p/itmb630cbefaaf97?pid=SHOGF4HZQF5CYRV5&lid=LSTSHOGF4HZQF5CYRV5WYXTCN&marketplace=FLIPKART&q=sneakers&store=osp%2Fcil%2Fe1f&srno=s_1_19&otracker=search&otracker1=search&fm=SEARCH&iid=98e8cd50-58c3-4537-b2cb-e212ab4ec63f.SHOGF4HZQF5CYRV5.SEARCH&ppt=sp&ppn=sp&ssid=thbsd8lf8w0000001628790185148&qH=a1743c0d39461290',\n",
       " 'https://www.flipkart.com/chevit-speed-set-5-pairs-sneakers-outdoors-casuals-men/p/itmccd9dcb86e757?pid=SHOFWJJFGKQEQFFW&lid=LSTSHOFWJJFGKQEQFFW0CKGNI&marketplace=FLIPKART&q=sneakers&store=osp%2Fcil%2Fe1f&srno=s_1_20&otracker=search&otracker1=search&fm=SEARCH&iid=98e8cd50-58c3-4537-b2cb-e212ab4ec63f.SHOFWJJFGKQEQFFW.SEARCH&ppt=sp&ppn=sp&ssid=thbsd8lf8w0000001628790185148&qH=a1743c0d39461290',\n",
       " 'https://www.flipkart.com/hotstyle-sneakers-men/p/itm071be697faf47?pid=SHOG4KJFJZTNGJ67&lid=LSTSHOG4KJFJZTNGJ67AUMQBB&marketplace=FLIPKART&q=sneakers&store=osp%2Fcil%2Fe1f&srno=s_1_21&otracker=search&otracker1=search&fm=SEARCH&iid=98e8cd50-58c3-4537-b2cb-e212ab4ec63f.SHOG4KJFJZTNGJ67.SEARCH&ppt=sp&ppn=sp&ssid=thbsd8lf8w0000001628790185148&qH=a1743c0d39461290',\n",
       " 'https://www.flipkart.com/puma-hip-hop-mid-perf-idp-sneakers-men/p/itm2456444291120?pid=SHOFNU2WZBENYYFN&lid=LSTSHOFNU2WZBENYYFNVZQSLA&marketplace=FLIPKART&q=sneakers&store=osp%2Fcil%2Fe1f&srno=s_1_22&otracker=search&otracker1=search&fm=SEARCH&iid=98e8cd50-58c3-4537-b2cb-e212ab4ec63f.SHOFNU2WZBENYYFN.SEARCH&ppt=sp&ppn=sp&ssid=thbsd8lf8w0000001628790185148&qH=a1743c0d39461290',\n",
       " 'https://www.flipkart.com/ktiz-white-sneaker-men-s-boy-s-sneakers-men/p/itm14b4ecbb16637?pid=SHOFUSHPMTHHUSGD&lid=LSTSHOFUSHPMTHHUSGDG0JMSP&marketplace=FLIPKART&q=sneakers&store=osp%2Fcil%2Fe1f&srno=s_1_23&otracker=search&otracker1=search&fm=SEARCH&iid=98e8cd50-58c3-4537-b2cb-e212ab4ec63f.SHOFUSHPMTHHUSGD.SEARCH&ppt=sp&ppn=sp&ssid=thbsd8lf8w0000001628790185148&qH=a1743c0d39461290',\n",
       " 'https://www.flipkart.com/world-wear-footwear-men-5014-latest-collection-stylish-casual-sports-loafers-shoes-sneakers/p/itme2c602df3a559?pid=SHOFNKABXC5Z6B6Z&lid=LSTSHOFNKABXC5Z6B6ZPEG7CD&marketplace=FLIPKART&q=sneakers&store=osp%2Fcil%2Fe1f&srno=s_1_24&otracker=search&otracker1=search&fm=SEARCH&iid=98e8cd50-58c3-4537-b2cb-e212ab4ec63f.SHOFNKABXC5Z6B6Z.SEARCH&ppt=sp&ppn=sp&ssid=thbsd8lf8w0000001628790185148&qH=a1743c0d39461290',\n",
       " 'https://www.flipkart.com/red-rose-sneakers-men/p/itmfhp7pq4earagj?pid=SHOFHP3PF4PGKRMP&lid=LSTSHOFHP3PF4PGKRMPHPBHYF&marketplace=FLIPKART&q=sneakers&store=osp%2Fcil%2Fe1f&srno=s_1_25&otracker=search&otracker1=search&fm=SEARCH&iid=98e8cd50-58c3-4537-b2cb-e212ab4ec63f.SHOFHP3PF4PGKRMP.SEARCH&ppt=sp&ppn=sp&ssid=thbsd8lf8w0000001628790185148&qH=a1743c0d39461290',\n",
       " 'https://www.flipkart.com/absolute-comfort-soft-sneakers-men/p/itm01b8b3d676371?pid=SHOFTFP8AD9HUYVM&lid=LSTSHOFTFP8AD9HUYVMHSLVHE&marketplace=FLIPKART&q=sneakers&store=osp%2Fcil%2Fe1f&srno=s_1_26&otracker=search&otracker1=search&fm=SEARCH&iid=98e8cd50-58c3-4537-b2cb-e212ab4ec63f.SHOFTFP8AD9HUYVM.SEARCH&ppt=sp&ppn=sp&ssid=thbsd8lf8w0000001628790185148&qH=a1743c0d39461290',\n",
       " 'https://www.flipkart.com/rockfield-sneakers-men/p/itmdf791eab3a1e0?pid=SHOFKPYZQQAXH24P&lid=LSTSHOFKPYZQQAXH24PIVXFFG&marketplace=FLIPKART&q=sneakers&store=osp%2Fcil%2Fe1f&srno=s_1_27&otracker=search&otracker1=search&fm=SEARCH&iid=98e8cd50-58c3-4537-b2cb-e212ab4ec63f.SHOFKPYZQQAXH24P.SEARCH&ppt=sp&ppn=sp&ssid=thbsd8lf8w0000001628790185148&qH=a1743c0d39461290',\n",
       " 'https://www.flipkart.com/believe-sneakers-men-black-7-men/p/itmfdyhg8ezwgav9?pid=SHOFDXWHZT87HEFE&lid=LSTSHOFDXWHZT87HEFEH7XHUV&marketplace=FLIPKART&q=sneakers&store=osp%2Fcil%2Fe1f&srno=s_1_28&otracker=search&otracker1=search&fm=SEARCH&iid=98e8cd50-58c3-4537-b2cb-e212ab4ec63f.SHOFDXWHZT87HEFE.SEARCH&ppt=sp&ppn=sp&ssid=thbsd8lf8w0000001628790185148&qH=a1743c0d39461290',\n",
       " 'https://www.flipkart.com/chevit-perfect-affordable-combo-pack-02-pairs-sneakers-outdoor-loafer-sports-running-rock-climbing-gym-shoes-men/p/itm66ea1242a9ea5?pid=SHOGYRVMYHSC9GDA&lid=LSTSHOGYRVMYHSC9GDAFLMCIF&marketplace=FLIPKART&q=sneakers&store=osp%2Fcil%2Fe1f&srno=s_1_29&otracker=search&otracker1=search&fm=SEARCH&iid=98e8cd50-58c3-4537-b2cb-e212ab4ec63f.SHOGYRVMYHSC9GDA.SEARCH&ppt=sp&ppn=sp&ssid=thbsd8lf8w0000001628790185148&qH=a1743c0d39461290',\n",
       " 'https://www.flipkart.com/scatchite-sneakers-men/p/itmc13680b1d9604?pid=SHOFUDSUUG8AAMZZ&lid=LSTSHOFUDSUUG8AAMZZXEJRH6&marketplace=FLIPKART&q=sneakers&store=osp%2Fcil%2Fe1f&srno=s_1_30&otracker=search&otracker1=search&fm=SEARCH&iid=98e8cd50-58c3-4537-b2cb-e212ab4ec63f.SHOFUDSUUG8AAMZZ.SEARCH&ppt=sp&ppn=sp&ssid=thbsd8lf8w0000001628790185148&qH=a1743c0d39461290',\n",
       " 'https://www.flipkart.com/india-hub-fashionable-casual-sneakers-shoes-men/p/itm5b26824d21d3a?pid=SHOFUZ4HFPJZZZCG&lid=LSTSHOFUZ4HFPJZZZCG5DWPBR&marketplace=FLIPKART&q=sneakers&store=osp%2Fcil%2Fe1f&srno=s_1_31&otracker=search&otracker1=search&fm=SEARCH&iid=98e8cd50-58c3-4537-b2cb-e212ab4ec63f.SHOFUZ4HFPJZZZCG.SEARCH&ppt=sp&ppn=sp&ssid=thbsd8lf8w0000001628790185148&qH=a1743c0d39461290',\n",
       " 'https://www.flipkart.com/sparx-sm439g-sneakers-men/p/itm798025ba722d1?pid=SHOFP4PUPXTPJTGQ&lid=LSTSHOFP4PUPXTPJTGQOVUDZQ&marketplace=FLIPKART&q=sneakers&store=osp%2Fcil%2Fe1f&srno=s_1_32&otracker=search&otracker1=search&fm=SEARCH&iid=98e8cd50-58c3-4537-b2cb-e212ab4ec63f.SHOFP4PUPXTPJTGQ.SEARCH&ppt=sp&ppn=sp&ssid=thbsd8lf8w0000001628790185148&qH=a1743c0d39461290',\n",
       " 'https://www.flipkart.com/t-rock-synthetic-leather-casual-partywear-wedding-sneakers-shoes-men/p/itmfhkz7qghnktdg?pid=SHOFHKH6B39PV5HE&lid=LSTSHOFHKH6B39PV5HE3W1SEV&marketplace=FLIPKART&q=sneakers&store=osp%2Fcil%2Fe1f&srno=s_1_33&otracker=search&otracker1=search&fm=SEARCH&iid=98e8cd50-58c3-4537-b2cb-e212ab4ec63f.SHOFHKH6B39PV5HE.SEARCH&ppt=sp&ppn=sp&ssid=thbsd8lf8w0000001628790185148&qH=a1743c0d39461290',\n",
       " 'https://www.flipkart.com/roddick-shoes-fashion-outdoor-canvas-casual-light-weight-lace-up-evening-walk-running-men-sneakers/p/itmbe9f4e9f9fd38?pid=SHOG48CYSYKVSDMB&lid=LSTSHOG48CYSYKVSDMB3K9OGS&marketplace=FLIPKART&q=sneakers&store=osp%2Fcil%2Fe1f&srno=s_1_34&otracker=search&otracker1=search&fm=SEARCH&iid=98e8cd50-58c3-4537-b2cb-e212ab4ec63f.SHOG48CYSYKVSDMB.SEARCH&ppt=sp&ppn=sp&ssid=thbsd8lf8w0000001628790185148&qH=a1743c0d39461290',\n",
       " 'https://www.flipkart.com/roddick-shoes-fashion-outdoor-canvas-casual-light-weight-lace-up-evening-walk-running-men-sneakers/p/itm60a27f5e97e8a?pid=SHOG48D2D4N3CJKR&lid=LSTSHOG48D2D4N3CJKRPZBP3W&marketplace=FLIPKART&q=sneakers&store=osp%2Fcil%2Fe1f&srno=s_1_35&otracker=search&otracker1=search&fm=SEARCH&iid=98e8cd50-58c3-4537-b2cb-e212ab4ec63f.SHOG48D2D4N3CJKR.SEARCH&ppt=sp&ppn=sp&ssid=thbsd8lf8w0000001628790185148&qH=a1743c0d39461290',\n",
       " 'https://www.flipkart.com/restinfoot-casual-shoes-sneakers-men/p/itmfeuvtqzmpswx7?pid=SHOFEUP9D2FQXC5B&lid=LSTSHOFEUP9D2FQXC5BDXQEUB&marketplace=FLIPKART&q=sneakers&store=osp%2Fcil%2Fe1f&srno=s_1_36&otracker=search&otracker1=search&fm=SEARCH&iid=98e8cd50-58c3-4537-b2cb-e212ab4ec63f.SHOFEUP9D2FQXC5B.SEARCH&ppt=sp&ppn=sp&ssid=thbsd8lf8w0000001628790185148&qH=a1743c0d39461290',\n",
       " 'https://www.flipkart.com/nilatin-black-sneaker-men-sneakers/p/itmd49f1f095b6ce?pid=SHOG42ZHJJJKE339&lid=LSTSHOG42ZHJJJKE339HDHTZM&marketplace=FLIPKART&q=sneakers&store=osp%2Fcil%2Fe1f&srno=s_1_37&otracker=search&otracker1=search&fm=SEARCH&iid=98e8cd50-58c3-4537-b2cb-e212ab4ec63f.SHOG42ZHJJJKE339.SEARCH&ppt=sp&ppn=sp&ssid=thbsd8lf8w0000001628790185148&qH=a1743c0d39461290',\n",
       " 'https://www.flipkart.com/sparx-sm-322-sneakers-men/p/itmf27234d02f4d7?pid=SHOFFTAEYYZU6ZDX&lid=LSTSHOFFTAEYYZU6ZDXYM9QRG&marketplace=FLIPKART&q=sneakers&store=osp%2Fcil%2Fe1f&srno=s_1_38&otracker=search&otracker1=search&fm=SEARCH&iid=98e8cd50-58c3-4537-b2cb-e212ab4ec63f.SHOFFTAEYYZU6ZDX.SEARCH&ppt=sp&ppn=sp&ssid=thbsd8lf8w0000001628790185148&qH=a1743c0d39461290',\n",
       " 'https://www.flipkart.com/zsyto-sneakers-men/p/itmd1559e06f06f0?pid=SHOG4BNPDKYWJXRD&lid=LSTSHOG4BNPDKYWJXRDCFKWY4&marketplace=FLIPKART&q=sneakers&store=osp%2Fcil%2Fe1f&srno=s_1_39&otracker=search&otracker1=search&fm=SEARCH&iid=98e8cd50-58c3-4537-b2cb-e212ab4ec63f.SHOG4BNPDKYWJXRD.SEARCH&ppt=sp&ppn=sp&ssid=thbsd8lf8w0000001628790185148&qH=a1743c0d39461290',\n",
       " 'https://www.flipkart.com/chevit-super-445-fashion-sneakers-men/p/itm66119bb8aece9?pid=SHOFYAT7HUFHBTBE&lid=LSTSHOFYAT7HUFHBTBEMRL3UF&marketplace=FLIPKART&q=sneakers&store=osp%2Fcil%2Fe1f&srno=s_1_40&otracker=search&otracker1=search&fm=SEARCH&iid=98e8cd50-58c3-4537-b2cb-e212ab4ec63f.SHOFYAT7HUFHBTBE.SEARCH&ppt=sp&ppn=sp&ssid=thbsd8lf8w0000001628790185148&qH=a1743c0d39461290']"
      ]
     },
     "execution_count": 140,
     "metadata": {},
     "output_type": "execute_result"
    }
   ],
   "source": [
    "sneakers2=[]\n",
    "for i in url8888:\n",
    "    sneakers2.append(i.get_attribute('href'))\n",
    "sneakers2"
   ]
  },
  {
   "cell_type": "code",
   "execution_count": 141,
   "metadata": {},
   "outputs": [
    {
     "data": {
      "text/plain": [
       "['Chevit ',\n",
       " 'Chevit ',\n",
       " 'luxury fashion ',\n",
       " 'PEHANOSA ',\n",
       " 'Numenzo ',\n",
       " 'ASTEROID ',\n",
       " 'World Wear Footwear ',\n",
       " 'Numenzo ',\n",
       " 'Chevit ',\n",
       " 'Shoes Bank ',\n",
       " 'Creer ',\n",
       " 'BRUTON ',\n",
       " 'bluemaker ',\n",
       " 'Chevit ',\n",
       " 'Longwalk ',\n",
       " 'BIRDE ',\n",
       " 'Zsyto ',\n",
       " 'Kraasa ',\n",
       " 'Robbie jones ',\n",
       " 'Chevit ']"
      ]
     },
     "execution_count": 141,
     "metadata": {},
     "output_type": "execute_result"
    }
   ],
   "source": [
    "sneaker_brand2=[]\n",
    "for i in sneakers2[0:20]:\n",
    "    driver8.get(i)\n",
    "    try:\n",
    "        brand2=driver8.find_element_by_xpath(\"//span[@class='G6XhRU']\")\n",
    "        sneaker_brand2.append(brand2.text)\n",
    "    except:\n",
    "        sneaker_brand2.append('-')\n",
    "sneaker_brand2"
   ]
  },
  {
   "cell_type": "code",
   "execution_count": 143,
   "metadata": {},
   "outputs": [
    {
     "data": {
      "text/plain": [
       "['Super Stylish & Trendy Combo Pack of 02 Pairs Sneakers Outdoor Loafer Sports for Running Rock Climbing Gym Shoes Sneakers For Men Sneakers For Men  (Grey, Navy)',\n",
       " 'Unique & Perfect Collection Combo Pack of 02 Shoes for Men Casual Sneakers & Outdoor Walking Shoes for Men Sport Shoes for Men Running Gym Cycling & Trekking Rock Climbing Shoes for Men Sneakers For Men  (Black)',\n",
       " 'Luxury Fashionable casual sneaker shoes Sneakers For Men  (White)',\n",
       " 'Sneakers For Men  (Multicolor)',\n",
       " 'Sneakers For Men  (White)',\n",
       " \"Original Luxury Branded Fashionable Men's Casual Walking Partywear Sneakers Running White Shoes Sneakers For Men  (White)\",\n",
       " '5011-Latest Collection Stylish Casual Loafer Sneakers Shoes For Men Sneakers For Men  (Red)',\n",
       " 'Sneakers For Men  (Black)',\n",
       " 'Perfect & Affordable Combo Pack of 03 Pairs Casual Sneakers Outdoor Loafers Sports Shoe for Running Gym Cycling & Trekking Shoes Sneakers For Men  (Orange, Black, Yellow)',\n",
       " \"White Sneaker For Men's/Boy's Sneakers For Men  (White)\",\n",
       " 'Sneakers For Men  (White, Blue)',\n",
       " 'Combo Pack Of 4 Casual Shoes Loafer Shoes Sneakers For Men  (Multicolor)',\n",
       " 'casual for men (blue 10) Sneakers For Men  (Blue)',\n",
       " '494 Perfect Sports Shoes for Running Training Hikking & Gym Shoes , Cycling & Trekking Hiking Shoes Sneakers For Men  (Blue)',\n",
       " 'Men Boxer Sneakers For Men  (Black)',\n",
       " 'Combo Pack of 4 Casual Shoes Sneakers For Men  (Multicolor)',\n",
       " 'Sneakers For Men  (White, Black)',\n",
       " 'Series 7 Sneakers For Men  (White)',\n",
       " 'Sneakers For Men  (White, Black)',\n",
       " 'Speed Set of 5 Pairs Sneakers Outdoors Casuals for Men Sneakers For Men  (Multicolor)']"
      ]
     },
     "execution_count": 143,
     "metadata": {},
     "output_type": "execute_result"
    }
   ],
   "source": [
    "product2_desc11=[]\n",
    "for i in sneakers2[0:20]:\n",
    "    driver8.get(i)\n",
    "    try:\n",
    "        description112=driver8.find_element_by_xpath(\"//span[@class='B_NuCI']\")\n",
    "        product2_desc11.append(description112.text)\n",
    "    except:\n",
    "        product2_desc11.append('-')\n",
    "product2_desc11"
   ]
  },
  {
   "cell_type": "code",
   "execution_count": 145,
   "metadata": {},
   "outputs": [
    {
     "data": {
      "text/plain": [
       "['₹536',\n",
       " '₹420',\n",
       " '₹399',\n",
       " '₹419',\n",
       " '₹378',\n",
       " '₹499',\n",
       " '₹240',\n",
       " '₹426',\n",
       " '₹594',\n",
       " '₹349',\n",
       " '₹418',\n",
       " '₹474',\n",
       " '₹399',\n",
       " '₹254',\n",
       " '₹260',\n",
       " '₹698',\n",
       " '₹311',\n",
       " '₹399',\n",
       " '₹499',\n",
       " '₹679']"
      ]
     },
     "execution_count": 145,
     "metadata": {},
     "output_type": "execute_result"
    }
   ],
   "source": [
    "product2_price11=[]\n",
    "for i in sneakers2[0:20]:\n",
    "    driver8.get(i)\n",
    "    try:\n",
    "        price112=driver8.find_element_by_xpath(\"//div[@class='_30jeq3 _16Jk6d']\")\n",
    "        product2_price11.append(price112.text)\n",
    "    except:\n",
    "        product2_price11.append('-')\n",
    "product2_price11"
   ]
  },
  {
   "cell_type": "code",
   "execution_count": 146,
   "metadata": {},
   "outputs": [
    {
     "data": {
      "text/plain": [
       "['66% off',\n",
       " '71% off',\n",
       " '69% off',\n",
       " '58% off',\n",
       " '62% off',\n",
       " '75% off',\n",
       " '51% off',\n",
       " '78% off',\n",
       " '74% off',\n",
       " '65% off',\n",
       " '58% off',\n",
       " '86% off',\n",
       " '60% off',\n",
       " '71% off',\n",
       " '47% off',\n",
       " '65% off',\n",
       " '76% off',\n",
       " '58% off',\n",
       " '50% off',\n",
       " '69% off']"
      ]
     },
     "execution_count": 146,
     "metadata": {},
     "output_type": "execute_result"
    }
   ],
   "source": [
    "product2_discount11=[]\n",
    "for i in sneakers2[0:20]:\n",
    "    driver8.get(i)\n",
    "    try:\n",
    "        discount112=driver8.find_element_by_xpath(\"//div[@class='_3Ay6Sb _31Dcoz pZkvcx']\")\n",
    "        product2_discount11.append(discount112.text)\n",
    "    except:\n",
    "        product2_discount11.append('-')\n",
    "product2_discount11"
   ]
  },
  {
   "cell_type": "code",
   "execution_count": 152,
   "metadata": {},
   "outputs": [],
   "source": [
    "sneakers=pd.DataFrame({})\n",
    "sneakers['Brand']=sneaker_brand+sneaker_brand1+sneaker_brand2\n",
    "sneakers['Product_Description']=product_desc11+product1_desc11+product2_desc11\n",
    "sneakers['Price']=product_price11+product1_price11+product2_price11\n",
    "sneakers['Discount']=product_discount11+product1_discount11+product2_discount11"
   ]
  },
  {
   "cell_type": "code",
   "execution_count": 153,
   "metadata": {},
   "outputs": [
    {
     "data": {
      "text/html": [
       "<div>\n",
       "<style scoped>\n",
       "    .dataframe tbody tr th:only-of-type {\n",
       "        vertical-align: middle;\n",
       "    }\n",
       "\n",
       "    .dataframe tbody tr th {\n",
       "        vertical-align: top;\n",
       "    }\n",
       "\n",
       "    .dataframe thead th {\n",
       "        text-align: right;\n",
       "    }\n",
       "</style>\n",
       "<table border=\"1\" class=\"dataframe\">\n",
       "  <thead>\n",
       "    <tr style=\"text-align: right;\">\n",
       "      <th></th>\n",
       "      <th>Brand</th>\n",
       "      <th>Product_Description</th>\n",
       "      <th>Price</th>\n",
       "      <th>Discount</th>\n",
       "    </tr>\n",
       "  </thead>\n",
       "  <tbody>\n",
       "    <tr>\n",
       "      <th>0</th>\n",
       "      <td>Clymb</td>\n",
       "      <td>Comfort Air Net Super Quality Shoes Sneakers F...</td>\n",
       "      <td>₹629</td>\n",
       "      <td>51% off</td>\n",
       "    </tr>\n",
       "    <tr>\n",
       "      <th>1</th>\n",
       "      <td>PUMA</td>\n",
       "      <td>Ferrari Drift Cat 8 Sneakers For Men  (White)</td>\n",
       "      <td>₹3,599</td>\n",
       "      <td>55% off</td>\n",
       "    </tr>\n",
       "    <tr>\n",
       "      <th>2</th>\n",
       "      <td>Chevit</td>\n",
       "      <td>Unique &amp; Perfect Collection Combo Pack of 02 S...</td>\n",
       "      <td>₹420</td>\n",
       "      <td>71% off</td>\n",
       "    </tr>\n",
       "    <tr>\n",
       "      <th>3</th>\n",
       "      <td>Numenzo</td>\n",
       "      <td>Sneakers For Men  (White)</td>\n",
       "      <td>₹378</td>\n",
       "      <td>62% off</td>\n",
       "    </tr>\n",
       "    <tr>\n",
       "      <th>4</th>\n",
       "      <td>PEHANOSA</td>\n",
       "      <td>Sneakers For Men  (Multicolor)</td>\n",
       "      <td>₹419</td>\n",
       "      <td>58% off</td>\n",
       "    </tr>\n",
       "    <tr>\n",
       "      <th>...</th>\n",
       "      <td>...</td>\n",
       "      <td>...</td>\n",
       "      <td>...</td>\n",
       "      <td>...</td>\n",
       "    </tr>\n",
       "    <tr>\n",
       "      <th>95</th>\n",
       "      <td>BIRDE</td>\n",
       "      <td>Combo Pack of 4 Casual Shoes Sneakers For Men ...</td>\n",
       "      <td>₹698</td>\n",
       "      <td>65% off</td>\n",
       "    </tr>\n",
       "    <tr>\n",
       "      <th>96</th>\n",
       "      <td>Zsyto</td>\n",
       "      <td>Sneakers For Men  (White, Black)</td>\n",
       "      <td>₹311</td>\n",
       "      <td>76% off</td>\n",
       "    </tr>\n",
       "    <tr>\n",
       "      <th>97</th>\n",
       "      <td>Kraasa</td>\n",
       "      <td>Series 7 Sneakers For Men  (White)</td>\n",
       "      <td>₹399</td>\n",
       "      <td>58% off</td>\n",
       "    </tr>\n",
       "    <tr>\n",
       "      <th>98</th>\n",
       "      <td>Robbie jones</td>\n",
       "      <td>Sneakers For Men  (White, Black)</td>\n",
       "      <td>₹499</td>\n",
       "      <td>50% off</td>\n",
       "    </tr>\n",
       "    <tr>\n",
       "      <th>99</th>\n",
       "      <td>Chevit</td>\n",
       "      <td>Speed Set of 5 Pairs Sneakers Outdoors Casuals...</td>\n",
       "      <td>₹679</td>\n",
       "      <td>69% off</td>\n",
       "    </tr>\n",
       "  </tbody>\n",
       "</table>\n",
       "<p>100 rows × 4 columns</p>\n",
       "</div>"
      ],
      "text/plain": [
       "            Brand                                Product_Description   Price  \\\n",
       "0          Clymb   Comfort Air Net Super Quality Shoes Sneakers F...    ₹629   \n",
       "1           PUMA       Ferrari Drift Cat 8 Sneakers For Men  (White)  ₹3,599   \n",
       "2         Chevit   Unique & Perfect Collection Combo Pack of 02 S...    ₹420   \n",
       "3        Numenzo                           Sneakers For Men  (White)    ₹378   \n",
       "4       PEHANOSA                      Sneakers For Men  (Multicolor)    ₹419   \n",
       "..            ...                                                ...     ...   \n",
       "95         BIRDE   Combo Pack of 4 Casual Shoes Sneakers For Men ...    ₹698   \n",
       "96         Zsyto                    Sneakers For Men  (White, Black)    ₹311   \n",
       "97        Kraasa                  Series 7 Sneakers For Men  (White)    ₹399   \n",
       "98  Robbie jones                    Sneakers For Men  (White, Black)    ₹499   \n",
       "99        Chevit   Speed Set of 5 Pairs Sneakers Outdoors Casuals...    ₹679   \n",
       "\n",
       "   Discount  \n",
       "0   51% off  \n",
       "1   55% off  \n",
       "2   71% off  \n",
       "3   62% off  \n",
       "4   58% off  \n",
       "..      ...  \n",
       "95  65% off  \n",
       "96  76% off  \n",
       "97  58% off  \n",
       "98  50% off  \n",
       "99  69% off  \n",
       "\n",
       "[100 rows x 4 columns]"
      ]
     },
     "execution_count": 153,
     "metadata": {},
     "output_type": "execute_result"
    }
   ],
   "source": [
    "sneakers"
   ]
  },
  {
   "cell_type": "markdown",
   "metadata": {},
   "source": [
    "# Q9"
   ]
  },
  {
   "cell_type": "code",
   "execution_count": 2,
   "metadata": {},
   "outputs": [],
   "source": [
    "driver9=webdriver.Chrome(r'C:\\Users\\delkl\\Downloads\\chromedriver.exe')"
   ]
  },
  {
   "cell_type": "code",
   "execution_count": 12,
   "metadata": {},
   "outputs": [],
   "source": [
    "url9='https://www.myntra.com/shoes'\n",
    "driver9.get(url9)"
   ]
  },
  {
   "cell_type": "code",
   "execution_count": 15,
   "metadata": {},
   "outputs": [],
   "source": [
    "driver9.find_element_by_xpath(\"/html/body/div[2]/div/div[1]/main/div[3]/div[1]/section/div/div[5]/ul/li[2]/label/div\").click()"
   ]
  },
  {
   "cell_type": "code",
   "execution_count": 14,
   "metadata": {},
   "outputs": [],
   "source": [
    "driver9.find_element_by_xpath(\"/html/body/div[2]/div/div[1]/main/div[3]/div[1]/section/div/div[6]/ul/li[1]/label/div\").click()"
   ]
  },
  {
   "cell_type": "code",
   "execution_count": 7,
   "metadata": {},
   "outputs": [
    {
     "data": {
      "text/plain": [
       "[<selenium.webdriver.remote.webelement.WebElement (session=\"9996fe50340a4dee49a867392f2ec18c\", element=\"b02f1e3f-bdd0-4021-be64-cd922403f972\")>,\n",
       " <selenium.webdriver.remote.webelement.WebElement (session=\"9996fe50340a4dee49a867392f2ec18c\", element=\"669117be-d43c-42ff-8b42-5667204f6fe8\")>,\n",
       " <selenium.webdriver.remote.webelement.WebElement (session=\"9996fe50340a4dee49a867392f2ec18c\", element=\"30223f8b-7410-43a8-b2e0-28cac4819572\")>,\n",
       " <selenium.webdriver.remote.webelement.WebElement (session=\"9996fe50340a4dee49a867392f2ec18c\", element=\"1616de12-5104-4c3e-bee2-5b281b7d1421\")>,\n",
       " <selenium.webdriver.remote.webelement.WebElement (session=\"9996fe50340a4dee49a867392f2ec18c\", element=\"f9ac25c3-1af5-4e49-8060-d33b83d6baad\")>,\n",
       " <selenium.webdriver.remote.webelement.WebElement (session=\"9996fe50340a4dee49a867392f2ec18c\", element=\"39672e92-2243-4bf6-83bb-0f833fc414b5\")>,\n",
       " <selenium.webdriver.remote.webelement.WebElement (session=\"9996fe50340a4dee49a867392f2ec18c\", element=\"dae77ac9-7fde-478f-a461-d5da83230d4a\")>,\n",
       " <selenium.webdriver.remote.webelement.WebElement (session=\"9996fe50340a4dee49a867392f2ec18c\", element=\"5ecf771b-356d-431f-b806-930013bfd0c3\")>,\n",
       " <selenium.webdriver.remote.webelement.WebElement (session=\"9996fe50340a4dee49a867392f2ec18c\", element=\"0964585a-ad6f-43f5-8cb9-99c90bbf087a\")>,\n",
       " <selenium.webdriver.remote.webelement.WebElement (session=\"9996fe50340a4dee49a867392f2ec18c\", element=\"ac4ebff4-d3d8-42dc-ad2f-79a9d046058a\")>,\n",
       " <selenium.webdriver.remote.webelement.WebElement (session=\"9996fe50340a4dee49a867392f2ec18c\", element=\"9c831dd5-56ed-46cd-94ff-9978f912b076\")>,\n",
       " <selenium.webdriver.remote.webelement.WebElement (session=\"9996fe50340a4dee49a867392f2ec18c\", element=\"293cc967-90d6-42d7-aff6-fbdbc8acb776\")>,\n",
       " <selenium.webdriver.remote.webelement.WebElement (session=\"9996fe50340a4dee49a867392f2ec18c\", element=\"a326f8f4-081f-4976-a361-49ff8e3a0718\")>,\n",
       " <selenium.webdriver.remote.webelement.WebElement (session=\"9996fe50340a4dee49a867392f2ec18c\", element=\"b6626734-d195-4f52-9dae-d22f8ba3dfa9\")>,\n",
       " <selenium.webdriver.remote.webelement.WebElement (session=\"9996fe50340a4dee49a867392f2ec18c\", element=\"e532bea6-a145-4ede-9a98-32d3366d2d6f\")>,\n",
       " <selenium.webdriver.remote.webelement.WebElement (session=\"9996fe50340a4dee49a867392f2ec18c\", element=\"b6d76b8a-64f5-4371-9398-fb846f288862\")>,\n",
       " <selenium.webdriver.remote.webelement.WebElement (session=\"9996fe50340a4dee49a867392f2ec18c\", element=\"a690479f-2145-4a00-b1c8-34db2dba6325\")>,\n",
       " <selenium.webdriver.remote.webelement.WebElement (session=\"9996fe50340a4dee49a867392f2ec18c\", element=\"58e72899-ee21-41d5-9598-16f45ada4aab\")>,\n",
       " <selenium.webdriver.remote.webelement.WebElement (session=\"9996fe50340a4dee49a867392f2ec18c\", element=\"ff0eedf5-af9f-4112-83d3-52fb91299562\")>,\n",
       " <selenium.webdriver.remote.webelement.WebElement (session=\"9996fe50340a4dee49a867392f2ec18c\", element=\"dc146c80-ff7d-4ab6-86e4-9aa0d6f1c7c4\")>,\n",
       " <selenium.webdriver.remote.webelement.WebElement (session=\"9996fe50340a4dee49a867392f2ec18c\", element=\"d18628cf-dfc5-4d34-9766-4c97b601cb06\")>,\n",
       " <selenium.webdriver.remote.webelement.WebElement (session=\"9996fe50340a4dee49a867392f2ec18c\", element=\"f12ef2c1-971c-42d9-a7c0-afd6950f5230\")>,\n",
       " <selenium.webdriver.remote.webelement.WebElement (session=\"9996fe50340a4dee49a867392f2ec18c\", element=\"2777778d-9809-4259-b6a3-a8af878cf125\")>,\n",
       " <selenium.webdriver.remote.webelement.WebElement (session=\"9996fe50340a4dee49a867392f2ec18c\", element=\"c4de9b40-1cdf-4f41-916a-01f54b00cedf\")>,\n",
       " <selenium.webdriver.remote.webelement.WebElement (session=\"9996fe50340a4dee49a867392f2ec18c\", element=\"7e3e659d-b71e-44b0-9882-c0fad949b073\")>,\n",
       " <selenium.webdriver.remote.webelement.WebElement (session=\"9996fe50340a4dee49a867392f2ec18c\", element=\"70a9c03e-606f-404a-9c5f-3f94ee4c383a\")>,\n",
       " <selenium.webdriver.remote.webelement.WebElement (session=\"9996fe50340a4dee49a867392f2ec18c\", element=\"9817b8a9-50c5-4d77-a325-a919255cd9d3\")>,\n",
       " <selenium.webdriver.remote.webelement.WebElement (session=\"9996fe50340a4dee49a867392f2ec18c\", element=\"3015a9a3-e871-4a61-ace2-f41d9d91714e\")>,\n",
       " <selenium.webdriver.remote.webelement.WebElement (session=\"9996fe50340a4dee49a867392f2ec18c\", element=\"9472b374-fa0d-49c6-b5f4-a1af7bc29db4\")>,\n",
       " <selenium.webdriver.remote.webelement.WebElement (session=\"9996fe50340a4dee49a867392f2ec18c\", element=\"cdeaa44b-d354-4fed-9729-1548d5987d30\")>,\n",
       " <selenium.webdriver.remote.webelement.WebElement (session=\"9996fe50340a4dee49a867392f2ec18c\", element=\"0b46776d-e5ec-474b-b579-9ae892a1e2e1\")>,\n",
       " <selenium.webdriver.remote.webelement.WebElement (session=\"9996fe50340a4dee49a867392f2ec18c\", element=\"82427b70-d802-4969-a81d-3202b955b2b9\")>,\n",
       " <selenium.webdriver.remote.webelement.WebElement (session=\"9996fe50340a4dee49a867392f2ec18c\", element=\"e0506b04-ca8c-43c0-ae6d-686670ac411d\")>,\n",
       " <selenium.webdriver.remote.webelement.WebElement (session=\"9996fe50340a4dee49a867392f2ec18c\", element=\"d5bb79cd-8fea-4fc5-9627-3255d0f0120c\")>,\n",
       " <selenium.webdriver.remote.webelement.WebElement (session=\"9996fe50340a4dee49a867392f2ec18c\", element=\"b57dbcc2-e7c0-4eec-856b-e68fd42113f7\")>,\n",
       " <selenium.webdriver.remote.webelement.WebElement (session=\"9996fe50340a4dee49a867392f2ec18c\", element=\"2122ff5d-1b0f-4e8c-a1dc-24f26f1d41d7\")>,\n",
       " <selenium.webdriver.remote.webelement.WebElement (session=\"9996fe50340a4dee49a867392f2ec18c\", element=\"069464ee-6791-4348-9c14-bf3de8286bd0\")>,\n",
       " <selenium.webdriver.remote.webelement.WebElement (session=\"9996fe50340a4dee49a867392f2ec18c\", element=\"649f8097-a538-4e02-9465-ed7940ad4db8\")>,\n",
       " <selenium.webdriver.remote.webelement.WebElement (session=\"9996fe50340a4dee49a867392f2ec18c\", element=\"f6639f5a-b673-4cd6-a272-601eda178359\")>,\n",
       " <selenium.webdriver.remote.webelement.WebElement (session=\"9996fe50340a4dee49a867392f2ec18c\", element=\"dbd7dccb-579c-4b00-86e6-6387c171fb53\")>,\n",
       " <selenium.webdriver.remote.webelement.WebElement (session=\"9996fe50340a4dee49a867392f2ec18c\", element=\"4b9e847f-9acd-4e32-8b0e-53801f8eeb2e\")>,\n",
       " <selenium.webdriver.remote.webelement.WebElement (session=\"9996fe50340a4dee49a867392f2ec18c\", element=\"16f1a18b-86cb-477b-b685-c47c58984307\")>,\n",
       " <selenium.webdriver.remote.webelement.WebElement (session=\"9996fe50340a4dee49a867392f2ec18c\", element=\"bdccd19e-9365-4b4e-b0ee-b90b25e5b69a\")>,\n",
       " <selenium.webdriver.remote.webelement.WebElement (session=\"9996fe50340a4dee49a867392f2ec18c\", element=\"cd6bb282-e660-4976-8716-892a9ee72502\")>,\n",
       " <selenium.webdriver.remote.webelement.WebElement (session=\"9996fe50340a4dee49a867392f2ec18c\", element=\"ccc314a2-9e60-4583-a8da-3098d9aca7f0\")>,\n",
       " <selenium.webdriver.remote.webelement.WebElement (session=\"9996fe50340a4dee49a867392f2ec18c\", element=\"0a41f02b-49ec-4797-ab02-be725673b61c\")>,\n",
       " <selenium.webdriver.remote.webelement.WebElement (session=\"9996fe50340a4dee49a867392f2ec18c\", element=\"a366726a-70bc-419a-bcad-3d8fc75a5b3d\")>,\n",
       " <selenium.webdriver.remote.webelement.WebElement (session=\"9996fe50340a4dee49a867392f2ec18c\", element=\"b137da65-dd4d-4d68-96b7-04a4a1715fad\")>,\n",
       " <selenium.webdriver.remote.webelement.WebElement (session=\"9996fe50340a4dee49a867392f2ec18c\", element=\"603c5bdc-fec6-4ae7-a6af-ae3d9f541d79\")>,\n",
       " <selenium.webdriver.remote.webelement.WebElement (session=\"9996fe50340a4dee49a867392f2ec18c\", element=\"b8723a1a-68bb-42c3-abf4-fc04c8bfa1ce\")>]"
      ]
     },
     "execution_count": 7,
     "metadata": {},
     "output_type": "execute_result"
    }
   ],
   "source": [
    "url99=driver9.find_elements_by_xpath(\"//li[@class='product-base']//a\")\n",
    "url99"
   ]
  },
  {
   "cell_type": "code",
   "execution_count": 8,
   "metadata": {},
   "outputs": [
    {
     "data": {
      "text/plain": [
       "['https://www.myntra.com/casual-shoes/aldo/aldo-men-black-driving-shoes/14200520/buy',\n",
       " 'https://www.myntra.com/sports-shoes/puma/puma-men-black-cell-fraction-fade-running-shoes/13484274/buy',\n",
       " 'https://www.myntra.com/sports-shoes/under-armour/under-armour-men-black-hovr-sonic-4-colorshift-running-shoes-with-bluetooth/14649208/buy',\n",
       " 'https://www.myntra.com/sports-shoes/under-armour/under-armour-men-black-woven-design-charged-pursuit-2-se-running-shoes/14649136/buy',\n",
       " 'https://www.myntra.com/casual-shoes/nike/nike-men-black-crater-remixa-sneakers/14528018/buy',\n",
       " 'https://www.myntra.com/casual-shoes/nike/nike-men-black--white-blazer-low-77-vintage-leather-sneakers/14528040/buy',\n",
       " 'https://www.myntra.com/sports-shoes/under-armour/under-armour-unisex-black-project-rock-recruit-bsr-woven-design-training-shoes/14649166/buy',\n",
       " 'https://www.myntra.com/formal-shoes/rare-rabbit/rare-rabbit-men-black-leather-formal-slip-ons/14618150/buy',\n",
       " 'https://www.myntra.com/sports-shoes/under-armour/under-armour-men-black-charged-pursuit-2-se-running-shoes/14649126/buy',\n",
       " 'https://www.myntra.com/sports-shoes/puma/puma-men-black-hybrid-fuego-running-shoes/10253451/buy',\n",
       " 'https://www.myntra.com/sports-shoes/puma/puma-men-black-velocity-nitro-running-shoes/13484306/buy',\n",
       " 'https://www.myntra.com/sports-shoes/under-armour/under-armour-men-black-charged-assert-8-marble-running-shoes/14649054/buy',\n",
       " 'https://www.myntra.com/sports-shoes/under-armour/under-armour-men-black-woven-design-hovr-sonic-4-running-shoes-with-bluetooth/14649150/buy',\n",
       " 'https://www.myntra.com/formal-shoes/hush-puppies/hush-puppies-men-black-solid-leather-formal-oxfords/12435220/buy',\n",
       " 'https://www.myntra.com/casual-shoes/rare-rabbit/rare-rabbit-men-black-leather-flat-boots/14937472/buy',\n",
       " 'https://www.myntra.com/casual-shoes/skechers/skechers-men-black--grey-woven-design-equalizer-40-trail-terrator-sneakers/13976174/buy',\n",
       " 'https://www.myntra.com/sports-shoes/under-armour/under-armour-men-black-phade-running-shoes/14649108/buy',\n",
       " 'https://www.myntra.com/sports-shoes/puma/puma-men-black-softride-rift-running-shoes/12699240/buy',\n",
       " 'https://www.myntra.com/sports-shoes/under-armour/under-armour-women-black--purple-hovr-sonic-4-fnrn-running-shoes/14649220/buy',\n",
       " 'https://www.myntra.com/casual-shoes/hush-puppies/hush-puppies-men-black-leather-slip-on-sneakers/12698534/buy',\n",
       " 'https://www.myntra.com/sports-shoes/tarmak-by-decathlon/tarmak-by-decathlon-men-black-mesh-high-top-basketball-shoes/12992610/buy',\n",
       " 'https://www.myntra.com/sports-shoes/puma-hoops/puma-hoops-unisex-black-clyde-all-pro-basketball-shoes/13554332/buy',\n",
       " 'https://www.myntra.com/casual-shoes/geox/geox-men-black--yellow-printed-slip-on-sneakers/14533240/buy',\n",
       " 'https://www.myntra.com/sports-shoes/under-armour/under-armour-men-black-charged-rogue-25-reflect-running-shoes/14649122/buy',\n",
       " 'https://www.myntra.com/casual-shoes/under-armour/under-armour-men-black-hovr-sonic-strt-tech-woven-design-sneakers/14648434/buy',\n",
       " 'https://www.myntra.com/casual-shoes/hush-puppies/hush-puppies-men-black-leather-slip-on-sneakers/12698526/buy',\n",
       " 'https://www.myntra.com/sports-shoes/forclaz-by-decathlon/forclaz-by-decathlon-men-grey-trekking-100-waterproof-mid-top-trekking-boots/14321736/buy',\n",
       " 'https://www.myntra.com/sports-shoes/under-armour/under-armour-men-black-charged-commit-3-training-shoes/14649128/buy',\n",
       " 'https://www.myntra.com/sports-shoes/fila/fila-men-black-running-shoes/11984696/buy',\n",
       " 'https://www.myntra.com/sports-shoes/under-armour/under-armour-women-black-woven-charged-rogue-25-colorshift-running-shoes/14649130/buy',\n",
       " 'https://www.myntra.com/heels/metro/metro-women-black-solid-high-top-heeled-boots/12707596/buy',\n",
       " 'https://www.myntra.com/formal-shoes/hush-puppies/hush-puppies-men-black-solid-formal-leather-monk-shoes/13065460/buy',\n",
       " 'https://www.myntra.com/casual-shoes/cole-haan/cole-haan-men-black-leather-grandpro-tennis-sneakers/11578284/buy',\n",
       " 'https://www.myntra.com/casual-shoes/geox/geox-men-black-perforated-slip-on-sneakers/14533172/buy',\n",
       " 'https://www.myntra.com/sports-shoes/under-armour/under-armour-unisex-black--grey-colourblocked-gs-sc-3-zero-iv-basketball-shoes/12247208/buy',\n",
       " 'https://www.myntra.com/sports-shoes/adidas/adidas-women-black-supernova-running-shoes/12708514/buy',\n",
       " 'https://www.myntra.com/sports-shoes/puma/puma-women-black-eternity-nitro-running-shoes/13484354/buy',\n",
       " 'https://www.myntra.com/casual-shoes/cole-haan/cole-haan-women-black-loafers/13512442/buy',\n",
       " 'https://www.myntra.com/casual-shoes/rare-rabbit/rare-rabbit-men-black-perforations-leather-brogues/14638312/buy',\n",
       " 'https://www.myntra.com/sports-shoes/under-armour/under-armour-men-black-hovr-infinite-woven-design-bluetooth-running-shoes/10692686/buy',\n",
       " 'https://www.myntra.com/sports-shoes/puma/puma-men-black-leader-vt-tech-running-shoes/12282038/buy',\n",
       " 'https://www.myntra.com/casual-shoes/lacoste/lacoste-men-black-slip-on-sneakers/13430898/buy',\n",
       " 'https://www.myntra.com/sports-shoes/puma/puma-women-black-deviate-nitro-running-shoes/13484166/buy',\n",
       " 'https://www.myntra.com/sports-shoes/quechua-by-decathlon/quechua-by-decathlon-men-black-leather-warm-snow-hiking-boots/12983992/buy',\n",
       " 'https://www.myntra.com/sports-shoes/under-armour/under-armour-women-black-woven-design-charged-bandit-6-running-shoes/14649110/buy',\n",
       " 'https://www.myntra.com/formal-shoes/geox/geox-men-black-solid-leather-formal-oxfords/11774934/buy',\n",
       " 'https://www.myntra.com/casual-shoes/kenneth-cole/kenneth-cole-men-black-leather-sneakers/13263490/buy',\n",
       " 'https://www.myntra.com/casual-shoes/hm/hm-mens-black-leather-boots/14408000/buy',\n",
       " 'https://www.myntra.com/sports-shoes/puma/puma-women-black-velocity-nitro-running-shoes/13484140/buy',\n",
       " 'https://www.myntra.com/sports-shoes/asics/asics-gel-lyte-iii-og--men-black-leather-running-shoes/14349292/buy']"
      ]
     },
     "execution_count": 8,
     "metadata": {},
     "output_type": "execute_result"
    }
   ],
   "source": [
    "shoes=[]\n",
    "for i in url99:\n",
    "    shoes.append(i.get_attribute('href'))\n",
    "shoes"
   ]
  },
  {
   "cell_type": "code",
   "execution_count": 9,
   "metadata": {},
   "outputs": [
    {
     "data": {
      "text/plain": [
       "['ALDO',\n",
       " 'Puma',\n",
       " 'UNDER ARMOUR',\n",
       " 'UNDER ARMOUR',\n",
       " 'Nike',\n",
       " 'Nike',\n",
       " 'UNDER ARMOUR',\n",
       " 'RARE RABBIT',\n",
       " 'UNDER ARMOUR',\n",
       " 'Puma',\n",
       " 'Puma',\n",
       " 'UNDER ARMOUR',\n",
       " 'UNDER ARMOUR',\n",
       " 'Hush Puppies',\n",
       " 'RARE RABBIT',\n",
       " 'Skechers',\n",
       " 'UNDER ARMOUR',\n",
       " 'Puma',\n",
       " 'UNDER ARMOUR',\n",
       " 'Hush Puppies',\n",
       " 'TARMAK By Decathlon',\n",
       " 'PUMA Hoops',\n",
       " 'Geox',\n",
       " 'UNDER ARMOUR',\n",
       " 'UNDER ARMOUR',\n",
       " 'Hush Puppies',\n",
       " 'FORCLAZ By Decathlon',\n",
       " 'UNDER ARMOUR',\n",
       " 'FILA',\n",
       " 'UNDER ARMOUR',\n",
       " 'Metro',\n",
       " 'Hush Puppies',\n",
       " 'Cole Haan',\n",
       " '-',\n",
       " '-',\n",
       " 'ADIDAS',\n",
       " 'Puma',\n",
       " 'Cole Haan',\n",
       " 'RARE RABBIT',\n",
       " 'UNDER ARMOUR',\n",
       " 'Puma',\n",
       " 'Lacoste',\n",
       " 'Puma',\n",
       " 'Quechua By Decathlon',\n",
       " 'UNDER ARMOUR',\n",
       " 'Geox',\n",
       " 'Kenneth Cole',\n",
       " 'H&M',\n",
       " 'Puma',\n",
       " 'ASICS']"
      ]
     },
     "execution_count": 9,
     "metadata": {},
     "output_type": "execute_result"
    }
   ],
   "source": [
    "shoes_brand=[]\n",
    "for i in shoes[0:100]:\n",
    "    driver9.get(i)\n",
    "    try:\n",
    "        brand=driver9.find_element_by_xpath(\"//h1[@class='pdp-title']\")\n",
    "        shoes_brand.append(brand.text)\n",
    "    except:\n",
    "        shoes_brand.append('-')\n",
    "shoes_brand"
   ]
  },
  {
   "cell_type": "code",
   "execution_count": 16,
   "metadata": {},
   "outputs": [],
   "source": [
    "next_btn=driver9.find_element_by_xpath(\"//li[@class='pagination-next']//a\")\n",
    "next_btn.click()"
   ]
  },
  {
   "cell_type": "code",
   "execution_count": 17,
   "metadata": {},
   "outputs": [
    {
     "data": {
      "text/plain": [
       "[<selenium.webdriver.remote.webelement.WebElement (session=\"9996fe50340a4dee49a867392f2ec18c\", element=\"7c105582-b7da-4358-a6df-cc8c852519a8\")>,\n",
       " <selenium.webdriver.remote.webelement.WebElement (session=\"9996fe50340a4dee49a867392f2ec18c\", element=\"4f0786b5-0cec-4f30-a38f-e381fe1b8902\")>,\n",
       " <selenium.webdriver.remote.webelement.WebElement (session=\"9996fe50340a4dee49a867392f2ec18c\", element=\"46ade5dc-d2c9-4926-aec9-4f34573ef830\")>,\n",
       " <selenium.webdriver.remote.webelement.WebElement (session=\"9996fe50340a4dee49a867392f2ec18c\", element=\"6f66a0b1-9bd4-41d3-b8f6-0f12b5e96938\")>,\n",
       " <selenium.webdriver.remote.webelement.WebElement (session=\"9996fe50340a4dee49a867392f2ec18c\", element=\"1bcb2378-901e-498d-88ce-e2c69700db12\")>,\n",
       " <selenium.webdriver.remote.webelement.WebElement (session=\"9996fe50340a4dee49a867392f2ec18c\", element=\"ac3c68ab-d614-4add-bc8d-926623389b43\")>,\n",
       " <selenium.webdriver.remote.webelement.WebElement (session=\"9996fe50340a4dee49a867392f2ec18c\", element=\"c0aec488-2788-4ec4-82bd-daf3d587bf1e\")>,\n",
       " <selenium.webdriver.remote.webelement.WebElement (session=\"9996fe50340a4dee49a867392f2ec18c\", element=\"fa32e962-19cc-4ba5-98d7-f31b061c61a7\")>,\n",
       " <selenium.webdriver.remote.webelement.WebElement (session=\"9996fe50340a4dee49a867392f2ec18c\", element=\"672fca9d-6e1b-4cce-ad60-38165222cff8\")>,\n",
       " <selenium.webdriver.remote.webelement.WebElement (session=\"9996fe50340a4dee49a867392f2ec18c\", element=\"969936fa-eba1-4b2a-b2c0-8887f9af09ec\")>,\n",
       " <selenium.webdriver.remote.webelement.WebElement (session=\"9996fe50340a4dee49a867392f2ec18c\", element=\"fe098659-9c8e-4f19-8686-1446a22b2d0f\")>,\n",
       " <selenium.webdriver.remote.webelement.WebElement (session=\"9996fe50340a4dee49a867392f2ec18c\", element=\"b06e69a8-3ca7-4ec9-9555-ec0f18ff0d8e\")>,\n",
       " <selenium.webdriver.remote.webelement.WebElement (session=\"9996fe50340a4dee49a867392f2ec18c\", element=\"6e8fb3b4-3d78-4fe4-a441-491b00234ea0\")>,\n",
       " <selenium.webdriver.remote.webelement.WebElement (session=\"9996fe50340a4dee49a867392f2ec18c\", element=\"24144867-de52-4725-97bc-02275f985c0c\")>,\n",
       " <selenium.webdriver.remote.webelement.WebElement (session=\"9996fe50340a4dee49a867392f2ec18c\", element=\"ae26148f-7fba-4059-bb6b-9b7b8406ca5d\")>,\n",
       " <selenium.webdriver.remote.webelement.WebElement (session=\"9996fe50340a4dee49a867392f2ec18c\", element=\"2da85722-4c9f-4fb1-ad12-e604b5b38376\")>,\n",
       " <selenium.webdriver.remote.webelement.WebElement (session=\"9996fe50340a4dee49a867392f2ec18c\", element=\"3a40e177-31dd-49b9-99c1-309710978792\")>,\n",
       " <selenium.webdriver.remote.webelement.WebElement (session=\"9996fe50340a4dee49a867392f2ec18c\", element=\"3df45cfe-580f-4869-9669-e988d923a527\")>,\n",
       " <selenium.webdriver.remote.webelement.WebElement (session=\"9996fe50340a4dee49a867392f2ec18c\", element=\"1c2955f0-2a8b-44b0-9886-d43e47a74157\")>,\n",
       " <selenium.webdriver.remote.webelement.WebElement (session=\"9996fe50340a4dee49a867392f2ec18c\", element=\"95868db7-f5cc-44d5-94c9-da1d57080c0e\")>,\n",
       " <selenium.webdriver.remote.webelement.WebElement (session=\"9996fe50340a4dee49a867392f2ec18c\", element=\"67b0d3ff-93a0-44ba-bbd1-b9005e0569a7\")>,\n",
       " <selenium.webdriver.remote.webelement.WebElement (session=\"9996fe50340a4dee49a867392f2ec18c\", element=\"a85e2168-b54b-48e1-99ac-a872d0d2d6b0\")>,\n",
       " <selenium.webdriver.remote.webelement.WebElement (session=\"9996fe50340a4dee49a867392f2ec18c\", element=\"3467c3ed-b32b-40de-a7a8-0c090302ec63\")>,\n",
       " <selenium.webdriver.remote.webelement.WebElement (session=\"9996fe50340a4dee49a867392f2ec18c\", element=\"c4dcc499-d3cf-48a8-abdf-393b4418f567\")>,\n",
       " <selenium.webdriver.remote.webelement.WebElement (session=\"9996fe50340a4dee49a867392f2ec18c\", element=\"8d1e467d-41cf-423c-b086-8ad45fdfefdf\")>,\n",
       " <selenium.webdriver.remote.webelement.WebElement (session=\"9996fe50340a4dee49a867392f2ec18c\", element=\"3727b042-9ab3-4592-ac2e-b08c6f1da3fc\")>,\n",
       " <selenium.webdriver.remote.webelement.WebElement (session=\"9996fe50340a4dee49a867392f2ec18c\", element=\"23a35b63-de88-4598-9ace-d83ea4053f6a\")>,\n",
       " <selenium.webdriver.remote.webelement.WebElement (session=\"9996fe50340a4dee49a867392f2ec18c\", element=\"1a322622-addb-4f01-8ac3-10c328fb33ac\")>,\n",
       " <selenium.webdriver.remote.webelement.WebElement (session=\"9996fe50340a4dee49a867392f2ec18c\", element=\"d4e1aaa0-c6b9-45e3-863c-2c1006659873\")>,\n",
       " <selenium.webdriver.remote.webelement.WebElement (session=\"9996fe50340a4dee49a867392f2ec18c\", element=\"2958d36f-2b92-4eb5-a892-ca1047adb845\")>,\n",
       " <selenium.webdriver.remote.webelement.WebElement (session=\"9996fe50340a4dee49a867392f2ec18c\", element=\"568d7524-20a7-46ee-bce8-fe5bc09a086b\")>,\n",
       " <selenium.webdriver.remote.webelement.WebElement (session=\"9996fe50340a4dee49a867392f2ec18c\", element=\"da2859e2-01fd-4bc6-a168-f674d617835b\")>,\n",
       " <selenium.webdriver.remote.webelement.WebElement (session=\"9996fe50340a4dee49a867392f2ec18c\", element=\"e8b7a5c9-1168-4773-b3a3-cbbd28baf4f5\")>,\n",
       " <selenium.webdriver.remote.webelement.WebElement (session=\"9996fe50340a4dee49a867392f2ec18c\", element=\"58c2321c-0261-4114-b7f3-95ca004fdab7\")>,\n",
       " <selenium.webdriver.remote.webelement.WebElement (session=\"9996fe50340a4dee49a867392f2ec18c\", element=\"3ca2efe2-7c45-454e-af24-3104edbb818d\")>,\n",
       " <selenium.webdriver.remote.webelement.WebElement (session=\"9996fe50340a4dee49a867392f2ec18c\", element=\"45f2ffd6-43f9-4898-a6fd-62e2f1271edb\")>,\n",
       " <selenium.webdriver.remote.webelement.WebElement (session=\"9996fe50340a4dee49a867392f2ec18c\", element=\"04cfa065-579d-48b8-baee-18b1819b7b4e\")>,\n",
       " <selenium.webdriver.remote.webelement.WebElement (session=\"9996fe50340a4dee49a867392f2ec18c\", element=\"d619ce3f-eead-4149-aa1a-47f582a73c1c\")>,\n",
       " <selenium.webdriver.remote.webelement.WebElement (session=\"9996fe50340a4dee49a867392f2ec18c\", element=\"a1b05c08-595a-451d-a73e-b8f86f17d849\")>,\n",
       " <selenium.webdriver.remote.webelement.WebElement (session=\"9996fe50340a4dee49a867392f2ec18c\", element=\"37803817-60c1-4bdd-8034-a6f61b7c4e5e\")>,\n",
       " <selenium.webdriver.remote.webelement.WebElement (session=\"9996fe50340a4dee49a867392f2ec18c\", element=\"7e00703b-45a2-456d-b0bd-3bbd8a3828d8\")>,\n",
       " <selenium.webdriver.remote.webelement.WebElement (session=\"9996fe50340a4dee49a867392f2ec18c\", element=\"2605110d-21c1-495f-8f6c-17b07e97031c\")>,\n",
       " <selenium.webdriver.remote.webelement.WebElement (session=\"9996fe50340a4dee49a867392f2ec18c\", element=\"cfdea3a2-f663-4e50-b3c5-bff7fbe2706d\")>,\n",
       " <selenium.webdriver.remote.webelement.WebElement (session=\"9996fe50340a4dee49a867392f2ec18c\", element=\"7ec7a406-b17d-4e5e-b281-4628e6d2d66d\")>,\n",
       " <selenium.webdriver.remote.webelement.WebElement (session=\"9996fe50340a4dee49a867392f2ec18c\", element=\"a918ea85-d965-4ae3-963c-28c9ff5b2ed6\")>,\n",
       " <selenium.webdriver.remote.webelement.WebElement (session=\"9996fe50340a4dee49a867392f2ec18c\", element=\"7ea9fca2-fd0b-4088-af17-853e361c6b39\")>,\n",
       " <selenium.webdriver.remote.webelement.WebElement (session=\"9996fe50340a4dee49a867392f2ec18c\", element=\"c6d9917a-ad97-4e95-a1e9-81576f98752a\")>,\n",
       " <selenium.webdriver.remote.webelement.WebElement (session=\"9996fe50340a4dee49a867392f2ec18c\", element=\"69d3a687-0386-4b70-b116-94f9f38ea5cd\")>,\n",
       " <selenium.webdriver.remote.webelement.WebElement (session=\"9996fe50340a4dee49a867392f2ec18c\", element=\"aedc6db9-72f9-4171-83cd-5df7e81ea53f\")>,\n",
       " <selenium.webdriver.remote.webelement.WebElement (session=\"9996fe50340a4dee49a867392f2ec18c\", element=\"5f8103a8-2c4b-4998-84b8-92685ad001b9\")>]"
      ]
     },
     "execution_count": 17,
     "metadata": {},
     "output_type": "execute_result"
    }
   ],
   "source": [
    "url999=driver9.find_elements_by_xpath(\"//li[@class='product-base']//a\")\n",
    "url999"
   ]
  },
  {
   "cell_type": "code",
   "execution_count": 18,
   "metadata": {},
   "outputs": [
    {
     "data": {
      "text/plain": [
       "['https://www.myntra.com/formal-shoes/ruosh/ruosh-men-black-solid-brisbane-leather-oxfords/11148734/buy',\n",
       " 'https://www.myntra.com/formal-shoes/hush-puppies/hush-puppies-men-black-solid-leather-formal-slip-ons/12435690/buy',\n",
       " 'https://www.myntra.com/sports-shoes/under-armour/under-armour-women-black-woven-design-charged-impulse-shft-running-shoes/14649022/buy',\n",
       " 'https://www.myntra.com/casual-shoes/hush-puppies/hush-puppies-men-black-leather-derbys/13065422/buy',\n",
       " 'https://www.myntra.com/formal-shoes/hush-puppies/hush-puppies-men-black-solid-leather-formal-derbys/12435696/buy',\n",
       " 'https://www.myntra.com/formal-shoes/hush-puppies/hush-puppies-men-black-solid-leather-formal-slip-ons/12452162/buy',\n",
       " 'https://www.myntra.com/casual-shoes/geox/geox-men-black-textured-leather-driving-shoes/14533232/buy',\n",
       " 'https://www.myntra.com/casual-shoes/cole-haan/cole-haan-men-black-generation-zerogrand-stitchlite-sneakers/11052214/buy',\n",
       " 'https://www.myntra.com/casual-shoes/geox/geox-men-black-solid-leather-slip-on-sneakers/11107550/buy',\n",
       " 'https://www.myntra.com/casual-shoes/puma/puma-unisex-black--mint-green-colourblocked-rs-connect-splash-trainer-sneakers/14826024/buy',\n",
       " 'https://www.myntra.com/casual-shoes/jfontini/jfontini-men-black-loafers/13343594/buy',\n",
       " 'https://www.myntra.com/formal-shoes/rare-rabbit/rare-rabbit-men-black-leather-formal-slip-ons/14618150/buy',\n",
       " 'https://www.myntra.com/formal-shoes/ruosh/ruosh-men-black-genuine-leather-monk-shoes/7419542/buy',\n",
       " 'https://www.myntra.com/casual-shoes/jfontini/jfontini-men-black-leather-loafers/12681352/buy',\n",
       " 'https://www.myntra.com/casual-shoes/jfontini/jfontini-men-black-solid-leather-loafers/12681344/buy',\n",
       " 'https://www.myntra.com/formal-shoes/davinchi/davinchi-men-black-solid-formal-leather-derbys/13376872/buy',\n",
       " 'https://www.myntra.com/formal-shoes/hush-puppies/hush-puppies-men-black-solid-formal-leather-oxfords/13065452/buy',\n",
       " 'https://www.myntra.com/formal-shoes/hush-puppies/hush-puppies-men-black-solid-formal-leather-brogues/13065456/buy',\n",
       " 'https://www.myntra.com/formal-shoes/ruosh/ruosh-men-black-solid-leather-formal-slip-ons/11714640/buy',\n",
       " 'https://www.myntra.com/casual-shoes/jfontini/j-fontini-men-black-textured-leather-loafers/14458668/buy',\n",
       " 'https://www.myntra.com/casual-shoes/bugatti/bugatti-men-black-sneakers/13782356/buy',\n",
       " 'https://www.myntra.com/casual-shoes/bugatti/bugatti-men-black-perforated-slip-on-sneakers/13782408/buy',\n",
       " 'https://www.myntra.com/casual-shoes/hush-puppies/hush-puppies-men-black-colourblocked-driving-shoes/12698504/buy',\n",
       " 'https://www.myntra.com/formal-shoes/geox/geox-men-black-leather-semi-formal-slip-ons/14533210/buy',\n",
       " 'https://www.myntra.com/heels/bugatti/bugatti-women-black-striped-mules/14008024/buy',\n",
       " 'https://www.myntra.com/formal-shoes/ruosh/ruosh-men-black-leather-formal-slip-on-shoes/10516910/buy',\n",
       " 'https://www.myntra.com/casual-shoes/under-armour/under-armour-women-black-woven-design-charged-breathe-oil-slk-sportstyle-shoes/12247158/buy',\n",
       " 'https://www.myntra.com/casual-shoes/rare-rabbit/rare-rabbit-men-black-leather-flat-boots/14937472/buy',\n",
       " 'https://www.myntra.com/sports-shoes/xtep/xtep-women-black-air-mega-energy-ring-running-shoes/12678986/buy',\n",
       " 'https://www.myntra.com/casual-shoes/geox/geox-men-black--yellow-printed-slip-on-sneakers/14533240/buy',\n",
       " 'https://www.myntra.com/formal-shoes/davinchi/davinchi-men-black-textured-formal-leather-loafers/13376948/buy',\n",
       " 'https://www.myntra.com/formal-shoes/hush-puppies/hush-puppies-men-black-solid-formal-derbys-/13123142/buy',\n",
       " 'https://www.myntra.com/heels/saint-g/saint-g-black-leather-block-sandals/14500492/buy',\n",
       " 'https://www.myntra.com/casual-shoes/ruosh/ruosh-men-black-textured-leather-monks/11781016/buy',\n",
       " 'https://www.myntra.com/casual-shoes/under-armour/under-armour-men-black-victory-woven-design-sneakers/14647990/buy',\n",
       " 'https://www.myntra.com/heels/saint-g/saint-g-women-black-solid-leather-heeled-boots/12310282/buy',\n",
       " 'https://www.myntra.com/sports-shoes/quechua-by-decathlon/quechua-by-decathlon-women-black-leather-mid-top-waterproof-hiking-shoes/13177070/buy',\n",
       " 'https://www.myntra.com/casual-shoes/geox/geox-men-black-perforated-slip-on-sneakers/14533172/buy',\n",
       " 'https://www.myntra.com/formal-shoes/geox/geox-men-black-solid-leather-formal-derbys/14114944/buy',\n",
       " 'https://www.myntra.com/formal-shoes/kenneth-cole/kenneth-cole-men-black-solid-leather-formal-derbys/12140870/buy',\n",
       " 'https://www.myntra.com/casual-shoes/rare-rabbit/rare-rabbit-men-black-perforations-leather-brogues/14638312/buy',\n",
       " 'https://www.myntra.com/sports-shoes/xtep/xtep-women-black--white-running-shoes/13472550/buy',\n",
       " 'https://www.myntra.com/formal-shoes/jfontini/jfontini-men-black-textured-leather-formal-loafers/12682170/buy',\n",
       " 'https://www.myntra.com/formal-shoes/ruosh/ruosh-men-black-leather-formal-brogues/7419555/buy',\n",
       " 'https://www.myntra.com/casual-shoes/aldo/aldo-women-black-solid-sneakers/10549544/buy',\n",
       " 'https://www.myntra.com/formal-shoes/bugatti/bugatti-men-black-solid-leather-formal-derbys/13782730/buy',\n",
       " 'https://www.myntra.com/formal-shoes/davinchi/davinchi-men-black-solid-leather-formal-slip-ons/13376968/buy',\n",
       " 'https://www.myntra.com/formal-shoes/ruosh/ruosh-men-black-solid-leather-oxfords/11781028/buy',\n",
       " 'https://www.myntra.com/sports-shoes/kiprun-by-decathlon/kiprun-by-decathlon-women-black-kiprun-long-2-running-shoes/13982182/buy',\n",
       " 'https://www.myntra.com/formal-shoes/kenneth-cole/kenneth-cole-men-black-solid-leather-formal-oxfords/12468754/buy']"
      ]
     },
     "execution_count": 18,
     "metadata": {},
     "output_type": "execute_result"
    }
   ],
   "source": [
    "shoes1=[]\n",
    "for i in url999:\n",
    "    shoes1.append(i.get_attribute('href'))\n",
    "shoes1"
   ]
  },
  {
   "cell_type": "code",
   "execution_count": 19,
   "metadata": {},
   "outputs": [
    {
     "data": {
      "text/plain": [
       "['Ruosh',\n",
       " 'Hush Puppies',\n",
       " 'UNDER ARMOUR',\n",
       " 'Hush Puppies',\n",
       " 'Hush Puppies',\n",
       " 'Hush Puppies',\n",
       " 'Geox',\n",
       " 'Cole Haan',\n",
       " 'Geox',\n",
       " 'Puma',\n",
       " 'J.FONTINI',\n",
       " 'RARE RABBIT',\n",
       " '-',\n",
       " '-',\n",
       " 'J.FONTINI',\n",
       " 'DAVINCHI',\n",
       " '-',\n",
       " 'Hush Puppies',\n",
       " 'Ruosh',\n",
       " 'J.FONTINI',\n",
       " 'Bugatti',\n",
       " 'Bugatti',\n",
       " 'Hush Puppies',\n",
       " 'Geox',\n",
       " 'Bugatti',\n",
       " 'Ruosh',\n",
       " 'UNDER ARMOUR',\n",
       " 'RARE RABBIT',\n",
       " 'Xtep',\n",
       " 'Geox',\n",
       " 'DAVINCHI',\n",
       " 'Hush Puppies',\n",
       " 'Saint G',\n",
       " 'Ruosh',\n",
       " 'UNDER ARMOUR',\n",
       " 'Saint G',\n",
       " 'Quechua By Decathlon',\n",
       " 'Geox',\n",
       " 'Geox',\n",
       " 'Kenneth Cole',\n",
       " 'RARE RABBIT',\n",
       " 'Xtep',\n",
       " 'J.FONTINI',\n",
       " 'Ruosh',\n",
       " 'ALDO',\n",
       " 'Bugatti',\n",
       " 'DAVINCHI',\n",
       " 'Ruosh',\n",
       " 'KIPRUN By Decathlon',\n",
       " 'Kenneth Cole']"
      ]
     },
     "execution_count": 19,
     "metadata": {},
     "output_type": "execute_result"
    }
   ],
   "source": [
    "shoes_brand1=[]\n",
    "for i in shoes1:\n",
    "    driver9.get(i)\n",
    "    try:\n",
    "        brand1=driver9.find_element_by_xpath(\"//h1[@class='pdp-title']\")\n",
    "        shoes_brand1.append(brand1.text)\n",
    "    except:\n",
    "        shoes_brand1.append('-')\n",
    "shoes_brand1"
   ]
  },
  {
   "cell_type": "code",
   "execution_count": 24,
   "metadata": {},
   "outputs": [
    {
     "data": {
      "text/plain": [
       "['Men Black Driving Shoes',\n",
       " 'Men Black Cell Fraction Fade Running Shoes',\n",
       " 'Men Black HOVR Sonic 4 Colorshift Running Shoes with Bluetooth',\n",
       " 'Men Black Woven Design Charged Pursuit 2 SE Running Shoes',\n",
       " 'Men Black Crater Remixa Sneakers',\n",
       " \"Men Black & White Blazer Low '77 Vintage Leather Sneakers\",\n",
       " 'Unisex Black Project Rock Recruit BSR Woven Design Training Shoes',\n",
       " 'Men Black Leather Formal Slip-Ons',\n",
       " 'Men Black Charged Pursuit 2 SE Running Shoes',\n",
       " 'Men Black Hybrid Fuego Running Shoes',\n",
       " 'Men Black Velocity Nitro Running Shoes',\n",
       " 'Men Black Charged Assert 8 Marble Running Shoes',\n",
       " 'Men Black Woven Design HOVR Sonic 4 Running Shoes with Bluetooth',\n",
       " 'Men Black Solid Leather Formal Oxfords',\n",
       " 'Men Black Leather Flat Boots',\n",
       " 'Men Black & Grey Woven Design Equalizer 4.0 Trail Terrator Sneakers',\n",
       " 'Men Black Phade Running Shoes',\n",
       " 'Men Black SOFTRIDE Rift Running Shoes',\n",
       " 'Women Black & Purple HOVR Sonic 4 FnRn Running Shoes',\n",
       " 'Men Black Leather Slip-On Sneakers',\n",
       " 'Men Black Mesh High-Top Basketball Shoes',\n",
       " 'Unisex Black Clyde All-Pro Basketball Shoes',\n",
       " 'Men Black & Yellow Printed Slip-On Sneakers',\n",
       " 'Men Black Charged Rogue 2.5 Reflect Running Shoes',\n",
       " 'Men Black HOVR Sonic STRT Tech Woven Design Sneakers',\n",
       " 'Men Black Leather Slip-On Sneakers',\n",
       " 'Men Grey TREKKING 100 Waterproof Mid-Top Trekking Boots',\n",
       " 'Men Black Charged Commit 3 Training Shoes',\n",
       " 'Men Black Running Shoes',\n",
       " 'Women Black Woven Charged Rogue 2.5 Colorshift Running Shoes',\n",
       " 'Women Black Solid High-Top Heeled Boots',\n",
       " 'Men Black Solid Formal Leather Monk Shoes',\n",
       " 'Men Black Leather GrandPro Tennis Sneakers',\n",
       " 'Men Black Perforated Slip On Sneakers',\n",
       " 'Unisex Black & Grey Colourblocked GS SC 3 Zero IV Basketball Shoes',\n",
       " 'Women Black SUPERNOVA Running Shoes',\n",
       " 'Women Black Eternity Nitro Running Shoes',\n",
       " 'Women Black Loafers',\n",
       " 'Men Black Perforations Leather Brogues',\n",
       " 'Men Black HOVR Infinite Woven Design Bluetooth Running Shoes',\n",
       " 'Men Black Leader VT Tech Running Shoes',\n",
       " 'Men Black Slip-On Sneakers',\n",
       " 'Women Black Deviate Nitro Running Shoes',\n",
       " 'Men Black Leather Warm Snow Hiking Boots',\n",
       " 'Women Black Woven Design Charged Bandit 6 Running Shoes',\n",
       " 'Men Black Solid Leather Formal Oxfords',\n",
       " 'Men Black Leather Sneakers',\n",
       " 'Mens Black Leather boots',\n",
       " 'Women Black Velocity Nitro Running Shoes',\n",
       " 'Gel-Lyte Iii Og Men Black Leather Running Shoes']"
      ]
     },
     "execution_count": 24,
     "metadata": {},
     "output_type": "execute_result"
    }
   ],
   "source": [
    "shoes_desc=[]\n",
    "for i in shoes:\n",
    "    driver9.get(i)\n",
    "    try:\n",
    "        description=driver9.find_element_by_xpath(\"//h1[@class='pdp-name']\")\n",
    "        shoes_desc.append(description.text)\n",
    "    except:\n",
    "        shoes_desc.append('-')\n",
    "shoes_desc"
   ]
  },
  {
   "cell_type": "code",
   "execution_count": 26,
   "metadata": {},
   "outputs": [
    {
     "data": {
      "text/plain": [
       "['Men Black Solid Brisbane Leather Oxfords',\n",
       " 'Men Black Solid Leather Formal Slip-Ons',\n",
       " 'Women Black Woven Design Charged Impulse Shft Running Shoes',\n",
       " 'Men Black Leather Derbys',\n",
       " 'Men Black Solid Leather Formal Derbys',\n",
       " 'Men Black Solid Leather Formal Slip-Ons',\n",
       " 'Men Black Textured Leather Driving Shoes',\n",
       " 'Men Black Generation ZeroGrand Stitchlite Sneakers',\n",
       " 'Men Black Solid Leather Slip-On Sneakers',\n",
       " 'Unisex Black & Mint Green Colourblocked RS Connect Splash Trainer Sneakers',\n",
       " '-',\n",
       " 'Men Black Leather Formal Slip-Ons',\n",
       " 'Men Black Genuine Leather Monk Shoes',\n",
       " 'Men Black Leather Loafers',\n",
       " 'Men Black Solid Leather Loafers',\n",
       " 'Men Black Solid Formal Leather Derbys',\n",
       " 'Men Black Solid Formal Leather Oxfords',\n",
       " 'Men Black Solid Formal Leather Brogues',\n",
       " 'Men Black Solid Leather Formal Slip-Ons',\n",
       " 'J FONTINI Men Black Textured Leather Loafers',\n",
       " 'Men Black Sneakers',\n",
       " 'Men Black Perforated Slip-On Sneakers',\n",
       " 'Men Black Colourblocked Driving Shoes',\n",
       " 'Men Black Leather Semi-Formal Slip-Ons',\n",
       " 'Women Black Striped Mules',\n",
       " 'Men Black Leather Formal Slip-On Shoes',\n",
       " 'Women Black Woven Design Charged Breathe OIL SLK Sportstyle Shoes',\n",
       " 'Men Black Leather Flat Boots',\n",
       " 'Women Black AIR MEGA Energy Ring Running Shoes',\n",
       " 'Men Black & Yellow Printed Slip-On Sneakers',\n",
       " 'Men Black Textured Formal Leather Loafers',\n",
       " 'Men Black Solid Formal Derbys',\n",
       " 'Black Leather Block Sandals',\n",
       " 'Men Black Textured Leather Monks',\n",
       " 'Men Black Victory Woven Design Sneakers',\n",
       " 'Women Black Solid Leather Heeled Boots',\n",
       " 'Women Black Leather Mid-Top Waterproof Hiking Shoes',\n",
       " 'Men Black Perforated Slip On Sneakers',\n",
       " 'Men Black Solid Leather Formal Derbys',\n",
       " 'Men Black Solid Leather Formal Derbys',\n",
       " 'Men Black Perforations Leather Brogues',\n",
       " 'Women Black & White Running Shoes',\n",
       " 'Men Black Textured Leather Formal Loafers',\n",
       " 'Men Black Leather Formal Brogues',\n",
       " 'Women Black Solid Sneakers',\n",
       " 'Men Black Solid Leather Formal Derbys',\n",
       " 'Men Black Solid Leather Formal Slip-Ons',\n",
       " 'Men Black Solid Leather Oxfords',\n",
       " 'Women Black Kiprun Long 2 Running Shoes',\n",
       " 'Men Black Solid Leather Formal Oxfords']"
      ]
     },
     "execution_count": 26,
     "metadata": {},
     "output_type": "execute_result"
    }
   ],
   "source": [
    "shoes_desc1=[]\n",
    "for i in shoes1:\n",
    "    driver9.get(i)\n",
    "    try:\n",
    "        description1=driver9.find_element_by_xpath(\"//h1[@class='pdp-name']\")\n",
    "        shoes_desc1.append(description1.text)\n",
    "    except:\n",
    "        shoes_desc1.append('-')\n",
    "shoes_desc1"
   ]
  },
  {
   "cell_type": "code",
   "execution_count": 28,
   "metadata": {},
   "outputs": [
    {
     "data": {
      "text/plain": [
       "['Rs. 11999',\n",
       " 'Rs. 6999',\n",
       " 'Rs. 10999',\n",
       " 'Rs. 6999',\n",
       " 'Rs. 5495',\n",
       " 'Rs. 7195',\n",
       " 'Rs. 9999',\n",
       " 'Rs. 9999',\n",
       " 'Rs. 6999',\n",
       " 'Rs. 6999',\n",
       " 'Rs. 10999',\n",
       " '-',\n",
       " 'Rs. 10999',\n",
       " 'Rs. 5399',\n",
       " 'Rs. 10999',\n",
       " 'Rs. 6499',\n",
       " 'Rs. 6499',\n",
       " 'Rs. 6499',\n",
       " 'Rs. 10999',\n",
       " 'Rs. 6999',\n",
       " 'Rs. 5499',\n",
       " 'Rs. 6599',\n",
       " 'Rs. 8799',\n",
       " 'Rs. 7999',\n",
       " 'Rs. 9999',\n",
       " 'Rs. 6299',\n",
       " 'Rs. 6999',\n",
       " 'Rs. 7999',\n",
       " 'Rs. 8499',\n",
       " 'Rs. 7999',\n",
       " 'Rs. 5490',\n",
       " 'Rs. 5399',\n",
       " 'Rs. 8799',\n",
       " 'Rs. 7199',\n",
       " 'Rs. 7499',\n",
       " 'Rs. 6999',\n",
       " 'Rs. 7799',\n",
       " 'Rs. 10799',\n",
       " 'Rs. 6999',\n",
       " 'Rs. 11999',\n",
       " 'Rs. 5999',\n",
       " 'Rs. 5525',\n",
       " 'Rs. 9749',\n",
       " 'Rs. 9999',\n",
       " 'Rs. 8999',\n",
       " 'Rs. 10490',\n",
       " 'Rs. 7413',\n",
       " 'Rs. 5999',\n",
       " 'Rs. 6599',\n",
       " 'Rs. 6699']"
      ]
     },
     "execution_count": 28,
     "metadata": {},
     "output_type": "execute_result"
    }
   ],
   "source": [
    "shoes_price=[]\n",
    "for i in shoes:\n",
    "    driver9.get(i)\n",
    "    try:\n",
    "        price=driver9.find_element_by_xpath(\"//span[@class='pdp-price']\")\n",
    "        shoes_price.append(price.text)\n",
    "    except:\n",
    "        shoes_price.append('-')\n",
    "shoes_price"
   ]
  },
  {
   "cell_type": "code",
   "execution_count": 30,
   "metadata": {},
   "outputs": [
    {
     "data": {
      "text/plain": [
       "['Rs. 3294',\n",
       " 'Rs. 8999',\n",
       " 'Rs. 7499',\n",
       " 'Rs. 5599',\n",
       " 'Rs. 8999',\n",
       " 'Rs. 8099',\n",
       " 'Rs. 9999',\n",
       " 'Rs. 9599',\n",
       " 'Rs. 9490',\n",
       " 'Rs. 8999',\n",
       " 'Rs. 8990',\n",
       " 'Rs. 9999',\n",
       " 'Rs. 3294',\n",
       " 'Rs. 7990',\n",
       " 'Rs. 7990',\n",
       " 'Rs. 5490',\n",
       " 'Rs. 5399',\n",
       " 'Rs. 5399',\n",
       " 'Rs. 3495',\n",
       " 'Rs. 6990',\n",
       " 'Rs. 6399',\n",
       " 'Rs. 6399',\n",
       " 'Rs. 6299',\n",
       " 'Rs. 10999',\n",
       " 'Rs. 5999',\n",
       " 'Rs. 3294',\n",
       " 'Rs. 6299',\n",
       " 'Rs. 10999',\n",
       " 'Rs. 5599',\n",
       " 'Rs. 8799',\n",
       " 'Rs. 8990',\n",
       " 'Rs. 8999',\n",
       " 'Rs. 10355',\n",
       " 'Rs. 4194',\n",
       " 'Rs. 5999',\n",
       " 'Rs. 9900',\n",
       " 'Rs. 5499',\n",
       " 'Rs. 7199',\n",
       " 'Rs. 8399',\n",
       " 'Rs. 6293',\n",
       " 'Rs. 6999',\n",
       " '-',\n",
       " 'Rs. 6990',\n",
       " 'Rs. 6990',\n",
       " 'Rs. 7999',\n",
       " 'Rs. 5999',\n",
       " 'Rs. 5990',\n",
       " 'Rs. 3594',\n",
       " 'Rs. 7006',\n",
       " 'Rs. 8290']"
      ]
     },
     "execution_count": 30,
     "metadata": {},
     "output_type": "execute_result"
    }
   ],
   "source": [
    "shoes_price1=[]\n",
    "for i in shoes1:\n",
    "    driver9.get(i)\n",
    "    try:\n",
    "        price1=driver9.find_element_by_xpath(\"//span[@class='pdp-price']\")\n",
    "        shoes_price1.append(price1.text)\n",
    "    except:\n",
    "        shoes_price1.append('-')\n",
    "shoes_price1"
   ]
  },
  {
   "cell_type": "code",
   "execution_count": 31,
   "metadata": {},
   "outputs": [],
   "source": [
    "shoes=pd.DataFrame({})\n",
    "shoes['Brand']=shoes_brand+shoes_brand1\n",
    "shoes['Description']=shoes_desc+shoes_desc1\n",
    "shoes['Price']=shoes_price+shoes_price1"
   ]
  },
  {
   "cell_type": "code",
   "execution_count": 32,
   "metadata": {},
   "outputs": [
    {
     "data": {
      "text/html": [
       "<div>\n",
       "<style scoped>\n",
       "    .dataframe tbody tr th:only-of-type {\n",
       "        vertical-align: middle;\n",
       "    }\n",
       "\n",
       "    .dataframe tbody tr th {\n",
       "        vertical-align: top;\n",
       "    }\n",
       "\n",
       "    .dataframe thead th {\n",
       "        text-align: right;\n",
       "    }\n",
       "</style>\n",
       "<table border=\"1\" class=\"dataframe\">\n",
       "  <thead>\n",
       "    <tr style=\"text-align: right;\">\n",
       "      <th></th>\n",
       "      <th>Brand</th>\n",
       "      <th>Description</th>\n",
       "      <th>Price</th>\n",
       "    </tr>\n",
       "  </thead>\n",
       "  <tbody>\n",
       "    <tr>\n",
       "      <th>0</th>\n",
       "      <td>ALDO</td>\n",
       "      <td>Men Black Driving Shoes</td>\n",
       "      <td>Rs. 11999</td>\n",
       "    </tr>\n",
       "    <tr>\n",
       "      <th>1</th>\n",
       "      <td>Puma</td>\n",
       "      <td>Men Black Cell Fraction Fade Running Shoes</td>\n",
       "      <td>Rs. 6999</td>\n",
       "    </tr>\n",
       "    <tr>\n",
       "      <th>2</th>\n",
       "      <td>UNDER ARMOUR</td>\n",
       "      <td>Men Black HOVR Sonic 4 Colorshift Running Shoe...</td>\n",
       "      <td>Rs. 10999</td>\n",
       "    </tr>\n",
       "    <tr>\n",
       "      <th>3</th>\n",
       "      <td>UNDER ARMOUR</td>\n",
       "      <td>Men Black Woven Design Charged Pursuit 2 SE Ru...</td>\n",
       "      <td>Rs. 6999</td>\n",
       "    </tr>\n",
       "    <tr>\n",
       "      <th>4</th>\n",
       "      <td>Nike</td>\n",
       "      <td>Men Black Crater Remixa Sneakers</td>\n",
       "      <td>Rs. 5495</td>\n",
       "    </tr>\n",
       "    <tr>\n",
       "      <th>...</th>\n",
       "      <td>...</td>\n",
       "      <td>...</td>\n",
       "      <td>...</td>\n",
       "    </tr>\n",
       "    <tr>\n",
       "      <th>95</th>\n",
       "      <td>Bugatti</td>\n",
       "      <td>Men Black Solid Leather Formal Derbys</td>\n",
       "      <td>Rs. 5999</td>\n",
       "    </tr>\n",
       "    <tr>\n",
       "      <th>96</th>\n",
       "      <td>DAVINCHI</td>\n",
       "      <td>Men Black Solid Leather Formal Slip-Ons</td>\n",
       "      <td>Rs. 5990</td>\n",
       "    </tr>\n",
       "    <tr>\n",
       "      <th>97</th>\n",
       "      <td>Ruosh</td>\n",
       "      <td>Men Black Solid Leather Oxfords</td>\n",
       "      <td>Rs. 3594</td>\n",
       "    </tr>\n",
       "    <tr>\n",
       "      <th>98</th>\n",
       "      <td>KIPRUN By Decathlon</td>\n",
       "      <td>Women Black Kiprun Long 2 Running Shoes</td>\n",
       "      <td>Rs. 7006</td>\n",
       "    </tr>\n",
       "    <tr>\n",
       "      <th>99</th>\n",
       "      <td>Kenneth Cole</td>\n",
       "      <td>Men Black Solid Leather Formal Oxfords</td>\n",
       "      <td>Rs. 8290</td>\n",
       "    </tr>\n",
       "  </tbody>\n",
       "</table>\n",
       "<p>100 rows × 3 columns</p>\n",
       "</div>"
      ],
      "text/plain": [
       "                  Brand                                        Description  \\\n",
       "0                  ALDO                            Men Black Driving Shoes   \n",
       "1                  Puma         Men Black Cell Fraction Fade Running Shoes   \n",
       "2          UNDER ARMOUR  Men Black HOVR Sonic 4 Colorshift Running Shoe...   \n",
       "3          UNDER ARMOUR  Men Black Woven Design Charged Pursuit 2 SE Ru...   \n",
       "4                  Nike                   Men Black Crater Remixa Sneakers   \n",
       "..                  ...                                                ...   \n",
       "95              Bugatti              Men Black Solid Leather Formal Derbys   \n",
       "96             DAVINCHI            Men Black Solid Leather Formal Slip-Ons   \n",
       "97                Ruosh                    Men Black Solid Leather Oxfords   \n",
       "98  KIPRUN By Decathlon            Women Black Kiprun Long 2 Running Shoes   \n",
       "99         Kenneth Cole             Men Black Solid Leather Formal Oxfords   \n",
       "\n",
       "        Price  \n",
       "0   Rs. 11999  \n",
       "1    Rs. 6999  \n",
       "2   Rs. 10999  \n",
       "3    Rs. 6999  \n",
       "4    Rs. 5495  \n",
       "..        ...  \n",
       "95   Rs. 5999  \n",
       "96   Rs. 5990  \n",
       "97   Rs. 3594  \n",
       "98   Rs. 7006  \n",
       "99   Rs. 8290  \n",
       "\n",
       "[100 rows x 3 columns]"
      ]
     },
     "execution_count": 32,
     "metadata": {},
     "output_type": "execute_result"
    }
   ],
   "source": [
    "shoes"
   ]
  },
  {
   "cell_type": "markdown",
   "metadata": {},
   "source": [
    "# Q10"
   ]
  },
  {
   "cell_type": "code",
   "execution_count": 112,
   "metadata": {},
   "outputs": [],
   "source": [
    "driver10=webdriver.Chrome(r'C:\\Users\\delkl\\Downloads\\chromedriver.exe')"
   ]
  },
  {
   "cell_type": "code",
   "execution_count": 113,
   "metadata": {},
   "outputs": [],
   "source": [
    "url10='https://www.amazon.in/'\n",
    "driver10.get(url10)"
   ]
  },
  {
   "cell_type": "code",
   "execution_count": 114,
   "metadata": {},
   "outputs": [
    {
     "data": {
      "text/plain": [
       "<selenium.webdriver.remote.webelement.WebElement (session=\"8e39ff77634961837cb5fd87cb076a90\", element=\"dceb33ed-66a3-4581-8dc0-9e4e91640e7a\")>"
      ]
     },
     "execution_count": 114,
     "metadata": {},
     "output_type": "execute_result"
    }
   ],
   "source": [
    "search_item10=driver10.find_element_by_id('twotabsearchtextbox')\n",
    "search_item10"
   ]
  },
  {
   "cell_type": "code",
   "execution_count": 115,
   "metadata": {},
   "outputs": [],
   "source": [
    "search_item10.send_keys('Laptop')"
   ]
  },
  {
   "cell_type": "code",
   "execution_count": 116,
   "metadata": {},
   "outputs": [],
   "source": [
    "search_btn10=driver10.find_element_by_id('nav-search-submit-button')\n",
    "search_btn10.click()"
   ]
  },
  {
   "cell_type": "code",
   "execution_count": 118,
   "metadata": {},
   "outputs": [],
   "source": [
    "driver10.find_element_by_xpath(\"/html/body/div[1]/div[2]/div[1]/div/div[2]/div/div[3]/span/div[1]/span/div/div/div[6]/ul[5]/li[26]/span/a/div/label/i\").click()"
   ]
  },
  {
   "cell_type": "code",
   "execution_count": 119,
   "metadata": {},
   "outputs": [],
   "source": [
    "driver10.find_element_by_xpath(\"/html/body/div[1]/div[2]/div[1]/div/div[2]/div/div[3]/span/div[1]/span/div/div/div[5]/ul[5]/li[28]/span/a/div/label/i\").click()"
   ]
  },
  {
   "cell_type": "code",
   "execution_count": 120,
   "metadata": {},
   "outputs": [
    {
     "data": {
      "text/plain": [
       "[<selenium.webdriver.remote.webelement.WebElement (session=\"8e39ff77634961837cb5fd87cb076a90\", element=\"6f82c789-682b-4715-8000-aa8e92cf4a08\")>,\n",
       " <selenium.webdriver.remote.webelement.WebElement (session=\"8e39ff77634961837cb5fd87cb076a90\", element=\"814c661a-d53e-4959-9878-10ef32c91f52\")>,\n",
       " <selenium.webdriver.remote.webelement.WebElement (session=\"8e39ff77634961837cb5fd87cb076a90\", element=\"6caa325e-43e4-464d-a6fb-8be363fe5595\")>,\n",
       " <selenium.webdriver.remote.webelement.WebElement (session=\"8e39ff77634961837cb5fd87cb076a90\", element=\"cb20f2bf-1c6b-4521-ad92-3ca7cf723d1b\")>,\n",
       " <selenium.webdriver.remote.webelement.WebElement (session=\"8e39ff77634961837cb5fd87cb076a90\", element=\"a91d6f86-9aa8-4caa-82a5-417fbb11156c\")>,\n",
       " <selenium.webdriver.remote.webelement.WebElement (session=\"8e39ff77634961837cb5fd87cb076a90\", element=\"f3d42e3c-86b5-4a4b-987f-163df773438e\")>,\n",
       " <selenium.webdriver.remote.webelement.WebElement (session=\"8e39ff77634961837cb5fd87cb076a90\", element=\"8e498e3b-1ce5-4055-8790-a57338c3e370\")>,\n",
       " <selenium.webdriver.remote.webelement.WebElement (session=\"8e39ff77634961837cb5fd87cb076a90\", element=\"dac436a4-474a-4ffa-ba55-332f593ee8c5\")>,\n",
       " <selenium.webdriver.remote.webelement.WebElement (session=\"8e39ff77634961837cb5fd87cb076a90\", element=\"d227877f-feac-4ec9-8d1f-92a9732c7ec4\")>,\n",
       " <selenium.webdriver.remote.webelement.WebElement (session=\"8e39ff77634961837cb5fd87cb076a90\", element=\"25b5c2cc-2c89-4027-baa1-970401d26e14\")>,\n",
       " <selenium.webdriver.remote.webelement.WebElement (session=\"8e39ff77634961837cb5fd87cb076a90\", element=\"7c247715-4a87-4887-922c-f26890d97f7b\")>,\n",
       " <selenium.webdriver.remote.webelement.WebElement (session=\"8e39ff77634961837cb5fd87cb076a90\", element=\"52acaa08-0ff2-492d-9761-2d84258946aa\")>,\n",
       " <selenium.webdriver.remote.webelement.WebElement (session=\"8e39ff77634961837cb5fd87cb076a90\", element=\"de60e59f-e149-4f85-b06e-df6246a42b09\")>,\n",
       " <selenium.webdriver.remote.webelement.WebElement (session=\"8e39ff77634961837cb5fd87cb076a90\", element=\"cb29e5f9-9669-4d8c-83ae-8b72de0721e0\")>,\n",
       " <selenium.webdriver.remote.webelement.WebElement (session=\"8e39ff77634961837cb5fd87cb076a90\", element=\"97fc41e8-1e4c-432a-9da6-6ece14b16a1f\")>,\n",
       " <selenium.webdriver.remote.webelement.WebElement (session=\"8e39ff77634961837cb5fd87cb076a90\", element=\"41eaf47a-1e24-4331-83b1-5d221875514c\")>,\n",
       " <selenium.webdriver.remote.webelement.WebElement (session=\"8e39ff77634961837cb5fd87cb076a90\", element=\"266ef67d-a315-4821-a12d-d56cc1348519\")>,\n",
       " <selenium.webdriver.remote.webelement.WebElement (session=\"8e39ff77634961837cb5fd87cb076a90\", element=\"2545c198-6883-4651-8969-3bfc934151bf\")>,\n",
       " <selenium.webdriver.remote.webelement.WebElement (session=\"8e39ff77634961837cb5fd87cb076a90\", element=\"e1f7af5d-e695-49b7-b943-eb30d0427124\")>,\n",
       " <selenium.webdriver.remote.webelement.WebElement (session=\"8e39ff77634961837cb5fd87cb076a90\", element=\"281be6a1-34b7-4265-b86c-fc512c9eb390\")>,\n",
       " <selenium.webdriver.remote.webelement.WebElement (session=\"8e39ff77634961837cb5fd87cb076a90\", element=\"e532eaba-a756-4d33-bf92-ea8b5d154073\")>,\n",
       " <selenium.webdriver.remote.webelement.WebElement (session=\"8e39ff77634961837cb5fd87cb076a90\", element=\"421e3b48-c9ba-448a-ba18-4a5194e86b7e\")>,\n",
       " <selenium.webdriver.remote.webelement.WebElement (session=\"8e39ff77634961837cb5fd87cb076a90\", element=\"6aab3ae6-f99c-4825-bc9a-4e2c7e59590a\")>,\n",
       " <selenium.webdriver.remote.webelement.WebElement (session=\"8e39ff77634961837cb5fd87cb076a90\", element=\"d568e13e-2848-4f81-880a-251e33365af3\")>,\n",
       " <selenium.webdriver.remote.webelement.WebElement (session=\"8e39ff77634961837cb5fd87cb076a90\", element=\"9e8125ee-593f-428e-9421-62b5120dd493\")>,\n",
       " <selenium.webdriver.remote.webelement.WebElement (session=\"8e39ff77634961837cb5fd87cb076a90\", element=\"ed9d27d9-7f5a-432a-ab42-77da1ae1d31b\")>,\n",
       " <selenium.webdriver.remote.webelement.WebElement (session=\"8e39ff77634961837cb5fd87cb076a90\", element=\"cf37715c-df9e-4931-8be9-6259e53b63bb\")>,\n",
       " <selenium.webdriver.remote.webelement.WebElement (session=\"8e39ff77634961837cb5fd87cb076a90\", element=\"e251429f-1ad3-407a-b842-5e003f1f86a5\")>,\n",
       " <selenium.webdriver.remote.webelement.WebElement (session=\"8e39ff77634961837cb5fd87cb076a90\", element=\"7b03ea80-d93c-4296-87c7-fa5634ab7f3c\")>,\n",
       " <selenium.webdriver.remote.webelement.WebElement (session=\"8e39ff77634961837cb5fd87cb076a90\", element=\"cf36852e-848f-42ae-be9b-34119cd8e98b\")>]"
      ]
     },
     "execution_count": 120,
     "metadata": {},
     "output_type": "execute_result"
    }
   ],
   "source": [
    "url10=driver10.find_elements_by_xpath(\"//a[@class='a-link-normal a-text-normal']\")\n",
    "url10"
   ]
  },
  {
   "cell_type": "code",
   "execution_count": 121,
   "metadata": {},
   "outputs": [
    {
     "data": {
      "text/plain": [
       "['https://www.amazon.in/gp/slredirect/picassoRedirect.html/ref=pa_sp_atf_computers_sr_pg1_1?ie=UTF8&adId=A020347217JTW5CEK3KJW&url=%2FASUS-i7-1165G7-35-56cms-Graphics-UX325EA-KG701TS%2Fdp%2FB095C55Q7P%2Fref%3Dsr_1_1_sspa%3Fdchild%3D1%26keywords%3DLaptop%26qid%3D1628621748%26refinements%3Dp_n_feature_thirteen_browse-bin%253A12598163031%257C16757432031%26rnid%3D12598141031%26s%3Dcomputers%26sr%3D1-1-spons%26psc%3D1&qualifier=1628621748&id=3365303317604748&widgetName=sp_atf',\n",
       " 'https://www.amazon.in/gp/slredirect/picassoRedirect.html/ref=pa_sp_atf_computers_sr_pg1_1?ie=UTF8&adId=A01843281YSKY37NB3GPQ&url=%2FNotebook-Horizon-i7-10510U-Graphics-XMA1904-AF%2Fdp%2FB089F2W1KW%2Fref%3Dsr_1_2_sspa%3Fdchild%3D1%26keywords%3DLaptop%26qid%3D1628621748%26refinements%3Dp_n_feature_thirteen_browse-bin%253A12598163031%257C16757432031%26rnid%3D12598141031%26s%3Dcomputers%26sr%3D1-2-spons%26psc%3D1&qualifier=1628621748&id=3365303317604748&widgetName=sp_atf',\n",
       " 'https://www.amazon.in/MSI-i7-10750H-IPS-Level-Windows-10SDR-1280IN/dp/B093L8JCZV/ref=sr_1_3?dchild=1&keywords=Laptop&qid=1628621748&refinements=p_n_feature_thirteen_browse-bin%3A12598163031%7C16757432031&rnid=12598141031&s=computers&sr=1-3',\n",
       " 'https://www.amazon.in/HP-Pavilion-Graphics-35-56cms-14-dv0058TU/dp/B08WB857GB/ref=sr_1_4?dchild=1&keywords=Laptop&qid=1628621748&refinements=p_n_feature_thirteen_browse-bin%3A12598163031%7C16757432031&rnid=12598141031&s=computers&sr=1-4',\n",
       " 'https://www.amazon.in/ASUS-15-6-inch-i7-10870H-SSDWindows-FX566LH-HN255T/dp/B096VKVFCN/ref=sr_1_5?dchild=1&keywords=Laptop&qid=1628621748&refinements=p_n_feature_thirteen_browse-bin%3A12598163031%7C16757432031&rnid=12598141031&s=computers&sr=1-5',\n",
       " 'https://www.amazon.in/LifeDigital-Laptop-Intel%C2%AE-Storage-Windows/dp/B08HRMHZ8J/ref=sr_1_6?dchild=1&keywords=Laptop&qid=1628621748&refinements=p_n_feature_thirteen_browse-bin%3A12598163031%7C16757432031&rnid=12598141031&s=computers&sr=1-6',\n",
       " 'https://www.amazon.in/Notebook-Horizon-i7-10510U-Graphics-XMA1904-AF/dp/B089F2W1KW/ref=sr_1_7?dchild=1&keywords=Laptop&qid=1628621748&refinements=p_n_feature_thirteen_browse-bin%3A12598163031%7C16757432031&rnid=12598141031&s=computers&sr=1-7',\n",
       " 'https://www.amazon.in/Nexstgo-NP15N1IN008P-15-6-inch-i7-8550U-Integrated/dp/B07KGP3HP3/ref=sr_1_8?dchild=1&keywords=Laptop&qid=1628621748&refinements=p_n_feature_thirteen_browse-bin%3A12598163031%7C16757432031&rnid=12598141031&s=computers&sr=1-8',\n",
       " 'https://www.amazon.in/Lenovo-Touchscreen-Fingerprint-Graphite-82HS0092IN/dp/B08WRZQBQ6/ref=sr_1_9?dchild=1&keywords=Laptop&qid=1628621748&refinements=p_n_feature_thirteen_browse-bin%3A12598163031%7C16757432031&rnid=12598141031&s=computers&sr=1-9',\n",
       " 'https://www.amazon.in/ASUS-VivoBook-i7-1165G7-Graphics-S433EA-AM701TS/dp/B08PQTZB3Z/ref=sr_1_10?dchild=1&keywords=Laptop&qid=1628621748&refinements=p_n_feature_thirteen_browse-bin%3A12598163031%7C16757432031&rnid=12598141031&s=computers&sr=1-10',\n",
       " 'https://www.amazon.in/Renewed-Lenovo-15-6-Inch-Windows-81UH006YIN/dp/B08TC5GDVR/ref=sr_1_11?dchild=1&keywords=Laptop&qid=1628621748&refinements=p_n_feature_thirteen_browse-bin%3A12598163031%7C16757432031&rnid=12598141031&s=computers&sr=1-11',\n",
       " 'https://www.amazon.in/Dell-Inspiron-Display-i7-1165G7-D560377WIN9S/dp/B08QN2PYWF/ref=sr_1_12?dchild=1&keywords=Laptop&qid=1628621748&refinements=p_n_feature_thirteen_browse-bin%3A12598163031%7C16757432031&rnid=12598141031&s=computers&sr=1-12',\n",
       " 'https://www.amazon.in/Lenovo-Upgradable-Integrated-Graphics-WARRANTY/dp/B092Z88D2F/ref=sr_1_13?dchild=1&keywords=Laptop&qid=1628621748&refinements=p_n_feature_thirteen_browse-bin%3A12598163031%7C16757432031&rnid=12598141031&s=computers&sr=1-13',\n",
       " 'https://www.amazon.in/Renewed-HP-15-6-Inch-Graphics-Zbook/dp/B0912DLKWB/ref=sr_1_14?dchild=1&keywords=Laptop&qid=1628621748&refinements=p_n_feature_thirteen_browse-bin%3A12598163031%7C16757432031&rnid=12598141031&s=computers&sr=1-14',\n",
       " 'https://www.amazon.in/gp/slredirect/picassoRedirect.html/ref=pa_sp_mtf_computers_sr_pg1_1?ie=UTF8&adId=A05737051OF0H1VKX0MNY&url=%2FASUS-TUF-F15-i7-11370H-FX516PE-HN088TS%2Fdp%2FB094RDLV5P%2Fref%3Dsr_1_15_sspa%3Fdchild%3D1%26keywords%3DLaptop%26qid%3D1628621748%26refinements%3Dp_n_feature_thirteen_browse-bin%253A12598163031%257C16757432031%26rnid%3D12598141031%26s%3Dcomputers%26sr%3D1-15-spons%26psc%3D1&qualifier=1628621748&id=3365303317604748&widgetName=sp_mtf',\n",
       " 'https://www.amazon.in/gp/slredirect/picassoRedirect.html/ref=pa_sp_mtf_computers_sr_pg1_1?ie=UTF8&adId=A10081262K6KZOZ37JXYV&url=%2FHP-Processor-13-3-inch-Touchscreen-13-ba1018TX%2Fdp%2FB091FJ13Q5%2Fref%3Dsr_1_16_sspa%3Fdchild%3D1%26keywords%3DLaptop%26qid%3D1628621748%26refinements%3Dp_n_feature_thirteen_browse-bin%253A12598163031%257C16757432031%26rnid%3D12598141031%26s%3Dcomputers%26sr%3D1-16-spons%26psc%3D1&qualifier=1628621748&id=3365303317604748&widgetName=sp_mtf',\n",
       " 'https://www.amazon.in/Dell-13-3-inch-i7-8550U-Integrated-Graphics/dp/B09813L8BX/ref=sr_1_17?dchild=1&keywords=Laptop&qid=1628621748&refinements=p_n_feature_thirteen_browse-bin%3A12598163031%7C16757432031&rnid=12598141031&s=computers&sr=1-17',\n",
       " 'https://www.amazon.in/Renewed-Lenovo-Windows-graphics-ThinkPad/dp/B09B53ZSDB/ref=sr_1_18?dchild=1&keywords=Laptop&qid=1628621748&refinements=p_n_feature_thirteen_browse-bin%3A12598163031%7C16757432031&rnid=12598141031&s=computers&sr=1-18',\n",
       " 'https://www.amazon.in/Renewed-Lenovo-Windows-graphics-ThinkPad/dp/B09B54KJJG/ref=sr_1_19?dchild=1&keywords=Laptop&qid=1628621748&refinements=p_n_feature_thirteen_browse-bin%3A12598163031%7C16757432031&rnid=12598141031&s=computers&sr=1-19',\n",
       " 'https://www.amazon.in/Renewed-Lenovo-Windows-graphics-ThinkPad/dp/B09B548B11/ref=sr_1_20?dchild=1&keywords=Laptop&qid=1628621748&refinements=p_n_feature_thirteen_browse-bin%3A12598163031%7C16757432031&rnid=12598141031&s=computers&sr=1-20',\n",
       " 'https://www.amazon.in/ASUS-VivoBook-S532EQ-BQ702TS-I7-1165G7-SILVER/dp/B08PZ3VRCS/ref=sr_1_21?dchild=1&keywords=Laptop&qid=1628621748&refinements=p_n_feature_thirteen_browse-bin%3A12598163031%7C16757432031&rnid=12598141031&s=computers&sr=1-21',\n",
       " 'https://www.amazon.in/Lenovo-Upgradable-Integrated-Graphics-WARRANTY/dp/B092Z9G6S5/ref=sr_1_22?dchild=1&keywords=Laptop&qid=1628621748&refinements=p_n_feature_thirteen_browse-bin%3A12598163031%7C16757432031&rnid=12598141031&s=computers&sr=1-22',\n",
       " 'https://www.amazon.in/Lenovo-Upgradable-Integrated-Graphics-WARRANTY/dp/B092Z9TGBP/ref=sr_1_23?dchild=1&keywords=Laptop&qid=1628621748&refinements=p_n_feature_thirteen_browse-bin%3A12598163031%7C16757432031&rnid=12598141031&s=computers&sr=1-23',\n",
       " 'https://www.amazon.in/HP-Pavilion-13-3-inch-Ceramic-13-bb0078TU/dp/B09839P9XB/ref=sr_1_24?dchild=1&keywords=Laptop&qid=1628621748&refinements=p_n_feature_thirteen_browse-bin%3A12598163031%7C16757432031&rnid=12598141031&s=computers&sr=1-24',\n",
       " 'https://www.amazon.in/Dell-i7-1165G7-Inspiron-5410-D560469WIN9S/dp/B095S9NJ4S/ref=sr_1_25?dchild=1&keywords=Laptop&qid=1628621748&refinements=p_n_feature_thirteen_browse-bin%3A12598163031%7C16757432031&rnid=12598141031&s=computers&sr=1-25',\n",
       " 'https://www.amazon.in/ASUS-ZenBook-i7-1165G7-Graphics-UX425EA-BM701TS/dp/B08M4SWRR5/ref=sr_1_26?dchild=1&keywords=Laptop&qid=1628621748&refinements=p_n_feature_thirteen_browse-bin%3A12598163031%7C16757432031&rnid=12598141031&s=computers&sr=1-26',\n",
       " 'https://www.amazon.in/MSI-Creator-17-Space-Grey-A10SFS-685IN/dp/B08RX6M1BZ/ref=sr_1_27?dchild=1&keywords=Laptop&qid=1628621748&refinements=p_n_feature_thirteen_browse-bin%3A12598163031%7C16757432031&rnid=12598141031&s=computers&sr=1-27',\n",
       " 'https://www.amazon.in/Renewed-Lenovo-Windows-graphics-ThinkPad/dp/B09B546HS2/ref=sr_1_28?dchild=1&keywords=Laptop&qid=1628621748&refinements=p_n_feature_thirteen_browse-bin%3A12598163031%7C16757432031&rnid=12598141031&s=computers&sr=1-28',\n",
       " 'https://www.amazon.in/gp/slredirect/picassoRedirect.html/ref=pa_sp_btf_computers_sr_pg1_1?ie=UTF8&adId=A0870125WC700WBB6DFH&url=%2FLenovo-Touchscreen-Fingerprint-Aluminium-82BH004HIN%2Fdp%2FB08P3M22QQ%2Fref%3Dsr_1_29_sspa%3Fdchild%3D1%26keywords%3DLaptop%26qid%3D1628621748%26refinements%3Dp_n_feature_thirteen_browse-bin%253A12598163031%257C16757432031%26rnid%3D12598141031%26s%3Dcomputers%26sr%3D1-29-spons%26psc%3D1&qualifier=1628621748&id=3365303317604748&widgetName=sp_btf',\n",
       " 'https://www.amazon.in/gp/slredirect/picassoRedirect.html/ref=pa_sp_btf_computers_sr_pg1_1?ie=UTF8&adId=A0872671147908G7LKB8X&url=%2FMSI-i7-10750H-IPS-Level-Windows-10SDR-1280IN%2Fdp%2FB093L8JCZV%2Fref%3Dsr_1_30_sspa%3Fdchild%3D1%26keywords%3DLaptop%26qid%3D1628621748%26refinements%3Dp_n_feature_thirteen_browse-bin%253A12598163031%257C16757432031%26rnid%3D12598141031%26s%3Dcomputers%26sr%3D1-30-spons%26psc%3D1&qualifier=1628621748&id=3365303317604748&widgetName=sp_btf']"
      ]
     },
     "execution_count": 121,
     "metadata": {},
     "output_type": "execute_result"
    }
   ],
   "source": [
    "laptop=[]\n",
    "for i in url10:\n",
    "    laptop.append(i.get_attribute('href'))\n",
    "laptop"
   ]
  },
  {
   "cell_type": "code",
   "execution_count": 122,
   "metadata": {},
   "outputs": [
    {
     "data": {
      "text/plain": [
       "['ASUS ZenBook 13 OLED (2021) Intel Core i7-1165G7 11th Gen 14\" (35.56cms) FHD Thin and Light Laptop (16GB/1TB SSD/Windows 10/Office 2019/Intel Iris Xᵉ Graphics/Lilac Mist/1.14 kg), UX325EA-KG701TS',\n",
       " 'Mi Notebook Horizon Edition 14 Intel Core i7-10510U 10th Gen 14-inch (35.56 cms) Thin and Light Laptop(8GB/512GB SSD/Windows 10/Nvidia MX350 2GB Graphics/Grey/1.35Kg), XMA1904-AF+Webcam',\n",
       " 'MSI GF65 Thin, Intel i7-10750H, 15.6\" FHD (39.6 cm) IPS-Level 144Hz Panel Laptop (16GB/512GB NVMe SSD/Windows 10 Home/Nvidia GTX1660 Ti 6GB GDDR6/Black/1.86Kg), 10SDR-1280IN',\n",
       " 'HP Pavilion (2021) Thin & Light 11th Gen Core i7 Laptop, 16 GB RAM, 1TB SSD, Iris Xe Graphics, 14\" (35.56cms) FHD Screen, Windows 10, MS Office, Backlit Keyboard (14-dv0058TU)',\n",
       " 'ASUS TUF Gaming F15 (2020), 15.6-inch (39.62 cms) FHD 144Hz, Intel Core i7-10870H 10th Gen, NVIDIA GeForce GTX 1650 4GB Graphics, Gaming Laptop(8GB/512GB SSDWindows 10/Gray/2.3 Kg), FX566LH-HN255T',\n",
       " 'Life Digital Laptop 15.6-inch (39.62 cms) (Intel Core i7, 4GB RAM, 256GB SSD, Windows 10), ZED AIR CX7',\n",
       " 'Mi Notebook Horizon Edition 14 Intel Core i7-10510U 10th Gen 14-inch (35.56 cms) Thin and Light Laptop(8GB/512GB SSD/Windows 10/Nvidia MX350 2GB Graphics/Grey/1.35Kg), XMA1904-AF+Webcam',\n",
       " 'NEXSTGO Primus NX201 NP15N1IN008P 15.6-inch Laptop (Core i7-8550U/8GB/256GBSSD/Windows 10 Pro/Full HD + IR/Finger Print/Integrated Graphics/Thin & Light/1.88KG), Dark Gray',\n",
       " 'Lenovo IdeaPad Flex 5 11th Gen Intel Core i7 14\"(35.56cm) FHD IPS 2-in-1 Touchscreen Laptop(16GB/512GB SSD/Windows 10/MS Office/Lenovo Digital Pen/Fingerprint Reader/Graphite Grey/1.5Kg), 82HS0092IN',\n",
       " 'ASUS VivoBook S S14 Intel Core i7-1165G7 11th Gen, 14-inch FHD Thin and Light Laptop (8GB RAM/512GB SSD + 32GB Optane Memory/Windows 10/Office 2019/Iris X Graphics- Indie Black/1.4 Kg), S433EA-AM701TS']"
      ]
     },
     "execution_count": 122,
     "metadata": {},
     "output_type": "execute_result"
    }
   ],
   "source": [
    "laptop_titles=[]\n",
    "for i in laptop[0:10]:\n",
    "    driver10.get(i)\n",
    "    try:\n",
    "        laptop_tags=driver10.find_element_by_xpath(\"//span[@class='a-size-large product-title-word-break']\")\n",
    "        laptop_titles.append(laptop_tags.text)\n",
    "    except:\n",
    "        laptop_titles.append('-')\n",
    "laptop_titles"
   ]
  },
  {
   "cell_type": "code",
   "execution_count": 126,
   "metadata": {},
   "outputs": [
    {
     "data": {
      "text/plain": [
       "['3 out of 5',\n",
       " '4.4 out of 5',\n",
       " '3.8 out of 5',\n",
       " '4.3 out of 5',\n",
       " '3.8 out of 5',\n",
       " '3.9 out of 5',\n",
       " '4.4 out of 5',\n",
       " '2.1 out of 5',\n",
       " '4 out of 5',\n",
       " '4.3 out of 5']"
      ]
     },
     "execution_count": 126,
     "metadata": {},
     "output_type": "execute_result"
    }
   ],
   "source": [
    "laptop_rating=[]\n",
    "for i in laptop[0:10]:\n",
    "    driver10.get(i)\n",
    "    try:\n",
    "        rating=driver10.find_element_by_xpath(\"//span[@class='a-size-medium a-color-base']\")\n",
    "        laptop_rating.append(rating.text)\n",
    "    except:\n",
    "        laptop_rating.append('-')\n",
    "laptop_rating"
   ]
  },
  {
   "cell_type": "code",
   "execution_count": 127,
   "metadata": {},
   "outputs": [
    {
     "data": {
      "text/plain": [
       "['₹1,02,990.00',\n",
       " '-',\n",
       " '₹81,990.00',\n",
       " '₹84,990.00',\n",
       " '₹80,990.00',\n",
       " '₹34,990.00',\n",
       " '-',\n",
       " '₹56,155.00',\n",
       " '₹90,490.00',\n",
       " '₹76,490.00']"
      ]
     },
     "execution_count": 127,
     "metadata": {},
     "output_type": "execute_result"
    }
   ],
   "source": [
    "laptop_price=[]\n",
    "for i in laptop[0:10]:\n",
    "    driver10.get(i)\n",
    "    try:\n",
    "        price=driver10.find_element_by_xpath(\"//span[@class='a-size-medium a-color-price priceBlockBuyingPriceString']\")\n",
    "        laptop_price.append(price.text)\n",
    "    except:\n",
    "        laptop_price.append('-')\n",
    "laptop_price"
   ]
  },
  {
   "cell_type": "code",
   "execution_count": 128,
   "metadata": {},
   "outputs": [
    {
     "name": "stdout",
     "output_type": "stream",
     "text": [
      "10 10 10\n"
     ]
    }
   ],
   "source": [
    "print(len(laptop_titles),len(laptop_rating),len(laptop_price))"
   ]
  },
  {
   "cell_type": "code",
   "execution_count": 129,
   "metadata": {},
   "outputs": [],
   "source": [
    "laptops=pd.DataFrame({})\n",
    "laptops['Brand']=laptop_titles\n",
    "laptops['Rating']=laptop_rating\n",
    "laptops['Price']=laptop_price"
   ]
  },
  {
   "cell_type": "code",
   "execution_count": 130,
   "metadata": {},
   "outputs": [
    {
     "data": {
      "text/html": [
       "<div>\n",
       "<style scoped>\n",
       "    .dataframe tbody tr th:only-of-type {\n",
       "        vertical-align: middle;\n",
       "    }\n",
       "\n",
       "    .dataframe tbody tr th {\n",
       "        vertical-align: top;\n",
       "    }\n",
       "\n",
       "    .dataframe thead th {\n",
       "        text-align: right;\n",
       "    }\n",
       "</style>\n",
       "<table border=\"1\" class=\"dataframe\">\n",
       "  <thead>\n",
       "    <tr style=\"text-align: right;\">\n",
       "      <th></th>\n",
       "      <th>Brand</th>\n",
       "      <th>Rating</th>\n",
       "      <th>Price</th>\n",
       "    </tr>\n",
       "  </thead>\n",
       "  <tbody>\n",
       "    <tr>\n",
       "      <th>0</th>\n",
       "      <td>ASUS ZenBook 13 OLED (2021) Intel Core i7-1165...</td>\n",
       "      <td>3 out of 5</td>\n",
       "      <td>₹1,02,990.00</td>\n",
       "    </tr>\n",
       "    <tr>\n",
       "      <th>1</th>\n",
       "      <td>Mi Notebook Horizon Edition 14 Intel Core i7-1...</td>\n",
       "      <td>4.4 out of 5</td>\n",
       "      <td>-</td>\n",
       "    </tr>\n",
       "    <tr>\n",
       "      <th>2</th>\n",
       "      <td>MSI GF65 Thin, Intel i7-10750H, 15.6\" FHD (39....</td>\n",
       "      <td>3.8 out of 5</td>\n",
       "      <td>₹81,990.00</td>\n",
       "    </tr>\n",
       "    <tr>\n",
       "      <th>3</th>\n",
       "      <td>HP Pavilion (2021) Thin &amp; Light 11th Gen Core ...</td>\n",
       "      <td>4.3 out of 5</td>\n",
       "      <td>₹84,990.00</td>\n",
       "    </tr>\n",
       "    <tr>\n",
       "      <th>4</th>\n",
       "      <td>ASUS TUF Gaming F15 (2020), 15.6-inch (39.62 c...</td>\n",
       "      <td>3.8 out of 5</td>\n",
       "      <td>₹80,990.00</td>\n",
       "    </tr>\n",
       "    <tr>\n",
       "      <th>5</th>\n",
       "      <td>Life Digital Laptop 15.6-inch (39.62 cms) (Int...</td>\n",
       "      <td>3.9 out of 5</td>\n",
       "      <td>₹34,990.00</td>\n",
       "    </tr>\n",
       "    <tr>\n",
       "      <th>6</th>\n",
       "      <td>Mi Notebook Horizon Edition 14 Intel Core i7-1...</td>\n",
       "      <td>4.4 out of 5</td>\n",
       "      <td>-</td>\n",
       "    </tr>\n",
       "    <tr>\n",
       "      <th>7</th>\n",
       "      <td>NEXSTGO Primus NX201 NP15N1IN008P 15.6-inch La...</td>\n",
       "      <td>2.1 out of 5</td>\n",
       "      <td>₹56,155.00</td>\n",
       "    </tr>\n",
       "    <tr>\n",
       "      <th>8</th>\n",
       "      <td>Lenovo IdeaPad Flex 5 11th Gen Intel Core i7 1...</td>\n",
       "      <td>4 out of 5</td>\n",
       "      <td>₹90,490.00</td>\n",
       "    </tr>\n",
       "    <tr>\n",
       "      <th>9</th>\n",
       "      <td>ASUS VivoBook S S14 Intel Core i7-1165G7 11th ...</td>\n",
       "      <td>4.3 out of 5</td>\n",
       "      <td>₹76,490.00</td>\n",
       "    </tr>\n",
       "  </tbody>\n",
       "</table>\n",
       "</div>"
      ],
      "text/plain": [
       "                                               Brand        Rating  \\\n",
       "0  ASUS ZenBook 13 OLED (2021) Intel Core i7-1165...    3 out of 5   \n",
       "1  Mi Notebook Horizon Edition 14 Intel Core i7-1...  4.4 out of 5   \n",
       "2  MSI GF65 Thin, Intel i7-10750H, 15.6\" FHD (39....  3.8 out of 5   \n",
       "3  HP Pavilion (2021) Thin & Light 11th Gen Core ...  4.3 out of 5   \n",
       "4  ASUS TUF Gaming F15 (2020), 15.6-inch (39.62 c...  3.8 out of 5   \n",
       "5  Life Digital Laptop 15.6-inch (39.62 cms) (Int...  3.9 out of 5   \n",
       "6  Mi Notebook Horizon Edition 14 Intel Core i7-1...  4.4 out of 5   \n",
       "7  NEXSTGO Primus NX201 NP15N1IN008P 15.6-inch La...  2.1 out of 5   \n",
       "8  Lenovo IdeaPad Flex 5 11th Gen Intel Core i7 1...    4 out of 5   \n",
       "9  ASUS VivoBook S S14 Intel Core i7-1165G7 11th ...  4.3 out of 5   \n",
       "\n",
       "          Price  \n",
       "0  ₹1,02,990.00  \n",
       "1             -  \n",
       "2    ₹81,990.00  \n",
       "3    ₹84,990.00  \n",
       "4    ₹80,990.00  \n",
       "5    ₹34,990.00  \n",
       "6             -  \n",
       "7    ₹56,155.00  \n",
       "8    ₹90,490.00  \n",
       "9    ₹76,490.00  "
      ]
     },
     "execution_count": 130,
     "metadata": {},
     "output_type": "execute_result"
    }
   ],
   "source": [
    "laptops"
   ]
  },
  {
   "cell_type": "code",
   "execution_count": null,
   "metadata": {},
   "outputs": [],
   "source": []
  }
 ],
 "metadata": {
  "kernelspec": {
   "display_name": "Python 3",
   "language": "python",
   "name": "python3"
  },
  "language_info": {
   "codemirror_mode": {
    "name": "ipython",
    "version": 3
   },
   "file_extension": ".py",
   "mimetype": "text/x-python",
   "name": "python",
   "nbconvert_exporter": "python",
   "pygments_lexer": "ipython3",
   "version": "3.8.5"
  }
 },
 "nbformat": 4,
 "nbformat_minor": 4
}
