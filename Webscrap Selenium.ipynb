{
 "cells": [
  {
   "cell_type": "code",
   "execution_count": 1,
   "metadata": {},
   "outputs": [
    {
     "name": "stdout",
     "output_type": "stream",
     "text": [
      "Collecting selenium\n",
      "  Downloading selenium-3.141.0-py2.py3-none-any.whl (904 kB)\n",
      "Requirement already satisfied: urllib3 in c:\\users\\delkl\\anaconda3\\lib\\site-packages (from selenium) (1.25.11)\n",
      "Installing collected packages: selenium\n",
      "Successfully installed selenium-3.141.0\n"
     ]
    }
   ],
   "source": [
    "!pip install selenium"
   ]
  },
  {
   "cell_type": "code",
   "execution_count": 2,
   "metadata": {},
   "outputs": [],
   "source": [
    "import selenium\n",
    "import pandas as pd\n",
    "from selenium import webdriver"
   ]
  },
  {
   "cell_type": "markdown",
   "metadata": {},
   "source": [
    "# Write a python program to scrape data for “Data Analyst” Job position in “Bangalore” location. You have to scrape the job-title, job-location, company_name, experience_required."
   ]
  },
  {
   "cell_type": "code",
   "execution_count": 3,
   "metadata": {},
   "outputs": [],
   "source": [
    "driver=webdriver.Chrome(r'C:\\Users\\delkl\\Downloads\\chromedriver.exe')"
   ]
  },
  {
   "cell_type": "code",
   "execution_count": 4,
   "metadata": {},
   "outputs": [],
   "source": [
    "url='https://www.naukri.com/'\n",
    "driver.get(url)"
   ]
  },
  {
   "cell_type": "code",
   "execution_count": 5,
   "metadata": {},
   "outputs": [
    {
     "data": {
      "text/plain": [
       "<selenium.webdriver.remote.webelement.WebElement (session=\"ad87bbb9b2e45b083f38ea60aff0fc3e\", element=\"d52b063e-981c-486f-9742-d98b45e111e1\")>"
      ]
     },
     "execution_count": 5,
     "metadata": {},
     "output_type": "execute_result"
    }
   ],
   "source": [
    "search_job=driver.find_element_by_id('qsb-keyword-sugg')\n",
    "search_job"
   ]
  },
  {
   "cell_type": "code",
   "execution_count": 6,
   "metadata": {},
   "outputs": [],
   "source": [
    "search_job.send_keys('Data Analyst')"
   ]
  },
  {
   "cell_type": "code",
   "execution_count": 7,
   "metadata": {},
   "outputs": [],
   "source": [
    "search_loc=driver.find_element_by_id('qsb-location-sugg')\n",
    "search_loc.send_keys('Bangalore')"
   ]
  },
  {
   "cell_type": "code",
   "execution_count": 8,
   "metadata": {},
   "outputs": [],
   "source": [
    "search_btn=driver.find_element_by_xpath(\"//button[@class='btn']\")\n",
    "search_btn.click()"
   ]
  },
  {
   "cell_type": "code",
   "execution_count": 11,
   "metadata": {},
   "outputs": [
    {
     "data": {
      "text/plain": [
       "[<selenium.webdriver.remote.webelement.WebElement (session=\"ad87bbb9b2e45b083f38ea60aff0fc3e\", element=\"92cb5a6e-e106-4f0f-a805-27716b2c5a12\")>,\n",
       " <selenium.webdriver.remote.webelement.WebElement (session=\"ad87bbb9b2e45b083f38ea60aff0fc3e\", element=\"a03c7f83-90a1-4261-b248-af3a27676ceb\")>,\n",
       " <selenium.webdriver.remote.webelement.WebElement (session=\"ad87bbb9b2e45b083f38ea60aff0fc3e\", element=\"d34a1e52-a811-4c7b-86e0-9345cf8f4c78\")>,\n",
       " <selenium.webdriver.remote.webelement.WebElement (session=\"ad87bbb9b2e45b083f38ea60aff0fc3e\", element=\"6c100c57-1d75-40b5-a98b-c5d7ba8e5989\")>,\n",
       " <selenium.webdriver.remote.webelement.WebElement (session=\"ad87bbb9b2e45b083f38ea60aff0fc3e\", element=\"92834cb8-147d-432c-b707-b7aaea20e097\")>,\n",
       " <selenium.webdriver.remote.webelement.WebElement (session=\"ad87bbb9b2e45b083f38ea60aff0fc3e\", element=\"4f44d3ca-c9f8-444b-b7d0-ac4b04d3a86b\")>,\n",
       " <selenium.webdriver.remote.webelement.WebElement (session=\"ad87bbb9b2e45b083f38ea60aff0fc3e\", element=\"1167cb74-a3e3-4949-b74f-b81984a96d13\")>,\n",
       " <selenium.webdriver.remote.webelement.WebElement (session=\"ad87bbb9b2e45b083f38ea60aff0fc3e\", element=\"dffbb24a-d9c3-47f6-960f-493fa6b54c3b\")>,\n",
       " <selenium.webdriver.remote.webelement.WebElement (session=\"ad87bbb9b2e45b083f38ea60aff0fc3e\", element=\"ee72c3d6-e680-49e7-9687-f8930d89c5a6\")>,\n",
       " <selenium.webdriver.remote.webelement.WebElement (session=\"ad87bbb9b2e45b083f38ea60aff0fc3e\", element=\"c24abc60-fc71-4c8f-a1d9-0212baaaf39c\")>,\n",
       " <selenium.webdriver.remote.webelement.WebElement (session=\"ad87bbb9b2e45b083f38ea60aff0fc3e\", element=\"ac64ce68-60de-4664-b0bc-466c24b0dd04\")>,\n",
       " <selenium.webdriver.remote.webelement.WebElement (session=\"ad87bbb9b2e45b083f38ea60aff0fc3e\", element=\"93f5706f-2691-42c7-8493-f8e8b03d6815\")>,\n",
       " <selenium.webdriver.remote.webelement.WebElement (session=\"ad87bbb9b2e45b083f38ea60aff0fc3e\", element=\"dd1fe13f-e6e1-4db1-9018-ab327ebcdb05\")>,\n",
       " <selenium.webdriver.remote.webelement.WebElement (session=\"ad87bbb9b2e45b083f38ea60aff0fc3e\", element=\"2db99b14-d684-41f5-9f47-0a9583d5d2df\")>,\n",
       " <selenium.webdriver.remote.webelement.WebElement (session=\"ad87bbb9b2e45b083f38ea60aff0fc3e\", element=\"9c41211a-1af5-4302-b742-e923c4d0339c\")>,\n",
       " <selenium.webdriver.remote.webelement.WebElement (session=\"ad87bbb9b2e45b083f38ea60aff0fc3e\", element=\"299186d6-150a-4f73-9301-0b92716b9cd8\")>,\n",
       " <selenium.webdriver.remote.webelement.WebElement (session=\"ad87bbb9b2e45b083f38ea60aff0fc3e\", element=\"083d8a68-828c-4af8-bcaf-c65311790d0c\")>,\n",
       " <selenium.webdriver.remote.webelement.WebElement (session=\"ad87bbb9b2e45b083f38ea60aff0fc3e\", element=\"7dd8e159-c2a5-4d83-8fe5-04fcc551b0ac\")>,\n",
       " <selenium.webdriver.remote.webelement.WebElement (session=\"ad87bbb9b2e45b083f38ea60aff0fc3e\", element=\"b2a262c6-9519-4997-bd6f-ab0ae96e801b\")>,\n",
       " <selenium.webdriver.remote.webelement.WebElement (session=\"ad87bbb9b2e45b083f38ea60aff0fc3e\", element=\"b73642ec-8748-4a1e-bb5e-b6bca3112e66\")>]"
      ]
     },
     "execution_count": 11,
     "metadata": {},
     "output_type": "execute_result"
    }
   ],
   "source": [
    "titles_tags=driver.find_elements_by_xpath(\"//a[@class='title fw500 ellipsis']\")\n",
    "titles_tags"
   ]
  },
  {
   "cell_type": "code",
   "execution_count": 12,
   "metadata": {},
   "outputs": [
    {
     "data": {
      "text/plain": [
       "['Business Data Analyst',\n",
       " 'Business Data Analyst',\n",
       " 'Data Analyst/Business Analyst-Gurgaon/Bangalore/Mumbai (only Females)',\n",
       " 'Business Data Analyst II',\n",
       " 'Data Analyst',\n",
       " 'Data Analyst',\n",
       " 'Data Analyst',\n",
       " 'Data Analyst',\n",
       " 'Data Analyst',\n",
       " 'Senior Data Analyst',\n",
       " 'Senior Data Analyst - SQL/Tableau/Redshift',\n",
       " 'Data Analyst',\n",
       " 'Data Analyst _ 2-5 Years _ Bangalore',\n",
       " 'Data Analyst',\n",
       " 'Data Analyst',\n",
       " 'Data Annotator | Data Entry | Work From Home | Data analyst | Data QC',\n",
       " 'Systems and Data Analyst, Safety and Provisioning',\n",
       " 'Business Analyst - Big Data',\n",
       " 'Senior Data Analyst',\n",
       " 'Lead Data Analyst - Consumer / OTC Company']"
      ]
     },
     "execution_count": 12,
     "metadata": {},
     "output_type": "execute_result"
    }
   ],
   "source": [
    "job_titles=[]\n",
    "for i in titles_tags:\n",
    "    job_titles.append(i.text)\n",
    "job_titles"
   ]
  },
  {
   "cell_type": "code",
   "execution_count": 13,
   "metadata": {},
   "outputs": [
    {
     "data": {
      "text/plain": [
       "['Trigent Software',\n",
       " 'Trigent Software',\n",
       " 'India Medtronic Pvt. Ltd,.',\n",
       " 'Infobahn Softworld Inc.',\n",
       " 'WEIWO Communication Pvt. Ltd.',\n",
       " 'GCC SERVICES INDIA PRIVATE LIMITED',\n",
       " 'Allegis Services India Pvt. Ltd.',\n",
       " 'Allegis Services India Pvt. Ltd.',\n",
       " 'Enzen Global Solutions Pvt. Ltd',\n",
       " 'Liventus, Inc.',\n",
       " 'Pronto Consulting Services',\n",
       " 'Infobahn Softworld Inc.',\n",
       " 'Teamware Solutions ( A division of Quantum Leap Co nsulting Private LTD).',\n",
       " 'vLogix Technologies Pvt. Ltd.,',\n",
       " 'Rubixe (A brand under Think Ahead Innovations Pvt Ltd)',\n",
       " 'saarthi.ai',\n",
       " 'AECOM India Private Limited',\n",
       " 'Brillio',\n",
       " 'Publicis Groupe',\n",
       " 'Star Chase Executive Search']"
      ]
     },
     "execution_count": 13,
     "metadata": {},
     "output_type": "execute_result"
    }
   ],
   "source": [
    "companies_tags=driver.find_elements_by_xpath(\"//a[@class='subTitle ellipsis fleft']\")\n",
    "company_titles=[]\n",
    "for i in companies_tags:\n",
    "    company_titles.append(i.text)\n",
    "company_titles"
   ]
  },
  {
   "cell_type": "code",
   "execution_count": 22,
   "metadata": {},
   "outputs": [
    {
     "data": {
      "text/plain": [
       "['3-5 Yrs',\n",
       " '3-5 Yrs',\n",
       " '1-4 Yrs',\n",
       " '5-8 Yrs',\n",
       " '4-8 Yrs',\n",
       " '5-9 Yrs',\n",
       " '2-5 Yrs',\n",
       " '3-5 Yrs',\n",
       " '6-8 Yrs',\n",
       " '5-8 Yrs',\n",
       " '6-10 Yrs',\n",
       " '3-9 Yrs',\n",
       " '2-5 Yrs',\n",
       " '8-12 Yrs',\n",
       " '2-6 Yrs',\n",
       " '0-2 Yrs',\n",
       " '3-5 Yrs',\n",
       " '2-5 Yrs',\n",
       " '1-3 Yrs',\n",
       " '5-6 Yrs']"
      ]
     },
     "execution_count": 22,
     "metadata": {},
     "output_type": "execute_result"
    }
   ],
   "source": [
    "experience_tags=driver.find_elements_by_xpath(\"//li[@class='fleft grey-text br2 placeHolderLi experience']//span\")\n",
    "experience=[]\n",
    "for i in experience_tags:\n",
    "    experience.append(i.text)\n",
    "experience"
   ]
  },
  {
   "cell_type": "code",
   "execution_count": 25,
   "metadata": {},
   "outputs": [
    {
     "data": {
      "text/plain": [
       "['Bangalore/Bengaluru',\n",
       " 'Bangalore/Bengaluru',\n",
       " 'Gurgaon/Gurugram, Bangalore/Bengaluru, Mumbai (All Areas)',\n",
       " 'Bangalore/Bengaluru',\n",
       " 'Bangalore/Bengaluru(Ulsoor)',\n",
       " 'Bangalore/Bengaluru',\n",
       " 'Bangalore/Bengaluru',\n",
       " 'Bangalore/Bengaluru',\n",
       " 'Bangalore/Bengaluru',\n",
       " 'Bangalore/Bengaluru(2nd Phase JP Nagar)',\n",
       " 'Noida, Mumbai, Indore, Hyderabad/Secunderabad, Pune, Chennai, Bangalore/Bengaluru',\n",
       " 'Bangalore/Bengaluru',\n",
       " 'Bangalore/Bengaluru',\n",
       " 'Chennai, Bangalore/Bengaluru',\n",
       " 'Bangalore/Bengaluru',\n",
       " 'Bangalore/Bengaluru',\n",
       " 'Bangalore/Bengaluru',\n",
       " 'Bangalore/Bengaluru',\n",
       " 'Bangalore/Bengaluru',\n",
       " 'Mumbai, Hyderabad/Secunderabad, Bangalore/Bengaluru']"
      ]
     },
     "execution_count": 25,
     "metadata": {},
     "output_type": "execute_result"
    }
   ],
   "source": [
    "location_tags=driver.find_elements_by_xpath(\"//li[@class='fleft grey-text br2 placeHolderLi location']//span[1]\")\n",
    "location=[]\n",
    "for i in location_tags:\n",
    "    location.append(i.text)\n",
    "location"
   ]
  },
  {
   "cell_type": "code",
   "execution_count": 26,
   "metadata": {},
   "outputs": [
    {
     "name": "stdout",
     "output_type": "stream",
     "text": [
      "20 20 20 20\n"
     ]
    }
   ],
   "source": [
    "print(len(job_titles),len(company_titles),len(experience),len(location))"
   ]
  },
  {
   "cell_type": "code",
   "execution_count": 28,
   "metadata": {},
   "outputs": [],
   "source": [
    "jobs=pd.DataFrame({})\n",
    "jobs['Title']=job_titles\n",
    "jobs['Company']=company_titles\n",
    "jobs['experienceRequired']=experience\n",
    "jobs['Location']=location"
   ]
  },
  {
   "cell_type": "code",
   "execution_count": 29,
   "metadata": {},
   "outputs": [
    {
     "data": {
      "text/html": [
       "<div>\n",
       "<style scoped>\n",
       "    .dataframe tbody tr th:only-of-type {\n",
       "        vertical-align: middle;\n",
       "    }\n",
       "\n",
       "    .dataframe tbody tr th {\n",
       "        vertical-align: top;\n",
       "    }\n",
       "\n",
       "    .dataframe thead th {\n",
       "        text-align: right;\n",
       "    }\n",
       "</style>\n",
       "<table border=\"1\" class=\"dataframe\">\n",
       "  <thead>\n",
       "    <tr style=\"text-align: right;\">\n",
       "      <th></th>\n",
       "      <th>Title</th>\n",
       "      <th>Company</th>\n",
       "      <th>experienceRequired</th>\n",
       "      <th>Location</th>\n",
       "    </tr>\n",
       "  </thead>\n",
       "  <tbody>\n",
       "    <tr>\n",
       "      <th>0</th>\n",
       "      <td>Business Data Analyst</td>\n",
       "      <td>Trigent Software</td>\n",
       "      <td>3-5 Yrs</td>\n",
       "      <td>Bangalore/Bengaluru</td>\n",
       "    </tr>\n",
       "    <tr>\n",
       "      <th>1</th>\n",
       "      <td>Business Data Analyst</td>\n",
       "      <td>Trigent Software</td>\n",
       "      <td>3-5 Yrs</td>\n",
       "      <td>Bangalore/Bengaluru</td>\n",
       "    </tr>\n",
       "    <tr>\n",
       "      <th>2</th>\n",
       "      <td>Data Analyst/Business Analyst-Gurgaon/Bangalor...</td>\n",
       "      <td>India Medtronic Pvt. Ltd,.</td>\n",
       "      <td>1-4 Yrs</td>\n",
       "      <td>Gurgaon/Gurugram, Bangalore/Bengaluru, Mumbai ...</td>\n",
       "    </tr>\n",
       "    <tr>\n",
       "      <th>3</th>\n",
       "      <td>Business Data Analyst II</td>\n",
       "      <td>Infobahn Softworld Inc.</td>\n",
       "      <td>5-8 Yrs</td>\n",
       "      <td>Bangalore/Bengaluru</td>\n",
       "    </tr>\n",
       "    <tr>\n",
       "      <th>4</th>\n",
       "      <td>Data Analyst</td>\n",
       "      <td>WEIWO Communication Pvt. Ltd.</td>\n",
       "      <td>4-8 Yrs</td>\n",
       "      <td>Bangalore/Bengaluru(Ulsoor)</td>\n",
       "    </tr>\n",
       "    <tr>\n",
       "      <th>5</th>\n",
       "      <td>Data Analyst</td>\n",
       "      <td>GCC SERVICES INDIA PRIVATE LIMITED</td>\n",
       "      <td>5-9 Yrs</td>\n",
       "      <td>Bangalore/Bengaluru</td>\n",
       "    </tr>\n",
       "    <tr>\n",
       "      <th>6</th>\n",
       "      <td>Data Analyst</td>\n",
       "      <td>Allegis Services India Pvt. Ltd.</td>\n",
       "      <td>2-5 Yrs</td>\n",
       "      <td>Bangalore/Bengaluru</td>\n",
       "    </tr>\n",
       "    <tr>\n",
       "      <th>7</th>\n",
       "      <td>Data Analyst</td>\n",
       "      <td>Allegis Services India Pvt. Ltd.</td>\n",
       "      <td>3-5 Yrs</td>\n",
       "      <td>Bangalore/Bengaluru</td>\n",
       "    </tr>\n",
       "    <tr>\n",
       "      <th>8</th>\n",
       "      <td>Data Analyst</td>\n",
       "      <td>Enzen Global Solutions Pvt. Ltd</td>\n",
       "      <td>6-8 Yrs</td>\n",
       "      <td>Bangalore/Bengaluru</td>\n",
       "    </tr>\n",
       "    <tr>\n",
       "      <th>9</th>\n",
       "      <td>Senior Data Analyst</td>\n",
       "      <td>Liventus, Inc.</td>\n",
       "      <td>5-8 Yrs</td>\n",
       "      <td>Bangalore/Bengaluru(2nd Phase JP Nagar)</td>\n",
       "    </tr>\n",
       "    <tr>\n",
       "      <th>10</th>\n",
       "      <td>Senior Data Analyst - SQL/Tableau/Redshift</td>\n",
       "      <td>Pronto Consulting Services</td>\n",
       "      <td>6-10 Yrs</td>\n",
       "      <td>Noida, Mumbai, Indore, Hyderabad/Secunderabad,...</td>\n",
       "    </tr>\n",
       "    <tr>\n",
       "      <th>11</th>\n",
       "      <td>Data Analyst</td>\n",
       "      <td>Infobahn Softworld Inc.</td>\n",
       "      <td>3-9 Yrs</td>\n",
       "      <td>Bangalore/Bengaluru</td>\n",
       "    </tr>\n",
       "    <tr>\n",
       "      <th>12</th>\n",
       "      <td>Data Analyst _ 2-5 Years _ Bangalore</td>\n",
       "      <td>Teamware Solutions ( A division of Quantum Lea...</td>\n",
       "      <td>2-5 Yrs</td>\n",
       "      <td>Bangalore/Bengaluru</td>\n",
       "    </tr>\n",
       "    <tr>\n",
       "      <th>13</th>\n",
       "      <td>Data Analyst</td>\n",
       "      <td>vLogix Technologies Pvt. Ltd.,</td>\n",
       "      <td>8-12 Yrs</td>\n",
       "      <td>Chennai, Bangalore/Bengaluru</td>\n",
       "    </tr>\n",
       "    <tr>\n",
       "      <th>14</th>\n",
       "      <td>Data Analyst</td>\n",
       "      <td>Rubixe (A brand under Think Ahead Innovations ...</td>\n",
       "      <td>2-6 Yrs</td>\n",
       "      <td>Bangalore/Bengaluru</td>\n",
       "    </tr>\n",
       "    <tr>\n",
       "      <th>15</th>\n",
       "      <td>Data Annotator | Data Entry | Work From Home |...</td>\n",
       "      <td>saarthi.ai</td>\n",
       "      <td>0-2 Yrs</td>\n",
       "      <td>Bangalore/Bengaluru</td>\n",
       "    </tr>\n",
       "    <tr>\n",
       "      <th>16</th>\n",
       "      <td>Systems and Data Analyst, Safety and Provisioning</td>\n",
       "      <td>AECOM India Private Limited</td>\n",
       "      <td>3-5 Yrs</td>\n",
       "      <td>Bangalore/Bengaluru</td>\n",
       "    </tr>\n",
       "    <tr>\n",
       "      <th>17</th>\n",
       "      <td>Business Analyst - Big Data</td>\n",
       "      <td>Brillio</td>\n",
       "      <td>2-5 Yrs</td>\n",
       "      <td>Bangalore/Bengaluru</td>\n",
       "    </tr>\n",
       "    <tr>\n",
       "      <th>18</th>\n",
       "      <td>Senior Data Analyst</td>\n",
       "      <td>Publicis Groupe</td>\n",
       "      <td>1-3 Yrs</td>\n",
       "      <td>Bangalore/Bengaluru</td>\n",
       "    </tr>\n",
       "    <tr>\n",
       "      <th>19</th>\n",
       "      <td>Lead Data Analyst - Consumer / OTC Company</td>\n",
       "      <td>Star Chase Executive Search</td>\n",
       "      <td>5-6 Yrs</td>\n",
       "      <td>Mumbai, Hyderabad/Secunderabad, Bangalore/Beng...</td>\n",
       "    </tr>\n",
       "  </tbody>\n",
       "</table>\n",
       "</div>"
      ],
      "text/plain": [
       "                                                Title  \\\n",
       "0                               Business Data Analyst   \n",
       "1                               Business Data Analyst   \n",
       "2   Data Analyst/Business Analyst-Gurgaon/Bangalor...   \n",
       "3                            Business Data Analyst II   \n",
       "4                                        Data Analyst   \n",
       "5                                        Data Analyst   \n",
       "6                                        Data Analyst   \n",
       "7                                        Data Analyst   \n",
       "8                                        Data Analyst   \n",
       "9                                 Senior Data Analyst   \n",
       "10         Senior Data Analyst - SQL/Tableau/Redshift   \n",
       "11                                       Data Analyst   \n",
       "12               Data Analyst _ 2-5 Years _ Bangalore   \n",
       "13                                       Data Analyst   \n",
       "14                                       Data Analyst   \n",
       "15  Data Annotator | Data Entry | Work From Home |...   \n",
       "16  Systems and Data Analyst, Safety and Provisioning   \n",
       "17                        Business Analyst - Big Data   \n",
       "18                                Senior Data Analyst   \n",
       "19         Lead Data Analyst - Consumer / OTC Company   \n",
       "\n",
       "                                              Company experienceRequired  \\\n",
       "0                                    Trigent Software            3-5 Yrs   \n",
       "1                                    Trigent Software            3-5 Yrs   \n",
       "2                          India Medtronic Pvt. Ltd,.            1-4 Yrs   \n",
       "3                             Infobahn Softworld Inc.            5-8 Yrs   \n",
       "4                       WEIWO Communication Pvt. Ltd.            4-8 Yrs   \n",
       "5                  GCC SERVICES INDIA PRIVATE LIMITED            5-9 Yrs   \n",
       "6                    Allegis Services India Pvt. Ltd.            2-5 Yrs   \n",
       "7                    Allegis Services India Pvt. Ltd.            3-5 Yrs   \n",
       "8                     Enzen Global Solutions Pvt. Ltd            6-8 Yrs   \n",
       "9                                      Liventus, Inc.            5-8 Yrs   \n",
       "10                         Pronto Consulting Services           6-10 Yrs   \n",
       "11                            Infobahn Softworld Inc.            3-9 Yrs   \n",
       "12  Teamware Solutions ( A division of Quantum Lea...            2-5 Yrs   \n",
       "13                     vLogix Technologies Pvt. Ltd.,           8-12 Yrs   \n",
       "14  Rubixe (A brand under Think Ahead Innovations ...            2-6 Yrs   \n",
       "15                                         saarthi.ai            0-2 Yrs   \n",
       "16                        AECOM India Private Limited            3-5 Yrs   \n",
       "17                                            Brillio            2-5 Yrs   \n",
       "18                                    Publicis Groupe            1-3 Yrs   \n",
       "19                        Star Chase Executive Search            5-6 Yrs   \n",
       "\n",
       "                                             Location  \n",
       "0                                 Bangalore/Bengaluru  \n",
       "1                                 Bangalore/Bengaluru  \n",
       "2   Gurgaon/Gurugram, Bangalore/Bengaluru, Mumbai ...  \n",
       "3                                 Bangalore/Bengaluru  \n",
       "4                         Bangalore/Bengaluru(Ulsoor)  \n",
       "5                                 Bangalore/Bengaluru  \n",
       "6                                 Bangalore/Bengaluru  \n",
       "7                                 Bangalore/Bengaluru  \n",
       "8                                 Bangalore/Bengaluru  \n",
       "9             Bangalore/Bengaluru(2nd Phase JP Nagar)  \n",
       "10  Noida, Mumbai, Indore, Hyderabad/Secunderabad,...  \n",
       "11                                Bangalore/Bengaluru  \n",
       "12                                Bangalore/Bengaluru  \n",
       "13                       Chennai, Bangalore/Bengaluru  \n",
       "14                                Bangalore/Bengaluru  \n",
       "15                                Bangalore/Bengaluru  \n",
       "16                                Bangalore/Bengaluru  \n",
       "17                                Bangalore/Bengaluru  \n",
       "18                                Bangalore/Bengaluru  \n",
       "19  Mumbai, Hyderabad/Secunderabad, Bangalore/Beng...  "
      ]
     },
     "execution_count": 29,
     "metadata": {},
     "output_type": "execute_result"
    }
   ],
   "source": [
    "jobs"
   ]
  },
  {
   "cell_type": "markdown",
   "metadata": {},
   "source": [
    "# Write a python program to scrape data for “Data Scientist” Job position in “Bangalore” location. You have to scrape the job-title, job-location, company_name, full job-description."
   ]
  },
  {
   "cell_type": "code",
   "execution_count": 3,
   "metadata": {},
   "outputs": [],
   "source": [
    "driver1=webdriver.Chrome(r'C:\\Users\\delkl\\Downloads\\chromedriver.exe')"
   ]
  },
  {
   "cell_type": "code",
   "execution_count": 4,
   "metadata": {},
   "outputs": [],
   "source": [
    "url1='https://www.naukri.com/'\n",
    "driver1.get(url1)"
   ]
  },
  {
   "cell_type": "code",
   "execution_count": 5,
   "metadata": {},
   "outputs": [
    {
     "data": {
      "text/plain": [
       "<selenium.webdriver.remote.webelement.WebElement (session=\"9f4ec336856824f79850e096355ba5c7\", element=\"06813eaa-b351-4776-9fdb-89b966eb989e\")>"
      ]
     },
     "execution_count": 5,
     "metadata": {},
     "output_type": "execute_result"
    }
   ],
   "source": [
    "search_job1=driver1.find_element_by_id('qsb-keyword-sugg')\n",
    "search_job1"
   ]
  },
  {
   "cell_type": "code",
   "execution_count": 6,
   "metadata": {},
   "outputs": [],
   "source": [
    "search_job1.send_keys('Data Scientist')"
   ]
  },
  {
   "cell_type": "code",
   "execution_count": 7,
   "metadata": {},
   "outputs": [],
   "source": [
    "search_loc1=driver1.find_element_by_id('qsb-location-sugg')\n",
    "search_loc1.send_keys('Bangalore')"
   ]
  },
  {
   "cell_type": "code",
   "execution_count": 8,
   "metadata": {},
   "outputs": [],
   "source": [
    "search_btn1=driver1.find_element_by_xpath(\"//button[@class='btn']\")\n",
    "search_btn1.click()"
   ]
  },
  {
   "cell_type": "code",
   "execution_count": 9,
   "metadata": {},
   "outputs": [
    {
     "data": {
      "text/plain": [
       "[<selenium.webdriver.remote.webelement.WebElement (session=\"9f4ec336856824f79850e096355ba5c7\", element=\"1035612f-fb2c-47e3-8055-5d0544ea2f66\")>,\n",
       " <selenium.webdriver.remote.webelement.WebElement (session=\"9f4ec336856824f79850e096355ba5c7\", element=\"202aa8c2-475b-4301-9068-34161af1da0c\")>,\n",
       " <selenium.webdriver.remote.webelement.WebElement (session=\"9f4ec336856824f79850e096355ba5c7\", element=\"fbbc2ac1-def7-4520-b87f-c06f13b28a46\")>,\n",
       " <selenium.webdriver.remote.webelement.WebElement (session=\"9f4ec336856824f79850e096355ba5c7\", element=\"aa157d69-01cd-4643-acfe-5a499162a739\")>,\n",
       " <selenium.webdriver.remote.webelement.WebElement (session=\"9f4ec336856824f79850e096355ba5c7\", element=\"9946831c-4a61-4a07-84eb-28952e53fce7\")>,\n",
       " <selenium.webdriver.remote.webelement.WebElement (session=\"9f4ec336856824f79850e096355ba5c7\", element=\"cb26e35a-6893-4aae-987f-6c79014fca37\")>,\n",
       " <selenium.webdriver.remote.webelement.WebElement (session=\"9f4ec336856824f79850e096355ba5c7\", element=\"55bb1069-c0e7-41c4-9a26-babbbdc7df3f\")>,\n",
       " <selenium.webdriver.remote.webelement.WebElement (session=\"9f4ec336856824f79850e096355ba5c7\", element=\"5c892bd9-5107-44f2-a3fd-b2c2592b8905\")>,\n",
       " <selenium.webdriver.remote.webelement.WebElement (session=\"9f4ec336856824f79850e096355ba5c7\", element=\"2b39fed0-f3fd-4499-a26d-9396473ad3ee\")>,\n",
       " <selenium.webdriver.remote.webelement.WebElement (session=\"9f4ec336856824f79850e096355ba5c7\", element=\"09d29107-bc8d-45d4-ae59-1feed04f0df5\")>,\n",
       " <selenium.webdriver.remote.webelement.WebElement (session=\"9f4ec336856824f79850e096355ba5c7\", element=\"c0174127-41ec-4e47-922e-0560f017d519\")>,\n",
       " <selenium.webdriver.remote.webelement.WebElement (session=\"9f4ec336856824f79850e096355ba5c7\", element=\"4796f916-f900-4406-8c9c-2c9240272585\")>,\n",
       " <selenium.webdriver.remote.webelement.WebElement (session=\"9f4ec336856824f79850e096355ba5c7\", element=\"d7bcb6fb-9f73-4367-a84e-d73b289017e3\")>,\n",
       " <selenium.webdriver.remote.webelement.WebElement (session=\"9f4ec336856824f79850e096355ba5c7\", element=\"22c7516c-8571-4fa9-9f66-326ccb8d8ab4\")>,\n",
       " <selenium.webdriver.remote.webelement.WebElement (session=\"9f4ec336856824f79850e096355ba5c7\", element=\"140367fc-ce99-400b-ba31-d7a03ea2b121\")>,\n",
       " <selenium.webdriver.remote.webelement.WebElement (session=\"9f4ec336856824f79850e096355ba5c7\", element=\"15f0a89f-b2a0-4b20-92a9-20cc4758c43f\")>,\n",
       " <selenium.webdriver.remote.webelement.WebElement (session=\"9f4ec336856824f79850e096355ba5c7\", element=\"e9bfadb1-f45b-4aa1-8106-eb3e4b5725a8\")>,\n",
       " <selenium.webdriver.remote.webelement.WebElement (session=\"9f4ec336856824f79850e096355ba5c7\", element=\"5500851a-cee5-4974-afe3-09375cd2276a\")>,\n",
       " <selenium.webdriver.remote.webelement.WebElement (session=\"9f4ec336856824f79850e096355ba5c7\", element=\"3a31b93a-75ba-46fc-9120-3b81e3a3719a\")>,\n",
       " <selenium.webdriver.remote.webelement.WebElement (session=\"9f4ec336856824f79850e096355ba5c7\", element=\"4f09a34c-e8dc-4669-9c20-b5bff1b0e47f\")>]"
      ]
     },
     "execution_count": 9,
     "metadata": {},
     "output_type": "execute_result"
    }
   ],
   "source": [
    "url11=driver1.find_elements_by_xpath(\"//a[@class='title fw500 ellipsis']\")\n",
    "url11"
   ]
  },
  {
   "cell_type": "code",
   "execution_count": 10,
   "metadata": {},
   "outputs": [
    {
     "data": {
      "text/plain": [
       "['https://www.naukri.com/job-listings-senior-data-scientist-philips-india-limited-bangalore-bengaluru-8-to-10-years-060821501599?src=jobsearchDesk&sid=1628325924639597&xp=1&px=1',\n",
       " 'https://www.naukri.com/job-listings-data-scientist-advanced-analytics-ibm-india-pvt-limited-bangalore-bengaluru-5-to-10-years-060821907733?src=jobsearchDesk&sid=1628325924639597&xp=2&px=1',\n",
       " 'https://www.naukri.com/job-listings-senior-data-scientist-symbiosis-international-w-l-l-bangalore-bengaluru-10-to-15-years-050821004331?src=jobsearchDesk&sid=1628325924639597&xp=3&px=1',\n",
       " 'https://www.naukri.com/job-listings-data-scientist-mcafee-software-india-pvt-ltd-bangalore-bengaluru-4-to-8-years-050821501145?src=jobsearchDesk&sid=1628325924639597&xp=4&px=1',\n",
       " 'https://www.naukri.com/job-listings-senior-data-scientist-datamatics-global-services-ltd-bangalore-bengaluru-8-to-13-years-040821003517?src=jobsearchDesk&sid=1628325924639597&xp=5&px=1',\n",
       " 'https://www.naukri.com/job-listings-software-developer-data-scientist-nlp-machine-learning-dot-net-cunesoft-india-private-limited-bangalore-bengaluru-3-to-8-years-190121001281?src=jobsearchDesk&sid=1628325924639597&xp=6&px=1',\n",
       " 'https://www.naukri.com/job-listings-data-scientist-uber-bangalore-bengaluru-6-to-8-years-050821500683?src=jobsearchDesk&sid=1628325924639597&xp=7&px=1',\n",
       " 'https://www.naukri.com/job-listings-senior-data-scientist-ibm-india-pvt-limited-bangalore-bengaluru-5-to-10-years-260721907182?src=jobsearchDesk&sid=1628325924639597&xp=8&px=1',\n",
       " 'https://www.naukri.com/job-listings-sr-data-scientist-ibm-india-pvt-limited-bangalore-bengaluru-8-to-12-years-230721906918?src=jobsearchDesk&sid=1628325924639597&xp=9&px=1',\n",
       " 'https://www.naukri.com/job-listings-senior-data-scientist-publicis-groupe-bangalore-bengaluru-2-to-5-years-030821501259?src=jobsearchDesk&sid=1628325924639597&xp=10&px=1',\n",
       " 'https://www.naukri.com/job-listings-senior-data-scientist-bidgely-technologies-private-limited-bangalore-bengaluru-4-to-6-years-030821500043?src=jobsearchDesk&sid=1628325924639597&xp=11&px=1',\n",
       " 'https://www.naukri.com/job-listings-senior-data-scientist-goals-101-data-solutions-pvt-ltd-new-delhi-bangalore-bengaluru-delhi-ncr-4-to-8-years-030821000870?src=jobsearchDesk&sid=1628325924639597&xp=12&px=1',\n",
       " 'https://www.naukri.com/job-listings-data-scientist-permanent-role-onward-technologies-limited-hyderabad-secunderabad-chennai-bangalore-bengaluru-6-to-11-years-030821002780?src=jobsearchDesk&sid=1628325924639597&xp=13&px=1',\n",
       " 'https://www.naukri.com/job-listings-senior-data-scientist-randstad-india-pvt-ltd-bangalore-bengaluru-4-to-9-years-280721000424?src=jobsearchDesk&sid=1628325924639597&xp=14&px=1',\n",
       " 'https://www.naukri.com/job-listings-sr-data-scientist-tech-lead-data-science-confidential-bangalore-bengaluru-6-to-9-years-020821903704?src=jobsearchDesk&sid=1628325924639597&xp=15&px=1',\n",
       " 'https://www.naukri.com/job-listings-senior-data-scientist-l-a-consultancy-kochi-cochin-hyderabad-secunderabad-pune-chennai-delhi-ncr-bangalore-bengaluru-5-to-9-years-310721903849?src=jobsearchDesk&sid=1628325924639597&xp=16&px=1',\n",
       " 'https://www.naukri.com/job-listings-lead-data-scientist-tensorflow-machine-learning-getinz-techno-services-mumbai-hyderabad-secunderabad-chennai-bangalore-bengaluru-7-to-10-years-250721900474?src=jobsearchDesk&sid=1628325924639597&xp=17&px=1',\n",
       " 'https://www.naukri.com/job-listings-associate-data-scientist-execboardinasia-bangalore-bengaluru-5-to-10-years-310721500675?src=jobsearchDesk&sid=1628325924639597&xp=18&px=1',\n",
       " 'https://www.naukri.com/job-listings-data-engineers-data-scientist-and-sap-teamware-solutions-bangalore-bengaluru-7-to-10-years-300721500677?src=jobsearchDesk&sid=1628325924639597&xp=19&px=1',\n",
       " 'https://www.naukri.com/job-listings-senior-data-applied-scientist-microsoft-india-r-and-d-pvt-ltd-bangalore-bengaluru-3-to-5-years-060821501871?src=jobsearchDesk&sid=1628325924639597&xp=20&px=1']"
      ]
     },
     "execution_count": 10,
     "metadata": {},
     "output_type": "execute_result"
    }
   ],
   "source": [
    "job_opening_urls=[]\n",
    "for i in url11:\n",
    "    job_opening_urls.append(i.get_attribute('href'))\n",
    "job_opening_urls"
   ]
  },
  {
   "cell_type": "code",
   "execution_count": 11,
   "metadata": {},
   "outputs": [
    {
     "data": {
      "text/plain": [
       "['Senior Data Scientist',\n",
       " 'Senior Data Scientist',\n",
       " 'DATA SCIENTIST',\n",
       " 'Senior Data Scientist',\n",
       " 'Software Developer - Data Scientist / NLP / Machine Learning & Dot Net',\n",
       " 'Data scientist',\n",
       " 'Senior Data Scientist',\n",
       " 'Senior Data Scientist',\n",
       " 'Senior Data Scientist',\n",
       " 'Data Scientist - Permanent Role',\n",
       " 'Senior Data Scientist',\n",
       " 'Sr. Data Scientist / Tech Lead - Data Science',\n",
       " 'Senior Data Scientist',\n",
       " 'Lead Data Scientist - Tensorflow/Machine Learning',\n",
       " 'Associate Data Scientist',\n",
       " 'Data Engineers , Data Scientist and SAP',\n",
       " 'Senior Data & Applied Scientist']"
      ]
     },
     "execution_count": 11,
     "metadata": {},
     "output_type": "execute_result"
    }
   ],
   "source": [
    "job_titles1=[]\n",
    "for i in job_opening_urls:\n",
    "    driver1.get(i)\n",
    "    try:\n",
    "        job_title=driver1.find_element_by_xpath(\"//h1[@class='jd-header-title']\")\n",
    "        job_titles1.append(job_title.text)\n",
    "    except:\n",
    "        pass\n",
    "job_titles1"
   ]
  },
  {
   "cell_type": "code",
   "execution_count": 13,
   "metadata": {},
   "outputs": [
    {
     "data": {
      "text/plain": [
       "['Philips India Limited',\n",
       " 'SYMBIOSIS International W.L.L',\n",
       " 'McAfee Software (India) Pvt. Ltd',\n",
       " 'Datamatics Global Services Ltd',\n",
       " 'Cunesoft India Private Limited',\n",
       " 'Uber',\n",
       " 'Publicis Groupe',\n",
       " 'Bidgely Technologies Private Limited',\n",
       " 'Goals 101 Data Solutions Pvt. Ltd.',\n",
       " 'Onward Technologies Limited',\n",
       " 'RANDSTAD INDIA PVT LTD',\n",
       " 'Confidential',\n",
       " 'L A Consultancy',\n",
       " 'Getinz Techno Services',\n",
       " 'ExecBoardinAsia',\n",
       " 'Teamware Solutions',\n",
       " 'Microsoft Corporation']"
      ]
     },
     "execution_count": 13,
     "metadata": {},
     "output_type": "execute_result"
    }
   ],
   "source": [
    "company_titles1=[]\n",
    "for i in job_opening_urls:\n",
    "    driver1.get(i)\n",
    "    try:\n",
    "        companies_tags1=driver1.find_element_by_xpath(\"//a[@class='pad-rt-8']\")\n",
    "        company_titles1.append(companies_tags1.text)\n",
    "    except:\n",
    "        pass\n",
    "company_titles1"
   ]
  },
  {
   "cell_type": "code",
   "execution_count": 15,
   "metadata": {},
   "outputs": [
    {
     "data": {
      "text/plain": [
       "['Bangalore/Bengaluru',\n",
       " 'Bangalore/Bengaluru',\n",
       " 'Bangalore/Bengaluru',\n",
       " 'Bangalore/Bengaluru',\n",
       " 'Bangalore/Bengaluru',\n",
       " 'Bangalore/Bengaluru',\n",
       " 'Bangalore/Bengaluru',\n",
       " 'Bangalore/Bengaluru',\n",
       " 'New Delhi, Bangalore/Bengaluru, Delhi / NCR',\n",
       " 'Hyderabad/Secunderabad, Chennai, Bangalore/Bengaluru',\n",
       " 'Bangalore/Bengaluru',\n",
       " 'Bangalore/Bengaluru',\n",
       " 'Kochi/Cochin, Hyderabad/Secunderabad, Pune, Chennai, Delhi / NCR, Bangalore/Bengaluru',\n",
       " 'Mumbai, Hyderabad/Secunderabad, Chennai, Bangalore/Bengaluru',\n",
       " 'Bangalore/Bengaluru',\n",
       " 'Bangalore/Bengaluru',\n",
       " 'Bangalore/Bengaluru']"
      ]
     },
     "execution_count": 15,
     "metadata": {},
     "output_type": "execute_result"
    }
   ],
   "source": [
    "location1=[]\n",
    "for i in job_opening_urls:\n",
    "    driver1.get(i)\n",
    "    try:\n",
    "        location_tags1=driver1.find_element_by_xpath(\"//span[@class='location ']\")\n",
    "        location1.append(location_tags1.text)\n",
    "    except:\n",
    "        pass\n",
    "location1"
   ]
  },
  {
   "cell_type": "code",
   "execution_count": 16,
   "metadata": {
    "scrolled": true
   },
   "outputs": [
    {
     "data": {
      "text/plain": [
       "['  Be a part of the Enterprise IT , Information and Data Science team and drive a strategic and actionable Data Science architecture to activate the needed business capabilities. Deliver business use cases like Care Provider (Customer, Product , IB ) 360 initiative, Product bundling , Value Based pricing , Conversational AI, Indirect Trade partner classification , Data pipeline predictions etc - an ambition to better understand the needs of Healthcare Providers, the way Philips serves its customers and how and where Philips can add value to the customer decision journey.\\nYour responsibilities\\nEnsure strategic direction for data science capabilities for Philips is created and kept up to date on a regular basis\\nContinuously evaluate the latest techniques in Artificial intelligence, machine learning, robotics, statistical analysis\\nImplement advanced algorithms for business problems based on statistical analysis, coding, deep learning, advanced data mining techniques etc.\\nDevelop new algorithms if necessary, to bring predictive, advanced statistics / learning based solutions\\nDevelop algorithms to further automate processes and feed insights back into PIL for better business outcome\\nCo-create with business / market / functions or IT platforms on requirements\\nEnsure quality of data and solution developed\\nLead and drive data mining, creating algorithms, collection of data, collection of procedures during the design, build phases of a project\\nLead and drive in deploy and testing of the solutions and insights\\nSpot and evaluate emerging/cutting edge, open source, data science/machine learning libraries\\nYou are part of:\\nYou will be part of Group IT , Information and Data Management team that drives business impact through Data Science and Advanced analytics. A team that instigates collaboration across diverse teams globally to manage Data as an asset at Philips.\\nCore competencies needed to be successful:\\nA Master s Degree or PhD in Computer Science, Econometrics, Artificial Intelligence, Applied Mathematics, Statistics or equivalent;\\n8-10 years of overall experience in data science, data analytics roles\\n8+ years of experience in multiple of machine learning, data mining, deep learning, artificial intelligence, pattern recognition areas\\nExperience in driving implementation of solutions, data and algorithms on data warehouse and lakes like Azure , AWS, SQL etc\\nDemonstrable advanced programming experience in Python or another programming language such as Azure ML/R/Python etc ;\\nStrong analytical and social skills and the capability to translate data intelligence into valuable insights for the senior stakeholders in the company\\nAbility to formulate multiple complex business problems into hypothesis and proof of concepts for testing\\nManage Projects and lead a sub-portfolio of data science project teams to deliver results\\nCoach, Guide and direct teams of internal and vendor resources\\nCollaborate across IT platform teams to deploy solutions and drive continuous improvements\\nManage senior stakeholder in the company in a matrix organization i.e. Market / BG / Function leaders',\n",
       " \"Required Candidate profile\\nWe are looking for a Senior Data Scientist with a min of 10 years experience in Banking Financial Domain (especially Compliance related) and a solid background in Cloudera.\\nAs a Cloudera Specialist, you must be adept in Cloudera tools like CDH, CEPH, CM, CMA, Data node EDH, HVE, JAS, NameNode, Nodemanager, QJM, QJN, RM and ZK.\\nThis will be a two years assignment to one of the Leading Class A banks in Abu Dhabi.\\nCandidate should have finished two or three full implementations of Data Analytics in Compliance in large Enterprise Banks.\\nShould be having thorough knowledge in R, Python, Scala on demand and Jupyter Notebooks.\\nShould be having hands experience in CCA Spark and Hadoop developer.\\nShould be having a Financial Compliance Background with a good knowledge and hands on expertise on Compliance related domains.\\nShould be a Machine Learning expert and create new models and use various library in that area. You should have proven skills in this area.\\nShould be having a thorough theoretical and practical idea on the following systems (From a Data Scientist Perspective)\\nHDFS\\nYarn\\nMapReduce\\nHive\\nPig\\nApache Ambari\\nHBase / Apache Impala\\nStorm\\nOozie\\nRanger\\nZookeeper\\nVarious data ingestion tools like Sqoop, flume, Kafka\\nVarious reporting tools like Drill, Phoenix, Zeppelin\\nWill be an added advantage if you have exposure to GPU processing, Tensor Flow and Data Lakes.\\nShould be able to produce high Quality Business documentation, Project Management, Agile Framework practices as needed.\\nShould inspect the current Cloudera Architecture and suggest enhancements or improve it.\\nShould be able to communicate with Senior Business Management ideas, concepts and deliverables.\\nIf you have certifications on Cloudera (Cloudera Data Engineer, Spark and Hadoop Developer), it will be an added advantage.\\nData Scientist - Compliance\\nResponsibilities:\\nUse advanced analytics methods to extract value from business data\\nPerform large-scale experimentation and build data-driven models to answer business questions\\nConduct research on cutting-edge techniques and tools in machine learning/deep learning/artificial intelligence\\nDetermine requirements that will be used to train and evolve deep learning models and algorithms\\nArticulate a vision and roadmap for the exploitation of data as a valued corporate asset\\nInfluence product teams through presentation of data-based recommendations\\nEvangelize best practices to analytics and products teams\\nAssemble large, complex data sets that meet functional / non-functional business requirements.\\nIdentify, design, and implement internal process improvements: automating manual processes, optimizing analytics delivery, re-designing infrastructure for greater scalability, etc.\\nBuild analytics tools that utilize the data to provide actionable insights into customer acquisition, operational efficiency and other key business performance metrics.\\nWork with stakeholders including the Executive, Product, Data and Design teams to assist with analytics related technical issues and support their data infrastructure needs.\\nWork with data and analytics experts to strive for greater functionality data systems\\nTypical skills and background:\\nSKILLS:\\nCan work with data to identify patterns.\\nUse judgement to form conclusions that may challenge conventional wisdom and focus on the crux of issues to identify high-leverage intervention points and strategies.\\nRapidly acquire new knowledge and learn new skills\\nSeek to understand business needs and get results that have a clear, positive, and direct impact on business performance\\nApply different strategies to convince others to change their opinions or plans and ensure that proposals or arguments are supported by strong logic and a compelling business case, addressing all relevant factors.\\nConsider the relative costs and benefits of potential actions to choose the most appropriate one\\nCommunication and storytelling\\nTeamwork and collaboration\\nBanking domain business knowledge\\nAdvanced analytics modelling and orchestration\\nSolid development skills in Java, Scala and SQL\\nSound knowledge of using data science tools and languages like Cloudera Data Science Workbench (CDSW), Jupyter Notebook, Python etc.\\nClear hands-on mastery in big datab systems - Hadoop ecosystem, Cloud technologies (AWS, Azure, Google), in-memory database systems (HANA, Hazel cast, etc) and other database systems - traditional RDBMS (Terradata, SQL Server, Oracle), and NoSQL databases (Cassandra, MongoDB, DynamoDB)\\nComfortable in dashboard development (Tableau, Powerbi, Qlik, etc) and in developing data analytics models (R, Python, Spark)\\nEXPERIENCE AND QUALIFICATION:\\nMasters degree from top-tier college/university in Computer Science, Statistics, Economics, or other closely-related field\\nMinimum of 6 years' hands-on experience with a strong data background\\nExtensive experience working with Big Data tools and building data solutions for advanced analytics\\nExperience with statistical software, scripting languages, and packages (e.g. R, MATLAB, SAS, and Python)\\nConsiderable experience in solving business problems with advanced analytical solutions\\nProven experience in conducting statistical analysis and building models with advanced scripting language such as R, SPSS, or other analytic tools.\\nExperience building and deploying predictive models, web scraping, and scalable data pipelines.\\nStrong understanding of statistical methods and skills such as Bayesian Networks Inference, linear and non-linear regression, hierarchical, mixed models/multi-level modeling\\nPractical knowledge across data extraction and transformation tools - traditional ETL tools (Informatica, Altryx) as well as more recent big data tools\\nFinancial Renumeration will be based on your skills and expertise.\\nNotice Period of 30 to 45 days preferred\\nPrevious working experience in Middle East and Gulf regions preferred Roles and Responsibilities\\n\\n\\nDesired Candidate Profile\\n\\n\\nPerks and Benefits\",\n",
       " 'Data Scientist Primary Location India, Bangalore Date posted 08/01/2021\\nApply Now Save Job ID: JR0024575\\n\\n\\nJob Title:\\nData Scientist\\n\\n\\nRole Overview:\\nData scientist will be doing research on innovative projects in platform engineering group at McAfee. Platform Engineering Group is the is one of the core groups responsible for collecting data from millions of sensors from various products of Enterprises, using the data to protect the customers, provide insights and necessary actions to be taken for security gap.\\n\\nThis position is an integral part of the McAfee Enterprise business segment which was acquired by Symphony Technology Group (STG) in July 2021. McAfee Enterprise and its team members remain committed to keeping governments and enterprises safe. This position is dedicated to and part of the McAfee Enterprise business.\\n\\n\\n\\nCompany Overview\\nMcAfee is a leader in personal security for consumers. Focused on protecting people, not just devices, McAfee consumer solutions adapt to users needs in an always online world, empowering them to live securely through integrated, intuitive solutions that protects their families and communities with the right security at the right moment.\\nAbout the Role:\\nDevelop Machine learning models to analyze and obtain practical insights from large volume of data that requires expertise at data exploration, analysis and feature engineering\\nExperiment and Develop POCs of innovative ideas to come up with new solutions for addressing security gaps\\nCreate machine learning pipelines to automate generation of efficient and better models\\nCommunicate and work with engineering teams to productionize the solutions\\nTaking ownership and responsibility of the solutions and driving to closure\\nParticipate in data and product analytics to develop customer insights and product features\\nImplement newer machine learning algorithms and models to improve the efficacy of the existing solutions\\nPublish research papers on the experiments and machine learning solutions\\nAbout you :\\n5+ years of experience in the field of Data Science\\n5+ years of programming experience in at least one of Python or Java\\n3+ years of working experience on large datasets using ML and experience with ML model life cycle\\nPhD degree in Computer Science, Data Science, Statistics, Mathematics or other related fields is preferred\\nDeep knowledge in Natural Language processing, Deep learning, statistics, predictive modeling and time series analysis.\\nPassionate about Cybersecurity and want to apply machine learning solutions in this space to solve security problems.\\nExperience working on Big data problems\\nExperience working on problems relevant to detecting risk, fraud and trust is an added advantage\\nExperience in working in AWS cloud environment is an added advantage\\nExperience with Publishing research papers',\n",
       " 'Roles and Responsibilities\\n\\nDetails in lined for Hiring Team to focus:\\nThe hiring is for a single Data Scientist (7-8+yrs) as he/she shall be an individual contributor.\\nWe shall seek for a strong java/python/scala with expertise into frameworks ML (spark/keras/tensorflow).\\nML concepts has to be thorough with proven expertise in ( Decision Trees, Random Forest, NLP) Deep Learning is excluded.\\nDesired Candidate Profile\\n\\n\\nPerks and Benefits',\n",
       " 'Dear Candidates\\nWe are looking for a competent and enthusiastic candidate with the below requirement. This vital role ensures Cunesoft India Pvt Ltd (a Phlexglobal Company) Bangalore can provide a high-quality end product to internal and external users. This position requires strong technical and communication skills as well as both independent and team working, including working closely with all other areas of the software delivery team and the rest of the Technology department.\\nRoles and Responsibilities\\n\\nKey Activities\\nDevelop and improve the existing data mining and NLP related processes within our Regulatory Data Management platform\\nDevelop new ways of improving and transforming the regulatory processes of Phlexglobal customers.\\nInteract with product management, project management and development teams to develop additional modules and functions within the Phlexglobal Cloud Platform\\nDesign and create solutions for pre specified modules and functions\\nUse existing tools and techniques to develop and test new and existing work\\nDefine, create and execute automated test cases, i.e. unit tests\\nParticipate in troubleshooting and triaging of issues with different teams to drive towards root cause identification and resolution\\nSupport production deployment of applications and perform validation testing during the off-hours maintenance windows\\nSupport and fix existing and new identified issues by either customers or internal test teams.\\n\\nDesired Candidate Profile\\n\\n\\nRequired Skills & Experience\\n\\nMinimum 3+ years working experience in NLP, Artificial Intelligence, Machine Learning, Text Mining, Neural Networks\\nStrong programming skills using PYTHON\\nIn depth experience with OpenNLP, Stanford NLP or related NLP / data mining technologies\\nIn depth experience with Python and data libraries such as scikit learn, pandas, numpy, etc.\\nSelecting features, building and optimizing classifiers using Machine learning techniques\\nExcellent understanding of Machine Learning Techniques and Algorithms.\\nMust have Data mining / Natural Language Processing experience\\nMust have very good understanding of GIT\\nProcessing, Cleansing, and verifying the integrity of data\\nDevelop custom data models and algorithms to apply to data sets.\\nDefining validation strategies\\nDefining the preprocessing or feature engineering to be done on a given dataset\\nDefining data augmentation pipelines\\nTraining models and tuning their hyperparameters\\nAnalyzing the errors of the model and designing strategies to overcome them\\nDeploying models to production\\n\\nAdded advantages\\n3+ years experience using Microsoft .NET / C#\\nExposure to ML.Net, AutoML, NimbusML, etc\\nGood knowledge of Microsoft Visual Studio is preferred\\nGood to have Microsoft SQL Server, preferably Microsoft SQL Azure\\nPrevious experience in the Life sciences area\\n\\nOther requirements\\nExcellent verbal and written communication skills\\nMust be flexible, independent and self motivated\\nPunctual, Regular and consistent attendance\\nAs part of the Interview process, you should have attempted the below mentioned Kaggle project.\\n\\nhttps://www.kaggle.com/c/titanic\\n\\nWe would like to arrange a phone interview with you. Please confirm your interest in this position by sending your recent CV attached along with below details.\\n\\nTotal years of Experience :\\n\\nRelevant Experience :\\n\\nCurrent CTC :\\n\\nExpected CTC :\\n\\nNotice Period :\\n\\nCurrent Location :\\n\\nBest time to talk to you :\\n\\nCandidates with relevant experience can contact me.\\n\\nWe are looking for a candidate who can join us immediately / in less than 15-20 days / 30 days / ASAP\\n\\nPlease ignore, if you have already been interviewed within 3 months.\\n\\nThanks\\nSrini\\n\\nsarumugam@phlexglobal.com\\n+91 63660 85842\\n\\nDot Net Developer\\n\\nJunior (3-5 yrs), Mid (5-8 yrs) & Lead (8-12 yrs) level roles.\\n\\nCommercial experience in web development using the full Microsoft .Net development stack (specifically C#, MVC, .Net Core), SQL, front-end frameworks (jQuery, React, etc).\\n\\nCoding, Entity framework, Linq, Source control system (Any - TFS or GIT), Data structures\\n\\nSkilled in modern development principles (Agile, SOLID, TDD, design patterns, IoC)\\n\\nAt least theoretical knowledge - know-SQL database (example\\nAzure Cosmos)\\n\\nGood to have - Ideally experience of Azure, MVVM, microservices, message bus, containerisation, serverless.\\n\\nMicrosoft .Net development stack, C#, MVC, .Net Core, SQL, front-end frameworks, jQuery, React, Entity framework, Linq, TFS, GIT, Data structures, Agile, SOLID, TDD, design patterns, IoC, SQL database, Azure Cosmos, Azure, MVVM, microservices, message bus, containerisation, serverless',\n",
       " \"About the role\\nWe are looking for skilled motivated professionals who will support and own multiple projects globally that drive business growth while still balancing compliance risk and partner friction. The role will cover areas such as (not limited to) Sanctions screening; Partner and user compliance; Customer due diligence; Transaction monitoring; Metrics development and monitoring; and Model and Strategy development - to help balance partner friction and compliance risk\\nWhat you'll do\\nDevelop and manage user risk rating models that meet applicable regulatory requirements and are aligned with standard methodologies and practices. Interpret large amounts of complex data to formulate problem statements, concise conclusions regarding underlying risk dynamics, trends, and opportunities Identify key risk indicators and metrics while developing and monitoring key parameters, enhance reporting, and identify new areas of analytic focus to better understand operational risk.\\nOwn compliance specific area - end to end - ranging from the discovery of the business problem to eventually working with the Engineering/Product teams to execute it Strategy design and analysis of domain-specific use-cases such as Reduction of cost of compliance;\\nImprove monitoring mechanism to alert any anomaly in compliance or business metric; Improve funnel for Partner onboarding, thereby improving user experience; and Drive multiple experiments to evaluate and quantify the hypothesis Extensive data analytics and SQL query writing Predictive modeling / Machine learning algorithms - using random Forest / Decision tree / Logistic regression\\nKey Qualifications\\n6 years of proven experience in a data-focused role such as product analytics, business analytics, business operations, or data science Education in Engineering, Computer Science, Math, Economics, Statistics or equivalent experience Past experience in Payments or Compliance with a Product / Tech company serving millions of customers on multiple platforms and countries BA/BS in Mathematics, Statistics, Computer Science, Economics, Business or analytical field SQL mastery.\\nWrite efficient and complex code in SQL Experience in Python/R and in experimentation, A/B testing, and statistical modeling Define business metrics, including Key Performance Indicators, for financial products, in close partnership with Product Management and other leaders Proven ability to handle large datasets, explore and utilize raw data feeds\\nExcellent data visualization skills Love of data - you just go get the data you need and turn it into an insightful story. You know how to convert data into decisions without getting stuck in paralysis by analysis A well-organized, structured approach to problem-solving\\nStrong sense of ownership, accountability, and entrepreneurial spirit Able to lead change and solution-oriented Great communicator, problem-solver confident in decision making Independent autonomous, while still a strong teammate Enthusiastic, self-starting and thrives in changing, agile environment.\",\n",
       " 'Work location: Bengaluru (Currently, Remote)\\nShift timing: 12PM to 9PM\\nWork with stakeholders throughout the organization to identify opportunities for leveraging company data to drive business solutions.\\nDevelop a use case roadmap for a problem area or capability for the business. Frame the business problem into a Data Science or modelling problem.\\nExtract data from multiple sources. Mine and analyze data from company databases to drive optimization and improvement of product.\\nWork as the data strategist, identifying and integrating new datasets that can be leveraged through our product capabilities and work closely with Client Support, Product Management and Engineering team to strategize and execute the development of data products.\\nProcessing, cleansing, and verifying the integrity of data used for analysis. Undertake preprocessing of structured and unstructured data.\\nData mining using state-of-the-art methods. Selecting features, building and optimizing classifiers using ML/AI techniques.\\nPresent technical solutions to internal and external stakeholders in a formal setting, effectively communicating key concepts and functionalities\\nEffectively manage client expectations via direct and frequent communication with high quality results\\nDevelop front end deliverable solutions for stakeholders utilizing BI tools such as Tableau, Cognos, Excel, or similar\\nWork on multiple assignments concurrently, while handling priorities and challenges and meeting timelines basis project plan and roadmap.\\nBuild self-service tools for error detection, diagnosis, and predictive metrics.\\nBuild project plans, maintain to-do list, organize work, follow coding ethics, and have an eye for detail\\n\\n\\nQualifications\\nBachelor s or Master s degree in a quantitative discipline (e.g., data science, statistics, economics, mathematics, computer science) or significant relevant coursework/experience\\n4+ years professional experience in the field of data science or business intelligence\\nDemonstrated proficiency in PYTHON/SCALA/SQL and BIG DATA technologies and the proven ability to program in big data/cloud technologies such as AWS SPARK; minimum 3 years of experience\\nExperienced with Machine Learning algorithms such as logistic regression, linear regression, lasso regression, k-means, random forest, XG boost, KNN, SVM and neural network; minimum 2 years of experience\\nAble to produce elaborate documents/narrative suggesting actionable insights and recommendations leveraging BI tools such as Tableau\\nExpertise with Microsoft Office products; including Excel, PowerPoint, Word\\nGreat communication skills. Excellent written and verbal communication skills for coordinating across teams.\\nSelf-driven and results oriented. Willing to stretch to meet tight timelines.\\nStrong team player with ability to collaborate effectively across geographies/ time zones\\nGood understanding of Digital Marketing, Campaign Measurement, Web Analytics\\nDesirable Qualifications:\\nProfessional experience working with R\\nProfessional experience working with Power BI, Cognos, Dash, Looker, Domo\\nProfessional experience in fraud analytics, customer journey, attribution modeling, churn modeling, predictive analytics, customer segmentation, feature creation, statistical testing, a/b testing, production curve modeling, NLP, and partner recommendations.\\nProfessional analytical consulting experience with clients in Retail, Finance, Travel, or Home and Business Services',\n",
       " 'Bidgely is looking for extraordinary and dynamic Data Scientists to be part of its core team in Bangalore. You must have delivered advanced statistical and machine learning models as part of commercial products and created substantial intellectual property with business impact. You must enjoy working with large data and finding interesting patterns in the data through analytics experiments in a methodical and data driven scientific way. Be part of a highly energetic and innovative team that believes nothing is impossible with some creativity and hard work.\\nResponsibilities\\nResearch and develop advanced statistical and machine learning models for analysis of large-scale, high-dimensional data.\\nDig deeper into data, understand characteristics of data, evaluate alternate models and validate hypothesis through theoretical and empirical approaches.\\nProductize proven or working models into production quality code.\\nCollaborate with product management, marketing and engineering teams in Business Units to elicit understand their requirements challenges and develop potential solutions\\nStay current with latest research and technology ideas; share knowledge by clearly articulating results and ideas to key decision makers.\\nFile patents for innovative solutions that add to company s IP portfolio\\nRequirements\\n4 to 6 years of strong experience in data mining, machine learning and statistical analysis.\\nBS/MS/PhD in Computer Science, Statistics, Applied Math, or related areas from Premier institutes (only IITs / IISc / BITS / Top NITs or top US university should apply)\\nExperience in productizing models to code in a fast-paced start-up environment.\\nExpertise in Python programming language and fluency in analytical tools such as Matlab, R, Weka etc.\\nStrong intuition for data and Keen aptitude on large scale data analysis\\nStrong communication and collaboration skills.',\n",
       " 'Roles and Responsibilities:\\n\\nWork as part of a product team in defining, prototyping and implementing data science models/algorithms as part of the product.\\nBe able to research and apply the latest Machine Learning architecture solutions that work for big data Batches and Streams.\\nBuild data expertise, act like an owner for the company and manage complex data systems for a product or a group of products.\\nDesigning, integrating and documenting technical components for data flows or applications that perform analysis at a massive scale.\\nAlong with project managers, own the business outcomes/metrics which the data science model/algorithm drives.\\nBuild large scale data systems that would work across multiple geographies\\nSolid understanding of the mathematics of ML - Probability, Statistics, Linear Algebra of Matrices, Modelling Hyperparameter tuning for speed of learning & model performance.\\nAbility to understand business concerns and formulate them as technical problems that can be solved using Data/Math/Stats/ML.\\nExperience working as part of a product team, along with engineers and product managers, to define the problem and execute the data science solution.\\n\\n\\nDesired Candidate Profile:\\n\\n4+ Years of Relevant Experience.\\nHands on experience of coding in Python and SQL (MySQL and Postgres)\\nHands-on experience of applying and tuning the following algos of data science in multiple verticles:\\nRecommendation Algos (Collaborative filtering, Content filtering (ALS etc.))\\nClassification and Regression Algos\\nMachine Learning Algos (XGBoost, Random Forest)\\nClustering Algos (KMeans)\\nDimensionality Reduction Algos (PCA)\\nExperience of coding in Pyspark and Scala\\nWorking knowledge of Airflow, Hadoop (HDFS) and Git\\nTuning of various performance matrix (for accuracy, precision, recall, F1 Score, AUC, ROC)\\nExperience in Deep Learning Algos (Neural Network)',\n",
       " 'Greetings from Onward Technologies!\\n\\nWe are Hiring for Data scientist for one of our prestigious Client.\\nPermanent Role.\\nJob description:\\nExp : 6 to 11years\\nLocation : Bangalore\\nNp : Max 15 to 30days\\n\\nPrimary Skill: Data science, Machine Learning,Structured Data Analysis',\n",
       " 'Roles and Responsibilities\\nJob Description\\nWhat You Will Do :Job Description: Senior Data Scientist\\nOur Analytics Services group has an open, full-time position in the Bangalore region for a Senior data scientist.  The senior data scientist will be working with our clients on new product development/ new solution development as well as improve on current solutions.\\nFunctional Responsibilities\\n        Develop strong statistical approaches to solution development. Candidate should be well versed in executing statistical models  on Regression, Ancova, Factor analysis, Cluster analysis, Text based mining, and similar modeling approaches.\\n        Evaluate model effectiveness and ability to translate the statistical requirements into excel based examples.\\nCandidate should be proficient in writing good code in Python, PySpark.\\n        Strong proficiency with manipulating big data with R , Python, SQL. A high comfort level with data manipulation and extraction of meaningful insights from large data and prior experience of working with large data is a plus. Experience with SAS is acceptable\\nCandidate should have good working knowledge on AI and ML and should have applied these techniques on some of their recent projects\\n        Being creative in identifying new techniques and processes to streamline and increase efficiency and effectiveness of current work-streams is a plus.\\n        High level of attention to detail and problem solving \\nProfessional requirement\\nPost graduate degree in Economics, MBA, Statistics, Mathematics, Operations Research, Quantitative Analysis, or related field\\n6-10 years of consolidated work experience in Analytic Industry.\\nStrong statistical and quantitative analysis skills. Knowledge of Statistical Analysis techniques which are used in Marketing analytics.\\nAdvanced knowledge of SQL and experience with statistical packages such as Python, Spark, PySpark, R. Experience with Oracles Exadata environment is a plus.\\nExcellent data interpretation skills. Experience in using charting/reporting\\nSkilled in MS-Office, specifically Excel and Powerpoint\\nShould have basic knowledge of market research & any specific knowledge on Retail and FMCG/CPG/Pharma industry will be an added advantage.\\nKnowledge on Retailer loyalty card data/Store transaction level data will be an added advantage.\\n\\n\\nDesired Candidate Profile\\nMust have skill: statistical modeling, pyspark, python\\nNP : we can accept max 60 days. 90 days NP please avoid',\n",
       " 'Role : Sr Data Scientist / Tech Lead - Data Science\\n\\nResponsibilities -\\nLead a team of data scientists, machine learning engineers and big data specialists\\nBe the main point of contact for the customers\\nLead data mining and collection procedures\\nEnsure data quality and integrity\\nInterpret and analyze data problems\\nConceive, plan and prioritize data projects\\nBuild analytic systems and predictive models\\nTest performance of data-driven products\\nVisualize data and create reports\\nExperiment with new models and techniques\\nAlign data projects with organizational goals\\n\\nRequirements (please read carefully)\\nVery strong in statistics fundamentals. Not all data is Big Data. The candidate should be able to derive statistical insights from very few data points if required, using traditional statistical methods.\\nEducation - no bar, but preferably from a Statistics academic background (eg MSc-Stats, MSc-Econometrics etc), given the first point. Any Relevant Graduate (BE/B Tech, MCA Prefer)\\nStrong expertise in Python (any other statistical languages/tools like R, SAS, SPSS etc are just optional, but Python is absolutely essential). If the person is very strong in Python, but has almost nil knowledge in the other statistical tools, he/she will still be considered a good candidate for this role.\\nProven experience as a Data Scientist or similar role, for about 7-8 years\\nSolid understanding of machine learning and AI concepts, especially wrt choice of apt candidate algorithms for a use case, and model evaluation.\\nGood expertise in writing SQL queries (should not be dependent upon anyone else for pulling in data, joining them, data wrangling etc)\\nKnowledge of data management and visualization techniques -- more from a Data Science perspective.\\nShould be able to grasp business problems, ask the right questions to better understand the problem breadthwise /depthwise, design apt solutions, and explain that to the business stakeholders.\\n\\nWork Experience Required: 6-9 yrs.',\n",
       " 'Key Requirements:\\n• Data-oriented personality\\n• Good applied statistics skills, such as distributions, statistical testing, regression, etc.\\nExperience with Deep Learning, BERT, Transformer, LSTM, RNN, Text Classification, Clustering.\\n• At least 2 - 9 years of experience using statistical computer languages (R, Python, SLQ, etc.) to manipulate data and draw insights from large data sets.\\n\\n• Experience working with and creating data architectures, data management, data analysis and data extraction\\n\\n• Knowledge of a variety of machine learning techniques (clustering, decision tree learning, artificial neural networks, etc.) and their real-world advantages/drawbacks.\\n\\n• Knowledge of advanced statistical techniques and concepts (regression, properties of distributions, statistical tests and proper usage, etc.) and experience with applications.\\n\\n• Ability to grasp nuances of business quickly.\\n\\n• Ability to problem solve and break down the complex problem into solvable pieces.\\n\\n• Ability to deliver quick and accurate results for each analysis/task\\n\\n• Ability to do work within tight timelines\\n\\nThe ideal candidate should constantly stays on top of the industry’s trends, in order to provide forward-thinking recommendations to the business. In this capacity, the candidate will strive to build an in-depth understanding of the problem domain and available business data assets, especially those pertaining to strategic initiatives and value-based programs.\\n\\nThe idea candidate would identify the data the business should be collecting, devises methods of instrumenting the business’s system in order to extract this information and work with other data and analytics departments to develop the processes that transform raw data into actionable business insights and will also mentor supporting personnel for this position, continuously ensuring effective execution of duties at this junior level.',\n",
       " 'Hiring for B2B saas product companies across Pan INDIA\\n\\nSkills And Experience :\\n\\n- Masters in a Computer Science, Artificial Intelligence, Machine Learning, or related technical field) or Ph.D. preferred\\n\\n- 7+ years of experience in data science roles\\n\\n- Experience in applied machine learning or artificial intelligence\\n\\n- Experience with predictive modeling (classification, regression, parameter tuning, optimization criteria, feature selection), preferably with multiple techniques is a requirement.\\n\\n- Experience applying modern machine learning techniques\\n\\n- Experience with one or more general-purpose programming languages (Python, Java, or C/C++)\\n\\n- Experience advising a team on innovative methodologies, data science tools, and environments on machine learning and data modeling applications.\\n\\nRequirements:\\n\\n- Frameworks - TensorFlow, PyTorch, etc\\n\\n- Cloud platforms and Big Data domains is a plus (e.g. Hadoop, Spark, AWS, GCP, MS Azure)\\n\\n- working with Geospatial data is a plus',\n",
       " 'Engagement and collaboration with globally deployed, multi-disciplinary teams to design and implement efficient, well-focused, statistically fit-for-purpose studies, analyse, visualize and interpret data, build and validate models and simulations.\\nWork primarily with Biology teams to design experiments, carry out multi-omics data analysis. Should have sound working knowledge of cheminformatics, microbiomics and network biology.\\nBuild mathematical and statistical models biological and other related datasets. Application of ML/AI techniques, deep learning methods and network science to drive innovations in biology/non-biology dataset including image data.\\nBuild capabilities to be democratized and carry-out upskilling sessions to non-experts.\\nShould work in inter-disciplinary teams that will include product formulators, process/packaging engineers, clinicians, measurement scientists, bio-informaticians, claim experts, and other data scientists, both internal to the company and external partners.\\nDemonstrate agility by extending the analytics application beyond biology dataset.\\nCandidate must be able to communicate the analytical results and insights effectively with the program manager and senior management.',\n",
       " 'Dynamic recruiting professional with 7 - 10 years of high-performance tech recruiting experience with search firms and /or mid-large-sized technology companies.\\nExperience in engaging and hiring the best talent for Data Engineers, Data Scientist and SAP\\nOpen to learning from your peers managers, anything that helps you do your job better day in day out also often share best practices in hiring talent attraction strategies with them.\\nWork well with teams as also on your own as a high-impact individual contributor.\\nUse social media, job boards, Internet sourcing, and other technical means to source candidates for open jobs.\\nUnderstanding of modern recruiting methods like hackathons but are equally comfortable with old school methods as well.\\nWork with internal technology teams and hiring managers to assist with recruitment efforts across levels.\\nWork in sync with the company-wide recruitment strategy. This may include job posting optimization, recruiting marketing channel development, search selection using job boards, digital and non-digital employment marketing, comprehensive recruitment campaign planning, talent planning, stakeholder management, etc.\\nIdentify and source appropriate talent for current open roles within the organization using traditional non-traditional means of recruiting.\\nProactively develop talent pools/talent communities to dip into when hiring is in full swing.\\nManage the end-to-end recruitment process and life-cycle, including sourcing, initial assessments, telephonic personal interviews culminating in offers maintaining the appropriate MIS.',\n",
       " 'We are a team of applied scientists working on machine learning components in the whole sponsored search stack. Our team works on problems related to machine learning, deep learning, natural language processing, image understanding, optimization, information retrieval, auction theory, among others. Our work entails building large-scale machine learning systems for ad matching, filtration, ranking, and multiobjective optimization, and a number of other ML-driven business problems.\\nYou will design, implement, analyze, tune complex algorithms and ML systems and the supporting infrastructure for operating on large datasets. You will collaborate with top machine learning scientists and engineers in delivering direct business impact. Were looking for sound understanding and insight into productionizing machine learning models in large-scale systems, an ability to pick up new technical areas, as well as a commitment to developing, delivering, and supporting algorithms in production.\\nQualifications :\\nMS/BS in CS/EE, mathematical or machine learning related disciplines, with 3 or more years of experience\\nSolid understanding of probability, statistics, machine learning, data science\\nA/B testing analysis of ML models, and optimizing models for accuracy\\nExperience with Hadoop, Spark, or other distributed computing systems for large-scale training prediction with ML models.\\nEnd-to-end system design: data analysis, feature engineering, technique selection implementation, debugging, and maintenance in production.\\nExperience implementing machine learning algorithms or research papers from scratch.']"
      ]
     },
     "execution_count": 16,
     "metadata": {},
     "output_type": "execute_result"
    }
   ],
   "source": [
    "job_desc=[]\n",
    "for i in job_opening_urls:\n",
    "    driver1.get(i)\n",
    "    try:\n",
    "        description=driver1.find_element_by_xpath(\"//div[@class='dang-inner-html']\")\n",
    "        job_desc.append(description.text)\n",
    "    except:\n",
    "        pass\n",
    "job_desc"
   ]
  },
  {
   "cell_type": "code",
   "execution_count": 17,
   "metadata": {},
   "outputs": [
    {
     "name": "stdout",
     "output_type": "stream",
     "text": [
      "17 17 17 17\n"
     ]
    }
   ],
   "source": [
    "print(len(job_titles1),len(company_titles1),len(location1),len(job_desc))"
   ]
  },
  {
   "cell_type": "code",
   "execution_count": 18,
   "metadata": {},
   "outputs": [],
   "source": [
    "jobs1=pd.DataFrame({})\n",
    "jobs1['Title']=job_titles1\n",
    "jobs1['Company']=company_titles1\n",
    "jobs1['Location']=location1\n",
    "jobs1['Job_Description']=job_desc"
   ]
  },
  {
   "cell_type": "code",
   "execution_count": 19,
   "metadata": {},
   "outputs": [
    {
     "data": {
      "text/html": [
       "<div>\n",
       "<style scoped>\n",
       "    .dataframe tbody tr th:only-of-type {\n",
       "        vertical-align: middle;\n",
       "    }\n",
       "\n",
       "    .dataframe tbody tr th {\n",
       "        vertical-align: top;\n",
       "    }\n",
       "\n",
       "    .dataframe thead th {\n",
       "        text-align: right;\n",
       "    }\n",
       "</style>\n",
       "<table border=\"1\" class=\"dataframe\">\n",
       "  <thead>\n",
       "    <tr style=\"text-align: right;\">\n",
       "      <th></th>\n",
       "      <th>Title</th>\n",
       "      <th>Company</th>\n",
       "      <th>Location</th>\n",
       "      <th>Job_Description</th>\n",
       "    </tr>\n",
       "  </thead>\n",
       "  <tbody>\n",
       "    <tr>\n",
       "      <th>0</th>\n",
       "      <td>Senior Data Scientist</td>\n",
       "      <td>Philips India Limited</td>\n",
       "      <td>Bangalore/Bengaluru</td>\n",
       "      <td>Be a part of the Enterprise IT , Information...</td>\n",
       "    </tr>\n",
       "    <tr>\n",
       "      <th>1</th>\n",
       "      <td>Senior Data Scientist</td>\n",
       "      <td>SYMBIOSIS International W.L.L</td>\n",
       "      <td>Bangalore/Bengaluru</td>\n",
       "      <td>Required Candidate profile\\nWe are looking for...</td>\n",
       "    </tr>\n",
       "    <tr>\n",
       "      <th>2</th>\n",
       "      <td>DATA SCIENTIST</td>\n",
       "      <td>McAfee Software (India) Pvt. Ltd</td>\n",
       "      <td>Bangalore/Bengaluru</td>\n",
       "      <td>Data Scientist Primary Location India, Bangalo...</td>\n",
       "    </tr>\n",
       "    <tr>\n",
       "      <th>3</th>\n",
       "      <td>Senior Data Scientist</td>\n",
       "      <td>Datamatics Global Services Ltd</td>\n",
       "      <td>Bangalore/Bengaluru</td>\n",
       "      <td>Roles and Responsibilities\\n\\nDetails in lined...</td>\n",
       "    </tr>\n",
       "    <tr>\n",
       "      <th>4</th>\n",
       "      <td>Software Developer - Data Scientist / NLP / Ma...</td>\n",
       "      <td>Cunesoft India Private Limited</td>\n",
       "      <td>Bangalore/Bengaluru</td>\n",
       "      <td>Dear Candidates\\nWe are looking for a competen...</td>\n",
       "    </tr>\n",
       "    <tr>\n",
       "      <th>5</th>\n",
       "      <td>Data scientist</td>\n",
       "      <td>Uber</td>\n",
       "      <td>Bangalore/Bengaluru</td>\n",
       "      <td>About the role\\nWe are looking for skilled mot...</td>\n",
       "    </tr>\n",
       "    <tr>\n",
       "      <th>6</th>\n",
       "      <td>Senior Data Scientist</td>\n",
       "      <td>Publicis Groupe</td>\n",
       "      <td>Bangalore/Bengaluru</td>\n",
       "      <td>Work location: Bengaluru (Currently, Remote)\\n...</td>\n",
       "    </tr>\n",
       "    <tr>\n",
       "      <th>7</th>\n",
       "      <td>Senior Data Scientist</td>\n",
       "      <td>Bidgely Technologies Private Limited</td>\n",
       "      <td>Bangalore/Bengaluru</td>\n",
       "      <td>Bidgely is looking for extraordinary and dynam...</td>\n",
       "    </tr>\n",
       "    <tr>\n",
       "      <th>8</th>\n",
       "      <td>Senior Data Scientist</td>\n",
       "      <td>Goals 101 Data Solutions Pvt. Ltd.</td>\n",
       "      <td>New Delhi, Bangalore/Bengaluru, Delhi / NCR</td>\n",
       "      <td>Roles and Responsibilities:\\n\\nWork as part of...</td>\n",
       "    </tr>\n",
       "    <tr>\n",
       "      <th>9</th>\n",
       "      <td>Data Scientist - Permanent Role</td>\n",
       "      <td>Onward Technologies Limited</td>\n",
       "      <td>Hyderabad/Secunderabad, Chennai, Bangalore/Ben...</td>\n",
       "      <td>Greetings from Onward Technologies!\\n\\nWe are ...</td>\n",
       "    </tr>\n",
       "    <tr>\n",
       "      <th>10</th>\n",
       "      <td>Senior Data Scientist</td>\n",
       "      <td>RANDSTAD INDIA PVT LTD</td>\n",
       "      <td>Bangalore/Bengaluru</td>\n",
       "      <td>Roles and Responsibilities\\nJob Description\\nW...</td>\n",
       "    </tr>\n",
       "    <tr>\n",
       "      <th>11</th>\n",
       "      <td>Sr. Data Scientist / Tech Lead - Data Science</td>\n",
       "      <td>Confidential</td>\n",
       "      <td>Bangalore/Bengaluru</td>\n",
       "      <td>Role : Sr Data Scientist / Tech Lead - Data Sc...</td>\n",
       "    </tr>\n",
       "    <tr>\n",
       "      <th>12</th>\n",
       "      <td>Senior Data Scientist</td>\n",
       "      <td>L A Consultancy</td>\n",
       "      <td>Kochi/Cochin, Hyderabad/Secunderabad, Pune, Ch...</td>\n",
       "      <td>Key Requirements:\\n• Data-oriented personality...</td>\n",
       "    </tr>\n",
       "    <tr>\n",
       "      <th>13</th>\n",
       "      <td>Lead Data Scientist - Tensorflow/Machine Learning</td>\n",
       "      <td>Getinz Techno Services</td>\n",
       "      <td>Mumbai, Hyderabad/Secunderabad, Chennai, Banga...</td>\n",
       "      <td>Hiring for B2B saas product companies across P...</td>\n",
       "    </tr>\n",
       "    <tr>\n",
       "      <th>14</th>\n",
       "      <td>Associate Data Scientist</td>\n",
       "      <td>ExecBoardinAsia</td>\n",
       "      <td>Bangalore/Bengaluru</td>\n",
       "      <td>Engagement and collaboration with globally dep...</td>\n",
       "    </tr>\n",
       "    <tr>\n",
       "      <th>15</th>\n",
       "      <td>Data Engineers , Data Scientist and SAP</td>\n",
       "      <td>Teamware Solutions</td>\n",
       "      <td>Bangalore/Bengaluru</td>\n",
       "      <td>Dynamic recruiting professional with 7 - 10 ye...</td>\n",
       "    </tr>\n",
       "    <tr>\n",
       "      <th>16</th>\n",
       "      <td>Senior Data &amp; Applied Scientist</td>\n",
       "      <td>Microsoft Corporation</td>\n",
       "      <td>Bangalore/Bengaluru</td>\n",
       "      <td>We are a team of applied scientists working on...</td>\n",
       "    </tr>\n",
       "  </tbody>\n",
       "</table>\n",
       "</div>"
      ],
      "text/plain": [
       "                                                Title  \\\n",
       "0                               Senior Data Scientist   \n",
       "1                               Senior Data Scientist   \n",
       "2                                      DATA SCIENTIST   \n",
       "3                               Senior Data Scientist   \n",
       "4   Software Developer - Data Scientist / NLP / Ma...   \n",
       "5                                      Data scientist   \n",
       "6                               Senior Data Scientist   \n",
       "7                               Senior Data Scientist   \n",
       "8                               Senior Data Scientist   \n",
       "9                     Data Scientist - Permanent Role   \n",
       "10                              Senior Data Scientist   \n",
       "11      Sr. Data Scientist / Tech Lead - Data Science   \n",
       "12                              Senior Data Scientist   \n",
       "13  Lead Data Scientist - Tensorflow/Machine Learning   \n",
       "14                           Associate Data Scientist   \n",
       "15            Data Engineers , Data Scientist and SAP   \n",
       "16                    Senior Data & Applied Scientist   \n",
       "\n",
       "                                 Company  \\\n",
       "0                  Philips India Limited   \n",
       "1          SYMBIOSIS International W.L.L   \n",
       "2       McAfee Software (India) Pvt. Ltd   \n",
       "3         Datamatics Global Services Ltd   \n",
       "4         Cunesoft India Private Limited   \n",
       "5                                   Uber   \n",
       "6                        Publicis Groupe   \n",
       "7   Bidgely Technologies Private Limited   \n",
       "8     Goals 101 Data Solutions Pvt. Ltd.   \n",
       "9            Onward Technologies Limited   \n",
       "10                RANDSTAD INDIA PVT LTD   \n",
       "11                          Confidential   \n",
       "12                       L A Consultancy   \n",
       "13                Getinz Techno Services   \n",
       "14                       ExecBoardinAsia   \n",
       "15                    Teamware Solutions   \n",
       "16                 Microsoft Corporation   \n",
       "\n",
       "                                             Location  \\\n",
       "0                                 Bangalore/Bengaluru   \n",
       "1                                 Bangalore/Bengaluru   \n",
       "2                                 Bangalore/Bengaluru   \n",
       "3                                 Bangalore/Bengaluru   \n",
       "4                                 Bangalore/Bengaluru   \n",
       "5                                 Bangalore/Bengaluru   \n",
       "6                                 Bangalore/Bengaluru   \n",
       "7                                 Bangalore/Bengaluru   \n",
       "8         New Delhi, Bangalore/Bengaluru, Delhi / NCR   \n",
       "9   Hyderabad/Secunderabad, Chennai, Bangalore/Ben...   \n",
       "10                                Bangalore/Bengaluru   \n",
       "11                                Bangalore/Bengaluru   \n",
       "12  Kochi/Cochin, Hyderabad/Secunderabad, Pune, Ch...   \n",
       "13  Mumbai, Hyderabad/Secunderabad, Chennai, Banga...   \n",
       "14                                Bangalore/Bengaluru   \n",
       "15                                Bangalore/Bengaluru   \n",
       "16                                Bangalore/Bengaluru   \n",
       "\n",
       "                                      Job_Description  \n",
       "0     Be a part of the Enterprise IT , Information...  \n",
       "1   Required Candidate profile\\nWe are looking for...  \n",
       "2   Data Scientist Primary Location India, Bangalo...  \n",
       "3   Roles and Responsibilities\\n\\nDetails in lined...  \n",
       "4   Dear Candidates\\nWe are looking for a competen...  \n",
       "5   About the role\\nWe are looking for skilled mot...  \n",
       "6   Work location: Bengaluru (Currently, Remote)\\n...  \n",
       "7   Bidgely is looking for extraordinary and dynam...  \n",
       "8   Roles and Responsibilities:\\n\\nWork as part of...  \n",
       "9   Greetings from Onward Technologies!\\n\\nWe are ...  \n",
       "10  Roles and Responsibilities\\nJob Description\\nW...  \n",
       "11  Role : Sr Data Scientist / Tech Lead - Data Sc...  \n",
       "12  Key Requirements:\\n• Data-oriented personality...  \n",
       "13  Hiring for B2B saas product companies across P...  \n",
       "14  Engagement and collaboration with globally dep...  \n",
       "15  Dynamic recruiting professional with 7 - 10 ye...  \n",
       "16  We are a team of applied scientists working on...  "
      ]
     },
     "execution_count": 19,
     "metadata": {},
     "output_type": "execute_result"
    }
   ],
   "source": [
    "jobs1"
   ]
  },
  {
   "cell_type": "markdown",
   "metadata": {},
   "source": [
    "# Q3"
   ]
  },
  {
   "cell_type": "code",
   "execution_count": 45,
   "metadata": {},
   "outputs": [],
   "source": [
    "driver2=webdriver.Chrome(r'C:\\Users\\delkl\\Downloads\\chromedriver.exe')"
   ]
  },
  {
   "cell_type": "code",
   "execution_count": 46,
   "metadata": {},
   "outputs": [],
   "source": [
    "url2='https://www.naukri.com/'\n",
    "driver2.get(url2)"
   ]
  },
  {
   "cell_type": "code",
   "execution_count": 47,
   "metadata": {},
   "outputs": [
    {
     "data": {
      "text/plain": [
       "<selenium.webdriver.remote.webelement.WebElement (session=\"84840180aebac93f5d8ab43f5f727cff\", element=\"46ec1526-5507-4a61-b44c-6e3080fe4829\")>"
      ]
     },
     "execution_count": 47,
     "metadata": {},
     "output_type": "execute_result"
    }
   ],
   "source": [
    "search_job2=driver2.find_element_by_id('qsb-keyword-sugg')\n",
    "search_job2"
   ]
  },
  {
   "cell_type": "code",
   "execution_count": 48,
   "metadata": {},
   "outputs": [],
   "source": [
    "search_job2.send_keys('Data Scientist')"
   ]
  },
  {
   "cell_type": "code",
   "execution_count": 49,
   "metadata": {},
   "outputs": [],
   "source": [
    "search_btn2=driver2.find_element_by_xpath(\"//button[@class='btn']\")\n",
    "search_btn2.click()"
   ]
  },
  {
   "cell_type": "code",
   "execution_count": 56,
   "metadata": {},
   "outputs": [],
   "source": [
    "location_filter=driver2.find_element_by_xpath(\"/html/body/div[1]/div[3]/div[2]/section[1]/div[2]/div[3]/div[2]/div[3]/label/i\")\n",
    "location_filter.click()"
   ]
  },
  {
   "cell_type": "code",
   "execution_count": 57,
   "metadata": {},
   "outputs": [],
   "source": [
    "salary_filter=driver2.find_element_by_xpath(\"/html/body/div[1]/div[3]/div[2]/section[1]/div[2]/div[4]/div[2]/div[2]/label/i\")\n",
    "salary_filter.click()"
   ]
  },
  {
   "cell_type": "code",
   "execution_count": 58,
   "metadata": {},
   "outputs": [
    {
     "data": {
      "text/plain": [
       "[<selenium.webdriver.remote.webelement.WebElement (session=\"84840180aebac93f5d8ab43f5f727cff\", element=\"c11a557b-ea37-4bbd-bd03-7663e5dcd4e8\")>,\n",
       " <selenium.webdriver.remote.webelement.WebElement (session=\"84840180aebac93f5d8ab43f5f727cff\", element=\"e08bab08-9603-478a-8345-4e5353a9172c\")>,\n",
       " <selenium.webdriver.remote.webelement.WebElement (session=\"84840180aebac93f5d8ab43f5f727cff\", element=\"67063922-6560-4c14-b901-0e81a2dd3c05\")>,\n",
       " <selenium.webdriver.remote.webelement.WebElement (session=\"84840180aebac93f5d8ab43f5f727cff\", element=\"6024c652-8caf-4cd5-a1b8-3f272fc8be20\")>,\n",
       " <selenium.webdriver.remote.webelement.WebElement (session=\"84840180aebac93f5d8ab43f5f727cff\", element=\"2f7944bb-d1ef-45a6-80e3-cf9b1ec2ba47\")>,\n",
       " <selenium.webdriver.remote.webelement.WebElement (session=\"84840180aebac93f5d8ab43f5f727cff\", element=\"4c153467-aa5f-45c3-92f9-273f226104bf\")>,\n",
       " <selenium.webdriver.remote.webelement.WebElement (session=\"84840180aebac93f5d8ab43f5f727cff\", element=\"be3d88fe-0b7c-40b3-bce6-3a80a2842a36\")>,\n",
       " <selenium.webdriver.remote.webelement.WebElement (session=\"84840180aebac93f5d8ab43f5f727cff\", element=\"dad1b38b-e7e4-4370-8ed4-d7c18482242c\")>,\n",
       " <selenium.webdriver.remote.webelement.WebElement (session=\"84840180aebac93f5d8ab43f5f727cff\", element=\"ff9dbb48-1467-4301-98c2-af6f25dd591f\")>,\n",
       " <selenium.webdriver.remote.webelement.WebElement (session=\"84840180aebac93f5d8ab43f5f727cff\", element=\"b1455590-786d-4172-9e95-5cf0031ea809\")>,\n",
       " <selenium.webdriver.remote.webelement.WebElement (session=\"84840180aebac93f5d8ab43f5f727cff\", element=\"9a68ee90-a78e-4f34-bc8b-a82cbbbfcf6e\")>,\n",
       " <selenium.webdriver.remote.webelement.WebElement (session=\"84840180aebac93f5d8ab43f5f727cff\", element=\"9ac56406-9e7f-492b-970f-81c5d3cc5445\")>,\n",
       " <selenium.webdriver.remote.webelement.WebElement (session=\"84840180aebac93f5d8ab43f5f727cff\", element=\"31428a9d-1558-4864-9a27-4816dccad74f\")>,\n",
       " <selenium.webdriver.remote.webelement.WebElement (session=\"84840180aebac93f5d8ab43f5f727cff\", element=\"fc2172a6-a497-4769-9071-015fefb0e960\")>,\n",
       " <selenium.webdriver.remote.webelement.WebElement (session=\"84840180aebac93f5d8ab43f5f727cff\", element=\"994956cb-0b8e-4d99-b054-b283131b3022\")>,\n",
       " <selenium.webdriver.remote.webelement.WebElement (session=\"84840180aebac93f5d8ab43f5f727cff\", element=\"0344a2a7-b532-4b78-add2-98142f004d8b\")>,\n",
       " <selenium.webdriver.remote.webelement.WebElement (session=\"84840180aebac93f5d8ab43f5f727cff\", element=\"cdf99ed4-a864-423d-ace2-5088e43a1e62\")>,\n",
       " <selenium.webdriver.remote.webelement.WebElement (session=\"84840180aebac93f5d8ab43f5f727cff\", element=\"fa506ddb-04e8-40f7-81f4-a49a8401c127\")>,\n",
       " <selenium.webdriver.remote.webelement.WebElement (session=\"84840180aebac93f5d8ab43f5f727cff\", element=\"3e5e7865-cb0e-4f2a-9aa8-dfc308747ec7\")>,\n",
       " <selenium.webdriver.remote.webelement.WebElement (session=\"84840180aebac93f5d8ab43f5f727cff\", element=\"3826201e-a985-44b6-8506-ba031b4ab102\")>]"
      ]
     },
     "execution_count": 58,
     "metadata": {},
     "output_type": "execute_result"
    }
   ],
   "source": [
    "titles_tags2=driver2.find_elements_by_xpath(\"//a[@class='title fw500 ellipsis']\")\n",
    "titles_tags2"
   ]
  },
  {
   "cell_type": "code",
   "execution_count": 59,
   "metadata": {},
   "outputs": [
    {
     "data": {
      "text/plain": [
       "['Data Scientist',\n",
       " 'Data Scientist',\n",
       " 'Team Leader Operations',\n",
       " 'Data Analyst',\n",
       " 'Consultant/Decision Scientist',\n",
       " 'Data Analyst',\n",
       " 'Associate Data Analyst',\n",
       " 'Associate Big Data Engineer',\n",
       " 'Python Developer',\n",
       " 'Data Analyst',\n",
       " 'Associate - Analytics For a leading Marketing Agency',\n",
       " 'Data Analyst/ Exp. min 1 yr/ Gurgaon-MNC',\n",
       " 'Looking For Python Developer Under TeamLease Payroll',\n",
       " 'Data Analyst - Business Intelligence',\n",
       " 'Data Analyst For a leading IT-Software firm',\n",
       " 'Python Developer (WFH) Part Time/ Full Time',\n",
       " 'Looking For Data Analyst (SQL) For Gurgaon Location',\n",
       " 'Looking For Data Analyst (SQL) For Gurgaon Location',\n",
       " 'Python Developer',\n",
       " 'Senior Data Analyst- VBA, Macros & Advanced Excel']"
      ]
     },
     "execution_count": 59,
     "metadata": {},
     "output_type": "execute_result"
    }
   ],
   "source": [
    "job_titles2=[]\n",
    "for i in titles_tags2:\n",
    "    job_titles2.append(i.text)\n",
    "job_titles2"
   ]
  },
  {
   "cell_type": "code",
   "execution_count": 60,
   "metadata": {},
   "outputs": [
    {
     "data": {
      "text/plain": [
       "['UrbanClap',\n",
       " 'Shadowfax Technologies Pvt. Ltd.',\n",
       " 'Optimint Solutions Pvt. Ltd.',\n",
       " 'IB Monotaro Private Limited',\n",
       " 'Fractal Analytics',\n",
       " 'Targray',\n",
       " 'Weatherbug',\n",
       " 'NITS Solutions',\n",
       " 'CYFUTURE INDIA PRIVATE LIMITED',\n",
       " 'HEALTH ARX TECHNOLOGIES PRIVATE LIMITED',\n",
       " 'MYFUTUREAPP',\n",
       " 'Stemford India Pvt. Ltd.',\n",
       " 'TeamLease Services Ltd.',\n",
       " 'Fa Gifts',\n",
       " 'MYFUTUREAPP',\n",
       " 'Freelancer Rupal Shrimal',\n",
       " 'LIQUIDHUB ANALYTICS PRIVATE LIMITED',\n",
       " 'LIQUIDHUB ANALYTICS PRIVATE LIMITED',\n",
       " 'Jobmygoal Technology',\n",
       " 'UnitedLex BPO Private Limited']"
      ]
     },
     "execution_count": 60,
     "metadata": {},
     "output_type": "execute_result"
    }
   ],
   "source": [
    "companies_tags2=driver2.find_elements_by_xpath(\"//a[@class='subTitle ellipsis fleft']\")\n",
    "company_titles2=[]\n",
    "for i in companies_tags2:\n",
    "    company_titles2.append(i.text)\n",
    "company_titles2"
   ]
  },
  {
   "cell_type": "code",
   "execution_count": 62,
   "metadata": {},
   "outputs": [
    {
     "data": {
      "text/plain": [
       "['1-3 Yrs',\n",
       " '1-3 Yrs',\n",
       " '2-5 Yrs',\n",
       " '1-3 Yrs',\n",
       " '2-4 Yrs',\n",
       " '1-4 Yrs',\n",
       " '1-3 Yrs',\n",
       " '2-5 Yrs',\n",
       " '1-4 Yrs',\n",
       " '2-5 Yrs',\n",
       " '0-1 Yrs',\n",
       " '1-3 Yrs',\n",
       " '2-6 Yrs',\n",
       " '2-7 Yrs',\n",
       " '1-2 Yrs',\n",
       " '2-5 Yrs',\n",
       " '1-3 Yrs',\n",
       " '1-3 Yrs',\n",
       " '2-3 Yrs',\n",
       " '1-4 Yrs']"
      ]
     },
     "execution_count": 62,
     "metadata": {},
     "output_type": "execute_result"
    }
   ],
   "source": [
    "experience_tags2=driver2.find_elements_by_xpath(\"//li[@class='fleft grey-text br2 placeHolderLi experience']//span\")\n",
    "experience2=[]\n",
    "for i in experience_tags2:\n",
    "    experience2.append(i.text)\n",
    "experience2"
   ]
  },
  {
   "cell_type": "code",
   "execution_count": 63,
   "metadata": {},
   "outputs": [
    {
     "data": {
      "text/plain": [
       "['Gurgaon/Gurugram, Bangalore/Bengaluru',\n",
       " 'Gurgaon/Gurugram',\n",
       " 'New Delhi, Gurgaon/Gurugram',\n",
       " 'Delhi / NCR(Ghitorni)',\n",
       " 'Mumbai, Gurgaon/Gurugram, Bangalore/Bengaluru',\n",
       " 'Gurgaon/Gurugram',\n",
       " 'Gurgaon/Gurugram',\n",
       " 'Gurgaon/Gurugram',\n",
       " 'Noida(NSEZ)',\n",
       " 'Delhi / NCR',\n",
       " 'Noida, Ghaziabad, Faridabad, Gurgaon/Gurugram, Greater Noida, Delhi / NCR',\n",
       " 'Gurgaon/Gurugram',\n",
       " 'Gurgaon/Gurugram, Manesar',\n",
       " 'Gurgaon/Gurugram',\n",
       " 'Noida, Ghaziabad, Faridabad, Gurgaon/Gurugram, Greater Noida, Delhi / NCR',\n",
       " 'Bangalore/Bengaluru, Delhi / NCR, work from home',\n",
       " 'New Delhi, Delhi / NCR',\n",
       " 'New Delhi, Delhi / NCR',\n",
       " 'Gurgaon/Gurugram',\n",
       " 'Gurgaon/Gurugram']"
      ]
     },
     "execution_count": 63,
     "metadata": {},
     "output_type": "execute_result"
    }
   ],
   "source": [
    "location_tags2=driver2.find_elements_by_xpath(\"//li[@class='fleft grey-text br2 placeHolderLi location']//span[1]\")\n",
    "location2=[]\n",
    "for i in location_tags2:\n",
    "    location2.append(i.text)\n",
    "location2"
   ]
  },
  {
   "cell_type": "code",
   "execution_count": 64,
   "metadata": {},
   "outputs": [],
   "source": [
    "jobs2=pd.DataFrame({})\n",
    "jobs2['Title']=job_titles2\n",
    "jobs2['Company']=company_titles2\n",
    "jobs2['experienceRequired']=experience2\n",
    "jobs2['Location']=location2"
   ]
  },
  {
   "cell_type": "code",
   "execution_count": 65,
   "metadata": {},
   "outputs": [
    {
     "data": {
      "text/html": [
       "<div>\n",
       "<style scoped>\n",
       "    .dataframe tbody tr th:only-of-type {\n",
       "        vertical-align: middle;\n",
       "    }\n",
       "\n",
       "    .dataframe tbody tr th {\n",
       "        vertical-align: top;\n",
       "    }\n",
       "\n",
       "    .dataframe thead th {\n",
       "        text-align: right;\n",
       "    }\n",
       "</style>\n",
       "<table border=\"1\" class=\"dataframe\">\n",
       "  <thead>\n",
       "    <tr style=\"text-align: right;\">\n",
       "      <th></th>\n",
       "      <th>Title</th>\n",
       "      <th>Company</th>\n",
       "      <th>experienceRequired</th>\n",
       "      <th>Location</th>\n",
       "    </tr>\n",
       "  </thead>\n",
       "  <tbody>\n",
       "    <tr>\n",
       "      <th>0</th>\n",
       "      <td>Data Scientist</td>\n",
       "      <td>UrbanClap</td>\n",
       "      <td>1-3 Yrs</td>\n",
       "      <td>Gurgaon/Gurugram, Bangalore/Bengaluru</td>\n",
       "    </tr>\n",
       "    <tr>\n",
       "      <th>1</th>\n",
       "      <td>Data Scientist</td>\n",
       "      <td>Shadowfax Technologies Pvt. Ltd.</td>\n",
       "      <td>1-3 Yrs</td>\n",
       "      <td>Gurgaon/Gurugram</td>\n",
       "    </tr>\n",
       "    <tr>\n",
       "      <th>2</th>\n",
       "      <td>Team Leader Operations</td>\n",
       "      <td>Optimint Solutions Pvt. Ltd.</td>\n",
       "      <td>2-5 Yrs</td>\n",
       "      <td>New Delhi, Gurgaon/Gurugram</td>\n",
       "    </tr>\n",
       "    <tr>\n",
       "      <th>3</th>\n",
       "      <td>Data Analyst</td>\n",
       "      <td>IB Monotaro Private Limited</td>\n",
       "      <td>1-3 Yrs</td>\n",
       "      <td>Delhi / NCR(Ghitorni)</td>\n",
       "    </tr>\n",
       "    <tr>\n",
       "      <th>4</th>\n",
       "      <td>Consultant/Decision Scientist</td>\n",
       "      <td>Fractal Analytics</td>\n",
       "      <td>2-4 Yrs</td>\n",
       "      <td>Mumbai, Gurgaon/Gurugram, Bangalore/Bengaluru</td>\n",
       "    </tr>\n",
       "    <tr>\n",
       "      <th>5</th>\n",
       "      <td>Data Analyst</td>\n",
       "      <td>Targray</td>\n",
       "      <td>1-4 Yrs</td>\n",
       "      <td>Gurgaon/Gurugram</td>\n",
       "    </tr>\n",
       "    <tr>\n",
       "      <th>6</th>\n",
       "      <td>Associate Data Analyst</td>\n",
       "      <td>Weatherbug</td>\n",
       "      <td>1-3 Yrs</td>\n",
       "      <td>Gurgaon/Gurugram</td>\n",
       "    </tr>\n",
       "    <tr>\n",
       "      <th>7</th>\n",
       "      <td>Associate Big Data Engineer</td>\n",
       "      <td>NITS Solutions</td>\n",
       "      <td>2-5 Yrs</td>\n",
       "      <td>Gurgaon/Gurugram</td>\n",
       "    </tr>\n",
       "    <tr>\n",
       "      <th>8</th>\n",
       "      <td>Python Developer</td>\n",
       "      <td>CYFUTURE INDIA PRIVATE LIMITED</td>\n",
       "      <td>1-4 Yrs</td>\n",
       "      <td>Noida(NSEZ)</td>\n",
       "    </tr>\n",
       "    <tr>\n",
       "      <th>9</th>\n",
       "      <td>Data Analyst</td>\n",
       "      <td>HEALTH ARX TECHNOLOGIES PRIVATE LIMITED</td>\n",
       "      <td>2-5 Yrs</td>\n",
       "      <td>Delhi / NCR</td>\n",
       "    </tr>\n",
       "    <tr>\n",
       "      <th>10</th>\n",
       "      <td>Associate - Analytics For a leading Marketing ...</td>\n",
       "      <td>MYFUTUREAPP</td>\n",
       "      <td>0-1 Yrs</td>\n",
       "      <td>Noida, Ghaziabad, Faridabad, Gurgaon/Gurugram,...</td>\n",
       "    </tr>\n",
       "    <tr>\n",
       "      <th>11</th>\n",
       "      <td>Data Analyst/ Exp. min 1 yr/ Gurgaon-MNC</td>\n",
       "      <td>Stemford India Pvt. Ltd.</td>\n",
       "      <td>1-3 Yrs</td>\n",
       "      <td>Gurgaon/Gurugram</td>\n",
       "    </tr>\n",
       "    <tr>\n",
       "      <th>12</th>\n",
       "      <td>Looking For Python Developer Under TeamLease P...</td>\n",
       "      <td>TeamLease Services Ltd.</td>\n",
       "      <td>2-6 Yrs</td>\n",
       "      <td>Gurgaon/Gurugram, Manesar</td>\n",
       "    </tr>\n",
       "    <tr>\n",
       "      <th>13</th>\n",
       "      <td>Data Analyst - Business Intelligence</td>\n",
       "      <td>Fa Gifts</td>\n",
       "      <td>2-7 Yrs</td>\n",
       "      <td>Gurgaon/Gurugram</td>\n",
       "    </tr>\n",
       "    <tr>\n",
       "      <th>14</th>\n",
       "      <td>Data Analyst For a leading IT-Software firm</td>\n",
       "      <td>MYFUTUREAPP</td>\n",
       "      <td>1-2 Yrs</td>\n",
       "      <td>Noida, Ghaziabad, Faridabad, Gurgaon/Gurugram,...</td>\n",
       "    </tr>\n",
       "    <tr>\n",
       "      <th>15</th>\n",
       "      <td>Python Developer (WFH) Part Time/ Full Time</td>\n",
       "      <td>Freelancer Rupal Shrimal</td>\n",
       "      <td>2-5 Yrs</td>\n",
       "      <td>Bangalore/Bengaluru, Delhi / NCR, work from home</td>\n",
       "    </tr>\n",
       "    <tr>\n",
       "      <th>16</th>\n",
       "      <td>Looking For Data Analyst (SQL) For Gurgaon Loc...</td>\n",
       "      <td>LIQUIDHUB ANALYTICS PRIVATE LIMITED</td>\n",
       "      <td>1-3 Yrs</td>\n",
       "      <td>New Delhi, Delhi / NCR</td>\n",
       "    </tr>\n",
       "    <tr>\n",
       "      <th>17</th>\n",
       "      <td>Looking For Data Analyst (SQL) For Gurgaon Loc...</td>\n",
       "      <td>LIQUIDHUB ANALYTICS PRIVATE LIMITED</td>\n",
       "      <td>1-3 Yrs</td>\n",
       "      <td>New Delhi, Delhi / NCR</td>\n",
       "    </tr>\n",
       "    <tr>\n",
       "      <th>18</th>\n",
       "      <td>Python Developer</td>\n",
       "      <td>Jobmygoal Technology</td>\n",
       "      <td>2-3 Yrs</td>\n",
       "      <td>Gurgaon/Gurugram</td>\n",
       "    </tr>\n",
       "    <tr>\n",
       "      <th>19</th>\n",
       "      <td>Senior Data Analyst- VBA, Macros &amp; Advanced Excel</td>\n",
       "      <td>UnitedLex BPO Private Limited</td>\n",
       "      <td>1-4 Yrs</td>\n",
       "      <td>Gurgaon/Gurugram</td>\n",
       "    </tr>\n",
       "  </tbody>\n",
       "</table>\n",
       "</div>"
      ],
      "text/plain": [
       "                                                Title  \\\n",
       "0                                      Data Scientist   \n",
       "1                                      Data Scientist   \n",
       "2                              Team Leader Operations   \n",
       "3                                        Data Analyst   \n",
       "4                       Consultant/Decision Scientist   \n",
       "5                                        Data Analyst   \n",
       "6                              Associate Data Analyst   \n",
       "7                         Associate Big Data Engineer   \n",
       "8                                    Python Developer   \n",
       "9                                        Data Analyst   \n",
       "10  Associate - Analytics For a leading Marketing ...   \n",
       "11           Data Analyst/ Exp. min 1 yr/ Gurgaon-MNC   \n",
       "12  Looking For Python Developer Under TeamLease P...   \n",
       "13               Data Analyst - Business Intelligence   \n",
       "14        Data Analyst For a leading IT-Software firm   \n",
       "15        Python Developer (WFH) Part Time/ Full Time   \n",
       "16  Looking For Data Analyst (SQL) For Gurgaon Loc...   \n",
       "17  Looking For Data Analyst (SQL) For Gurgaon Loc...   \n",
       "18                                   Python Developer   \n",
       "19  Senior Data Analyst- VBA, Macros & Advanced Excel   \n",
       "\n",
       "                                    Company experienceRequired  \\\n",
       "0                                 UrbanClap            1-3 Yrs   \n",
       "1          Shadowfax Technologies Pvt. Ltd.            1-3 Yrs   \n",
       "2              Optimint Solutions Pvt. Ltd.            2-5 Yrs   \n",
       "3               IB Monotaro Private Limited            1-3 Yrs   \n",
       "4                         Fractal Analytics            2-4 Yrs   \n",
       "5                                   Targray            1-4 Yrs   \n",
       "6                                Weatherbug            1-3 Yrs   \n",
       "7                            NITS Solutions            2-5 Yrs   \n",
       "8            CYFUTURE INDIA PRIVATE LIMITED            1-4 Yrs   \n",
       "9   HEALTH ARX TECHNOLOGIES PRIVATE LIMITED            2-5 Yrs   \n",
       "10                              MYFUTUREAPP            0-1 Yrs   \n",
       "11                 Stemford India Pvt. Ltd.            1-3 Yrs   \n",
       "12                  TeamLease Services Ltd.            2-6 Yrs   \n",
       "13                                 Fa Gifts            2-7 Yrs   \n",
       "14                              MYFUTUREAPP            1-2 Yrs   \n",
       "15                 Freelancer Rupal Shrimal            2-5 Yrs   \n",
       "16      LIQUIDHUB ANALYTICS PRIVATE LIMITED            1-3 Yrs   \n",
       "17      LIQUIDHUB ANALYTICS PRIVATE LIMITED            1-3 Yrs   \n",
       "18                     Jobmygoal Technology            2-3 Yrs   \n",
       "19            UnitedLex BPO Private Limited            1-4 Yrs   \n",
       "\n",
       "                                             Location  \n",
       "0               Gurgaon/Gurugram, Bangalore/Bengaluru  \n",
       "1                                    Gurgaon/Gurugram  \n",
       "2                         New Delhi, Gurgaon/Gurugram  \n",
       "3                               Delhi / NCR(Ghitorni)  \n",
       "4       Mumbai, Gurgaon/Gurugram, Bangalore/Bengaluru  \n",
       "5                                    Gurgaon/Gurugram  \n",
       "6                                    Gurgaon/Gurugram  \n",
       "7                                    Gurgaon/Gurugram  \n",
       "8                                         Noida(NSEZ)  \n",
       "9                                         Delhi / NCR  \n",
       "10  Noida, Ghaziabad, Faridabad, Gurgaon/Gurugram,...  \n",
       "11                                   Gurgaon/Gurugram  \n",
       "12                          Gurgaon/Gurugram, Manesar  \n",
       "13                                   Gurgaon/Gurugram  \n",
       "14  Noida, Ghaziabad, Faridabad, Gurgaon/Gurugram,...  \n",
       "15   Bangalore/Bengaluru, Delhi / NCR, work from home  \n",
       "16                             New Delhi, Delhi / NCR  \n",
       "17                             New Delhi, Delhi / NCR  \n",
       "18                                   Gurgaon/Gurugram  \n",
       "19                                   Gurgaon/Gurugram  "
      ]
     },
     "execution_count": 65,
     "metadata": {},
     "output_type": "execute_result"
    }
   ],
   "source": [
    "jobs2"
   ]
  },
  {
   "cell_type": "markdown",
   "metadata": {},
   "source": [
    "# Write a python program to scrape data for first 10 job results for Data scientist Designation in Noida location. You have to scrape company_name, No. of days ago when job was posted, Rating of the company."
   ]
  },
  {
   "cell_type": "code",
   "execution_count": 20,
   "metadata": {},
   "outputs": [],
   "source": [
    "driver3=webdriver.Chrome(r'C:\\Users\\delkl\\Downloads\\chromedriver.exe')"
   ]
  },
  {
   "cell_type": "code",
   "execution_count": 21,
   "metadata": {},
   "outputs": [],
   "source": [
    "url3='https://www.glassdoor.co.in/index.htm'\n",
    "driver3.get(url3)"
   ]
  },
  {
   "cell_type": "code",
   "execution_count": 22,
   "metadata": {},
   "outputs": [
    {
     "data": {
      "text/plain": [
       "<selenium.webdriver.remote.webelement.WebElement (session=\"84d8288bacc8c1c4b2b2cb29ae689a04\", element=\"1b04a33b-95e9-4ca3-ab10-5953394afcf6\")>"
      ]
     },
     "execution_count": 22,
     "metadata": {},
     "output_type": "execute_result"
    }
   ],
   "source": [
    "search_job3=driver3.find_element_by_id('sc.keyword')\n",
    "search_job3"
   ]
  },
  {
   "cell_type": "code",
   "execution_count": 23,
   "metadata": {},
   "outputs": [],
   "source": [
    "search_job3.send_keys('Data Scientist')"
   ]
  },
  {
   "cell_type": "code",
   "execution_count": 24,
   "metadata": {},
   "outputs": [
    {
     "data": {
      "text/plain": [
       "<selenium.webdriver.remote.webelement.WebElement (session=\"84d8288bacc8c1c4b2b2cb29ae689a04\", element=\"6f9afd4a-d7de-48dd-ab99-323006544292\")>"
      ]
     },
     "execution_count": 24,
     "metadata": {},
     "output_type": "execute_result"
    }
   ],
   "source": [
    "location3=driver3.find_element_by_id('sc.location')\n",
    "location3"
   ]
  },
  {
   "cell_type": "code",
   "execution_count": 26,
   "metadata": {},
   "outputs": [],
   "source": [
    "location3.send_keys('Noida')"
   ]
  },
  {
   "cell_type": "code",
   "execution_count": 27,
   "metadata": {},
   "outputs": [],
   "source": [
    "search_btn3=driver3.find_element_by_xpath(\"//button[@class='gd-ui-button ml-std col-auto search__SearchStyles__newSearchButton css-1dqvyh7']\")\n",
    "search_btn3.click()"
   ]
  },
  {
   "cell_type": "code",
   "execution_count": 31,
   "metadata": {
    "scrolled": false
   },
   "outputs": [
    {
     "data": {
      "text/plain": [
       "[<selenium.webdriver.remote.webelement.WebElement (session=\"84d8288bacc8c1c4b2b2cb29ae689a04\", element=\"28e8a950-7765-4189-8031-4ff578720135\")>,\n",
       " <selenium.webdriver.remote.webelement.WebElement (session=\"84d8288bacc8c1c4b2b2cb29ae689a04\", element=\"c4a83f5b-12e4-4e0d-933a-c99c3767cfee\")>,\n",
       " <selenium.webdriver.remote.webelement.WebElement (session=\"84d8288bacc8c1c4b2b2cb29ae689a04\", element=\"789b28e3-06c0-4a8f-ae38-5f7f86327092\")>,\n",
       " <selenium.webdriver.remote.webelement.WebElement (session=\"84d8288bacc8c1c4b2b2cb29ae689a04\", element=\"2a83beb0-1804-4a77-9690-c484716a71c9\")>,\n",
       " <selenium.webdriver.remote.webelement.WebElement (session=\"84d8288bacc8c1c4b2b2cb29ae689a04\", element=\"0612ae1e-234c-4dd5-993c-c1b0030092e3\")>,\n",
       " <selenium.webdriver.remote.webelement.WebElement (session=\"84d8288bacc8c1c4b2b2cb29ae689a04\", element=\"1d4764f5-71b0-44c6-8309-9213cfeef981\")>,\n",
       " <selenium.webdriver.remote.webelement.WebElement (session=\"84d8288bacc8c1c4b2b2cb29ae689a04\", element=\"57787937-734f-4761-9324-b443c08f6975\")>,\n",
       " <selenium.webdriver.remote.webelement.WebElement (session=\"84d8288bacc8c1c4b2b2cb29ae689a04\", element=\"344d85e9-6099-46ae-b991-0630f3716de1\")>,\n",
       " <selenium.webdriver.remote.webelement.WebElement (session=\"84d8288bacc8c1c4b2b2cb29ae689a04\", element=\"799ff3ac-a680-4124-8ff2-88c541d83de3\")>,\n",
       " <selenium.webdriver.remote.webelement.WebElement (session=\"84d8288bacc8c1c4b2b2cb29ae689a04\", element=\"3eaf680f-aba4-4012-a345-d120d476fcb6\")>,\n",
       " <selenium.webdriver.remote.webelement.WebElement (session=\"84d8288bacc8c1c4b2b2cb29ae689a04\", element=\"5bd96097-a19f-4031-8b7d-2cd06d87f049\")>,\n",
       " <selenium.webdriver.remote.webelement.WebElement (session=\"84d8288bacc8c1c4b2b2cb29ae689a04\", element=\"ec0380c6-5202-47e1-8d0f-a3fab9cd13b5\")>,\n",
       " <selenium.webdriver.remote.webelement.WebElement (session=\"84d8288bacc8c1c4b2b2cb29ae689a04\", element=\"b52e870a-7436-483e-9d12-a2ffa2348756\")>,\n",
       " <selenium.webdriver.remote.webelement.WebElement (session=\"84d8288bacc8c1c4b2b2cb29ae689a04\", element=\"edd76eec-5414-44e9-97d8-a437087e49ba\")>,\n",
       " <selenium.webdriver.remote.webelement.WebElement (session=\"84d8288bacc8c1c4b2b2cb29ae689a04\", element=\"74754d1d-ac85-48e0-8ae0-19547f6e9928\")>,\n",
       " <selenium.webdriver.remote.webelement.WebElement (session=\"84d8288bacc8c1c4b2b2cb29ae689a04\", element=\"4fb0b0ee-3d0a-4b1d-b593-47db0470c907\")>,\n",
       " <selenium.webdriver.remote.webelement.WebElement (session=\"84d8288bacc8c1c4b2b2cb29ae689a04\", element=\"55edd461-e29c-460c-acad-eb1e18a9fd79\")>,\n",
       " <selenium.webdriver.remote.webelement.WebElement (session=\"84d8288bacc8c1c4b2b2cb29ae689a04\", element=\"77b59947-df3b-4fdf-8f7a-236b5d457a8f\")>,\n",
       " <selenium.webdriver.remote.webelement.WebElement (session=\"84d8288bacc8c1c4b2b2cb29ae689a04\", element=\"f9900ff1-eca4-4b29-8554-379ef14f50d2\")>,\n",
       " <selenium.webdriver.remote.webelement.WebElement (session=\"84d8288bacc8c1c4b2b2cb29ae689a04\", element=\"afb80963-7d37-4489-b8a3-cc762ae7dbb4\")>,\n",
       " <selenium.webdriver.remote.webelement.WebElement (session=\"84d8288bacc8c1c4b2b2cb29ae689a04\", element=\"7bb2dee9-d3c4-4a62-828e-4cac2638fc93\")>,\n",
       " <selenium.webdriver.remote.webelement.WebElement (session=\"84d8288bacc8c1c4b2b2cb29ae689a04\", element=\"54bc5c09-08ec-415b-9f7e-b1ae1b651903\")>,\n",
       " <selenium.webdriver.remote.webelement.WebElement (session=\"84d8288bacc8c1c4b2b2cb29ae689a04\", element=\"76f536b8-1999-49dc-af2e-ab4dee8ea0aa\")>,\n",
       " <selenium.webdriver.remote.webelement.WebElement (session=\"84d8288bacc8c1c4b2b2cb29ae689a04\", element=\"fcb30096-5924-45b7-90c7-4fb559b69c66\")>,\n",
       " <selenium.webdriver.remote.webelement.WebElement (session=\"84d8288bacc8c1c4b2b2cb29ae689a04\", element=\"c32d161a-19a9-45a8-830d-e72a365a1368\")>,\n",
       " <selenium.webdriver.remote.webelement.WebElement (session=\"84d8288bacc8c1c4b2b2cb29ae689a04\", element=\"aedaaa20-4758-4489-bb80-55df612cc9ca\")>,\n",
       " <selenium.webdriver.remote.webelement.WebElement (session=\"84d8288bacc8c1c4b2b2cb29ae689a04\", element=\"f383fb24-4559-456d-bdaa-fad50042e3f9\")>,\n",
       " <selenium.webdriver.remote.webelement.WebElement (session=\"84d8288bacc8c1c4b2b2cb29ae689a04\", element=\"ef7f7adc-aad0-4ca5-b9b4-977b9de17483\")>,\n",
       " <selenium.webdriver.remote.webelement.WebElement (session=\"84d8288bacc8c1c4b2b2cb29ae689a04\", element=\"7a643d64-4db1-4b8d-b7ba-87f50d1ad9d8\")>,\n",
       " <selenium.webdriver.remote.webelement.WebElement (session=\"84d8288bacc8c1c4b2b2cb29ae689a04\", element=\"b50f2c0d-6a9e-46ec-8890-f0fa44240b0d\")>]"
      ]
     },
     "execution_count": 31,
     "metadata": {},
     "output_type": "execute_result"
    }
   ],
   "source": [
    "url33=driver3.find_elements_by_xpath(\"//div[@class='d-flex justify-content-between align-items-start']//a\")\n",
    "url33"
   ]
  },
  {
   "cell_type": "code",
   "execution_count": 32,
   "metadata": {},
   "outputs": [
    {
     "data": {
      "text/plain": [
       "['https://www.glassdoor.co.in/partner/jobListing.htm?pos=101&ao=1136043&s=58&guid=0000017b2134268f8334ff1648b2d3ef&src=GD_JOB_AD&t=SR&vt=w&uido=571318FCEDFE3784789E35838B273C98&ea=1&cs=1_48ee2e1f&cb=1628349671354&jobListingId=1007200389479&jrtk=1-1fcgj89lju1ut801-1fcgj89md3oev000-97d4c65035600d81',\n",
       " 'https://www.glassdoor.co.in/partner/jobListing.htm?pos=102&ao=1136043&s=58&guid=0000017b2134268f8334ff1648b2d3ef&src=GD_JOB_AD&t=SR&vt=w&uido=571318FCEDFE3784789E35838B273C98&ea=1&cs=1_afa37380&cb=1628349671355&jobListingId=1007181085665&jrtk=1-1fcgj89lju1ut801-1fcgj89md3oev000-c5ebf3c133ebe75f',\n",
       " 'https://www.glassdoor.co.in/partner/jobListing.htm?pos=103&ao=1136043&s=58&guid=0000017b2134268f8334ff1648b2d3ef&src=GD_JOB_AD&t=SR&vt=w&uido=571318FCEDFE3784789E35838B273C98&cs=1_a31d8780&cb=1628349671353&jobListingId=1007179647282&jrtk=1-1fcgj89lju1ut801-1fcgj89md3oev000-553f505b050aa33e',\n",
       " 'https://www.glassdoor.co.in/partner/jobListing.htm?pos=104&ao=1136043&s=58&guid=0000017b2134268f8334ff1648b2d3ef&src=GD_JOB_AD&t=SR&vt=w&uido=571318FCEDFE3784789E35838B273C98&cs=1_dc3b47ec&cb=1628349671354&jobListingId=1007095133299&jrtk=1-1fcgj89lju1ut801-1fcgj89md3oev000-84db922a59ad7885',\n",
       " 'https://www.glassdoor.co.in/partner/jobListing.htm?pos=105&ao=1136043&s=58&guid=0000017b2134268f8334ff1648b2d3ef&src=GD_JOB_AD&t=SR&vt=w&uido=571318FCEDFE3784789E35838B273C98&cs=1_6e0452e3&cb=1628349671355&jobListingId=1006624053994&jrtk=1-1fcgj89lju1ut801-1fcgj89md3oev000-a8cb856cd397a474',\n",
       " 'https://www.glassdoor.co.in/partner/jobListing.htm?pos=106&ao=1136043&s=58&guid=0000017b2134268f8334ff1648b2d3ef&src=GD_JOB_AD&t=SR&vt=w&uido=571318FCEDFE3784789E35838B273C98&ea=1&cs=1_f184c8c4&cb=1628349671358&jobListingId=1006687249100&jrtk=1-1fcgj89lju1ut801-1fcgj89md3oev000-94036c835379de77',\n",
       " 'https://www.glassdoor.co.in/partner/jobListing.htm?pos=107&ao=1136043&s=58&guid=0000017b2134268f8334ff1648b2d3ef&src=GD_JOB_AD&t=SR&vt=w&uido=571318FCEDFE3784789E35838B273C98&cs=1_ca317086&cb=1628349671357&jobListingId=1006461286442&jrtk=1-1fcgj89lju1ut801-1fcgj89md3oev000-a1ea358f023a69b7',\n",
       " 'https://www.glassdoor.co.in/partner/jobListing.htm?pos=108&ao=1136043&s=58&guid=0000017b2134268f8334ff1648b2d3ef&src=GD_JOB_AD&t=SR&vt=w&uido=571318FCEDFE3784789E35838B273C98&cs=1_7c603f2b&cb=1628349671358&jobListingId=1006624054035&jrtk=1-1fcgj89lju1ut801-1fcgj89md3oev000-c47c5ae51c2ed2ee',\n",
       " 'https://www.glassdoor.co.in/partner/jobListing.htm?pos=109&ao=1136043&s=58&guid=0000017b2134268f8334ff1648b2d3ef&src=GD_JOB_AD&t=SR&vt=w&uido=571318FCEDFE3784789E35838B273C98&cs=1_35a01fc3&cb=1628349671358&jobListingId=1007210208445&jrtk=1-1fcgj89lju1ut801-1fcgj89md3oev000-121cea6655c59c77',\n",
       " 'https://www.glassdoor.co.in/partner/jobListing.htm?pos=110&ao=1136043&s=58&guid=0000017b2134268f8334ff1648b2d3ef&src=GD_JOB_AD&t=SR&vt=w&uido=571318FCEDFE3784789E35838B273C98&ea=1&cs=1_0149cf39&cb=1628349671360&jobListingId=1007219665646&jrtk=1-1fcgj89lju1ut801-1fcgj89md3oev000-f48b990bb3cba778',\n",
       " 'https://www.glassdoor.co.in/partner/jobListing.htm?pos=111&ao=1136043&s=58&guid=0000017b2134268f8334ff1648b2d3ef&src=GD_JOB_AD&t=SR&vt=w&uido=571318FCEDFE3784789E35838B273C98&ea=1&cs=1_3c59be11&cb=1628349671360&jobListingId=1007123743326&jrtk=1-1fcgj89lju1ut801-1fcgj89md3oev000-10f814971ae4b92a',\n",
       " 'https://www.glassdoor.co.in/partner/jobListing.htm?pos=112&ao=1136043&s=58&guid=0000017b2134268f8334ff1648b2d3ef&src=GD_JOB_AD&t=SR&vt=w&uido=571318FCEDFE3784789E35838B273C98&ea=1&cs=1_edd694c7&cb=1628349671360&jobListingId=1007219231719&jrtk=1-1fcgj89lju1ut801-1fcgj89md3oev000-97e5e173cec15330',\n",
       " 'https://www.glassdoor.co.in/partner/jobListing.htm?pos=113&ao=1136043&s=58&guid=0000017b2134268f8334ff1648b2d3ef&src=GD_JOB_AD&t=SR&vt=w&uido=571318FCEDFE3784789E35838B273C98&cs=1_63813892&cb=1628349671359&jobListingId=1007225046684&jrtk=1-1fcgj89lju1ut801-1fcgj89md3oev000-8a12da519f3ff016',\n",
       " 'https://www.glassdoor.co.in/partner/jobListing.htm?pos=114&ao=1136043&s=58&guid=0000017b2134268f8334ff1648b2d3ef&src=GD_JOB_AD&t=SR&vt=w&uido=571318FCEDFE3784789E35838B273C98&cs=1_ddbddcdd&cb=1628349671360&jobListingId=1007217238235&jrtk=1-1fcgj89lju1ut801-1fcgj89md3oev000-f5c135fd5c4784bd',\n",
       " 'https://www.glassdoor.co.in/partner/jobListing.htm?pos=115&ao=1136043&s=58&guid=0000017b2134268f8334ff1648b2d3ef&src=GD_JOB_AD&t=SR&vt=w&uido=571318FCEDFE3784789E35838B273C98&cs=1_7048555d&cb=1628349671361&jobListingId=1007201054385&jrtk=1-1fcgj89lju1ut801-1fcgj89md3oev000-9f24ed13c9f6eb1c',\n",
       " 'https://www.glassdoor.co.in/partner/jobListing.htm?pos=116&ao=1136043&s=58&guid=0000017b2134268f8334ff1648b2d3ef&src=GD_JOB_AD&t=SR&vt=w&uido=571318FCEDFE3784789E35838B273C98&cs=1_23d6035c&cb=1628349671362&jobListingId=1006500025617&jrtk=1-1fcgj89lju1ut801-1fcgj89md3oev000-221d6afa3757039d',\n",
       " 'https://www.glassdoor.co.in/partner/jobListing.htm?pos=117&ao=1136043&s=58&guid=0000017b2134268f8334ff1648b2d3ef&src=GD_JOB_AD&t=SR&vt=w&uido=571318FCEDFE3784789E35838B273C98&cs=1_993fb705&cb=1628349671362&jobListingId=1007145889803&jrtk=1-1fcgj89lju1ut801-1fcgj89md3oev000-87c7d9bf80c83e46',\n",
       " 'https://www.glassdoor.co.in/partner/jobListing.htm?pos=118&ao=1136043&s=58&guid=0000017b2134268f8334ff1648b2d3ef&src=GD_JOB_AD&t=SR&vt=w&uido=571318FCEDFE3784789E35838B273C98&ea=1&cs=1_499ec71a&cb=1628349671363&jobListingId=1007171514366&jrtk=1-1fcgj89lju1ut801-1fcgj89md3oev000-efb3411f444089bb',\n",
       " 'https://www.glassdoor.co.in/partner/jobListing.htm?pos=119&ao=1136043&s=58&guid=0000017b2134268f8334ff1648b2d3ef&src=GD_JOB_AD&t=SR&vt=w&uido=571318FCEDFE3784789E35838B273C98&cs=1_ec13005c&cb=1628349671362&jobListingId=1007216315923&jrtk=1-1fcgj89lju1ut801-1fcgj89md3oev000-e86979e08f7dcb4e',\n",
       " 'https://www.glassdoor.co.in/partner/jobListing.htm?pos=120&ao=1136043&s=58&guid=0000017b2134268f8334ff1648b2d3ef&src=GD_JOB_AD&t=SR&vt=w&uido=571318FCEDFE3784789E35838B273C98&cs=1_f8a19cc9&cb=1628349671362&jobListingId=1007214045632&jrtk=1-1fcgj89lju1ut801-1fcgj89md3oev000-55814711d3869cc3',\n",
       " 'https://www.glassdoor.co.in/partner/jobListing.htm?pos=121&ao=1136043&s=58&guid=0000017b2134268f8334ff1648b2d3ef&src=GD_JOB_AD&t=SR&vt=w&uido=571318FCEDFE3784789E35838B273C98&cs=1_8b253d97&cb=1628349671363&jobListingId=1006867507716&jrtk=1-1fcgj89lju1ut801-1fcgj89md3oev000-83f3ba54497948c9',\n",
       " 'https://www.glassdoor.co.in/partner/jobListing.htm?pos=122&ao=1136043&s=58&guid=0000017b2134268f8334ff1648b2d3ef&src=GD_JOB_AD&t=SR&vt=w&uido=571318FCEDFE3784789E35838B273C98&cs=1_3b25c5e3&cb=1628349671363&jobListingId=1007224309095&jrtk=1-1fcgj89lju1ut801-1fcgj89md3oev000-c521dfbc82ae5090',\n",
       " 'https://www.glassdoor.co.in/partner/jobListing.htm?pos=123&ao=1136043&s=58&guid=0000017b2134268f8334ff1648b2d3ef&src=GD_JOB_AD&t=SR&vt=w&uido=571318FCEDFE3784789E35838B273C98&cs=1_6f652b5e&cb=1628349671363&jobListingId=1007114711029&jrtk=1-1fcgj89lju1ut801-1fcgj89md3oev000-1b49d3508fc9c821',\n",
       " 'https://www.glassdoor.co.in/partner/jobListing.htm?pos=124&ao=1136043&s=58&guid=0000017b2134268f8334ff1648b2d3ef&src=GD_JOB_AD&t=SR&vt=w&uido=571318FCEDFE3784789E35838B273C98&ea=1&cs=1_5fd3bda2&cb=1628349671364&jobListingId=1007223625926&jrtk=1-1fcgj89lju1ut801-1fcgj89md3oev000-8f431e7a43bcc483',\n",
       " 'https://www.glassdoor.co.in/partner/jobListing.htm?pos=125&ao=1136043&s=58&guid=0000017b2134268f8334ff1648b2d3ef&src=GD_JOB_AD&t=SR&vt=w&uido=571318FCEDFE3784789E35838B273C98&cs=1_3d741f5c&cb=1628349671364&jobListingId=1007222022184&jrtk=1-1fcgj89lju1ut801-1fcgj89md3oev000-1e9c819cb2deaf8b',\n",
       " 'https://www.glassdoor.co.in/partner/jobListing.htm?pos=126&ao=1136043&s=58&guid=0000017b2134268f8334ff1648b2d3ef&src=GD_JOB_AD&t=SR&vt=w&uido=571318FCEDFE3784789E35838B273C98&cs=1_d07e0aee&cb=1628349671364&jobListingId=1005971740969&jrtk=1-1fcgj89lju1ut801-1fcgj89md3oev000-eea893d9b622ee1a',\n",
       " 'https://www.glassdoor.co.in/partner/jobListing.htm?pos=127&ao=1136043&s=58&guid=0000017b2134268f8334ff1648b2d3ef&src=GD_JOB_AD&t=SR&vt=w&uido=571318FCEDFE3784789E35838B273C98&cs=1_bc816f35&cb=1628349671365&jobListingId=1007220158657&jrtk=1-1fcgj89lju1ut801-1fcgj89md3oev000-7a67726dbab26a01',\n",
       " 'https://www.glassdoor.co.in/partner/jobListing.htm?pos=128&ao=1136043&s=58&guid=0000017b2134268f8334ff1648b2d3ef&src=GD_JOB_AD&t=SR&vt=w&uido=571318FCEDFE3784789E35838B273C98&cs=1_27e1be14&cb=1628349671365&jobListingId=1007199718632&jrtk=1-1fcgj89lju1ut801-1fcgj89md3oev000-645f82189ac230d8',\n",
       " 'https://www.glassdoor.co.in/partner/jobListing.htm?pos=129&ao=1136043&s=58&guid=0000017b2134268f8334ff1648b2d3ef&src=GD_JOB_AD&t=SR&vt=w&uido=571318FCEDFE3784789E35838B273C98&cs=1_a167389a&cb=1628349671365&jobListingId=1007222536547&jrtk=1-1fcgj89lju1ut801-1fcgj89md3oev000-03c8dcb07222bc19',\n",
       " 'https://www.glassdoor.co.in/partner/jobListing.htm?pos=130&ao=1136043&s=58&guid=0000017b2134268f8334ff1648b2d3ef&src=GD_JOB_AD&t=SR&vt=w&uido=571318FCEDFE3784789E35838B273C98&cs=1_d66322a1&cb=1628349671366&jobListingId=1007044567503&jrtk=1-1fcgj89lju1ut801-1fcgj89md3oev000-5092deea13fb4f8b']"
      ]
     },
     "execution_count": 32,
     "metadata": {},
     "output_type": "execute_result"
    }
   ],
   "source": [
    "job_opening_urls1=[]\n",
    "for i in url33:\n",
    "    job_opening_urls1.append(i.get_attribute('href'))\n",
    "job_opening_urls1"
   ]
  },
  {
   "cell_type": "code",
   "execution_count": 33,
   "metadata": {},
   "outputs": [
    {
     "ename": "WebDriverException",
     "evalue": "Message: chrome not reachable\n  (Session info: chrome=92.0.4515.131)\n",
     "output_type": "error",
     "traceback": [
      "\u001b[1;31m---------------------------------------------------------------------------\u001b[0m",
      "\u001b[1;31mWebDriverException\u001b[0m                        Traceback (most recent call last)",
      "\u001b[1;32m<ipython-input-33-6245132caccf>\u001b[0m in \u001b[0;36m<module>\u001b[1;34m\u001b[0m\n\u001b[0;32m      1\u001b[0m \u001b[0mcompany_titles3\u001b[0m\u001b[1;33m=\u001b[0m\u001b[1;33m[\u001b[0m\u001b[1;33m]\u001b[0m\u001b[1;33m\u001b[0m\u001b[1;33m\u001b[0m\u001b[0m\n\u001b[0;32m      2\u001b[0m \u001b[1;32mfor\u001b[0m \u001b[0mi\u001b[0m \u001b[1;32min\u001b[0m \u001b[0mjob_opening_urls1\u001b[0m\u001b[1;33m:\u001b[0m\u001b[1;33m\u001b[0m\u001b[1;33m\u001b[0m\u001b[0m\n\u001b[1;32m----> 3\u001b[1;33m     \u001b[0mdriver3\u001b[0m\u001b[1;33m.\u001b[0m\u001b[0mget\u001b[0m\u001b[1;33m(\u001b[0m\u001b[0mi\u001b[0m\u001b[1;33m)\u001b[0m\u001b[1;33m\u001b[0m\u001b[1;33m\u001b[0m\u001b[0m\n\u001b[0m\u001b[0;32m      4\u001b[0m     \u001b[1;32mtry\u001b[0m\u001b[1;33m:\u001b[0m\u001b[1;33m\u001b[0m\u001b[1;33m\u001b[0m\u001b[0m\n\u001b[0;32m      5\u001b[0m         \u001b[0mcompanies_tags3\u001b[0m\u001b[1;33m=\u001b[0m\u001b[0mdriver3\u001b[0m\u001b[1;33m.\u001b[0m\u001b[0mfind_element_by_xpath\u001b[0m\u001b[1;33m(\u001b[0m\u001b[1;34m\"//a[@class='css-l2wjgv e1n63ojh0 jobLink']\"\u001b[0m\u001b[1;33m)\u001b[0m\u001b[1;33m\u001b[0m\u001b[1;33m\u001b[0m\u001b[0m\n",
      "\u001b[1;32m~\\anaconda3\\lib\\site-packages\\selenium\\webdriver\\remote\\webdriver.py\u001b[0m in \u001b[0;36mget\u001b[1;34m(self, url)\u001b[0m\n\u001b[0;32m    331\u001b[0m         \u001b[0mLoads\u001b[0m \u001b[0ma\u001b[0m \u001b[0mweb\u001b[0m \u001b[0mpage\u001b[0m \u001b[1;32min\u001b[0m \u001b[0mthe\u001b[0m \u001b[0mcurrent\u001b[0m \u001b[0mbrowser\u001b[0m \u001b[0msession\u001b[0m\u001b[1;33m.\u001b[0m\u001b[1;33m\u001b[0m\u001b[1;33m\u001b[0m\u001b[0m\n\u001b[0;32m    332\u001b[0m         \"\"\"\n\u001b[1;32m--> 333\u001b[1;33m         \u001b[0mself\u001b[0m\u001b[1;33m.\u001b[0m\u001b[0mexecute\u001b[0m\u001b[1;33m(\u001b[0m\u001b[0mCommand\u001b[0m\u001b[1;33m.\u001b[0m\u001b[0mGET\u001b[0m\u001b[1;33m,\u001b[0m \u001b[1;33m{\u001b[0m\u001b[1;34m'url'\u001b[0m\u001b[1;33m:\u001b[0m \u001b[0murl\u001b[0m\u001b[1;33m}\u001b[0m\u001b[1;33m)\u001b[0m\u001b[1;33m\u001b[0m\u001b[1;33m\u001b[0m\u001b[0m\n\u001b[0m\u001b[0;32m    334\u001b[0m \u001b[1;33m\u001b[0m\u001b[0m\n\u001b[0;32m    335\u001b[0m     \u001b[1;33m@\u001b[0m\u001b[0mproperty\u001b[0m\u001b[1;33m\u001b[0m\u001b[1;33m\u001b[0m\u001b[0m\n",
      "\u001b[1;32m~\\anaconda3\\lib\\site-packages\\selenium\\webdriver\\remote\\webdriver.py\u001b[0m in \u001b[0;36mexecute\u001b[1;34m(self, driver_command, params)\u001b[0m\n\u001b[0;32m    319\u001b[0m         \u001b[0mresponse\u001b[0m \u001b[1;33m=\u001b[0m \u001b[0mself\u001b[0m\u001b[1;33m.\u001b[0m\u001b[0mcommand_executor\u001b[0m\u001b[1;33m.\u001b[0m\u001b[0mexecute\u001b[0m\u001b[1;33m(\u001b[0m\u001b[0mdriver_command\u001b[0m\u001b[1;33m,\u001b[0m \u001b[0mparams\u001b[0m\u001b[1;33m)\u001b[0m\u001b[1;33m\u001b[0m\u001b[1;33m\u001b[0m\u001b[0m\n\u001b[0;32m    320\u001b[0m         \u001b[1;32mif\u001b[0m \u001b[0mresponse\u001b[0m\u001b[1;33m:\u001b[0m\u001b[1;33m\u001b[0m\u001b[1;33m\u001b[0m\u001b[0m\n\u001b[1;32m--> 321\u001b[1;33m             \u001b[0mself\u001b[0m\u001b[1;33m.\u001b[0m\u001b[0merror_handler\u001b[0m\u001b[1;33m.\u001b[0m\u001b[0mcheck_response\u001b[0m\u001b[1;33m(\u001b[0m\u001b[0mresponse\u001b[0m\u001b[1;33m)\u001b[0m\u001b[1;33m\u001b[0m\u001b[1;33m\u001b[0m\u001b[0m\n\u001b[0m\u001b[0;32m    322\u001b[0m             response['value'] = self._unwrap_value(\n\u001b[0;32m    323\u001b[0m                 response.get('value', None))\n",
      "\u001b[1;32m~\\anaconda3\\lib\\site-packages\\selenium\\webdriver\\remote\\errorhandler.py\u001b[0m in \u001b[0;36mcheck_response\u001b[1;34m(self, response)\u001b[0m\n\u001b[0;32m    240\u001b[0m                 \u001b[0malert_text\u001b[0m \u001b[1;33m=\u001b[0m \u001b[0mvalue\u001b[0m\u001b[1;33m[\u001b[0m\u001b[1;34m'alert'\u001b[0m\u001b[1;33m]\u001b[0m\u001b[1;33m.\u001b[0m\u001b[0mget\u001b[0m\u001b[1;33m(\u001b[0m\u001b[1;34m'text'\u001b[0m\u001b[1;33m)\u001b[0m\u001b[1;33m\u001b[0m\u001b[1;33m\u001b[0m\u001b[0m\n\u001b[0;32m    241\u001b[0m             \u001b[1;32mraise\u001b[0m \u001b[0mexception_class\u001b[0m\u001b[1;33m(\u001b[0m\u001b[0mmessage\u001b[0m\u001b[1;33m,\u001b[0m \u001b[0mscreen\u001b[0m\u001b[1;33m,\u001b[0m \u001b[0mstacktrace\u001b[0m\u001b[1;33m,\u001b[0m \u001b[0malert_text\u001b[0m\u001b[1;33m)\u001b[0m\u001b[1;33m\u001b[0m\u001b[1;33m\u001b[0m\u001b[0m\n\u001b[1;32m--> 242\u001b[1;33m         \u001b[1;32mraise\u001b[0m \u001b[0mexception_class\u001b[0m\u001b[1;33m(\u001b[0m\u001b[0mmessage\u001b[0m\u001b[1;33m,\u001b[0m \u001b[0mscreen\u001b[0m\u001b[1;33m,\u001b[0m \u001b[0mstacktrace\u001b[0m\u001b[1;33m)\u001b[0m\u001b[1;33m\u001b[0m\u001b[1;33m\u001b[0m\u001b[0m\n\u001b[0m\u001b[0;32m    243\u001b[0m \u001b[1;33m\u001b[0m\u001b[0m\n\u001b[0;32m    244\u001b[0m     \u001b[1;32mdef\u001b[0m \u001b[0m_value_or_default\u001b[0m\u001b[1;33m(\u001b[0m\u001b[0mself\u001b[0m\u001b[1;33m,\u001b[0m \u001b[0mobj\u001b[0m\u001b[1;33m,\u001b[0m \u001b[0mkey\u001b[0m\u001b[1;33m,\u001b[0m \u001b[0mdefault\u001b[0m\u001b[1;33m)\u001b[0m\u001b[1;33m:\u001b[0m\u001b[1;33m\u001b[0m\u001b[1;33m\u001b[0m\u001b[0m\n",
      "\u001b[1;31mWebDriverException\u001b[0m: Message: chrome not reachable\n  (Session info: chrome=92.0.4515.131)\n"
     ]
    }
   ],
   "source": [
    "company_titles3=[]\n",
    "for i in job_opening_urls1:\n",
    "    driver3.get(i)\n",
    "    try:\n",
    "        companies_tags3=driver3.find_element_by_xpath(\"//a[@class='css-l2wjgv e1n63ojh0 jobLink']\")\n",
    "        company_titles3.append(companies_tags3.text)\n",
    "    except:\n",
    "        pass\n",
    "company_titles3"
   ]
  },
  {
   "cell_type": "code",
   "execution_count": 83,
   "metadata": {},
   "outputs": [
    {
     "data": {
      "text/plain": [
       "['10d',\n",
       " '21d',\n",
       " '30d+',\n",
       " '21d',\n",
       " '30d+',\n",
       " '30d+',\n",
       " '24h',\n",
       " '24h',\n",
       " '30d+',\n",
       " '6d',\n",
       " '2d',\n",
       " '30d+',\n",
       " '2d',\n",
       " '3d',\n",
       " '30d+',\n",
       " '30d+',\n",
       " '10d',\n",
       " '24h',\n",
       " '30d+',\n",
       " '30d+',\n",
       " '1d',\n",
       " '1d',\n",
       " '8d',\n",
       " '2d',\n",
       " '25d',\n",
       " '24h',\n",
       " '30d+',\n",
       " '30d+',\n",
       " '7d',\n",
       " '23d']"
      ]
     },
     "execution_count": 83,
     "metadata": {},
     "output_type": "execute_result"
    }
   ],
   "source": [
    "job_posted=[]\n",
    "for i in job_opening_urls1:\n",
    "    driver3.get(i)\n",
    "    try:\n",
    "        job_date=driver3.find_element_by_xpath(\"//span[@class='location ']\")\n",
    "        job_posted.append(job_date.text)\n",
    "    except:\n",
    "        pass\n",
    "job_posted"
   ]
  },
  {
   "cell_type": "code",
   "execution_count": 87,
   "metadata": {},
   "outputs": [
    {
     "data": {
      "text/plain": [
       "['3.8',\n",
       " '3.3',\n",
       " '4.1',\n",
       " '3.7',\n",
       " '5.0',\n",
       " '4.1',\n",
       " '3.8',\n",
       " '3.1',\n",
       " '3.7',\n",
       " '3.0',\n",
       " '3.8',\n",
       " '3.8',\n",
       " '4.3',\n",
       " '4.1',\n",
       " '4.2',\n",
       " '4.7',\n",
       " '3.7',\n",
       " '3.0',\n",
       " '4.4']"
      ]
     },
     "execution_count": 87,
     "metadata": {},
     "output_type": "execute_result"
    }
   ],
   "source": [
    "job_rating=[]\n",
    "for i in job_opening_urls1:\n",
    "    driver3.get(i)\n",
    "    try:\n",
    "        rating=driver3.find_element_by_xpath(\"//span[@class='location ']\")\n",
    "        job_rating.append(rating.text)\n",
    "    except:\n",
    "        pass\n",
    "job_rating"
   ]
  },
  {
   "cell_type": "code",
   "execution_count": 90,
   "metadata": {},
   "outputs": [
    {
     "ename": "ValueError",
     "evalue": "Length of values (19) does not match length of index (30)",
     "output_type": "error",
     "traceback": [
      "\u001b[1;31m---------------------------------------------------------------------------\u001b[0m",
      "\u001b[1;31mValueError\u001b[0m                                Traceback (most recent call last)",
      "\u001b[1;32m<ipython-input-90-bd4bae245baf>\u001b[0m in \u001b[0;36m<module>\u001b[1;34m\u001b[0m\n\u001b[0;32m      2\u001b[0m \u001b[0mjobs3\u001b[0m\u001b[1;33m[\u001b[0m\u001b[1;34m'Company'\u001b[0m\u001b[1;33m]\u001b[0m\u001b[1;33m=\u001b[0m\u001b[0mcompany_titles3\u001b[0m\u001b[1;33m\u001b[0m\u001b[1;33m\u001b[0m\u001b[0m\n\u001b[0;32m      3\u001b[0m \u001b[0mjobs3\u001b[0m\u001b[1;33m[\u001b[0m\u001b[1;34m'Job Posted'\u001b[0m\u001b[1;33m]\u001b[0m\u001b[1;33m=\u001b[0m\u001b[0mjob_date\u001b[0m\u001b[1;33m\u001b[0m\u001b[1;33m\u001b[0m\u001b[0m\n\u001b[1;32m----> 4\u001b[1;33m \u001b[0mjobs3\u001b[0m\u001b[1;33m[\u001b[0m\u001b[1;34m'Rating'\u001b[0m\u001b[1;33m]\u001b[0m\u001b[1;33m=\u001b[0m\u001b[0mjob_rating\u001b[0m\u001b[1;33m\u001b[0m\u001b[1;33m\u001b[0m\u001b[0m\n\u001b[0m",
      "\u001b[1;32m~\\anaconda3\\lib\\site-packages\\pandas\\core\\frame.py\u001b[0m in \u001b[0;36m__setitem__\u001b[1;34m(self, key, value)\u001b[0m\n\u001b[0;32m   3038\u001b[0m         \u001b[1;32melse\u001b[0m\u001b[1;33m:\u001b[0m\u001b[1;33m\u001b[0m\u001b[1;33m\u001b[0m\u001b[0m\n\u001b[0;32m   3039\u001b[0m             \u001b[1;31m# set column\u001b[0m\u001b[1;33m\u001b[0m\u001b[1;33m\u001b[0m\u001b[1;33m\u001b[0m\u001b[0m\n\u001b[1;32m-> 3040\u001b[1;33m             \u001b[0mself\u001b[0m\u001b[1;33m.\u001b[0m\u001b[0m_set_item\u001b[0m\u001b[1;33m(\u001b[0m\u001b[0mkey\u001b[0m\u001b[1;33m,\u001b[0m \u001b[0mvalue\u001b[0m\u001b[1;33m)\u001b[0m\u001b[1;33m\u001b[0m\u001b[1;33m\u001b[0m\u001b[0m\n\u001b[0m\u001b[0;32m   3041\u001b[0m \u001b[1;33m\u001b[0m\u001b[0m\n\u001b[0;32m   3042\u001b[0m     \u001b[1;32mdef\u001b[0m \u001b[0m_setitem_slice\u001b[0m\u001b[1;33m(\u001b[0m\u001b[0mself\u001b[0m\u001b[1;33m,\u001b[0m \u001b[0mkey\u001b[0m\u001b[1;33m:\u001b[0m \u001b[0mslice\u001b[0m\u001b[1;33m,\u001b[0m \u001b[0mvalue\u001b[0m\u001b[1;33m)\u001b[0m\u001b[1;33m:\u001b[0m\u001b[1;33m\u001b[0m\u001b[1;33m\u001b[0m\u001b[0m\n",
      "\u001b[1;32m~\\anaconda3\\lib\\site-packages\\pandas\\core\\frame.py\u001b[0m in \u001b[0;36m_set_item\u001b[1;34m(self, key, value)\u001b[0m\n\u001b[0;32m   3114\u001b[0m         \"\"\"\n\u001b[0;32m   3115\u001b[0m         \u001b[0mself\u001b[0m\u001b[1;33m.\u001b[0m\u001b[0m_ensure_valid_index\u001b[0m\u001b[1;33m(\u001b[0m\u001b[0mvalue\u001b[0m\u001b[1;33m)\u001b[0m\u001b[1;33m\u001b[0m\u001b[1;33m\u001b[0m\u001b[0m\n\u001b[1;32m-> 3116\u001b[1;33m         \u001b[0mvalue\u001b[0m \u001b[1;33m=\u001b[0m \u001b[0mself\u001b[0m\u001b[1;33m.\u001b[0m\u001b[0m_sanitize_column\u001b[0m\u001b[1;33m(\u001b[0m\u001b[0mkey\u001b[0m\u001b[1;33m,\u001b[0m \u001b[0mvalue\u001b[0m\u001b[1;33m)\u001b[0m\u001b[1;33m\u001b[0m\u001b[1;33m\u001b[0m\u001b[0m\n\u001b[0m\u001b[0;32m   3117\u001b[0m         \u001b[0mNDFrame\u001b[0m\u001b[1;33m.\u001b[0m\u001b[0m_set_item\u001b[0m\u001b[1;33m(\u001b[0m\u001b[0mself\u001b[0m\u001b[1;33m,\u001b[0m \u001b[0mkey\u001b[0m\u001b[1;33m,\u001b[0m \u001b[0mvalue\u001b[0m\u001b[1;33m)\u001b[0m\u001b[1;33m\u001b[0m\u001b[1;33m\u001b[0m\u001b[0m\n\u001b[0;32m   3118\u001b[0m \u001b[1;33m\u001b[0m\u001b[0m\n",
      "\u001b[1;32m~\\anaconda3\\lib\\site-packages\\pandas\\core\\frame.py\u001b[0m in \u001b[0;36m_sanitize_column\u001b[1;34m(self, key, value, broadcast)\u001b[0m\n\u001b[0;32m   3762\u001b[0m \u001b[1;33m\u001b[0m\u001b[0m\n\u001b[0;32m   3763\u001b[0m             \u001b[1;31m# turn me into an ndarray\u001b[0m\u001b[1;33m\u001b[0m\u001b[1;33m\u001b[0m\u001b[1;33m\u001b[0m\u001b[0m\n\u001b[1;32m-> 3764\u001b[1;33m             \u001b[0mvalue\u001b[0m \u001b[1;33m=\u001b[0m \u001b[0msanitize_index\u001b[0m\u001b[1;33m(\u001b[0m\u001b[0mvalue\u001b[0m\u001b[1;33m,\u001b[0m \u001b[0mself\u001b[0m\u001b[1;33m.\u001b[0m\u001b[0mindex\u001b[0m\u001b[1;33m)\u001b[0m\u001b[1;33m\u001b[0m\u001b[1;33m\u001b[0m\u001b[0m\n\u001b[0m\u001b[0;32m   3765\u001b[0m             \u001b[1;32mif\u001b[0m \u001b[1;32mnot\u001b[0m \u001b[0misinstance\u001b[0m\u001b[1;33m(\u001b[0m\u001b[0mvalue\u001b[0m\u001b[1;33m,\u001b[0m \u001b[1;33m(\u001b[0m\u001b[0mnp\u001b[0m\u001b[1;33m.\u001b[0m\u001b[0mndarray\u001b[0m\u001b[1;33m,\u001b[0m \u001b[0mIndex\u001b[0m\u001b[1;33m)\u001b[0m\u001b[1;33m)\u001b[0m\u001b[1;33m:\u001b[0m\u001b[1;33m\u001b[0m\u001b[1;33m\u001b[0m\u001b[0m\n\u001b[0;32m   3766\u001b[0m                 \u001b[1;32mif\u001b[0m \u001b[0misinstance\u001b[0m\u001b[1;33m(\u001b[0m\u001b[0mvalue\u001b[0m\u001b[1;33m,\u001b[0m \u001b[0mlist\u001b[0m\u001b[1;33m)\u001b[0m \u001b[1;32mand\u001b[0m \u001b[0mlen\u001b[0m\u001b[1;33m(\u001b[0m\u001b[0mvalue\u001b[0m\u001b[1;33m)\u001b[0m \u001b[1;33m>\u001b[0m \u001b[1;36m0\u001b[0m\u001b[1;33m:\u001b[0m\u001b[1;33m\u001b[0m\u001b[1;33m\u001b[0m\u001b[0m\n",
      "\u001b[1;32m~\\anaconda3\\lib\\site-packages\\pandas\\core\\internals\\construction.py\u001b[0m in \u001b[0;36msanitize_index\u001b[1;34m(data, index)\u001b[0m\n\u001b[0;32m    745\u001b[0m     \"\"\"\n\u001b[0;32m    746\u001b[0m     \u001b[1;32mif\u001b[0m \u001b[0mlen\u001b[0m\u001b[1;33m(\u001b[0m\u001b[0mdata\u001b[0m\u001b[1;33m)\u001b[0m \u001b[1;33m!=\u001b[0m \u001b[0mlen\u001b[0m\u001b[1;33m(\u001b[0m\u001b[0mindex\u001b[0m\u001b[1;33m)\u001b[0m\u001b[1;33m:\u001b[0m\u001b[1;33m\u001b[0m\u001b[1;33m\u001b[0m\u001b[0m\n\u001b[1;32m--> 747\u001b[1;33m         raise ValueError(\n\u001b[0m\u001b[0;32m    748\u001b[0m             \u001b[1;34m\"Length of values \"\u001b[0m\u001b[1;33m\u001b[0m\u001b[1;33m\u001b[0m\u001b[0m\n\u001b[0;32m    749\u001b[0m             \u001b[1;34mf\"({len(data)}) \"\u001b[0m\u001b[1;33m\u001b[0m\u001b[1;33m\u001b[0m\u001b[0m\n",
      "\u001b[1;31mValueError\u001b[0m: Length of values (19) does not match length of index (30)"
     ]
    }
   ],
   "source": [
    "jobs3=pd.DataFrame({})\n",
    "jobs3['Company']=company_titles3\n",
    "jobs3['Job Posted']=job_date\n",
    "jobs3['Rating']=job_rating"
   ]
  },
  {
   "cell_type": "markdown",
   "metadata": {},
   "source": [
    "# Q6"
   ]
  },
  {
   "cell_type": "code",
   "execution_count": 34,
   "metadata": {},
   "outputs": [],
   "source": [
    "driver6=webdriver.Chrome(r'C:\\Users\\delkl\\Downloads\\chromedriver.exe')"
   ]
  },
  {
   "cell_type": "code",
   "execution_count": 42,
   "metadata": {},
   "outputs": [],
   "source": [
    "url6='https://www.flipkart.com/'\n",
    "driver6.get(url6)"
   ]
  },
  {
   "cell_type": "code",
   "execution_count": 43,
   "metadata": {},
   "outputs": [
    {
     "data": {
      "text/plain": [
       "<selenium.webdriver.remote.webelement.WebElement (session=\"2d7ef4cb3722d8d25ca7237e168c333a\", element=\"aa5d7f6c-33f5-4718-9749-4e05b22bcf02\")>"
      ]
     },
     "execution_count": 43,
     "metadata": {},
     "output_type": "execute_result"
    }
   ],
   "source": [
    "search_item=driver6.find_element_by_xpath(\"//input[@class='_3704LK']\")\n",
    "search_item"
   ]
  },
  {
   "cell_type": "code",
   "execution_count": 44,
   "metadata": {},
   "outputs": [],
   "source": [
    "search_item.send_keys('sunglasses')"
   ]
  },
  {
   "cell_type": "code",
   "execution_count": 45,
   "metadata": {},
   "outputs": [],
   "source": [
    "search_btn6=driver6.find_element_by_xpath(\"//button[@class='L0Z3Pu']\")\n",
    "search_btn6.click()"
   ]
  },
  {
   "cell_type": "code",
   "execution_count": 46,
   "metadata": {},
   "outputs": [
    {
     "data": {
      "text/plain": [
       "[<selenium.webdriver.remote.webelement.WebElement (session=\"2d7ef4cb3722d8d25ca7237e168c333a\", element=\"b7fde765-e093-45ae-858a-c5d8ca63480e\")>,\n",
       " <selenium.webdriver.remote.webelement.WebElement (session=\"2d7ef4cb3722d8d25ca7237e168c333a\", element=\"daf0d6f3-732b-4b01-a4d8-1e922d916b13\")>,\n",
       " <selenium.webdriver.remote.webelement.WebElement (session=\"2d7ef4cb3722d8d25ca7237e168c333a\", element=\"dcfb92ba-0059-4c6d-9fd0-3638496fe66f\")>,\n",
       " <selenium.webdriver.remote.webelement.WebElement (session=\"2d7ef4cb3722d8d25ca7237e168c333a\", element=\"06fbad84-d610-45e6-b19c-92782a4c862f\")>,\n",
       " <selenium.webdriver.remote.webelement.WebElement (session=\"2d7ef4cb3722d8d25ca7237e168c333a\", element=\"11fdbff2-b080-4ca0-bea1-edbde5b4b5b8\")>,\n",
       " <selenium.webdriver.remote.webelement.WebElement (session=\"2d7ef4cb3722d8d25ca7237e168c333a\", element=\"c581f737-3e9a-43af-80f4-b8e5cdf11eca\")>,\n",
       " <selenium.webdriver.remote.webelement.WebElement (session=\"2d7ef4cb3722d8d25ca7237e168c333a\", element=\"8496e06b-333e-4b1d-b82b-c395a4e64d5b\")>,\n",
       " <selenium.webdriver.remote.webelement.WebElement (session=\"2d7ef4cb3722d8d25ca7237e168c333a\", element=\"751f50d4-8948-4a4b-bace-20d5fa24af10\")>,\n",
       " <selenium.webdriver.remote.webelement.WebElement (session=\"2d7ef4cb3722d8d25ca7237e168c333a\", element=\"b6044913-19ca-4d7d-8134-01cf2bf0b71d\")>,\n",
       " <selenium.webdriver.remote.webelement.WebElement (session=\"2d7ef4cb3722d8d25ca7237e168c333a\", element=\"bf94ce68-aa42-451f-92a5-f824c708ef45\")>,\n",
       " <selenium.webdriver.remote.webelement.WebElement (session=\"2d7ef4cb3722d8d25ca7237e168c333a\", element=\"581201d3-06d0-49b3-a4fd-9d45899f1a98\")>,\n",
       " <selenium.webdriver.remote.webelement.WebElement (session=\"2d7ef4cb3722d8d25ca7237e168c333a\", element=\"4bbb9891-5371-48fb-8296-e7c6d2161557\")>,\n",
       " <selenium.webdriver.remote.webelement.WebElement (session=\"2d7ef4cb3722d8d25ca7237e168c333a\", element=\"007ecd18-15ec-44f3-9c6d-302e4d93af08\")>,\n",
       " <selenium.webdriver.remote.webelement.WebElement (session=\"2d7ef4cb3722d8d25ca7237e168c333a\", element=\"cd6be2f9-28f0-40eb-914b-2d3c317b7e81\")>,\n",
       " <selenium.webdriver.remote.webelement.WebElement (session=\"2d7ef4cb3722d8d25ca7237e168c333a\", element=\"22dba9bc-06e8-4359-aaee-6e8a44e0f764\")>,\n",
       " <selenium.webdriver.remote.webelement.WebElement (session=\"2d7ef4cb3722d8d25ca7237e168c333a\", element=\"8dd6e83e-4653-4237-8288-29456177c2d2\")>,\n",
       " <selenium.webdriver.remote.webelement.WebElement (session=\"2d7ef4cb3722d8d25ca7237e168c333a\", element=\"b5b539c9-2c6d-4bf4-a118-cba2980a6d73\")>,\n",
       " <selenium.webdriver.remote.webelement.WebElement (session=\"2d7ef4cb3722d8d25ca7237e168c333a\", element=\"d6d42710-ed66-48b3-8565-9488e42aec73\")>,\n",
       " <selenium.webdriver.remote.webelement.WebElement (session=\"2d7ef4cb3722d8d25ca7237e168c333a\", element=\"5a194c54-abc3-4c5e-a292-41b5b61e9940\")>,\n",
       " <selenium.webdriver.remote.webelement.WebElement (session=\"2d7ef4cb3722d8d25ca7237e168c333a\", element=\"8883eb49-cd0e-4473-a80a-78c382642373\")>,\n",
       " <selenium.webdriver.remote.webelement.WebElement (session=\"2d7ef4cb3722d8d25ca7237e168c333a\", element=\"d7299520-5f79-4afb-9ad2-f1dc6282fb6a\")>,\n",
       " <selenium.webdriver.remote.webelement.WebElement (session=\"2d7ef4cb3722d8d25ca7237e168c333a\", element=\"2edc9bdc-2da5-43a4-8603-792431a8404a\")>,\n",
       " <selenium.webdriver.remote.webelement.WebElement (session=\"2d7ef4cb3722d8d25ca7237e168c333a\", element=\"9e68c503-eda3-42b6-a0da-471b70fd5edb\")>,\n",
       " <selenium.webdriver.remote.webelement.WebElement (session=\"2d7ef4cb3722d8d25ca7237e168c333a\", element=\"88cd4cb1-bfb0-47ca-aae2-5348a919b622\")>,\n",
       " <selenium.webdriver.remote.webelement.WebElement (session=\"2d7ef4cb3722d8d25ca7237e168c333a\", element=\"62f6bc1f-69fc-4a90-88a3-0ea295bb8dd2\")>,\n",
       " <selenium.webdriver.remote.webelement.WebElement (session=\"2d7ef4cb3722d8d25ca7237e168c333a\", element=\"286cc1f0-2b53-4b0e-acf4-e6d3a2da0ec2\")>,\n",
       " <selenium.webdriver.remote.webelement.WebElement (session=\"2d7ef4cb3722d8d25ca7237e168c333a\", element=\"bb16e727-c325-40c3-bec5-43a722e6f57d\")>,\n",
       " <selenium.webdriver.remote.webelement.WebElement (session=\"2d7ef4cb3722d8d25ca7237e168c333a\", element=\"24c5ced0-af72-436a-8bda-2b6817faf846\")>,\n",
       " <selenium.webdriver.remote.webelement.WebElement (session=\"2d7ef4cb3722d8d25ca7237e168c333a\", element=\"4578f985-0a42-4042-bb32-042c85d3c3e8\")>,\n",
       " <selenium.webdriver.remote.webelement.WebElement (session=\"2d7ef4cb3722d8d25ca7237e168c333a\", element=\"12358b8d-e5bd-46e8-bd84-fbdb2bcab071\")>,\n",
       " <selenium.webdriver.remote.webelement.WebElement (session=\"2d7ef4cb3722d8d25ca7237e168c333a\", element=\"8dd422bd-7f13-411a-83c1-2bc2b7ace490\")>,\n",
       " <selenium.webdriver.remote.webelement.WebElement (session=\"2d7ef4cb3722d8d25ca7237e168c333a\", element=\"2ec6aecb-55f4-427f-b411-c1bad29942a2\")>,\n",
       " <selenium.webdriver.remote.webelement.WebElement (session=\"2d7ef4cb3722d8d25ca7237e168c333a\", element=\"0505a02d-8663-4c4d-9b4b-05aabc839216\")>,\n",
       " <selenium.webdriver.remote.webelement.WebElement (session=\"2d7ef4cb3722d8d25ca7237e168c333a\", element=\"8e6c714a-2dbd-41eb-b326-1900ad4e2917\")>,\n",
       " <selenium.webdriver.remote.webelement.WebElement (session=\"2d7ef4cb3722d8d25ca7237e168c333a\", element=\"de4eda5b-7c06-4b85-b608-0bac09baf654\")>,\n",
       " <selenium.webdriver.remote.webelement.WebElement (session=\"2d7ef4cb3722d8d25ca7237e168c333a\", element=\"79660a91-14fa-4f97-b60f-116f4cad556a\")>,\n",
       " <selenium.webdriver.remote.webelement.WebElement (session=\"2d7ef4cb3722d8d25ca7237e168c333a\", element=\"cad07611-2b6f-45db-b056-89b49d34fb72\")>,\n",
       " <selenium.webdriver.remote.webelement.WebElement (session=\"2d7ef4cb3722d8d25ca7237e168c333a\", element=\"f45121b6-250d-4413-b1b3-03ab63890b24\")>,\n",
       " <selenium.webdriver.remote.webelement.WebElement (session=\"2d7ef4cb3722d8d25ca7237e168c333a\", element=\"28637f65-b042-4f56-b038-612538a0793c\")>,\n",
       " <selenium.webdriver.remote.webelement.WebElement (session=\"2d7ef4cb3722d8d25ca7237e168c333a\", element=\"e05a141b-5a71-4975-90ef-46c73f6841ae\")>]"
      ]
     },
     "execution_count": 46,
     "metadata": {},
     "output_type": "execute_result"
    }
   ],
   "source": [
    "brand=driver6.find_elements_by_xpath(\"//div[@class='_2WkVRV']\")\n",
    "brand"
   ]
  },
  {
   "cell_type": "code",
   "execution_count": 47,
   "metadata": {},
   "outputs": [
    {
     "data": {
      "text/plain": [
       "['Elligator',\n",
       " 'Fastrack',\n",
       " 'Fastrack',\n",
       " 'Fastrack',\n",
       " 'kingsunglasses',\n",
       " 'PIRASO',\n",
       " 'PIRASO',\n",
       " 'Fastrack',\n",
       " 'Fastrack',\n",
       " 'ROZZETTA CRAFT',\n",
       " 'kingsunglasses',\n",
       " 'Fastrack',\n",
       " 'PHENOMENAL',\n",
       " 'kingsunglasses',\n",
       " 'kingsunglasses',\n",
       " 'Fastrack',\n",
       " 'kingsunglasses',\n",
       " 'Silver Kartz',\n",
       " 'Fastrack',\n",
       " 'Singco India',\n",
       " 'hipe',\n",
       " 'Singco India',\n",
       " 'Elligator',\n",
       " 'Elligator',\n",
       " 'NuVew',\n",
       " 'Elligator',\n",
       " 'Fastrack',\n",
       " 'Fravy',\n",
       " 'Fastrack',\n",
       " 'Singco',\n",
       " 'ROZZETTA CRAFT',\n",
       " 'Fastrack',\n",
       " 'HIPPON',\n",
       " 'ROYAL SON',\n",
       " 'GANSTA',\n",
       " 'Fastrack',\n",
       " 'PHENOMENAL',\n",
       " 'kingsunglasses',\n",
       " 'ROZZETTA CRAFT',\n",
       " 'SRPM']"
      ]
     },
     "execution_count": 47,
     "metadata": {},
     "output_type": "execute_result"
    }
   ],
   "source": [
    "brand_titles=[]\n",
    "for i in brand:\n",
    "    brand_titles.append(i.text)\n",
    "brand_titles"
   ]
  },
  {
   "cell_type": "code",
   "execution_count": 49,
   "metadata": {},
   "outputs": [
    {
     "data": {
      "text/plain": [
       "['UV Protection Round Sunglasses (54)',\n",
       " 'UV Protection Rectangular Sunglasses (Free Size)',\n",
       " 'UV Protection Wayfarer Sunglasses (Free Size)',\n",
       " 'Gradient, UV Protection Wayfarer Sunglasses (Free Size)',\n",
       " 'Mirrored, UV Protection Wayfarer Sunglasses (Free Size)',\n",
       " 'UV Protection Aviator Sunglasses (54)',\n",
       " 'UV Protection Aviator Sunglasses (54)',\n",
       " 'UV Protection Wayfarer Sunglasses (56)',\n",
       " 'UV Protection Wayfarer Sunglasses (Free Size)',\n",
       " 'UV Protection Retro Square Sunglasses (Free Size)',\n",
       " 'UV Protection Rectangular Sunglasses (Free Size)',\n",
       " 'UV Protection Aviator Sunglasses (58)',\n",
       " 'UV Protection Retro Square Sunglasses (Free Size)',\n",
       " 'Mirrored, UV Protection Wayfarer Sunglasses (Free Size)',\n",
       " 'UV Protection Round Sunglasses (54)',\n",
       " 'UV Protection Aviator Sunglasses (58)',\n",
       " 'UV Protection Rectangular Sunglasses (55)',\n",
       " 'UV Protection Wayfarer Sunglasses (Free Size)',\n",
       " 'UV Protection Wayfarer Sunglasses (Free Size)',\n",
       " 'UV Protection Aviator Sunglasses (Free Size)',\n",
       " 'Mirrored, UV Protection, Gradient Round Sunglasses (55)',\n",
       " 'UV Protection, Riding Glasses, Others Aviator, Wayfarer...',\n",
       " 'UV Protection Round Sunglasses (54)',\n",
       " 'UV Protection Aviator Sunglasses (55)',\n",
       " 'UV Protection Aviator Sunglasses (58)',\n",
       " 'Mirrored Round Sunglasses (53)',\n",
       " 'Mirrored, UV Protection Wayfarer Sunglasses (Free Size)',\n",
       " 'UV Protection Wayfarer Sunglasses (56)',\n",
       " 'UV Protection Aviator Sunglasses (Free Size)',\n",
       " 'Mirrored Aviator Sunglasses (53)',\n",
       " 'UV Protection, Gradient Rectangular Sunglasses (Free Si...',\n",
       " 'UV Protection Aviator Sunglasses (Free Size)',\n",
       " 'UV Protection Wayfarer Sunglasses (55)',\n",
       " 'Mirrored Aviator Sunglasses (55)',\n",
       " 'UV Protection Aviator Sunglasses (57)',\n",
       " 'UV Protection Shield Sunglasses (Free Size)',\n",
       " 'UV Protection, Mirrored Retro Square Sunglasses (53)',\n",
       " 'UV Protection, Others Round, Aviator Sunglasses (54)',\n",
       " 'UV Protection, Riding Glasses Rectangular Sunglasses (F...',\n",
       " 'UV Protection Wayfarer Sunglasses (53)']"
      ]
     },
     "execution_count": 49,
     "metadata": {},
     "output_type": "execute_result"
    }
   ],
   "source": [
    "description=driver6.find_elements_by_xpath(\"//a[@class='IRpwTa']\")\n",
    "product_desc=[]\n",
    "for i in description:\n",
    "    product_desc.append(i.text)\n",
    "product_desc"
   ]
  },
  {
   "cell_type": "code",
   "execution_count": 50,
   "metadata": {},
   "outputs": [
    {
     "data": {
      "text/plain": [
       "['₹295',\n",
       " '₹599',\n",
       " '₹699',\n",
       " '₹499',\n",
       " '₹299',\n",
       " '₹225',\n",
       " '₹225',\n",
       " '₹599',\n",
       " '₹599',\n",
       " '₹499',\n",
       " '₹210',\n",
       " '₹969',\n",
       " '₹379',\n",
       " '₹299',\n",
       " '₹225',\n",
       " '₹949',\n",
       " '₹331',\n",
       " '₹246',\n",
       " '₹629',\n",
       " '₹334',\n",
       " '₹210',\n",
       " '₹214',\n",
       " '₹331',\n",
       " '₹328',\n",
       " '₹204',\n",
       " '₹312',\n",
       " '₹709',\n",
       " '₹169',\n",
       " '₹1,479',\n",
       " '₹239',\n",
       " '₹404',\n",
       " '₹539',\n",
       " '₹257',\n",
       " '₹379',\n",
       " '₹284',\n",
       " '₹609',\n",
       " '₹379',\n",
       " '₹225',\n",
       " '₹426',\n",
       " '₹246']"
      ]
     },
     "execution_count": 50,
     "metadata": {},
     "output_type": "execute_result"
    }
   ],
   "source": [
    "price=driver6.find_elements_by_xpath(\"//div[@class='_30jeq3']\")\n",
    "product_price=[]\n",
    "for i in price:\n",
    "    product_price.append(i.text)\n",
    "product_price"
   ]
  },
  {
   "cell_type": "code",
   "execution_count": 54,
   "metadata": {},
   "outputs": [
    {
     "data": {
      "text/plain": [
       "['88% off',\n",
       " '25% off',\n",
       " '22% off',\n",
       " '37% off',\n",
       " '88% off',\n",
       " '85% off',\n",
       " '85% off',\n",
       " '33% off',\n",
       " '33% off',\n",
       " '77% off',\n",
       " '82% off',\n",
       " '25% off',\n",
       " '81% off',\n",
       " '88% off',\n",
       " '79% off',\n",
       " '26% off',\n",
       " '77% off',\n",
       " '83% off',\n",
       " '30% off',\n",
       " '72% off',\n",
       " '85% off',\n",
       " '69% off',\n",
       " '74% off',\n",
       " '86% off',\n",
       " '74% off',\n",
       " '87% off',\n",
       " '29% off',\n",
       " '81% off',\n",
       " '26% off',\n",
       " '76% off',\n",
       " '79% off',\n",
       " '32% off',\n",
       " '78% off',\n",
       " '74% off',\n",
       " '85% off',\n",
       " '32% off',\n",
       " '81% off',\n",
       " '77% off',\n",
       " '80% off',\n",
       " '75% off']"
      ]
     },
     "execution_count": 54,
     "metadata": {},
     "output_type": "execute_result"
    }
   ],
   "source": [
    "discount=driver6.find_elements_by_xpath(\"//div[@class='_3Ay6Sb']\")\n",
    "product_discount=[]\n",
    "for i in discount:\n",
    "    product_discount.append(i.text)\n",
    "product_discount"
   ]
  },
  {
   "cell_type": "code",
   "execution_count": 57,
   "metadata": {},
   "outputs": [],
   "source": [
    "next_btn=driver6.find_element_by_xpath(\"//a[@class='_1LKTO3']\")\n",
    "next_btn.click()"
   ]
  },
  {
   "cell_type": "code",
   "execution_count": 58,
   "metadata": {},
   "outputs": [
    {
     "data": {
      "text/plain": [
       "['PHENOMENAL',\n",
       " 'ROYAL SON',\n",
       " 'Fastrack',\n",
       " 'SRPM',\n",
       " 'kingsunglasses',\n",
       " 'Elligator',\n",
       " 'PIRASO',\n",
       " 'kingsunglasses',\n",
       " 'ROYAL SON',\n",
       " 'Fastrack',\n",
       " 'Fastrack',\n",
       " 'NuVew',\n",
       " 'Singco India',\n",
       " 'ROZZETTA CRAFT',\n",
       " 'GANSTA',\n",
       " 'PHENOMENAL',\n",
       " 'Fravy',\n",
       " 'Fastrack',\n",
       " 'Fastrack',\n",
       " 'PIRASO',\n",
       " 'DEIXELS',\n",
       " 'ROZZETTA CRAFT',\n",
       " 'Villain',\n",
       " 'hipe',\n",
       " 'Fastrack',\n",
       " 'Fastrack',\n",
       " 'SUNBEE',\n",
       " 'Fastrack',\n",
       " 'AISLIN',\n",
       " 'GANSTA',\n",
       " 'Fastrack',\n",
       " 'NuVew',\n",
       " 'Singco India',\n",
       " 'kingsunglasses',\n",
       " 'elegante',\n",
       " 'Badfella',\n",
       " 'Fastrack',\n",
       " 'GANSTA',\n",
       " 'Elligator',\n",
       " 'PIRASO']"
      ]
     },
     "execution_count": 58,
     "metadata": {},
     "output_type": "execute_result"
    }
   ],
   "source": [
    "brand1=driver6.find_elements_by_xpath(\"//div[@class='_2WkVRV']\")\n",
    "brand_titles1=[]\n",
    "for i in brand1:\n",
    "    brand_titles1.append(i.text)\n",
    "brand_titles1"
   ]
  },
  {
   "cell_type": "code",
   "execution_count": 59,
   "metadata": {},
   "outputs": [
    {
     "data": {
      "text/plain": [
       "['UV Protection, Mirrored Retro Square Sunglasses (53)',\n",
       " 'UV Protection, Gradient Wayfarer Sunglasses (55)',\n",
       " 'Gradient, UV Protection Wayfarer Sunglasses (Free Size)',\n",
       " 'UV Protection Wayfarer Sunglasses (53)',\n",
       " 'UV Protection, Riding Glasses, Mirrored Wayfarer Sungla...',\n",
       " 'UV Protection, Riding Glasses Rectangular, Retro Square...',\n",
       " 'UV Protection Wayfarer Sunglasses (32)',\n",
       " 'UV Protection, Mirrored Round Sunglasses (54)',\n",
       " 'UV Protection Rectangular Sunglasses (58)',\n",
       " 'UV Protection Wayfarer Sunglasses (Free Size)',\n",
       " 'UV Protection Rectangular Sunglasses (59)',\n",
       " 'UV Protection, Riding Glasses Wayfarer Sunglasses (56)',\n",
       " 'Mirrored, UV Protection, Riding Glasses, Others Wrap-ar...',\n",
       " 'UV Protection, Gradient Rectangular Sunglasses (Free Si...',\n",
       " 'UV Protection, Night Vision, Riding Glasses Aviator Sun...',\n",
       " 'UV Protection, Mirrored Retro Square Sunglasses (Free S...',\n",
       " 'UV Protection Retro Square Sunglasses (Free Size)',\n",
       " 'UV Protection Wrap-around Sunglasses (Free Size)',\n",
       " 'UV Protection Shield Sunglasses (Free Size)',\n",
       " 'UV Protection Aviator Sunglasses (Free Size)',\n",
       " 'UV Protection Aviator, Wayfarer Sunglasses (Free Size)',\n",
       " 'UV Protection, Gradient Round Sunglasses (Free Size)',\n",
       " 'Others Retro Square Sunglasses (Free Size)',\n",
       " 'UV Protection Sports Sunglasses (Free Size)',\n",
       " 'Gradient, UV Protection Wayfarer Sunglasses (Free Size)',\n",
       " 'UV Protection Wayfarer Sunglasses (Free Size)',\n",
       " 'UV Protection, Polarized, Mirrored Round Sunglasses (Fr...',\n",
       " 'UV Protection Wayfarer Sunglasses (56)',\n",
       " 'UV Protection, Gradient Butterfly, Retro Square Sunglas...',\n",
       " 'UV Protection, Mirrored Wayfarer Sunglasses (53)',\n",
       " 'Gradient, UV Protection Wayfarer Sunglasses (Free Size)',\n",
       " 'UV Protection, Mirrored, Night Vision, Riding Glasses S...',\n",
       " 'Mirrored, Riding Glasses, Others Sports Sunglasses (50)',\n",
       " 'UV Protection Round Sunglasses (Free Size)',\n",
       " 'UV Protection Round Sunglasses (Free Size)',\n",
       " 'Polarized, UV Protection Retro Square Sunglasses (53)',\n",
       " 'UV Protection Wayfarer Sunglasses (Free Size)',\n",
       " 'Night Vision, Riding Glasses Wayfarer Sunglasses (53)',\n",
       " 'UV Protection Round Sunglasses (53)',\n",
       " 'UV Protection Aviator Sunglasses (54)']"
      ]
     },
     "execution_count": 59,
     "metadata": {},
     "output_type": "execute_result"
    }
   ],
   "source": [
    "description1=driver6.find_elements_by_xpath(\"//a[@class='IRpwTa']\")\n",
    "product_desc1=[]\n",
    "for i in description1:\n",
    "    product_desc1.append(i.text)\n",
    "product_desc1"
   ]
  },
  {
   "cell_type": "code",
   "execution_count": 60,
   "metadata": {},
   "outputs": [
    {
     "data": {
      "text/plain": [
       "['₹379',\n",
       " '₹203',\n",
       " '₹529',\n",
       " '₹246',\n",
       " '₹229',\n",
       " '₹398',\n",
       " '₹225',\n",
       " '₹249',\n",
       " '₹474',\n",
       " '₹559',\n",
       " '₹969',\n",
       " '₹232',\n",
       " '₹331',\n",
       " '₹474',\n",
       " '₹295',\n",
       " '₹379',\n",
       " '₹269',\n",
       " '₹669',\n",
       " '₹609',\n",
       " '₹314',\n",
       " '₹202',\n",
       " '₹449',\n",
       " '₹599',\n",
       " '₹319',\n",
       " '₹599',\n",
       " '₹669',\n",
       " '₹331',\n",
       " '₹579',\n",
       " '₹516',\n",
       " '₹211',\n",
       " '₹599',\n",
       " '₹309',\n",
       " '₹239',\n",
       " '₹331',\n",
       " '₹189',\n",
       " '₹255',\n",
       " '₹599',\n",
       " '₹209',\n",
       " '₹295',\n",
       " '₹225']"
      ]
     },
     "execution_count": 60,
     "metadata": {},
     "output_type": "execute_result"
    }
   ],
   "source": [
    "price1=driver6.find_elements_by_xpath(\"//div[@class='_30jeq3']\")\n",
    "product_price1=[]\n",
    "for i in price1:\n",
    "    product_price1.append(i.text)\n",
    "product_price1"
   ]
  },
  {
   "cell_type": "code",
   "execution_count": 61,
   "metadata": {},
   "outputs": [
    {
     "data": {
      "text/plain": [
       "['81% off',\n",
       " '79% off',\n",
       " '33% off',\n",
       " '75% off',\n",
       " '80% off',\n",
       " '73% off',\n",
       " '85% off',\n",
       " '79% off',\n",
       " '68% off',\n",
       " '30% off',\n",
       " '25% off',\n",
       " '76% off',\n",
       " '83% off',\n",
       " '78% off',\n",
       " '85% off',\n",
       " '81% off',\n",
       " '82% off',\n",
       " '25% off',\n",
       " '32% off',\n",
       " '80% off',\n",
       " '83% off',\n",
       " '77% off',\n",
       " '20% off',\n",
       " '83% off',\n",
       " '25% off',\n",
       " '25% off',\n",
       " '80% off',\n",
       " '35% off',\n",
       " '66% off',\n",
       " '78% off',\n",
       " '25% off',\n",
       " '66% off',\n",
       " '84% off',\n",
       " '79% off',\n",
       " '81% off',\n",
       " '74% off',\n",
       " '25% off',\n",
       " '88% off',\n",
       " '88% off',\n",
       " '85% off']"
      ]
     },
     "execution_count": 61,
     "metadata": {},
     "output_type": "execute_result"
    }
   ],
   "source": [
    "discount1=driver6.find_elements_by_xpath(\"//div[@class='_3Ay6Sb']\")\n",
    "product_discount1=[]\n",
    "for i in discount1:\n",
    "    product_discount1.append(i.text)\n",
    "product_discount1"
   ]
  },
  {
   "cell_type": "code",
   "execution_count": 62,
   "metadata": {},
   "outputs": [],
   "source": [
    "next_btn1=driver6.find_element_by_xpath(\"//a[@class='_1LKTO3']\")\n",
    "next_btn1.click()"
   ]
  },
  {
   "cell_type": "code",
   "execution_count": 63,
   "metadata": {},
   "outputs": [
    {
     "data": {
      "text/plain": [
       "['Elligator',\n",
       " 'Fastrack',\n",
       " 'Fastrack',\n",
       " 'Fastrack',\n",
       " 'kingsunglasses',\n",
       " 'PIRASO',\n",
       " 'PIRASO',\n",
       " 'Fastrack',\n",
       " 'Fastrack',\n",
       " 'ROZZETTA CRAFT',\n",
       " 'kingsunglasses',\n",
       " 'kingsunglasses',\n",
       " 'Fastrack',\n",
       " 'PHENOMENAL',\n",
       " 'Fastrack',\n",
       " 'kingsunglasses',\n",
       " 'Silver Kartz',\n",
       " 'kingsunglasses',\n",
       " 'Fastrack',\n",
       " 'Singco India']"
      ]
     },
     "execution_count": 63,
     "metadata": {},
     "output_type": "execute_result"
    }
   ],
   "source": [
    "brand2=driver6.find_elements_by_xpath(\"//div[@class='_2WkVRV']\")\n",
    "brand_titles2=[]\n",
    "for i in brand2[0:20]:\n",
    "    brand_titles2.append(i.text)\n",
    "brand_titles2"
   ]
  },
  {
   "cell_type": "code",
   "execution_count": 64,
   "metadata": {},
   "outputs": [
    {
     "data": {
      "text/plain": [
       "['UV Protection Round Sunglasses (54)',\n",
       " 'UV Protection Rectangular Sunglasses (Free Size)',\n",
       " 'UV Protection Wayfarer Sunglasses (Free Size)',\n",
       " 'Gradient, UV Protection Wayfarer Sunglasses (Free Size)',\n",
       " 'Mirrored, UV Protection Wayfarer Sunglasses (Free Size)',\n",
       " 'UV Protection Aviator Sunglasses (54)',\n",
       " 'UV Protection Aviator Sunglasses (54)',\n",
       " 'UV Protection Wayfarer Sunglasses (56)',\n",
       " 'UV Protection Wayfarer Sunglasses (Free Size)',\n",
       " 'UV Protection Retro Square Sunglasses (Free Size)',\n",
       " 'UV Protection Rectangular Sunglasses (Free Size)',\n",
       " 'Mirrored, UV Protection Wayfarer Sunglasses (Free Size)',\n",
       " 'UV Protection Aviator Sunglasses (58)',\n",
       " 'UV Protection Retro Square Sunglasses (Free Size)',\n",
       " 'UV Protection Aviator Sunglasses (58)',\n",
       " 'UV Protection Round Sunglasses (54)',\n",
       " 'UV Protection Wayfarer Sunglasses (Free Size)',\n",
       " 'UV Protection Rectangular Sunglasses (55)',\n",
       " 'UV Protection Wayfarer Sunglasses (Free Size)',\n",
       " 'UV Protection Aviator Sunglasses (Free Size)']"
      ]
     },
     "execution_count": 64,
     "metadata": {},
     "output_type": "execute_result"
    }
   ],
   "source": [
    "description2=driver6.find_elements_by_xpath(\"//a[@class='IRpwTa']\")\n",
    "product_desc2=[]\n",
    "for i in description2[0:20]:\n",
    "    product_desc2.append(i.text)\n",
    "product_desc2"
   ]
  },
  {
   "cell_type": "code",
   "execution_count": 65,
   "metadata": {},
   "outputs": [
    {
     "data": {
      "text/plain": [
       "['₹295',\n",
       " '₹599',\n",
       " '₹699',\n",
       " '₹499',\n",
       " '₹299',\n",
       " '₹225',\n",
       " '₹225',\n",
       " '₹599',\n",
       " '₹599',\n",
       " '₹499',\n",
       " '₹210',\n",
       " '₹299',\n",
       " '₹969',\n",
       " '₹379',\n",
       " '₹949',\n",
       " '₹225',\n",
       " '₹246',\n",
       " '₹331',\n",
       " '₹629',\n",
       " '₹334']"
      ]
     },
     "execution_count": 65,
     "metadata": {},
     "output_type": "execute_result"
    }
   ],
   "source": [
    "price2=driver6.find_elements_by_xpath(\"//div[@class='_30jeq3']\")\n",
    "product_price2=[]\n",
    "for i in price2[0:20]:\n",
    "    product_price2.append(i.text)\n",
    "product_price2"
   ]
  },
  {
   "cell_type": "code",
   "execution_count": 66,
   "metadata": {},
   "outputs": [
    {
     "data": {
      "text/plain": [
       "['88% off',\n",
       " '25% off',\n",
       " '22% off',\n",
       " '37% off',\n",
       " '88% off',\n",
       " '85% off',\n",
       " '85% off',\n",
       " '33% off',\n",
       " '33% off',\n",
       " '77% off',\n",
       " '82% off',\n",
       " '88% off',\n",
       " '25% off',\n",
       " '81% off',\n",
       " '26% off',\n",
       " '79% off',\n",
       " '83% off',\n",
       " '77% off',\n",
       " '30% off',\n",
       " '72% off']"
      ]
     },
     "execution_count": 66,
     "metadata": {},
     "output_type": "execute_result"
    }
   ],
   "source": [
    "discount2=driver6.find_elements_by_xpath(\"//div[@class='_3Ay6Sb']\")\n",
    "product_discount2=[]\n",
    "for i in discount2[0:20]:\n",
    "    product_discount2.append(i.text)\n",
    "product_discount2"
   ]
  },
  {
   "cell_type": "code",
   "execution_count": 68,
   "metadata": {},
   "outputs": [],
   "source": [
    "sunglasses=pd.DataFrame({})\n",
    "sunglasses['Brand']=brand_titles+brand_titles1+brand_titles2\n",
    "sunglasses['Product_Description']=product_desc+product_desc1+product_desc2\n",
    "sunglasses['Price']=product_price+product_price1+product_price2\n",
    "sunglasses['Discount']=product_discount+product_discount1+product_discount2"
   ]
  },
  {
   "cell_type": "code",
   "execution_count": 69,
   "metadata": {},
   "outputs": [
    {
     "data": {
      "text/html": [
       "<div>\n",
       "<style scoped>\n",
       "    .dataframe tbody tr th:only-of-type {\n",
       "        vertical-align: middle;\n",
       "    }\n",
       "\n",
       "    .dataframe tbody tr th {\n",
       "        vertical-align: top;\n",
       "    }\n",
       "\n",
       "    .dataframe thead th {\n",
       "        text-align: right;\n",
       "    }\n",
       "</style>\n",
       "<table border=\"1\" class=\"dataframe\">\n",
       "  <thead>\n",
       "    <tr style=\"text-align: right;\">\n",
       "      <th></th>\n",
       "      <th>Brand</th>\n",
       "      <th>Product_Description</th>\n",
       "      <th>Price</th>\n",
       "      <th>Discount</th>\n",
       "    </tr>\n",
       "  </thead>\n",
       "  <tbody>\n",
       "    <tr>\n",
       "      <th>0</th>\n",
       "      <td>Elligator</td>\n",
       "      <td>UV Protection Round Sunglasses (54)</td>\n",
       "      <td>₹295</td>\n",
       "      <td>88% off</td>\n",
       "    </tr>\n",
       "    <tr>\n",
       "      <th>1</th>\n",
       "      <td>Fastrack</td>\n",
       "      <td>UV Protection Rectangular Sunglasses (Free Size)</td>\n",
       "      <td>₹599</td>\n",
       "      <td>25% off</td>\n",
       "    </tr>\n",
       "    <tr>\n",
       "      <th>2</th>\n",
       "      <td>Fastrack</td>\n",
       "      <td>UV Protection Wayfarer Sunglasses (Free Size)</td>\n",
       "      <td>₹699</td>\n",
       "      <td>22% off</td>\n",
       "    </tr>\n",
       "    <tr>\n",
       "      <th>3</th>\n",
       "      <td>Fastrack</td>\n",
       "      <td>Gradient, UV Protection Wayfarer Sunglasses (F...</td>\n",
       "      <td>₹499</td>\n",
       "      <td>37% off</td>\n",
       "    </tr>\n",
       "    <tr>\n",
       "      <th>4</th>\n",
       "      <td>kingsunglasses</td>\n",
       "      <td>Mirrored, UV Protection Wayfarer Sunglasses (F...</td>\n",
       "      <td>₹299</td>\n",
       "      <td>88% off</td>\n",
       "    </tr>\n",
       "    <tr>\n",
       "      <th>...</th>\n",
       "      <td>...</td>\n",
       "      <td>...</td>\n",
       "      <td>...</td>\n",
       "      <td>...</td>\n",
       "    </tr>\n",
       "    <tr>\n",
       "      <th>95</th>\n",
       "      <td>kingsunglasses</td>\n",
       "      <td>UV Protection Round Sunglasses (54)</td>\n",
       "      <td>₹225</td>\n",
       "      <td>79% off</td>\n",
       "    </tr>\n",
       "    <tr>\n",
       "      <th>96</th>\n",
       "      <td>Silver Kartz</td>\n",
       "      <td>UV Protection Wayfarer Sunglasses (Free Size)</td>\n",
       "      <td>₹246</td>\n",
       "      <td>83% off</td>\n",
       "    </tr>\n",
       "    <tr>\n",
       "      <th>97</th>\n",
       "      <td>kingsunglasses</td>\n",
       "      <td>UV Protection Rectangular Sunglasses (55)</td>\n",
       "      <td>₹331</td>\n",
       "      <td>77% off</td>\n",
       "    </tr>\n",
       "    <tr>\n",
       "      <th>98</th>\n",
       "      <td>Fastrack</td>\n",
       "      <td>UV Protection Wayfarer Sunglasses (Free Size)</td>\n",
       "      <td>₹629</td>\n",
       "      <td>30% off</td>\n",
       "    </tr>\n",
       "    <tr>\n",
       "      <th>99</th>\n",
       "      <td>Singco India</td>\n",
       "      <td>UV Protection Aviator Sunglasses (Free Size)</td>\n",
       "      <td>₹334</td>\n",
       "      <td>72% off</td>\n",
       "    </tr>\n",
       "  </tbody>\n",
       "</table>\n",
       "<p>100 rows × 4 columns</p>\n",
       "</div>"
      ],
      "text/plain": [
       "             Brand                                Product_Description Price  \\\n",
       "0        Elligator                UV Protection Round Sunglasses (54)  ₹295   \n",
       "1         Fastrack   UV Protection Rectangular Sunglasses (Free Size)  ₹599   \n",
       "2         Fastrack      UV Protection Wayfarer Sunglasses (Free Size)  ₹699   \n",
       "3         Fastrack  Gradient, UV Protection Wayfarer Sunglasses (F...  ₹499   \n",
       "4   kingsunglasses  Mirrored, UV Protection Wayfarer Sunglasses (F...  ₹299   \n",
       "..             ...                                                ...   ...   \n",
       "95  kingsunglasses                UV Protection Round Sunglasses (54)  ₹225   \n",
       "96    Silver Kartz      UV Protection Wayfarer Sunglasses (Free Size)  ₹246   \n",
       "97  kingsunglasses          UV Protection Rectangular Sunglasses (55)  ₹331   \n",
       "98        Fastrack      UV Protection Wayfarer Sunglasses (Free Size)  ₹629   \n",
       "99    Singco India       UV Protection Aviator Sunglasses (Free Size)  ₹334   \n",
       "\n",
       "   Discount  \n",
       "0   88% off  \n",
       "1   25% off  \n",
       "2   22% off  \n",
       "3   37% off  \n",
       "4   88% off  \n",
       "..      ...  \n",
       "95  79% off  \n",
       "96  83% off  \n",
       "97  77% off  \n",
       "98  30% off  \n",
       "99  72% off  \n",
       "\n",
       "[100 rows x 4 columns]"
      ]
     },
     "execution_count": 69,
     "metadata": {},
     "output_type": "execute_result"
    }
   ],
   "source": [
    "sunglasses"
   ]
  },
  {
   "cell_type": "markdown",
   "metadata": {},
   "source": [
    "# Q7"
   ]
  },
  {
   "cell_type": "code",
   "execution_count": 70,
   "metadata": {},
   "outputs": [],
   "source": [
    "driver7=webdriver.Chrome(r'C:\\Users\\delkl\\Downloads\\chromedriver.exe')"
   ]
  },
  {
   "cell_type": "code",
   "execution_count": 73,
   "metadata": {},
   "outputs": [],
   "source": [
    "url7='https://www.flipkart.com/apple-iphone-11-black-64-gb-includes-earpods-power-adapter/product-reviews/itm0f37c2240b217?pid=MOBFKCTSVZAXUHGR&lid=LSTMOBFKCTSVZAXUHGREPBFGI&marketplace=FLIPKART'\n",
    "driver7.get(url7)"
   ]
  },
  {
   "cell_type": "code",
   "execution_count": 78,
   "metadata": {},
   "outputs": [
    {
     "data": {
      "text/plain": [
       "[<selenium.webdriver.remote.webelement.WebElement (session=\"a2d5b0f1c721a80e5117ebeb3547ca57\", element=\"3a4e7d0d-be18-4b2f-bf82-8e7a48a181fe\")>,\n",
       " <selenium.webdriver.remote.webelement.WebElement (session=\"a2d5b0f1c721a80e5117ebeb3547ca57\", element=\"e2fb81dc-d855-47c5-a6cd-1798dcc43dc3\")>,\n",
       " <selenium.webdriver.remote.webelement.WebElement (session=\"a2d5b0f1c721a80e5117ebeb3547ca57\", element=\"fafc2f93-d724-4fa7-91b9-3db2088d9b6f\")>,\n",
       " <selenium.webdriver.remote.webelement.WebElement (session=\"a2d5b0f1c721a80e5117ebeb3547ca57\", element=\"26e41078-d1fa-45f6-aefc-baa71f7377b3\")>,\n",
       " <selenium.webdriver.remote.webelement.WebElement (session=\"a2d5b0f1c721a80e5117ebeb3547ca57\", element=\"86fff774-43d1-4fb4-876c-bae082bf6da0\")>,\n",
       " <selenium.webdriver.remote.webelement.WebElement (session=\"a2d5b0f1c721a80e5117ebeb3547ca57\", element=\"de3ef204-6f38-4c1e-98d8-e15ff6b9e500\")>,\n",
       " <selenium.webdriver.remote.webelement.WebElement (session=\"a2d5b0f1c721a80e5117ebeb3547ca57\", element=\"26ac6558-d794-4b9d-b5cf-9eb955b3b779\")>,\n",
       " <selenium.webdriver.remote.webelement.WebElement (session=\"a2d5b0f1c721a80e5117ebeb3547ca57\", element=\"6b56a03b-5b22-4807-866b-fa7c0ac1e786\")>,\n",
       " <selenium.webdriver.remote.webelement.WebElement (session=\"a2d5b0f1c721a80e5117ebeb3547ca57\", element=\"9f0bedfb-461a-4121-95ba-112d64fc234c\")>,\n",
       " <selenium.webdriver.remote.webelement.WebElement (session=\"a2d5b0f1c721a80e5117ebeb3547ca57\", element=\"732d4d16-eb67-4954-a52c-35b30b854522\")>,\n",
       " <selenium.webdriver.remote.webelement.WebElement (session=\"a2d5b0f1c721a80e5117ebeb3547ca57\", element=\"d31f695d-eaa3-4ad1-8025-b7d9edfcbbd4\")>]"
      ]
     },
     "execution_count": 78,
     "metadata": {},
     "output_type": "execute_result"
    }
   ],
   "source": [
    "url77=driver7.find_elements_by_xpath(\"//nav[@class='yFHi8N']//a\")\n",
    "url77"
   ]
  },
  {
   "cell_type": "code",
   "execution_count": 79,
   "metadata": {},
   "outputs": [
    {
     "data": {
      "text/plain": [
       "['https://www.flipkart.com/apple-iphone-11-black-64-gb-includes-earpods-power-adapter/product-reviews/itm0f37c2240b217?pid=MOBFKCTSVZAXUHGR&lid=LSTMOBFKCTSVZAXUHGREPBFGI&marketplace=FLIPKART&page=1',\n",
       " 'https://www.flipkart.com/apple-iphone-11-black-64-gb-includes-earpods-power-adapter/product-reviews/itm0f37c2240b217?pid=MOBFKCTSVZAXUHGR&lid=LSTMOBFKCTSVZAXUHGREPBFGI&marketplace=FLIPKART&page=2',\n",
       " 'https://www.flipkart.com/apple-iphone-11-black-64-gb-includes-earpods-power-adapter/product-reviews/itm0f37c2240b217?pid=MOBFKCTSVZAXUHGR&lid=LSTMOBFKCTSVZAXUHGREPBFGI&marketplace=FLIPKART&page=3',\n",
       " 'https://www.flipkart.com/apple-iphone-11-black-64-gb-includes-earpods-power-adapter/product-reviews/itm0f37c2240b217?pid=MOBFKCTSVZAXUHGR&lid=LSTMOBFKCTSVZAXUHGREPBFGI&marketplace=FLIPKART&page=4',\n",
       " 'https://www.flipkart.com/apple-iphone-11-black-64-gb-includes-earpods-power-adapter/product-reviews/itm0f37c2240b217?pid=MOBFKCTSVZAXUHGR&lid=LSTMOBFKCTSVZAXUHGREPBFGI&marketplace=FLIPKART&page=5',\n",
       " 'https://www.flipkart.com/apple-iphone-11-black-64-gb-includes-earpods-power-adapter/product-reviews/itm0f37c2240b217?pid=MOBFKCTSVZAXUHGR&lid=LSTMOBFKCTSVZAXUHGREPBFGI&marketplace=FLIPKART&page=6',\n",
       " 'https://www.flipkart.com/apple-iphone-11-black-64-gb-includes-earpods-power-adapter/product-reviews/itm0f37c2240b217?pid=MOBFKCTSVZAXUHGR&lid=LSTMOBFKCTSVZAXUHGREPBFGI&marketplace=FLIPKART&page=7',\n",
       " 'https://www.flipkart.com/apple-iphone-11-black-64-gb-includes-earpods-power-adapter/product-reviews/itm0f37c2240b217?pid=MOBFKCTSVZAXUHGR&lid=LSTMOBFKCTSVZAXUHGREPBFGI&marketplace=FLIPKART&page=8',\n",
       " 'https://www.flipkart.com/apple-iphone-11-black-64-gb-includes-earpods-power-adapter/product-reviews/itm0f37c2240b217?pid=MOBFKCTSVZAXUHGR&lid=LSTMOBFKCTSVZAXUHGREPBFGI&marketplace=FLIPKART&page=9',\n",
       " 'https://www.flipkart.com/apple-iphone-11-black-64-gb-includes-earpods-power-adapter/product-reviews/itm0f37c2240b217?pid=MOBFKCTSVZAXUHGR&lid=LSTMOBFKCTSVZAXUHGREPBFGI&marketplace=FLIPKART&page=10',\n",
       " 'https://www.flipkart.com/apple-iphone-11-black-64-gb-includes-earpods-power-adapter/product-reviews/itm0f37c2240b217?pid=MOBFKCTSVZAXUHGR&lid=LSTMOBFKCTSVZAXUHGREPBFGI&marketplace=FLIPKART&page=2']"
      ]
     },
     "execution_count": 79,
     "metadata": {},
     "output_type": "execute_result"
    }
   ],
   "source": [
    "page_url=[]\n",
    "url77=driver7.find_elements_by_xpath(\"//nav[@class='yFHi8N']//a\")\n",
    "for i in url77:\n",
    "    page_url.append(i.get_attribute('href'))\n",
    "page_url"
   ]
  },
  {
   "cell_type": "code",
   "execution_count": 84,
   "metadata": {},
   "outputs": [
    {
     "data": {
      "text/plain": [
       "['5',\n",
       " '5',\n",
       " '5',\n",
       " '5',\n",
       " '5',\n",
       " '5',\n",
       " '5',\n",
       " '4',\n",
       " '5',\n",
       " '5',\n",
       " '5',\n",
       " '5',\n",
       " '5',\n",
       " '5',\n",
       " '5',\n",
       " '5',\n",
       " '5',\n",
       " '5',\n",
       " '5',\n",
       " '5',\n",
       " '4',\n",
       " '5',\n",
       " '5',\n",
       " '5',\n",
       " '5',\n",
       " '4',\n",
       " '5',\n",
       " '5',\n",
       " '5',\n",
       " '5',\n",
       " '5',\n",
       " '5',\n",
       " '5',\n",
       " '5',\n",
       " '4',\n",
       " '5',\n",
       " '5',\n",
       " '5',\n",
       " '5',\n",
       " '5',\n",
       " '5',\n",
       " '5',\n",
       " '5',\n",
       " '4',\n",
       " '5',\n",
       " '5',\n",
       " '5',\n",
       " '5',\n",
       " '5',\n",
       " '5',\n",
       " '5',\n",
       " '5',\n",
       " '5',\n",
       " '5',\n",
       " '5',\n",
       " '5',\n",
       " '5',\n",
       " '5',\n",
       " '5',\n",
       " '5',\n",
       " '5',\n",
       " '5',\n",
       " '4',\n",
       " '5',\n",
       " '5',\n",
       " '4',\n",
       " '5',\n",
       " '4',\n",
       " '5',\n",
       " '5',\n",
       " '5',\n",
       " '5',\n",
       " '5',\n",
       " '5',\n",
       " '5',\n",
       " '5',\n",
       " '5',\n",
       " '5',\n",
       " '4',\n",
       " '5',\n",
       " '3',\n",
       " '5',\n",
       " '5',\n",
       " '5',\n",
       " '5',\n",
       " '4',\n",
       " '5',\n",
       " '5',\n",
       " '5',\n",
       " '5',\n",
       " '5',\n",
       " '3',\n",
       " '5',\n",
       " '5',\n",
       " '5',\n",
       " '5',\n",
       " '5',\n",
       " '5']"
      ]
     },
     "execution_count": 84,
     "metadata": {},
     "output_type": "execute_result"
    }
   ],
   "source": [
    "iphone_rating=[]\n",
    "for i in page_url[0:10]:\n",
    "    driver7.get(i)\n",
    "    rating=driver7.find_elements_by_xpath(\"//div[@class='_3LWZlK _1BLPMq']\")\n",
    "    for i in rating:\n",
    "        iphone_rating.append(i.text)\n",
    "iphone_rating"
   ]
  },
  {
   "cell_type": "code",
   "execution_count": 86,
   "metadata": {},
   "outputs": [
    {
     "data": {
      "text/plain": [
       "['Simply awesome',\n",
       " 'Brilliant',\n",
       " 'Perfect product!',\n",
       " 'Fabulous!',\n",
       " 'Worth every penny',\n",
       " 'Great product',\n",
       " 'Worth every penny',\n",
       " 'Good choice',\n",
       " 'Highly recommended',\n",
       " 'Best in the market!',\n",
       " 'Perfect product!',\n",
       " 'Perfect product!',\n",
       " 'Highly recommended',\n",
       " 'Classy product',\n",
       " 'Worth every penny',\n",
       " 'Perfect product!',\n",
       " 'Highly recommended',\n",
       " 'Simply awesome',\n",
       " 'Worth every penny',\n",
       " 'Terrific',\n",
       " 'Nice product',\n",
       " 'Wonderful',\n",
       " 'Classy product',\n",
       " 'Brilliant',\n",
       " 'Must buy!',\n",
       " 'Good choice',\n",
       " 'Perfect product!',\n",
       " 'Wonderful',\n",
       " 'Terrific purchase',\n",
       " 'Great product',\n",
       " 'Simply awesome',\n",
       " 'Mind-blowing purchase',\n",
       " 'Terrific purchase',\n",
       " 'Simply awesome',\n",
       " 'Good quality product',\n",
       " 'Very poor',\n",
       " 'Perfect product!',\n",
       " 'Must buy!',\n",
       " 'Fabulous!',\n",
       " 'Mind-blowing purchase',\n",
       " 'Mind-blowing purchase',\n",
       " 'Wonderful',\n",
       " 'Worth every penny',\n",
       " 'Great product',\n",
       " 'Very Good',\n",
       " 'Perfect product!',\n",
       " 'Classy product',\n",
       " 'Perfect product!',\n",
       " 'Just wow!',\n",
       " 'Awesome',\n",
       " 'Terrific',\n",
       " 'Terrific purchase',\n",
       " 'Awesome',\n",
       " 'Classy product',\n",
       " 'Brilliant',\n",
       " 'Terrific',\n",
       " 'Perfect product!',\n",
       " 'Awesome',\n",
       " 'Perfect product!',\n",
       " 'Excellent',\n",
       " 'Very poor',\n",
       " 'Fabulous!',\n",
       " 'Excellent',\n",
       " 'Must buy!',\n",
       " 'Value-for-money',\n",
       " 'Brilliant',\n",
       " 'Terrific purchase',\n",
       " 'Good quality product',\n",
       " 'Perfect product!',\n",
       " 'Value-for-money',\n",
       " 'Just wow!',\n",
       " 'Super!',\n",
       " 'Awesome',\n",
       " 'Best in the market!',\n",
       " 'Highly recommended',\n",
       " 'Classy product',\n",
       " 'Mind-blowing purchase',\n",
       " 'Must buy!',\n",
       " 'Excellent',\n",
       " 'Excellent',\n",
       " 'Pretty good',\n",
       " 'Mind-blowing purchase',\n",
       " 'Does the job',\n",
       " 'Wonderful',\n",
       " 'Terrific',\n",
       " 'Worth every penny',\n",
       " 'Worth every penny',\n",
       " 'Nice product',\n",
       " 'Fabulous!',\n",
       " 'Classy product',\n",
       " 'Awesome',\n",
       " 'Terrific purchase',\n",
       " 'Awesome',\n",
       " 'Decent product',\n",
       " 'Super!',\n",
       " 'Fabulous!',\n",
       " 'Just wow!',\n",
       " 'Mind-blowing purchase',\n",
       " 'Excellent',\n",
       " 'Excellent']"
      ]
     },
     "execution_count": 86,
     "metadata": {},
     "output_type": "execute_result"
    }
   ],
   "source": [
    "iphone_summary=[]\n",
    "for i in page_url[0:10]:\n",
    "    driver7.get(i)\n",
    "    summary=driver7.find_elements_by_xpath(\"//p[@class='_2-N8zT']\")\n",
    "    for i in summary:\n",
    "        iphone_summary.append(i.text)\n",
    "iphone_summary"
   ]
  },
  {
   "cell_type": "code",
   "execution_count": 88,
   "metadata": {},
   "outputs": [
    {
     "data": {
      "text/plain": [
       "['Really satisfied with the Product I received... It’s totally genuine and the packaging was also really good so if ur planning to buy just go for it.',\n",
       " 'The Best Phone for the Money\\n\\nThe iPhone 11 offers superb cameras, a more durable design and excellent battery life for an affordable price.\\n\\nCompelling ultra-wide camera\\nNew Night mode is excellent\\nLong battery life',\n",
       " 'Amazing phone with great cameras and better battery which gives you the best performance. I just love the camera .',\n",
       " 'This is my first iOS phone. I am very happy with this product. Very much satisfied with this. I love this phone.',\n",
       " 'Previously I was using one plus 3t it was a great phone\\nAnd then I decided to upgrade I am stuck between Samsung s10 plus or iPhone 11\\nI have seen the specs and everything were good except the display it’s somewhere between 720-1080 and it’s not even an amoled it’s an LCD display\\nBut I decided to go with iPhone because I have never used an IOS device I have Been an android user from the past 9 years I ordered IPhone 11 (128gb) product red\\nMy experience after using 3 weeks\\n1. The delivery ...\\nREAD MORE',\n",
       " 'Amazing Powerful and Durable Gadget.\\n\\nI’m am very happy with the camera picture quality, Amazing face id unlocked in dark room, Strong battery with perfect screen size as you can carry easily in pocket. This is my third iPhone.\\n\\nI shifted from android Samsung Note series to iPhone because of the strong build quality and peace of mind for next 3-4 years.\\n\\nDon’t think to much just go for it and I suggest you to go for minimum 128gb variant or more 256gb.\\n\\nI’ve attached my puppy pics and no fi...\\nREAD MORE',\n",
       " 'i11 is worthy to buy, too much happy with the product. Thank u flipkart I received the item on time..loved it..',\n",
       " 'So far it’s been an AMAZING experience coming back to iOS after nearly a decade but it’s not as versatile as android though phone is sturdy dropped it accidentally a couple of times and nothing happened fortunately camera is awesome',\n",
       " 'iphone 11 is a very good phone to buy only if you can compromise for the display. The display on this is device is pretty good but you can get other options with better displays in this price segment.\\nIf you can survive with an HD+ LCD panel with thicker bezels and a notch up top then this is a very good phone for you.\\nCameras are awesome, battery backup excellent, great performance and a decent premium look. Good job Apple !',\n",
       " 'Great iPhone very snappy experience as apple kind. Upgraded from iPhone 7.\\nPros\\n-Camera top class\\n- Battery top performed\\n-Chipset no need to say as apple kind\\n-Security as you expect from apple\\n- Display super bright industry leading colour\\naccuracy and super responsive\\n-Build quality as expect from apple sturdy\\npremium durable beautiful stylish.\\n-Os most stable os in smartphone industry\\n\\nCons\\n-No 5G\\n-Display is not based on OLED technology\\n-Charger headphones and 1 apple stic...\\nREAD MORE',\n",
       " 'It’s a must buy who is looking for an upgrade from previous generation of iPhones. If you are using XR then still you can hold on for sometime and upgrade to 2020 model else this phone is a must buy . Camera quality is amazing and wide angle is something to count upon. Performance wise it’s amazing and feels premium while holding in hand. So a big YES for this device. Go for 128 GB variant as the 4K videos will occupy lots of space and the storage can get over very quickly. Try to buy it with...\\nREAD MORE',\n",
       " 'Value for money❤️❤️\\nIts awesome mobile phone in the world ...\\nDisplay was very good and bright ..\\nTrust me freinds you r never regret after Buying..\\nJust go for it....\\nI love this phone and i switch to iphone x to 11',\n",
       " 'What a camera .....just awesome ..you can feel this iPhone just awesome . Good for gaming also ...try pubg in hd it’s just wow',\n",
       " 'Totally in love with this ❤ the camera quality is amazing just love it 😘😘😘 itsss dammnnnnnn amazing... Must buy iPhone 11 this is my best experience ever ☀👌👌🧡🧡🧡🧡🧡 thanku apple ❤',\n",
       " 'Best budget Iphone till date ❤️ go for it guys without second thought. Let me explain you guys about Camera, Display, battery, and performance.\\n\\nCamera: at this price range there is no comparison of camera, you’ll love the picture quality as well as video quality. I am a Vlogger I wanted an iPhone with 4k video by front camera and I got this phone and I am more than happy 😃\\n\\nBattery: I use this phone roughly as I am active social media person and I have a youtube channel. so the battery ba...\\nREAD MORE',\n",
       " \"Iphone is just awesome.. battery backup is very very nice.. continuously for 10 hours we can use it.camera is just awesome.. display is just fab.i love it alot..i had to wait 15 days for it as i pre ordered it..overalll it's worth the price..these all images are clicked by my iPhone..and i love it.\",\n",
       " \"It's my first time to use iOS phone and I am loving my upgradation 😍😍 I love the color, I love the assebility of the phone....I need to learn more about its functionality, but as far as I have seen, it's quite easy and it has a lot of functions to work on, specially if you are a content writer or a blogger you get a lot of content creation platforms and they are really amazing.\\n\\nThis phone not only for good quality photography but a lot of other task too.😍💯\",\n",
       " 'Excellent camera, good performance, no lag. The lcd display is also good.. but difference come when we watch movie in prime and Netflix, the colours are not vibrant.. as we see in amoled display.. and the charger in box is of 5 watts.. takes more than 3 hours to charge from 0 to 100.. so guys be prepare to buy 18 watts charger . Finally I am an android user, it was my first Iapple phone, I promise u guys the iOS is so smooth.. overall the phone is damn good.... close eyes to buy it.. thanks t...\\nREAD MORE',\n",
       " 'It’s been almost a month since I have been using this phone. I upgraded from an iPhone 8. The main issue with my 8 was battery and this phone is just awesome when it comes to battery. It lasts a day and a half for me with my regular use , internet connected always with 4g\\nCan’t move forward without saying this. Battery of this phone is a life saver when I am traveling or at work when I don’t get the option to charge\\nCamera is superb. Front cam selfies and back cam photos are just awesome.\\n...\\nREAD MORE',\n",
       " 'Really worth of money. i just love it. It is the best phone ever.',\n",
       " 'Awesome Phone. Slightly high price but worth. Better than iPhone XR.\\nCamera is superb and wide angle camera is very clear.\\n12MP selfie camera is also very good.\\nA13 Chip gives a very good and smooth performance.',\n",
       " 'This is my first ever I phone. Before this I was using my google nexus 5. But moving from android to iOS is a great experience. It’s worth at this price. I will highly recommend it if you want to move to iOS. The best part of this phone is it’s camera and it’s battery life. This two things have won my heart. I loved it. Happy to have it in my hand. Still exploring its features. And can’t forget to mention Flipkart service. Very prompt service and fast delivery.',\n",
       " 'Superb Product !!!\\nA big and worthy upgrade from mi 3S to iphone 11 .\\nTotally loved it !',\n",
       " 'I have migrated from OP 7pro... and trust me, iPhone 11 is totally worth it.. following are the reasons:-\\n1)there is ABSOLUTELY NO ISSUE WITH THE DISPLAY... its crisp, sharp and I found it to be much much better than OP7 pro. Netflix, Prime video all run crisply... you won’t miss a thing. True Tone works flawlessly...the display brightness is perfect. OP have not calibrated their screens properly.\\n2) iPhone 11 series have really good cameras... others have spoken in depth about them.\\n3) bat...\\nREAD MORE',\n",
       " 'It’s an amazing product from apple and the camera is simply superb. Phone is faster.Night shot is simply superb and detailing and colour differentiation from camera is an added advantage\\n\\nThis review I have written from iPhone 11 only and I am glad to say outside.\\n\\nCons wise if we see HD+ display only, no battery percentage indicator as in older iPhone 8.\\nNo assistive touch control button in it\\nNo oleophobic coating on back panel glass and finger prints are visible but since I bought mint gr...\\nREAD MORE',\n",
       " 'Looking so good 👍 😍 super 👌 stylish 😎 phone\\nClean box 📦 good 👍 delivery 👌 fast delivery\\nOriginal box Original iphone 📱 👌 😍😍😍',\n",
       " 'After 1 month use I found camera quality best compared to my previous Samsung note 10+.Display not good as note 10 also charging too slow.Apple should add fast charger like 11 plus and pro.Best phone for daily use',\n",
       " 'I just directly switch from iphone 6s to iphone 11 .The best premium smartphone I recommend to everyone. Excellent quality and colors the iphone have in 11 series.\\nCamera quality is just awesome and the major feel when we hold in our hands. The sound quality and volume is also higher then the previous models.\\nI will recommend to buy iphone 11 instead of pro models , there is nothing much difference as this model contains everything which fulfill our needs.\\n\\nOnly one thing that I dislike abo...\\nREAD MORE',\n",
       " 'Upgraded from iphone 6 to 11 best phone for iphone users battery is much better than other iphones camera is awesome love to use it.camera is so clear in night.',\n",
       " 'Well you all know the specifications . One of a kind. Best iPhone till date. Many enhancements to the camera app with many options. Love the glass body with matte finish in the lens area on the back. Lovely colours to choose from. Best battery in an iPhone till date, enough to last more than a day in normal usage. I tested my iPhone 11 battery and lasted for than 24 hours after full charge still with 30% battery charge left. Watched movies for some time. Normal usage on calls, browsing, musi...\\nREAD MORE',\n",
       " \"It's very high performances devise i am like the service of flipkart delevary very fast and packing very nice perfect phone\",\n",
       " 'This will help you more. See if you are planning to buy iPhone 11. I will say. Yes. But there are some plans I just want to disclose before you buy. 1) If you are an existing iPhone X/XS/XS Max/ XR user, better you guys do not think it to buy. You guys have more or less better gadget. 2) If you are an android user and planning to buy premium phone. I will suggest them to please buy iPhone instead of buying an Android. I bet you will never go back to android after using IOS. Now I want to shar...\\nREAD MORE',\n",
       " 'The built quality is not very premium.\\nThe battery back is great .\\nThe LCD panel is not so sharp but the brightness level is very High .\\nCamera is super duper awesome.\\nThe red colour which people think is bright is actually very soothing and excellent colour to choose from .\\nThe A13 Bionic chip is really a flagship processor and can beat any phone which even has 12 gb ram .\\nCamera module is very great and looks very stylish.',\n",
       " 'Really good actually this is my first apple product am using its really awesome performance wise excellent. Am really happy with this iphone11',\n",
       " 'it is very good at performance. Camera is best like before and very smooth response even in water. Don’t buy 12 mini buy iPhone 11 , it is far better than 12 mini believe me ! Have a nice day \\uf8ff ☺️',\n",
       " 'Reviewing again after 5 months. At the beginning the battery and performance was good but it degraded soon. Also I was facing heating issues. The mobile will heat up like a stove sometimes. You cannot even play Pubg even in low settings properly, performance is not a problem but heating is. Also if you play that game for 10 mins the brightness will be automatically down due to over heating even when the auto brightness is set to off. This will not be solved even if u manually increase the bri...\\nREAD MORE',\n",
       " 'It is just awesome mobile for this price from Apple,\\n\\nAfter 10 days review\\n\\nBattery enough for 1 day even 24*7 Internet will be on and mostly internet usage\\n\\nCamera is just awesome cool , android 64 MP is equal to this just 12 MP\\n\\nA13 Bionic chip will give more high performance without hanging\\n\\nAudio stereo speakers will give Dolby atoms sound with crystal clear\\n\\nVideo recording is like cinematic shots of every sec can be a 4K 60fps. Just awesome this phone\\niPhone 11 loved one',\n",
       " 'Best Apple iPhone that i have bought at a very reasonable price, camera quality is next level just awesome n of superior quality android phones not even close(RIP) to that and also battery is really good but packaging by Flipkart of iPhone was very poor of such a expensive product, firstly im bit worried about the quality of product if i purchased it through online how was the product but i think now this was mine best decision to bought it through Flipkart online because i got genuine Apple...\\nREAD MORE',\n",
       " \"I can say I'm damn impressed with iPhone 11. As they says iPhone 11 have the toughest glass ever in the smartphone which you'll find on the front and back and it's totally smooth. The fit and finish is full apple quality - there's no sense that any cheaping out has happened in the construction. Without saying it's camera features this review won't complete. The iPhone 11 has a dual camera system, consisting of a wide angle len's that's pretty much same as found on the iPhone XR last year, but...\\nREAD MORE\",\n",
       " 'Best Quality Product OF iPhone Series , Sound Quality & Camera quality is very awesome, Battery Life is very Sufficient for 24 hr Backup With Full Internet Access , I love this this Product too much , It is very fast & making me Very fast in all my daily Routine\\nHighlights;\\n1.Camera: 5 STAR\\n2.Video Recording: 5 star\\n3.Night mODE sHOOTING & Camera:4 star\\n4. Audio Quality: Awesome\\n5. Battery : 5 Star\\n6. Touch:5 Star\\n7. Processor: Very Fast\\nThe M...\\nREAD MORE',\n",
       " 'First thanks to Flipkart for this amazing deal and phone is outstanding. I upgraded from iPhone 7 and this is like very big upgrade. But the packaging was very basic I expected a good packaging as they only wrapped one layer of bubble wrap which I don’t think is enough to protect this expensive phone. And I recommend this phone and seller as well.\\n\\nAnd I’m posting this review after using it for 4 days.',\n",
       " 'Superfast delivery by Flipkart. Thanks.\\n\\n1. iPhone 11 is a pretty solid phone for the money you are paying.\\n2. All the bad reviews about the display is confusing. It’s not that bad.\\n3. I switched from a Oneplus 7t. I have no complaints about the display quality of iPhone. Yes, it’s not OLED, so, we are missing on the deep blacks. But that’s it. It is a very colour accurate display. Gets adequately bright and I could not find any pixelation.\\n4. Performance is one of the best, if not best, in ...\\nREAD MORE',\n",
       " 'Smooth like butter, camera like fantabulous, sound is crystal clear & its red color is damn attractive, i am just loving it. Must buy if you love photography.\\n\\nLucky to get it in sale, thank you Flipkart.',\n",
       " \"Again back to apple iphone after a gap of 2-3 years. It's pleasure to use iOS and the quality product by Apple. Iphone 11 still works like a beast in 2021 also. It really capable of doing day to day usage as well as hard core gaming. Battery is awesome. I'm really too much satisfied with it. Apart fto the very gorgious IPS LCD (AMOLED will be better) everything is mind boggling. Iphone💕.\",\n",
       " 'impressive super phone and best in class camera ,sound and face unlock is super fast just see and phone is unlock and fast in daily apps use',\n",
       " 'Battery backup is extraordinary, camera is decent & performance offered by A13 bionic is awsome. The display is good in practical usage like the visibility of display is very good in direct sun light compare to pro models. Iam extremely satisfied for the money I spent.',\n",
       " 'Well while switching from android to iOS the first thing you need to be careful about is that you will loose all your whatsapp chat backups as both are different operating systems. Camera clarity is awesome and though being an lcd screen clarity and resolution is good. Battery backup is also good unlike previous gen iPhone. So far the experience is good will Padre after a few months of usage.\\n\\nP.S the black is more of a dark grey shade and not jet black',\n",
       " 'In love with this iphone great performance,camera ,battery everything. Go for it have a uncompareble battery backup, no doubts in iPhone camera here You can see the picture which is shot on my iPhone In love with this iphone great performance,camera ,battery everything. Go for it have a uncompareble battery backup, no doubts in iPhone camera here You can see the picture which is shot on my iPhone In love with this iphone great performance,camera ,battery everything. Go for it have a uncompare...\\nREAD MORE',\n",
       " 'Best in class. Battery backup is good especially when you play games like Pubg COD. But it is sort of heavy when you hold in hands. Portrait mode is best to click pictures. Stage light effect is awesome. Try to click photos outside in nature because photos inside home or room will not give you the quality in any phone even in DSLR.',\n",
       " 'Very excited to have this phone. This phone has the real power unlike the android phones having SD 855 . The battery life is very good and the camera quality is excellent as comapred to redmi and other phones except google pixel. I M enjoying every single bit of it. Would recommed only if you have the budget.',\n",
       " \"I upgraded (downgraded?) from my iPhone X since the phone fell down and I didn't want to repair the screen. The box that the phone came in was super slim and I was worried that there'd be no 5W charger with it and my fears were confirmed. However, thankfully I had the 18W USB-C PD charger from Apple which I bought for my iPhone X and it worked perfectly. The charging time is as lethargic as ever though and it takes about 1:30 mins or even 2 hours depending on charge remaining. I'll list some ...\\nREAD MORE\",\n",
       " 'Its Very awesome product working and good camera quality and all about best product and also flipkart is very great deal and offer nice price',\n",
       " 'I am using this phone for 5 days and its one of the best camera out there ❤️ the screen is not oled and i am coming from iphone xs so its little bit not up to the mark i would say\\nBut overall value for money💕😍the battery back up is far better than my iphone xs and its worth in my apple ecosystem💫❤️if u are an apple User and have the eco system then go for it❤️though i will be getting the new iphone but its pretty good💫',\n",
       " 'Best and amazing product.....phone looks so premium.... battary is also good as expected .... Wide angle camera is so addictive ...if you are a IOS lover....then this phone will be the best choice for you all!!💯🔥',\n",
       " 'Excellent camera and display touching very nice and smooth very improvement against iPhone XR and new processor is very fast',\n",
       " \"I got this beast today. And I must say the picture quality of its camera is awesome. Both the cameras works fine.\\n\\nAs for as the processing is concerned, it runs without any lag. You can play and do whatever you want without a glitch.\\n\\nThe battery runs for a day with medium and high workload.\\n\\nThe display is good and the speakers are working fine.\\n\\nThe earphones doesn't have any base and you can use it for calling mostly.\\n\\nThe charging time is approximately for 90 minutes for full charging...\\nREAD MORE\",\n",
       " 'Awesome purchase. Amazing phone with good battery backup. It’s a top notch device. White colour looks amazing. Phone has a few extra feature than iPhone XR. Overall, this is value for money',\n",
       " 'Always love the apple products, upgraded from old iPhone 6S plus to this after having my first baby. I just love to click baby’s photos with it. Overall I just love this phone. Battery back up is okay, sound quality is good. Haven’t tested yet waterproof yet. Only one thing I hate is apple could have given charger & headphones in box.',\n",
       " 'Value for money\\n5 star rating\\nExcellent camera\\nBattery backup full day in single charge.\\n\\nTougher and water resistant design, glossy back.\\nThe screen has excellent brightness and contrast.\\nApple A13 Bionic is the fastest smartphone chip on the planet.\\nExcellent battery life, fast charging support.\\nStereo speakers with great quality.',\n",
       " 'Amazing camera and feel super machine I am not describe my feeling but this is amazing Phone I am so lucky I have this',\n",
       " 'Please DONT buy from here,\\n\\nI purchased Apple iPhone 11. with an exchange of IPhone 7, the exchange did not go well, iPhone 7 had a small scratch out side screen which i could never identify till date, but the FLIPKART person could, so he reduced 50% from exchange rate. I decided not to trade in, but paid money.\\n\\niPhone 11 Detail Below\\n---------------------------------------------\\nIt came with no charging, then i have put for charging, it took lot of time for charging, the phone also showe...\\nREAD MORE',\n",
       " 'awesome phone to have. it has got many smart features apart from mind blowing looks, camera, display, battery and sound. have fallen in love with this phone. must buy phone if you have got enough money. thanks to flipkart and apple of course..',\n",
       " 'Its a fabulous mobile look awesome performance unbeaten camera like dslr battery good i think this is a beast of mobile',\n",
       " 'Dear friends... I want to share my experience with you about this amazing I phone 11....this is my first iPhone and special things about this mobile is it has great camera, battery backup and awesome display.... I mean everything is perfect.loved it 👍👍👍',\n",
       " \"Just got this iphone 11\\nAnd it is most powerful mobile phone I have used ever\\n\\nSo,go for it if you want a phone with best specification like camera,battery backup,display, A13 bionic chip\\n\\nThat's my review about this phone but yours can be differ from me....\",\n",
       " 'Amazing phone and on great deal I received with super fast delivery by Flipkart...',\n",
       " 'finally an iPhone with very nice battery backup. update from iPhone 7 and happy to have it. camera is not up to the mark in low light but overall a recommended phone if your budget allows 😀',\n",
       " \"I'm switching this phone to oppo reno 10x zoom\\nIt's really impressive\\nRarely I'm missing smooth display touch response like oppo reno but\\nI really loved it.\\nCamera really impressive\",\n",
       " 'Worth the money’ starting first from its performance it beats out all phones , second the smoothness of camera is awesome, contrast ratio is much than expected. Price will not matter if u r a quality person, if not other phones are available with better discount',\n",
       " \"I'm Really happy with the product\\nDelivery was fast as well\\n..it was a gift for my sister and she loved it so much.\",\n",
       " 'Great iphone.\\nI am writing this review after 2 months of usage.\\nCamera is excellent, especially the nightmode\\nDisplay perfect\\nBattery backup awesome\\nSound quality very good\\nOverall Apple gives you a perfect iphone in this range.\\nReally in love with iPhone 11',\n",
       " 'Did an upgrade from 6s plus to iphone 11.\\nAo far the experience is well and good. Felt smoother than 6s plus. The camera quality is superb. Battery backup is descent. Not a heavy user, and gets power more than a day. Go for it if you need an alrounder iphone in a competitve price.',\n",
       " 'I dreamt about this day from a long time.... Getting an iPhone with my own money.... Super happy and worth spending every penny',\n",
       " 'Damn this phone is a blast . Upgraded from android to ios and is a duperb experience. Battery backup is top notch and display also pretty good',\n",
       " 'Thanks Flipkart For this amazing deal! I had a dream of owning a iphone since i had known about.\\nIm very happy with my purchase & it is totally worth it.\\nAmazing experience all over !!\\n\\nAnyone who’s thinking of buying it in 2021, i would simply say go for it without any second thoughts ❤️',\n",
       " 'Gifted my man on his 30th birthday 🎂 He loves it.. Him happy so i am more than happy 😍😘❤️🥰',\n",
       " 'awesome Phone Smooth Touch Too good Sexyy looks one word Awesome',\n",
       " 'I rate this product 5* as it has got amazing user experience with the best performing A13 bionic processor. The screen responds and graphics rendering is top notch. With casual gaming and internet browsing, the battery lasts for approx. 1 day. Camera is very good. You will fall in love with the portrait mode. You can call me a loyal Apple customer or whatever but I won’t stop praising the products and overall experience. That user experience matters and is worth every penny you pay.\\n\\nBelow ar...\\nREAD MORE',\n",
       " \"It was amazing experience for me. Honestly i am using iPhone first time so I don't have that much past experience about that. But after using 7 days this mobile i want to give some honest feedback.\\n1- Display 9 out of 10\\n2- Camera 9.5 out of 10\\n3- Battery 7 out of 10\\n4- Performance 9.5 out of 10\\n5- Features & Functions 10 out of 10\\n6- Outer looks and colour 10 out of 10\\nRest i think i will understand after using this for few months.\\nI will highly recommend you guys if you have budget then you...\\nREAD MORE\",\n",
       " \"Just go for it.\\nThis phone is really amazing. I ordered it for my wife and we click photos on this thing which are better than dslr. I own OnePlus 6t but it's camera sucks. iPhone is really amazing when it comes to camera. It's worth spending 50k on this. Cons- only display is lcd. While using u don't feel it but if u compare with other phone then u can see difference quite easily.\\nChanging from Android to iphone is bit difficult coz most of things u don't know but I liked it. Some of the a...\\nREAD MORE\",\n",
       " \"I've used this phone for over a month now and here are my takeaways.\\nI would like to first talk about the best things about this phone and then the cons of it.\\n\\nPros:\\nThis phone is a performance beast. It handles large games and applications effortlessly and you won't find any stutters or lags while playing graphic intensive games like pubg, cod , mortal kombat and asphalt.\\n\\nThis phone has only 4gb ram and yet the ram management is amazing, it can keep 3 heavy games in memory without reload...\\nREAD MORE\",\n",
       " 'Absolutely powerful gadget. Loved it’s look! Soo glassy and classy. I would definitely recommend this model of Apple. Only disappointed with the 5W charger, one should purchase an 18W adapter for fast charging. Though battery backup is great. Bought it in September 2020, reviewing after so long so I’m gonna put the genuine review here.✅',\n",
       " \"phone is good but in display is 720p lcd in this price range we can get full hd OLED displays with higher refresh rate processor is very good camera is nice but looks kind of oldish in front of todays phone also there's no charging in box had to buy it seperately\",\n",
       " 'Nice value for money good and best price I phone mind blowing camera processor very fast other android mobile I am happy India top selling phone 2020',\n",
       " 'I bought iPhone 11 On March 2021, And I am Writing this review after using the phone for 4 Months. I would Say Everything is fine, Top Performance, Nice Camera as Anyone would Expect from any series of iPhone but when the Question comes to Battery it is complicated. The Battery is fully optimised and it comes 3110 mAh capacity but the problem is with the charger. Honestly Apple Removed charger from in Box items in the name of Environment and they are also forcing us to buy any 20W PD 3rd part...\\nREAD MORE',\n",
       " 'Here is the thing\\n\\nThe only reason why you should buy this phone is for the camera, iOS, and if you have headaches looking at AMOLED display.\\n\\nI’m not an avid gamer but watch a lot of movies on smartphone. However, my migraine attacks increased considerably after using AMOLED Smartphone. That’s why I made a calculated decision to buy iPhone 11. It has the best LCD display and the blacks, though not as natural as an AMOLED, is better than some of the other smartphones.\\n\\nAdding to this the ste...\\nREAD MORE',\n",
       " 'Undoubtedly Iphone 11 is the most successful model till now and its performance is extraordinary and the security features are very impressive, display is more vibrant sound quality Camera Quality 5*****, but Iphone should add accessories too and act like scrooge.',\n",
       " \"If you are looking for a premium phone under 55k, this is the one for you.Got the iPhone 11 during the Republic day sale. Performance is top notch in this price range. Camera's do a perfect job in taking good quality photos and videos. Battery backup too is satisfactory. Writing this review after using for a week. Any further observations would be updated.\",\n",
       " 'I purchased the iPhone 11 a month back. I must say Apple has impressed me yet again . I have been an Apple user for past 5 years . The phone is power packed with amazing features . What impressed me the most was the battery backup the phone offers . Battery can easily run upto 1.5 days in single charge with moderate to\\nHeavy usage . If you’re looking for a value for money device , I don’t see any other phone in the price range which can match the iPhone 11 .\\nOne thing I didn’t like was that ...\\nREAD MORE',\n",
       " 'We are on apple ecosystem for almost eight years now with couple of iPads and iPhones, including Xr.\\n\\nBought iPhone 11 as a gift to my daughter who loves it. We chose for a purple coloured one. Believe me it is gorgeous and towards the lighter shade. Dazzling and brilliant!\\n\\nThe phone is great and does excellent RAM management like any other Apple device.\\n\\nThe screen, though a LCD and lesser ppi as compared to other flagship phones of competitor brands, is a delight to watch with perfect re...\\nREAD MORE',\n",
       " 'Can’t beat the software and hardware integration of apple.\\nPerforms like a beast. Great quality camera\\n6-7 hours screen on time which is good. Nothing much to complaint about the screen. Good connectivity speeds.\\nGreat buy and Flipkart’s delivery top notch as usual',\n",
       " 'I use a Note10+ and have been using both iOS and Android devices.\\n\\nCamera has really good features and portraits are super good, better than Samsung flagship. Overall camera setup can still be enhanced and hopeful for better upgrades on software in next release\\n\\nOperating system is quite a breeze and user experience of daily usage is very high as compared to Android. I moved to iOS very swiftly in 2 days for all my office work from Note10+\\n\\nBattery holds up quite well with 4 hrs of call and ...\\nREAD MORE',\n",
       " 'The phone is completely good\\nAs far as camera Apple is king of it\\nAnd its a beast in performance\\nAnd the battery is pretty good too',\n",
       " 'Everything u ll like it when u use this iPhone. Simple changes only not many to lower models but it’s nice to use. Little heavy compared to previous models like 7,8',\n",
       " 'This is my first ever iPhone.\\nAnd I truly don’t regret switching to IOS from my Android.\\n\\nIt is easily an alternative to a DSLR camera.\\nIf you’re obsessed with photos and videos, just don’t think twice or don’t compare to other androids(Samsung S10 lite or OnePlus 8/8T), as it’s far better from them in every field.\\nComparing will only make you confused.\\n\\nI am getting an average Screen on Time of around 10 hours with 30 percent left. I haven’t let my device discharged below 30 % as it aff...\\nREAD MORE',\n",
       " 'Everything is perfect pictures come out so clearly and at first I wasn’t sure when I got it then when I started to use it and get the hang of it it was amazing!! I can’t wait to see what the next future phones will be like. The screen display on this bad boy are unbelievable they are so clear and never fail me. The performance is super cool there is a lot of cool features as well I like this phone because I feel that it is easy to use and one of my favorite things about this phone is the Face...\\nREAD MORE',\n",
       " 'The ultimate performance\\nCamera is superb\\nThe battery backup also very good i never saw iphone gives this much of battery backup\\nIf any one wana buy iphone 11 definitely i will recommend this mobile\\nIt has the better battery and powerfull processer peak performance glorious camera and the display also 100% high quality lcd display if u had money for for 12 if u dont wana invest much money on that then go for iphone 11 it has maximum same specs only main difference between the 12 and 11 is...\\nREAD MORE',\n",
       " 'Excellent camera 📸 And Display touching very Nice And Smooth and very improvement against\\nI phone 11 and new processor is very fast',\n",
       " 'A perfect phone and a good battery super camera and the sound is dynamic overall the phone is perfect for upgrading from lower iPhone model to iPhone 11',\n",
       " 'Value for money product. This iphone 11 is really amazing. Again nice release by apple. Great camera, battery backup is excellent. I just love this phone']"
      ]
     },
     "execution_count": 88,
     "metadata": {},
     "output_type": "execute_result"
    }
   ],
   "source": [
    "iphone_review=[]\n",
    "for i in page_url[0:10]:\n",
    "    driver7.get(i)\n",
    "    review=driver7.find_elements_by_xpath(\"//div[@class='t-ZTKy']\")\n",
    "    for i in review:\n",
    "        iphone_review.append(i.text)\n",
    "iphone_review"
   ]
  },
  {
   "cell_type": "markdown",
   "metadata": {},
   "source": [
    "# Q8"
   ]
  },
  {
   "cell_type": "code",
   "execution_count": 112,
   "metadata": {},
   "outputs": [],
   "source": [
    "driver8=webdriver.Chrome(r'C:\\Users\\delkl\\Downloads\\chromedriver.exe')"
   ]
  },
  {
   "cell_type": "code",
   "execution_count": 113,
   "metadata": {},
   "outputs": [],
   "source": [
    "url8='https://www.flipkart.com/'\n",
    "driver8.get(url8)"
   ]
  },
  {
   "cell_type": "code",
   "execution_count": 114,
   "metadata": {},
   "outputs": [
    {
     "data": {
      "text/plain": [
       "<selenium.webdriver.remote.webelement.WebElement (session=\"9c026057245b82a5c323b781b13b4ad2\", element=\"c5a84274-ae2d-4cb7-a1cb-2c73e86eba81\")>"
      ]
     },
     "execution_count": 114,
     "metadata": {},
     "output_type": "execute_result"
    }
   ],
   "source": [
    "search_item1=driver8.find_element_by_xpath(\"//input[@class='_3704LK']\")\n",
    "search_item1"
   ]
  },
  {
   "cell_type": "code",
   "execution_count": 115,
   "metadata": {},
   "outputs": [],
   "source": [
    "search_item1.send_keys('sneakers')"
   ]
  },
  {
   "cell_type": "code",
   "execution_count": 116,
   "metadata": {},
   "outputs": [],
   "source": [
    "search_btn8=driver8.find_element_by_xpath(\"//button[@class='L0Z3Pu']\")\n",
    "search_btn8.click()"
   ]
  },
  {
   "cell_type": "code",
   "execution_count": 117,
   "metadata": {},
   "outputs": [
    {
     "data": {
      "text/plain": [
       "['Numenzo',\n",
       " 'World Wear Footwear',\n",
       " 'Chevit',\n",
       " 'ASTEROID',\n",
       " 'Red Rose',\n",
       " 'Numenzo',\n",
       " 'BRUTON',\n",
       " 'PEHANOSA',\n",
       " 'bluemaker',\n",
       " 'Chevit',\n",
       " 'Magnolia',\n",
       " 'Chevit',\n",
       " 'luxury fashion',\n",
       " 'Shoes Bank',\n",
       " 'RODDICK SHOES',\n",
       " 'Chevit',\n",
       " 'believe',\n",
       " 'Robbie jones',\n",
       " 'Nilatin',\n",
       " 'SCATCHITE',\n",
       " 'BRUTON',\n",
       " 'Chevit',\n",
       " 'India hub',\n",
       " 'Kraasa',\n",
       " 'ROCKFIELD',\n",
       " 'World Wear Footwear',\n",
       " 'Nilatin',\n",
       " 'Absolute comfort',\n",
       " 'SPARX',\n",
       " 'Chevit',\n",
       " 'PUMA',\n",
       " 'SPARX',\n",
       " 'Zsyto',\n",
       " 'Ktiz',\n",
       " 'Longwalk',\n",
       " 'bluemaker',\n",
       " 'Echor',\n",
       " 'World Wear Footwear',\n",
       " 'D-SNEAKERZ',\n",
       " 'Arohi']"
      ]
     },
     "execution_count": 117,
     "metadata": {},
     "output_type": "execute_result"
    }
   ],
   "source": [
    "brand11=driver8.find_elements_by_xpath(\"//div[@class='_2WkVRV']\")\n",
    "brand_titles11=[]\n",
    "for i in brand11:\n",
    "    brand_titles11.append(i.text)\n",
    "brand_titles11"
   ]
  },
  {
   "cell_type": "code",
   "execution_count": 118,
   "metadata": {},
   "outputs": [
    {
     "data": {
      "text/plain": [
       "['Sneakers For Men',\n",
       " '5011-Latest Collection Stylish Casual Loafer Sneakers S...',\n",
       " 'Unique & Perfect Collection Combo Pack of 02 Shoes for ...',\n",
       " \"Original Luxury Branded Fashionable Men's Casual Walkin...\",\n",
       " 'Sneakers For Men',\n",
       " 'Sneakers For Men',\n",
       " 'Combo Pack Of 4 Casual Shoes Loafer Shoes Sneakers For ...',\n",
       " 'Sneakers For Men',\n",
       " 'casual for men (blue 06) Sneakers For Men',\n",
       " 'Super Stylish & Trendy Combo Pack of 02 Pairs Sneakers ...',\n",
       " 'Sneakers For Men',\n",
       " '494 Perfect Sports Shoes for Running Training Hikking &...',\n",
       " 'Luxury Fashionable casual sneaker shoes Sneakers For Me...',\n",
       " \"White Sneaker For Men's/Boy's Sneakers For Men\",\n",
       " 'Fashion Outdoor Canvas Casual Light Weight Lace-up Even...',\n",
       " 'Speed Set of 5 Pairs Sneakers Outdoors Casuals for Men ...',\n",
       " 'Sneakers for men(black_6) Sneakers For Men',\n",
       " 'Sneakers For Men',\n",
       " 'Black Sneaker For Men Sneakers For Men',\n",
       " 'Sneakers Sneakers For Men',\n",
       " 'Modern & Trendy Collection Combo Pack of 02 Shoes for M...',\n",
       " 'Perfect & Affordable Combo Pack of 03 Pairs Casual Snea...',\n",
       " 'Fashionable casual sneakers shoes Sneakers For Men',\n",
       " 'Series 7 Sneakers For Men',\n",
       " 'Sneakers For Men',\n",
       " 'Men 5014 Latest Collection Stylish Casual Sports Loafer...',\n",
       " 'Perfect & Affordable Combo Pack of 02 Pairs Sneakers Ou...',\n",
       " 'Puma Rebound LayUp SL Sneakers For Men',\n",
       " 'SM-322 Sneakers For Men',\n",
       " \"White Sneaker For Men's/Boy's Sneakers For Men\",\n",
       " 'Men Boxer Sneakers For Men',\n",
       " 'casual for men (beige 06) Sneakers For Men',\n",
       " 'Trend Sneakers For Men',\n",
       " 'Latest Collection-1227 Stylish Casual Sports Sneakers F...',\n",
       " \"Casual , Partywear Sneakers Shoes For Men's And Boys Wh...\",\n",
       " 'Sneakers For Men']"
      ]
     },
     "execution_count": 118,
     "metadata": {},
     "output_type": "execute_result"
    }
   ],
   "source": [
    "description11=driver8.find_elements_by_xpath(\"//a[@class='IRpwTa']\")\n",
    "product_desc11=[]\n",
    "for i in description11:\n",
    "    product_desc11.append(i.text)\n",
    "product_desc11"
   ]
  },
  {
   "cell_type": "code",
   "execution_count": 119,
   "metadata": {},
   "outputs": [
    {
     "data": {
      "text/plain": [
       "['₹378',\n",
       " '₹240',\n",
       " '₹420',\n",
       " '₹499',\n",
       " '₹399',\n",
       " '₹426',\n",
       " '₹399',\n",
       " '₹399',\n",
       " '₹399',\n",
       " '₹536',\n",
       " '₹356',\n",
       " '₹254',\n",
       " '₹399',\n",
       " '₹331',\n",
       " '₹474',\n",
       " '₹679',\n",
       " '₹449',\n",
       " '₹474',\n",
       " '₹426',\n",
       " '₹398',\n",
       " '₹499',\n",
       " '₹594',\n",
       " '₹404',\n",
       " '₹416',\n",
       " '₹299',\n",
       " '₹240',\n",
       " '₹407',\n",
       " '₹198',\n",
       " '₹629',\n",
       " '₹447',\n",
       " '₹2,899',\n",
       " '₹769',\n",
       " '₹295',\n",
       " '₹384',\n",
       " '₹260',\n",
       " '₹399',\n",
       " '₹435',\n",
       " '₹240',\n",
       " '₹348',\n",
       " '₹464']"
      ]
     },
     "execution_count": 119,
     "metadata": {},
     "output_type": "execute_result"
    }
   ],
   "source": [
    "price11=driver8.find_elements_by_xpath(\"//div[@class='_30jeq3']\")\n",
    "product_price11=[]\n",
    "for i in price11:\n",
    "    product_price11.append(i.text)\n",
    "product_price11"
   ]
  },
  {
   "cell_type": "code",
   "execution_count": 120,
   "metadata": {},
   "outputs": [
    {
     "data": {
      "text/plain": [
       "['62% off',\n",
       " '51% off',\n",
       " '71% off',\n",
       " '75% off',\n",
       " '60% off',\n",
       " '78% off',\n",
       " '88% off',\n",
       " '60% off',\n",
       " '60% off',\n",
       " '66% off',\n",
       " '64% off',\n",
       " '74% off',\n",
       " '69% off',\n",
       " '66% off',\n",
       " '52% off',\n",
       " '72% off',\n",
       " '55% off',\n",
       " '52% off',\n",
       " '67% off',\n",
       " '60% off',\n",
       " '80% off',\n",
       " '77% off',\n",
       " '86% off',\n",
       " '58% off',\n",
       " '70% off',\n",
       " '51% off',\n",
       " '68% off',\n",
       " '60% off',\n",
       " '10% off',\n",
       " '75% off',\n",
       " '42% off',\n",
       " '23% off',\n",
       " '77% off',\n",
       " '61% off',\n",
       " '47% off',\n",
       " '60% off',\n",
       " '56% off',\n",
       " '51% off',\n",
       " '47% off',\n",
       " '53% off']"
      ]
     },
     "execution_count": 120,
     "metadata": {},
     "output_type": "execute_result"
    }
   ],
   "source": [
    "discount11=driver8.find_elements_by_xpath(\"//div[@class='_3Ay6Sb']\")\n",
    "product_discount11=[]\n",
    "for i in discount11:\n",
    "    product_discount11.append(i.text)\n",
    "product_discount11"
   ]
  },
  {
   "cell_type": "code",
   "execution_count": 121,
   "metadata": {},
   "outputs": [],
   "source": [
    "next_btn11=driver8.find_element_by_xpath(\"//a[@class='_1LKTO3']\")\n",
    "next_btn11.click()"
   ]
  },
  {
   "cell_type": "code",
   "execution_count": 122,
   "metadata": {},
   "outputs": [
    {
     "data": {
      "text/plain": [
       "['RODDICK SHOES',\n",
       " 'T-ROCK',\n",
       " 'PUMA',\n",
       " 'World Wear Footwear',\n",
       " 'BRUTON',\n",
       " 'CALCADOS',\n",
       " 'tigonis',\n",
       " 'restinfoot',\n",
       " 'Creer',\n",
       " 'Zsyto',\n",
       " 'SPARX',\n",
       " 'Fzzirok',\n",
       " 'India hub',\n",
       " 'PUMA',\n",
       " 'Edoeviv',\n",
       " 'HOCKWOOD',\n",
       " 'Ktiz',\n",
       " 'HOC',\n",
       " 'Airland',\n",
       " 'SPARX',\n",
       " 'Jokatoo',\n",
       " 'Labbin',\n",
       " 'ROCKFIELD',\n",
       " 'BIRDE',\n",
       " 'Zixer',\n",
       " 'World Wear Footwear',\n",
       " 'Jack Diamond',\n",
       " 'Labbin',\n",
       " 'Edoeviv',\n",
       " 'RODDICK SHOES',\n",
       " 'Magnolia',\n",
       " 'Chevit',\n",
       " 'Zorth',\n",
       " 'Robbie jones',\n",
       " 'SPARX',\n",
       " 'ESSENCE',\n",
       " 'D-SNEAKERZ',\n",
       " 'Robbie jones',\n",
       " 'Chevit',\n",
       " 'BRUTON']"
      ]
     },
     "execution_count": 122,
     "metadata": {},
     "output_type": "execute_result"
    }
   ],
   "source": [
    "brand22=driver8.find_elements_by_xpath(\"//div[@class='_2WkVRV']\")\n",
    "brand_titles22=[]\n",
    "for i in brand22:\n",
    "    brand_titles22.append(i.text)\n",
    "brand_titles22"
   ]
  },
  {
   "cell_type": "code",
   "execution_count": 123,
   "metadata": {},
   "outputs": [
    {
     "data": {
      "text/plain": [
       "['Fashion Outdoor Canvas Casual Light Weight Lace-up Even...',\n",
       " 'Synthetic Leather Casual Partywear Wedding Sneakers Sho...',\n",
       " 'X-Ray Sneakers For Men',\n",
       " 'Sneakers For Men',\n",
       " 'Modern Trendy Sneakers Shoes Sneakers For Men',\n",
       " 'Sneakers For Men',\n",
       " 'Casual shoes Sneakers For Men',\n",
       " 'Men White Sneakers Sneakers For Men',\n",
       " 'Fashionable casual sneakers shoes Sneakers For Men',\n",
       " 'Acrux IDP Sneakers For Men',\n",
       " \"Original Luxury Branded Fashionable Men's Casual Walkin...\",\n",
       " 'Rockstyle Trending Multicolor Ultralight canvas Sport/ ...',\n",
       " 'Luxury Fashionable Breathable White shoes for men Sneak...',\n",
       " 'shoe Sneakers For Men',\n",
       " 'Canvas Casual Partywear Outdoor Sneakers Shoes For Mens...',\n",
       " 'Casual Sneakers White Shoes For Men And Boys Sneakers F...',\n",
       " 'Sneakers For Men',\n",
       " 'Combo Pack of 4 Casual Shoes Sneakers For Men',\n",
       " 'Combo Pack of 4 Latest Collection Stylish Casual Loafer...',\n",
       " 'Sneakers For Men',\n",
       " \"Luxury Branded Fashionable Men's Casual Walking Partywe...\",\n",
       " 'Fashion Outdoor Canvas Casual Light Weight Lace-up Even...',\n",
       " 'White Sneakers Sneakers For Men',\n",
       " 'Super 445 Fashion Sneakers For Men',\n",
       " 'Sneakers For Men',\n",
       " 'Casual Sneakers Shoes For Men Sneakers For Men',\n",
       " 'Casual Sneakers Sneakers For Men',\n",
       " 'Sneakers For Men',\n",
       " \"Casual , Partywear Sneakers Shoes For Men's And Boys Re...\",\n",
       " 'Casual Sneakers White Shoes For Men Sneakers For Men',\n",
       " 'Chevit Latest Fashion Combo Pack of 2 Pairs Casual Outd...',\n",
       " 'Combo Pack Of 4 Casual Sneakers For Men']"
      ]
     },
     "execution_count": 123,
     "metadata": {},
     "output_type": "execute_result"
    }
   ],
   "source": [
    "description22=driver8.find_elements_by_xpath(\"//a[@class='IRpwTa']\")\n",
    "product_desc22=[]\n",
    "for i in description22:\n",
    "    product_desc22.append(i.text)\n",
    "product_desc22"
   ]
  },
  {
   "cell_type": "code",
   "execution_count": 124,
   "metadata": {},
   "outputs": [
    {
     "data": {
      "text/plain": [
       "['₹474',\n",
       " '₹378',\n",
       " '₹2,730',\n",
       " '₹240',\n",
       " '₹319',\n",
       " '₹748',\n",
       " '₹359',\n",
       " '₹341',\n",
       " '₹398',\n",
       " '₹378',\n",
       " '₹625',\n",
       " '₹360',\n",
       " '₹387',\n",
       " '₹1,350',\n",
       " '₹474',\n",
       " '₹674',\n",
       " '₹429',\n",
       " '₹449',\n",
       " '₹251',\n",
       " '₹629',\n",
       " '₹418',\n",
       " '₹399',\n",
       " '₹299',\n",
       " '₹624',\n",
       " '₹555',\n",
       " '₹499',\n",
       " '₹635',\n",
       " '₹449',\n",
       " '₹449',\n",
       " '₹474',\n",
       " '₹311',\n",
       " '₹348',\n",
       " '₹439',\n",
       " '₹379',\n",
       " '₹939',\n",
       " '₹353',\n",
       " '₹346',\n",
       " '₹474',\n",
       " '₹581',\n",
       " '₹499']"
      ]
     },
     "execution_count": 124,
     "metadata": {},
     "output_type": "execute_result"
    }
   ],
   "source": [
    "price22=driver8.find_elements_by_xpath(\"//div[@class='_30jeq3']\")\n",
    "product_price22=[]\n",
    "for i in price22:\n",
    "    product_price22.append(i.text)\n",
    "product_price22"
   ]
  },
  {
   "cell_type": "code",
   "execution_count": 125,
   "metadata": {},
   "outputs": [
    {
     "data": {
      "text/plain": [
       "['52% off',\n",
       " '62% off',\n",
       " '57% off',\n",
       " '51% off',\n",
       " '75% off',\n",
       " '62% off',\n",
       " '80% off',\n",
       " '65% off',\n",
       " '60% off',\n",
       " '70% off',\n",
       " '16% off',\n",
       " '63% off',\n",
       " '87% off',\n",
       " '59% off',\n",
       " '40% off',\n",
       " '32% off',\n",
       " '66% off',\n",
       " '77% off',\n",
       " '49% off',\n",
       " '16% off',\n",
       " '71% off',\n",
       " '60% off',\n",
       " '70% off',\n",
       " '68% off',\n",
       " '44% off',\n",
       " '81% off',\n",
       " '36% off',\n",
       " '55% off',\n",
       " '55% off',\n",
       " '52% off',\n",
       " '68% off',\n",
       " '30% off',\n",
       " '56% off',\n",
       " '62% off',\n",
       " '23% off',\n",
       " '64% off',\n",
       " '65% off',\n",
       " '52% off',\n",
       " '61% off',\n",
       " '87% off']"
      ]
     },
     "execution_count": 125,
     "metadata": {},
     "output_type": "execute_result"
    }
   ],
   "source": [
    "discount22=driver8.find_elements_by_xpath(\"//div[@class='_3Ay6Sb']\")\n",
    "product_discount22=[]\n",
    "for i in discount22:\n",
    "    product_discount22.append(i.text)\n",
    "product_discount22"
   ]
  },
  {
   "cell_type": "code",
   "execution_count": 128,
   "metadata": {},
   "outputs": [],
   "source": [
    "next_btn22=driver8.find_element_by_xpath(\"//a[@class='_1LKTO3']\")\n",
    "next_btn22.click()"
   ]
  },
  {
   "cell_type": "code",
   "execution_count": 129,
   "metadata": {},
   "outputs": [
    {
     "data": {
      "text/plain": [
       "['Numenzo',\n",
       " 'World Wear Footwear',\n",
       " 'Chevit',\n",
       " 'ASTEROID',\n",
       " 'Red Rose',\n",
       " 'Numenzo',\n",
       " 'BRUTON',\n",
       " 'PEHANOSA',\n",
       " 'bluemaker',\n",
       " 'Chevit',\n",
       " 'Magnolia',\n",
       " 'Chevit',\n",
       " 'luxury fashion',\n",
       " 'Shoes Bank',\n",
       " 'RODDICK SHOES',\n",
       " 'Chevit',\n",
       " 'Robbie jones',\n",
       " 'believe',\n",
       " 'Nilatin',\n",
       " 'SCATCHITE']"
      ]
     },
     "execution_count": 129,
     "metadata": {},
     "output_type": "execute_result"
    }
   ],
   "source": [
    "brand33=driver8.find_elements_by_xpath(\"//div[@class='_2WkVRV']\")\n",
    "brand_titles33=[]\n",
    "for i in brand33[0:20]:\n",
    "    brand_titles33.append(i.text)\n",
    "brand_titles33"
   ]
  },
  {
   "cell_type": "code",
   "execution_count": 130,
   "metadata": {},
   "outputs": [
    {
     "data": {
      "text/plain": [
       "['Sneakers For Men',\n",
       " '5011-Latest Collection Stylish Casual Loafer Sneakers S...',\n",
       " 'Unique & Perfect Collection Combo Pack of 02 Shoes for ...',\n",
       " \"Original Luxury Branded Fashionable Men's Casual Walkin...\",\n",
       " 'Sneakers For Men',\n",
       " 'Sneakers For Men',\n",
       " 'Combo Pack Of 4 Casual Shoes Loafer Shoes Sneakers For ...',\n",
       " 'Sneakers For Men',\n",
       " 'casual for men (blue 06) Sneakers For Men',\n",
       " 'Super Stylish & Trendy Combo Pack of 02 Pairs Sneakers ...',\n",
       " 'Sneakers For Men',\n",
       " '494 Perfect Sports Shoes for Running Training Hikking &...',\n",
       " 'Luxury Fashionable casual sneaker shoes Sneakers For Me...',\n",
       " \"White Sneaker For Men's/Boy's Sneakers For Men\",\n",
       " 'Fashion Outdoor Canvas Casual Light Weight Lace-up Even...',\n",
       " 'Speed Set of 5 Pairs Sneakers Outdoors Casuals for Men ...',\n",
       " 'Sneakers For Men',\n",
       " 'Sneakers for men(black_6) Sneakers For Men',\n",
       " 'Black Sneaker For Men Sneakers For Men',\n",
       " 'Sneakers Sneakers For Men']"
      ]
     },
     "execution_count": 130,
     "metadata": {},
     "output_type": "execute_result"
    }
   ],
   "source": [
    "description33=driver8.find_elements_by_xpath(\"//a[@class='IRpwTa']\")\n",
    "product_desc33=[]\n",
    "for i in description33[0:20]:\n",
    "    product_desc33.append(i.text)\n",
    "product_desc33"
   ]
  },
  {
   "cell_type": "code",
   "execution_count": 131,
   "metadata": {},
   "outputs": [
    {
     "data": {
      "text/plain": [
       "['₹378',\n",
       " '₹240',\n",
       " '₹420',\n",
       " '₹499',\n",
       " '₹399',\n",
       " '₹426',\n",
       " '₹399',\n",
       " '₹399',\n",
       " '₹399',\n",
       " '₹536',\n",
       " '₹356',\n",
       " '₹254',\n",
       " '₹399',\n",
       " '₹331',\n",
       " '₹474',\n",
       " '₹679',\n",
       " '₹474',\n",
       " '₹449',\n",
       " '₹426',\n",
       " '₹398']"
      ]
     },
     "execution_count": 131,
     "metadata": {},
     "output_type": "execute_result"
    }
   ],
   "source": [
    "price33=driver8.find_elements_by_xpath(\"//div[@class='_30jeq3']\")\n",
    "product_price33=[]\n",
    "for i in price33[0:20]:\n",
    "    product_price33.append(i.text)\n",
    "product_price33"
   ]
  },
  {
   "cell_type": "code",
   "execution_count": 132,
   "metadata": {},
   "outputs": [
    {
     "data": {
      "text/plain": [
       "['62% off',\n",
       " '51% off',\n",
       " '71% off',\n",
       " '75% off',\n",
       " '60% off',\n",
       " '78% off',\n",
       " '88% off',\n",
       " '60% off',\n",
       " '60% off',\n",
       " '66% off',\n",
       " '64% off',\n",
       " '74% off',\n",
       " '69% off',\n",
       " '66% off',\n",
       " '52% off',\n",
       " '72% off',\n",
       " '52% off',\n",
       " '55% off',\n",
       " '67% off',\n",
       " '60% off']"
      ]
     },
     "execution_count": 132,
     "metadata": {},
     "output_type": "execute_result"
    }
   ],
   "source": [
    "discount33=driver8.find_elements_by_xpath(\"//div[@class='_3Ay6Sb']\")\n",
    "product_discount33=[]\n",
    "for i in discount33[0:20]:\n",
    "    product_discount33.append(i.text)\n",
    "product_discount33"
   ]
  },
  {
   "cell_type": "code",
   "execution_count": 133,
   "metadata": {},
   "outputs": [
    {
     "ename": "ValueError",
     "evalue": "Length of values (88) does not match length of index (100)",
     "output_type": "error",
     "traceback": [
      "\u001b[1;31m---------------------------------------------------------------------------\u001b[0m",
      "\u001b[1;31mValueError\u001b[0m                                Traceback (most recent call last)",
      "\u001b[1;32m<ipython-input-133-7a8a7bf90e80>\u001b[0m in \u001b[0;36m<module>\u001b[1;34m\u001b[0m\n\u001b[0;32m      1\u001b[0m \u001b[0msneakers\u001b[0m\u001b[1;33m=\u001b[0m\u001b[0mpd\u001b[0m\u001b[1;33m.\u001b[0m\u001b[0mDataFrame\u001b[0m\u001b[1;33m(\u001b[0m\u001b[1;33m{\u001b[0m\u001b[1;33m}\u001b[0m\u001b[1;33m)\u001b[0m\u001b[1;33m\u001b[0m\u001b[1;33m\u001b[0m\u001b[0m\n\u001b[0;32m      2\u001b[0m \u001b[0msneakers\u001b[0m\u001b[1;33m[\u001b[0m\u001b[1;34m'Brand'\u001b[0m\u001b[1;33m]\u001b[0m\u001b[1;33m=\u001b[0m\u001b[0mbrand_titles11\u001b[0m\u001b[1;33m+\u001b[0m\u001b[0mbrand_titles22\u001b[0m\u001b[1;33m+\u001b[0m\u001b[0mbrand_titles33\u001b[0m\u001b[1;33m\u001b[0m\u001b[1;33m\u001b[0m\u001b[0m\n\u001b[1;32m----> 3\u001b[1;33m \u001b[0msneakers\u001b[0m\u001b[1;33m[\u001b[0m\u001b[1;34m'Product_Description'\u001b[0m\u001b[1;33m]\u001b[0m\u001b[1;33m=\u001b[0m\u001b[0mproduct_desc11\u001b[0m\u001b[1;33m+\u001b[0m\u001b[0mproduct_desc22\u001b[0m\u001b[1;33m+\u001b[0m\u001b[0mproduct_desc33\u001b[0m\u001b[1;33m\u001b[0m\u001b[1;33m\u001b[0m\u001b[0m\n\u001b[0m\u001b[0;32m      4\u001b[0m \u001b[0msneakers\u001b[0m\u001b[1;33m[\u001b[0m\u001b[1;34m'Price'\u001b[0m\u001b[1;33m]\u001b[0m\u001b[1;33m=\u001b[0m\u001b[0mproduct_price11\u001b[0m\u001b[1;33m+\u001b[0m\u001b[0mproduct_price22\u001b[0m\u001b[1;33m+\u001b[0m\u001b[0mproduct_price33\u001b[0m\u001b[1;33m\u001b[0m\u001b[1;33m\u001b[0m\u001b[0m\n\u001b[0;32m      5\u001b[0m \u001b[0msneakers\u001b[0m\u001b[1;33m[\u001b[0m\u001b[1;34m'Discount'\u001b[0m\u001b[1;33m]\u001b[0m\u001b[1;33m=\u001b[0m\u001b[0mproduct_discount11\u001b[0m\u001b[1;33m+\u001b[0m\u001b[0mproduct_discount22\u001b[0m\u001b[1;33m+\u001b[0m\u001b[0mproduct_discount33\u001b[0m\u001b[1;33m\u001b[0m\u001b[1;33m\u001b[0m\u001b[0m\n",
      "\u001b[1;32m~\\anaconda3\\lib\\site-packages\\pandas\\core\\frame.py\u001b[0m in \u001b[0;36m__setitem__\u001b[1;34m(self, key, value)\u001b[0m\n\u001b[0;32m   3038\u001b[0m         \u001b[1;32melse\u001b[0m\u001b[1;33m:\u001b[0m\u001b[1;33m\u001b[0m\u001b[1;33m\u001b[0m\u001b[0m\n\u001b[0;32m   3039\u001b[0m             \u001b[1;31m# set column\u001b[0m\u001b[1;33m\u001b[0m\u001b[1;33m\u001b[0m\u001b[1;33m\u001b[0m\u001b[0m\n\u001b[1;32m-> 3040\u001b[1;33m             \u001b[0mself\u001b[0m\u001b[1;33m.\u001b[0m\u001b[0m_set_item\u001b[0m\u001b[1;33m(\u001b[0m\u001b[0mkey\u001b[0m\u001b[1;33m,\u001b[0m \u001b[0mvalue\u001b[0m\u001b[1;33m)\u001b[0m\u001b[1;33m\u001b[0m\u001b[1;33m\u001b[0m\u001b[0m\n\u001b[0m\u001b[0;32m   3041\u001b[0m \u001b[1;33m\u001b[0m\u001b[0m\n\u001b[0;32m   3042\u001b[0m     \u001b[1;32mdef\u001b[0m \u001b[0m_setitem_slice\u001b[0m\u001b[1;33m(\u001b[0m\u001b[0mself\u001b[0m\u001b[1;33m,\u001b[0m \u001b[0mkey\u001b[0m\u001b[1;33m:\u001b[0m \u001b[0mslice\u001b[0m\u001b[1;33m,\u001b[0m \u001b[0mvalue\u001b[0m\u001b[1;33m)\u001b[0m\u001b[1;33m:\u001b[0m\u001b[1;33m\u001b[0m\u001b[1;33m\u001b[0m\u001b[0m\n",
      "\u001b[1;32m~\\anaconda3\\lib\\site-packages\\pandas\\core\\frame.py\u001b[0m in \u001b[0;36m_set_item\u001b[1;34m(self, key, value)\u001b[0m\n\u001b[0;32m   3114\u001b[0m         \"\"\"\n\u001b[0;32m   3115\u001b[0m         \u001b[0mself\u001b[0m\u001b[1;33m.\u001b[0m\u001b[0m_ensure_valid_index\u001b[0m\u001b[1;33m(\u001b[0m\u001b[0mvalue\u001b[0m\u001b[1;33m)\u001b[0m\u001b[1;33m\u001b[0m\u001b[1;33m\u001b[0m\u001b[0m\n\u001b[1;32m-> 3116\u001b[1;33m         \u001b[0mvalue\u001b[0m \u001b[1;33m=\u001b[0m \u001b[0mself\u001b[0m\u001b[1;33m.\u001b[0m\u001b[0m_sanitize_column\u001b[0m\u001b[1;33m(\u001b[0m\u001b[0mkey\u001b[0m\u001b[1;33m,\u001b[0m \u001b[0mvalue\u001b[0m\u001b[1;33m)\u001b[0m\u001b[1;33m\u001b[0m\u001b[1;33m\u001b[0m\u001b[0m\n\u001b[0m\u001b[0;32m   3117\u001b[0m         \u001b[0mNDFrame\u001b[0m\u001b[1;33m.\u001b[0m\u001b[0m_set_item\u001b[0m\u001b[1;33m(\u001b[0m\u001b[0mself\u001b[0m\u001b[1;33m,\u001b[0m \u001b[0mkey\u001b[0m\u001b[1;33m,\u001b[0m \u001b[0mvalue\u001b[0m\u001b[1;33m)\u001b[0m\u001b[1;33m\u001b[0m\u001b[1;33m\u001b[0m\u001b[0m\n\u001b[0;32m   3118\u001b[0m \u001b[1;33m\u001b[0m\u001b[0m\n",
      "\u001b[1;32m~\\anaconda3\\lib\\site-packages\\pandas\\core\\frame.py\u001b[0m in \u001b[0;36m_sanitize_column\u001b[1;34m(self, key, value, broadcast)\u001b[0m\n\u001b[0;32m   3762\u001b[0m \u001b[1;33m\u001b[0m\u001b[0m\n\u001b[0;32m   3763\u001b[0m             \u001b[1;31m# turn me into an ndarray\u001b[0m\u001b[1;33m\u001b[0m\u001b[1;33m\u001b[0m\u001b[1;33m\u001b[0m\u001b[0m\n\u001b[1;32m-> 3764\u001b[1;33m             \u001b[0mvalue\u001b[0m \u001b[1;33m=\u001b[0m \u001b[0msanitize_index\u001b[0m\u001b[1;33m(\u001b[0m\u001b[0mvalue\u001b[0m\u001b[1;33m,\u001b[0m \u001b[0mself\u001b[0m\u001b[1;33m.\u001b[0m\u001b[0mindex\u001b[0m\u001b[1;33m)\u001b[0m\u001b[1;33m\u001b[0m\u001b[1;33m\u001b[0m\u001b[0m\n\u001b[0m\u001b[0;32m   3765\u001b[0m             \u001b[1;32mif\u001b[0m \u001b[1;32mnot\u001b[0m \u001b[0misinstance\u001b[0m\u001b[1;33m(\u001b[0m\u001b[0mvalue\u001b[0m\u001b[1;33m,\u001b[0m \u001b[1;33m(\u001b[0m\u001b[0mnp\u001b[0m\u001b[1;33m.\u001b[0m\u001b[0mndarray\u001b[0m\u001b[1;33m,\u001b[0m \u001b[0mIndex\u001b[0m\u001b[1;33m)\u001b[0m\u001b[1;33m)\u001b[0m\u001b[1;33m:\u001b[0m\u001b[1;33m\u001b[0m\u001b[1;33m\u001b[0m\u001b[0m\n\u001b[0;32m   3766\u001b[0m                 \u001b[1;32mif\u001b[0m \u001b[0misinstance\u001b[0m\u001b[1;33m(\u001b[0m\u001b[0mvalue\u001b[0m\u001b[1;33m,\u001b[0m \u001b[0mlist\u001b[0m\u001b[1;33m)\u001b[0m \u001b[1;32mand\u001b[0m \u001b[0mlen\u001b[0m\u001b[1;33m(\u001b[0m\u001b[0mvalue\u001b[0m\u001b[1;33m)\u001b[0m \u001b[1;33m>\u001b[0m \u001b[1;36m0\u001b[0m\u001b[1;33m:\u001b[0m\u001b[1;33m\u001b[0m\u001b[1;33m\u001b[0m\u001b[0m\n",
      "\u001b[1;32m~\\anaconda3\\lib\\site-packages\\pandas\\core\\internals\\construction.py\u001b[0m in \u001b[0;36msanitize_index\u001b[1;34m(data, index)\u001b[0m\n\u001b[0;32m    745\u001b[0m     \"\"\"\n\u001b[0;32m    746\u001b[0m     \u001b[1;32mif\u001b[0m \u001b[0mlen\u001b[0m\u001b[1;33m(\u001b[0m\u001b[0mdata\u001b[0m\u001b[1;33m)\u001b[0m \u001b[1;33m!=\u001b[0m \u001b[0mlen\u001b[0m\u001b[1;33m(\u001b[0m\u001b[0mindex\u001b[0m\u001b[1;33m)\u001b[0m\u001b[1;33m:\u001b[0m\u001b[1;33m\u001b[0m\u001b[1;33m\u001b[0m\u001b[0m\n\u001b[1;32m--> 747\u001b[1;33m         raise ValueError(\n\u001b[0m\u001b[0;32m    748\u001b[0m             \u001b[1;34m\"Length of values \"\u001b[0m\u001b[1;33m\u001b[0m\u001b[1;33m\u001b[0m\u001b[0m\n\u001b[0;32m    749\u001b[0m             \u001b[1;34mf\"({len(data)}) \"\u001b[0m\u001b[1;33m\u001b[0m\u001b[1;33m\u001b[0m\u001b[0m\n",
      "\u001b[1;31mValueError\u001b[0m: Length of values (88) does not match length of index (100)"
     ]
    }
   ],
   "source": [
    "sneakers=pd.DataFrame({})\n",
    "sneakers['Brand']=brand_titles11+brand_titles22+brand_titles33\n",
    "sneakers['Product_Description']=product_desc11+product_desc22+product_desc33\n",
    "sneakers['Price']=product_price11+product_price22+product_price33\n",
    "sneakers['Discount']=product_discount11+product_discount22+product_discount33"
   ]
  },
  {
   "cell_type": "code",
   "execution_count": null,
   "metadata": {},
   "outputs": [],
   "source": []
  }
 ],
 "metadata": {
  "kernelspec": {
   "display_name": "Python 3",
   "language": "python",
   "name": "python3"
  },
  "language_info": {
   "codemirror_mode": {
    "name": "ipython",
    "version": 3
   },
   "file_extension": ".py",
   "mimetype": "text/x-python",
   "name": "python",
   "nbconvert_exporter": "python",
   "pygments_lexer": "ipython3",
   "version": "3.8.5"
  }
 },
 "nbformat": 4,
 "nbformat_minor": 4
}
